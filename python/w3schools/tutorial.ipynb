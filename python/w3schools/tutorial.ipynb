{
 "cells": [
  {
   "cell_type": "markdown",
   "id": "5655a45f",
   "metadata": {},
   "source": [
    "### w3schools - Python\n",
    "\n",
    "- Link\n",
    "  - https://www.w3schools.com/python/default.asp"
   ]
  },
  {
   "cell_type": "code",
   "execution_count": 5,
   "id": "73a393ae",
   "metadata": {},
   "outputs": [
    {
     "name": "stdout",
     "output_type": "stream",
     "text": [
      "Hello, World!\n"
     ]
    }
   ],
   "source": [
    "print(\"Hello, World!\")"
   ]
  },
  {
   "cell_type": "markdown",
   "id": "3f537078",
   "metadata": {},
   "source": [
    "- 파이썬 버전 확인"
   ]
  },
  {
   "cell_type": "code",
   "execution_count": 6,
   "id": "2d19eadd",
   "metadata": {},
   "outputs": [
    {
     "name": "stdout",
     "output_type": "stream",
     "text": [
      "3.13.2 (tags/v3.13.2:4f8bb39, Feb  4 2025, 15:23:48) [MSC v.1942 64 bit (AMD64)]\n"
     ]
    }
   ],
   "source": [
    "import sys\n",
    "\n",
    "print(sys.version)"
   ]
  },
  {
   "cell_type": "markdown",
   "id": "08cf9a00",
   "metadata": {},
   "source": [
    "* 파이썬 구문 실행"
   ]
  },
  {
   "cell_type": "code",
   "execution_count": 7,
   "id": "f51cf81c",
   "metadata": {},
   "outputs": [
    {
     "name": "stdout",
     "output_type": "stream",
     "text": [
      "hello!\n"
     ]
    }
   ],
   "source": [
    "print(\"hello!\")"
   ]
  },
  {
   "cell_type": "markdown",
   "id": "b141c573",
   "metadata": {},
   "source": [
    "* 파이썬 들여쓰기"
   ]
  },
  {
   "cell_type": "code",
   "execution_count": 8,
   "id": "101fcc4c",
   "metadata": {},
   "outputs": [
    {
     "name": "stdout",
     "output_type": "stream",
     "text": [
      "Five is greater than two!\n"
     ]
    }
   ],
   "source": [
    "if 5 > 2:\n",
    "    print(\"Five is greater than two!\")"
   ]
  },
  {
   "cell_type": "code",
   "execution_count": 9,
   "id": "3b577fa1",
   "metadata": {},
   "outputs": [
    {
     "name": "stdout",
     "output_type": "stream",
     "text": [
      "Five is greater than two!\n",
      "Five is greater than two!\n"
     ]
    }
   ],
   "source": [
    "if 5 > 2:\n",
    "  print(\"Five is greater than two!\")\n",
    "if 5 > 2:\n",
    "    print(\"Five is greater than two!\")"
   ]
  },
  {
   "cell_type": "code",
   "execution_count": 12,
   "id": "2e7731c4",
   "metadata": {},
   "outputs": [
    {
     "ename": "IndentationError",
     "evalue": "unexpected indent (2828717955.py, line 4)",
     "output_type": "error",
     "traceback": [
      "  \u001b[36mCell\u001b[39m\u001b[36m \u001b[39m\u001b[32mIn[12]\u001b[39m\u001b[32m, line 4\u001b[39m\n\u001b[31m    \u001b[39m\u001b[31mprint(\"Five is greater than two!\")\u001b[39m\n    ^\n\u001b[31mIndentationError\u001b[39m\u001b[31m:\u001b[39m unexpected indent\n"
     ]
    }
   ],
   "source": [
    "# 동일한 코드 블록에서 동일한 수의 공백을 사용해야 합니다. 그렇지 않으면 Python에서 오류가 발생합니다.\n",
    "if 5 > 2:\n",
    " print(\"Five is greater than two!\")\n",
    "        print(\"Five is greater than two!\")"
   ]
  },
  {
   "cell_type": "markdown",
   "id": "b4714fbc",
   "metadata": {},
   "source": [
    "* 파이썬 변수"
   ]
  },
  {
   "cell_type": "code",
   "execution_count": 13,
   "id": "0538dfc2",
   "metadata": {},
   "outputs": [],
   "source": [
    "x = 5\n",
    "y = \"Hello, World!\""
   ]
  },
  {
   "cell_type": "markdown",
   "id": "e1dd3e7c",
   "metadata": {},
   "source": [
    "* 파이썬 주석"
   ]
  },
  {
   "cell_type": "code",
   "execution_count": 14,
   "id": "ad0df802",
   "metadata": {},
   "outputs": [
    {
     "name": "stdout",
     "output_type": "stream",
     "text": [
      "Hello, World!\n"
     ]
    }
   ],
   "source": [
    "#This is a comment.\n",
    "print(\"Hello, World!\")"
   ]
  },
  {
   "cell_type": "code",
   "execution_count": 15,
   "id": "fdbf23d7",
   "metadata": {},
   "outputs": [
    {
     "name": "stdout",
     "output_type": "stream",
     "text": [
      "Hello, World!\n"
     ]
    }
   ],
   "source": [
    "print(\"Hello, World!\") #This is a comment"
   ]
  },
  {
   "cell_type": "code",
   "execution_count": 16,
   "id": "b44dcf12",
   "metadata": {},
   "outputs": [
    {
     "name": "stdout",
     "output_type": "stream",
     "text": [
      "Cheers, Mate!\n"
     ]
    }
   ],
   "source": [
    "#print(\"Hello, World!\")\n",
    "print(\"Cheers, Mate!\")"
   ]
  },
  {
   "cell_type": "code",
   "execution_count": 17,
   "id": "d971ac57",
   "metadata": {},
   "outputs": [
    {
     "name": "stdout",
     "output_type": "stream",
     "text": [
      "Hello, World!\n"
     ]
    }
   ],
   "source": [
    "#This is a comment\n",
    "#written in\n",
    "#more than just one line\n",
    "print(\"Hello, World!\")"
   ]
  },
  {
   "cell_type": "code",
   "execution_count": 18,
   "id": "d8720396",
   "metadata": {},
   "outputs": [
    {
     "name": "stdout",
     "output_type": "stream",
     "text": [
      "Hello, World!\n"
     ]
    }
   ],
   "source": [
    "\"\"\"\n",
    "This is a comment\n",
    "written in\n",
    "more than just one line\n",
    "\"\"\"\n",
    "print(\"Hello, World!\")"
   ]
  },
  {
   "cell_type": "markdown",
   "id": "86309f47",
   "metadata": {},
   "source": [
    "* 변수 생성"
   ]
  },
  {
   "cell_type": "code",
   "execution_count": 19,
   "id": "fa93b425",
   "metadata": {},
   "outputs": [
    {
     "name": "stdout",
     "output_type": "stream",
     "text": [
      "5\n",
      "John\n"
     ]
    }
   ],
   "source": [
    "x = 5\n",
    "y = \"John\"\n",
    "print(x)\n",
    "print(y)"
   ]
  },
  {
   "cell_type": "code",
   "execution_count": 20,
   "id": "e509d68d",
   "metadata": {},
   "outputs": [
    {
     "name": "stdout",
     "output_type": "stream",
     "text": [
      "Sally\n"
     ]
    }
   ],
   "source": [
    "# 변수는 특정 유형 으로 선언될 필요가 없으며 , 설정된 후에도 유형을 변경할 수 있습니다.\n",
    "x = 4\n",
    "x = \"Sally\"\n",
    "print(x)"
   ]
  },
  {
   "cell_type": "code",
   "execution_count": 23,
   "id": "195a510d",
   "metadata": {},
   "outputs": [],
   "source": [
    "# 변수의 데이터 유형을 지정하려면 캐스팅을 사용하면 됩니다.\n",
    "x = str(3)\n",
    "y = int(3)\n",
    "z= float(3)"
   ]
  },
  {
   "cell_type": "code",
   "execution_count": 24,
   "id": "ad0f1b56",
   "metadata": {},
   "outputs": [
    {
     "name": "stdout",
     "output_type": "stream",
     "text": [
      "<class 'str'>\n",
      "<class 'int'>\n",
      "<class 'float'>\n"
     ]
    }
   ],
   "source": [
    "print(type(x))\n",
    "print(type(y))\n",
    "print(type(z))"
   ]
  },
  {
   "cell_type": "code",
   "execution_count": 25,
   "id": "a5cc92e9",
   "metadata": {},
   "outputs": [
    {
     "name": "stdout",
     "output_type": "stream",
     "text": [
      "<class 'int'>\n",
      "<class 'str'>\n"
     ]
    }
   ],
   "source": [
    "x = 5\n",
    "y = \"John\"\n",
    "print(type(x))\n",
    "print(type(y))"
   ]
  },
  {
   "cell_type": "markdown",
   "id": "b1c66462",
   "metadata": {},
   "source": [
    "* 작은 따옴표, 큰 따옴표"
   ]
  },
  {
   "cell_type": "code",
   "execution_count": 28,
   "id": "97bc16b3",
   "metadata": {},
   "outputs": [
    {
     "name": "stdout",
     "output_type": "stream",
     "text": [
      "John\n"
     ]
    }
   ],
   "source": [
    "x = \"John\"\n",
    "# is the same as\n",
    "x = 'John'\n",
    "\n",
    "print(x)"
   ]
  },
  {
   "cell_type": "code",
   "execution_count": 31,
   "id": "1676e065",
   "metadata": {},
   "outputs": [
    {
     "name": "stdout",
     "output_type": "stream",
     "text": [
      "4\n",
      "Sally\n"
     ]
    }
   ],
   "source": [
    "# 변수 이름은 대소문자를 구분합니다.\n",
    "a = 4\n",
    "A = \"Sally\"\n",
    "\n",
    "print(a)\n",
    "print(A)"
   ]
  },
  {
   "cell_type": "markdown",
   "id": "b5aad270",
   "metadata": {},
   "source": [
    "* 변수 이름\n",
    "\n",
    "  - 변수 이름은 문자 또는 밑줄 문자로 시작해야 합니다.\n",
    "  - 변수 이름은 숫자로 시작할 수 없습니다.\n",
    "  - 변수 이름에는 영숫자 문자와 밑줄(Az, 0-9, _)만 포함될 수 있습니다.\n",
    "  - 변수 이름은 대소문자를 구분합니다(age, Age 및 AGE는 세 개의 다른 변수입니다)\n",
    "  - 변수 이름은 Python 키워드 중 하나가 될 수 없습니다 ."
   ]
  },
  {
   "cell_type": "code",
   "execution_count": 32,
   "id": "c309af1b",
   "metadata": {},
   "outputs": [],
   "source": [
    "myvar = \"John\"\n",
    "my_var = \"John\"\n",
    "_my_var = \"John\"\n",
    "myVar = \"John\"\n",
    "MYVAR = \"John\"\n",
    "myvar2 = \"John\""
   ]
  },
  {
   "cell_type": "code",
   "execution_count": 33,
   "id": "1a4c91aa",
   "metadata": {},
   "outputs": [
    {
     "ename": "SyntaxError",
     "evalue": "invalid decimal literal (2185399839.py, line 1)",
     "output_type": "error",
     "traceback": [
      "  \u001b[36mCell\u001b[39m\u001b[36m \u001b[39m\u001b[32mIn[33]\u001b[39m\u001b[32m, line 1\u001b[39m\n\u001b[31m    \u001b[39m\u001b[31m2myvar = \"John\"\u001b[39m\n    ^\n\u001b[31mSyntaxError\u001b[39m\u001b[31m:\u001b[39m invalid decimal literal\n"
     ]
    }
   ],
   "source": [
    "2myvar = \"John\"\n",
    "my-var = \"John\"\n",
    "my var = \"John\""
   ]
  },
  {
   "cell_type": "code",
   "execution_count": 35,
   "id": "524a9a6e",
   "metadata": {},
   "outputs": [],
   "source": [
    "# Camel Case (첫 번째 단어를 제외한 모든 단어는 대문자로 시작합니다.)\n",
    "myVariableName = \"John\"\n",
    "\n",
    "# Pascal Case (각 단어는 대문자로 시작합니다.)\n",
    "MyVariableName = \"John\"\n",
    "\n",
    "# Snake Case (각 단어는 밑줄 문자로 구분됩니다.)\n",
    "my_variable_name = \"John\""
   ]
  },
  {
   "cell_type": "markdown",
   "id": "d05d76c6",
   "metadata": {},
   "source": [
    "* 여러 변수에 대한 여러 값"
   ]
  },
  {
   "cell_type": "code",
   "execution_count": 36,
   "id": "609ba427",
   "metadata": {},
   "outputs": [
    {
     "name": "stdout",
     "output_type": "stream",
     "text": [
      "Orange\n",
      "Banana\n",
      "Cherry\n"
     ]
    }
   ],
   "source": [
    "x, y, z = \"Orange\", \"Banana\", \"Cherry\"\n",
    "print(x)\n",
    "print(y)\n",
    "print(z)"
   ]
  },
  {
   "cell_type": "markdown",
   "id": "38b3bbff",
   "metadata": {},
   "source": [
    "* 하나의 값을 여러 변수에"
   ]
  },
  {
   "cell_type": "code",
   "execution_count": 37,
   "id": "a21f88d7",
   "metadata": {},
   "outputs": [
    {
     "name": "stdout",
     "output_type": "stream",
     "text": [
      "Orange\n",
      "Orange\n",
      "Orange\n"
     ]
    }
   ],
   "source": [
    "x = y = z = \"Orange\"\n",
    "print(x)\n",
    "print(y)\n",
    "print(z)"
   ]
  },
  {
   "cell_type": "markdown",
   "id": "054fc3b6",
   "metadata": {},
   "source": [
    "* 컬렉션 풀기\n",
    "  - list, 등 의 값 컬렉션이 있는 경우, tuplePython에서는 값을 변수로 추출할 수 있습니다. 이를 언패킹 이라고 합니다 ."
   ]
  },
  {
   "cell_type": "code",
   "execution_count": 38,
   "id": "6c22823f",
   "metadata": {},
   "outputs": [
    {
     "name": "stdout",
     "output_type": "stream",
     "text": [
      "apple\n",
      "banana\n",
      "cherry\n"
     ]
    }
   ],
   "source": [
    "fruits = [\"apple\", \"banana\", \"cherry\"]\n",
    "x, y, z = fruits\n",
    "print(x)\n",
    "print(y)\n",
    "print(z)"
   ]
  },
  {
   "cell_type": "markdown",
   "id": "4542543c",
   "metadata": {},
   "source": [
    "* 출력 변수"
   ]
  },
  {
   "cell_type": "code",
   "execution_count": 39,
   "id": "f815e7aa",
   "metadata": {},
   "outputs": [
    {
     "name": "stdout",
     "output_type": "stream",
     "text": [
      "Python is awesome\n"
     ]
    }
   ],
   "source": [
    "x = \"Python is awesome\"\n",
    "print(x)"
   ]
  },
  {
   "cell_type": "code",
   "execution_count": 40,
   "id": "984dd173",
   "metadata": {},
   "outputs": [
    {
     "name": "stdout",
     "output_type": "stream",
     "text": [
      "Python is awesome\n"
     ]
    }
   ],
   "source": [
    "# 함수 에서는 print()쉼표로 구분된 여러 변수를 출력합니다.\n",
    "x = \"Python\"\n",
    "y = \"is\"\n",
    "z = \"awesome\"\n",
    "print(x, y, z)"
   ]
  },
  {
   "cell_type": "code",
   "execution_count": 42,
   "id": "3457d915",
   "metadata": {},
   "outputs": [
    {
     "name": "stdout",
     "output_type": "stream",
     "text": [
      "Python is awesome\n",
      "Pythonisawesome\n"
     ]
    }
   ],
   "source": [
    "# +연산자를 사용하여 여러 변수를 출력할 수도 있습니다.\n",
    "x = \"Python \"\n",
    "y = \"is \"\n",
    "z = \"awesome\"\n",
    "print(x + y + z)\n",
    "\n",
    "# \"Python \"and 뒤에 있는 공백 문자에 주목하세요. 공백 \"is \"문자가 없으면 결과는 \"Pythonisawesome\"이 됩니다.\n",
    "x = \"Python\"\n",
    "y = \"is\"\n",
    "z = \"awesome\"\n",
    "print(x + y + z)"
   ]
  },
  {
   "cell_type": "code",
   "execution_count": 44,
   "id": "020f29f6",
   "metadata": {},
   "outputs": [
    {
     "ename": "TypeError",
     "evalue": "unsupported operand type(s) for +: 'int' and 'str'",
     "output_type": "error",
     "traceback": [
      "\u001b[31m---------------------------------------------------------------------------\u001b[39m",
      "\u001b[31mTypeError\u001b[39m                                 Traceback (most recent call last)",
      "\u001b[36mCell\u001b[39m\u001b[36m \u001b[39m\u001b[32mIn[44]\u001b[39m\u001b[32m, line 4\u001b[39m\n\u001b[32m      2\u001b[39m x = \u001b[32m5\u001b[39m\n\u001b[32m      3\u001b[39m y = \u001b[33m\"\u001b[39m\u001b[33mJohn\u001b[39m\u001b[33m\"\u001b[39m\n\u001b[32m----> \u001b[39m\u001b[32m4\u001b[39m \u001b[38;5;28mprint\u001b[39m(\u001b[43mx\u001b[49m\u001b[43m \u001b[49m\u001b[43m+\u001b[49m\u001b[43m \u001b[49m\u001b[43my\u001b[49m)\n",
      "\u001b[31mTypeError\u001b[39m: unsupported operand type(s) for +: 'int' and 'str'"
     ]
    }
   ],
   "source": [
    "# 함수 에서 연산자 print()를 사용하여 문자열과 숫자를 결합하려고 하면 + Python에서 오류가 발생합니다.\n",
    "x = 5\n",
    "y = \"John\"\n",
    "print(x + y)"
   ]
  },
  {
   "cell_type": "code",
   "execution_count": 45,
   "id": "9249193b",
   "metadata": {},
   "outputs": [
    {
     "name": "stdout",
     "output_type": "stream",
     "text": [
      "5 John\n"
     ]
    }
   ],
   "source": [
    "x = 5\n",
    "y = \"John\"\n",
    "print(x, y)"
   ]
  },
  {
   "cell_type": "markdown",
   "id": "cded58af",
   "metadata": {},
   "source": [
    "* 전역 변수\n",
    "\n",
    "  - 함수 외부에서 생성된 변수(이전 페이지의 모든 예제처럼)를 전역 변수라고 합니다.\n",
    "  - 전역 변수는 함수 내부와 외부 모두에서 누구나 사용할 수 있습니다."
   ]
  },
  {
   "cell_type": "code",
   "execution_count": 46,
   "id": "18f2a943",
   "metadata": {},
   "outputs": [
    {
     "name": "stdout",
     "output_type": "stream",
     "text": [
      "Python is awesome\n"
     ]
    }
   ],
   "source": [
    "# 함수 외부에서 변수를 생성하고 함수 내부에서 사용합니다.\n",
    "x = \"awesome\"\n",
    "\n",
    "def myfunc():\n",
    "    print(\"Python is \" + x)\n",
    "\n",
    "myfunc()"
   ]
  },
  {
   "cell_type": "code",
   "execution_count": 53,
   "id": "2285dd16",
   "metadata": {},
   "outputs": [
    {
     "name": "stdout",
     "output_type": "stream",
     "text": [
      "Python is fantastic\n",
      "Python is awesome\n"
     ]
    }
   ],
   "source": [
    "# 전역 변수와 동일한 이름으로 함수 내부에 변수를 생성합니다.\n",
    "x = \"awesome\"\n",
    "\n",
    "def myfunc():\n",
    "    x = \"fantastic\"\n",
    "    print(\"Python is \" + x)\n",
    "\n",
    "myfunc()\n",
    "\n",
    "print(\"Python is \" + x)"
   ]
  },
  {
   "cell_type": "markdown",
   "id": "f626f47d",
   "metadata": {},
   "source": [
    "* 글로벌 키워드\n",
    "  \n",
    "   - 일반적으로 함수 내부에 변수를 생성하면 해당 변수는 지역 변수가 되어 해당 함수 내부에서만 사용할 수 있습니다.\n",
    "   - 함수 내부에 전역 변수를 생성하려면 global키워드를 사용하면 됩니다."
   ]
  },
  {
   "cell_type": "code",
   "execution_count": 54,
   "id": "d2842fca",
   "metadata": {},
   "outputs": [
    {
     "name": "stdout",
     "output_type": "stream",
     "text": [
      "Python is fantastic\n"
     ]
    }
   ],
   "source": [
    "# 키워드를 사용하면 global변수는 전역 범위에 속합니다.\n",
    "def myfunc():\n",
    "    global x\n",
    "    x = \"fantastic\"\n",
    "\n",
    "myfunc()\n",
    "\n",
    "print(\"Python is \" + x) "
   ]
  },
  {
   "cell_type": "code",
   "execution_count": 60,
   "id": "43da25e9",
   "metadata": {},
   "outputs": [
    {
     "name": "stdout",
     "output_type": "stream",
     "text": [
      "Python is awesome\n",
      "Python is fantastic\n"
     ]
    }
   ],
   "source": [
    "# 또한, global함수 내에서 전역 변수를 변경하려면 키워드를 사용하세요.\n",
    "# 함수 내에서 전역 변수의 값을 변경하려면 global다음 키워드를 사용하여 변수를 참조합니다.\n",
    "\n",
    "x = \"awesome\"\n",
    "\n",
    "print(\"Python is \" + x)\n",
    "\n",
    "def myfunc():\n",
    "    global x\n",
    "    x = \"fantastic\"\n",
    "\n",
    "myfunc()\n",
    "\n",
    "print(\"Python is \" + x)"
   ]
  },
  {
   "cell_type": "markdown",
   "id": "babd6d92",
   "metadata": {},
   "source": [
    "* 내장 데이터 유형\n",
    "\n",
    "  - 텍스트 유형: str\n",
    "  - 숫자형 유형: int, float, complex\n",
    "  - 시퀀스 유형: list, tuple, range\n",
    "  - 매핑 유형: dict\n",
    "  - 세트 유형: set,frozenset\n",
    "  - 부울 유형: bool\n",
    "  - 이진 유형: bytes, bytearray, memoryview\n",
    "  - 없음 유형: NoneType\n"
   ]
  },
  {
   "cell_type": "markdown",
   "id": "3dfd0a02",
   "metadata": {},
   "source": [
    "* 데이터 유형 가져오기\n",
    "\n",
    "  - 다음 type() 함수를 사용하면 모든 객체의 데이터 유형을 얻을 수 있습니다."
   ]
  },
  {
   "cell_type": "code",
   "execution_count": 61,
   "id": "a7bde2dd",
   "metadata": {},
   "outputs": [
    {
     "name": "stdout",
     "output_type": "stream",
     "text": [
      "<class 'int'>\n"
     ]
    }
   ],
   "source": [
    "x = 5\n",
    "print(type(x))"
   ]
  },
  {
   "cell_type": "markdown",
   "id": "5a1b015c",
   "metadata": {},
   "source": [
    "* 데이터 유형 설정\n",
    "\n",
    "  - Python에서는 변수에 값을 할당할 때 데이터 유형이 설정됩니다."
   ]
  },
  {
   "cell_type": "code",
   "execution_count": 62,
   "id": "f40a2bfa",
   "metadata": {},
   "outputs": [
    {
     "name": "stdout",
     "output_type": "stream",
     "text": [
      "<class 'str'>\n",
      "<class 'int'>\n",
      "<class 'float'>\n",
      "<class 'complex'>\n",
      "<class 'list'>\n",
      "<class 'tuple'>\n",
      "<class 'range'>\n",
      "<class 'dict'>\n",
      "<class 'set'>\n",
      "<class 'frozenset'>\n",
      "<class 'bool'>\n",
      "<class 'bytes'>\n",
      "<class 'bytearray'>\n",
      "<class 'memoryview'>\n",
      "<class 'NoneType'>\n"
     ]
    }
   ],
   "source": [
    "x = \"Hello World\"\n",
    "print(type(x))\n",
    "\n",
    "x = 20\n",
    "print(type(x))\n",
    "\n",
    "x = 20.5\n",
    "print(type(x))\n",
    "\n",
    "x = 1j\n",
    "print(type(x))\n",
    "\n",
    "x = [\"apple\", \"banana\", \"cherry\"]\n",
    "print(type(x))\n",
    "\n",
    "x = (\"apple\", \"banana\", \"cherry\")\n",
    "print(type(x))\n",
    "\n",
    "x = range(6)\n",
    "print(type(x))\n",
    "\n",
    "x = { \"name\" : \"John\", \"age\" : 36 }\n",
    "print(type(x))\n",
    "\n",
    "x = { \"apple\", \"banana\", \"cherry\" }\n",
    "print(type(x))\n",
    "\n",
    "x = frozenset({\"apple\", \"banana\", \"cherry\"})\n",
    "print(type(x))\n",
    "\n",
    "x = True\n",
    "print(type(x))\n",
    "\n",
    "x = b\"Hello\"\n",
    "print(type(x))\n",
    "\n",
    "x = bytearray(5)\n",
    "print(type(x))\n",
    "\n",
    "x = memoryview(bytes(5))\n",
    "print(type(x))\n",
    "\n",
    "x = None\n",
    "print(type(x))"
   ]
  },
  {
   "cell_type": "markdown",
   "id": "ad850bb0",
   "metadata": {},
   "source": [
    "* 특정 데이터 유형 설정\n",
    "\n",
    "  - 데이터 유형을 지정하려면 다음 생성자 함수를 사용할 수 있습니다."
   ]
  },
  {
   "cell_type": "code",
   "execution_count": 64,
   "id": "bff90203",
   "metadata": {},
   "outputs": [
    {
     "name": "stdout",
     "output_type": "stream",
     "text": [
      "<class 'str'>\n",
      "<class 'int'>\n",
      "<class 'float'>\n",
      "<class 'complex'>\n",
      "<class 'list'>\n",
      "<class 'tuple'>\n",
      "<class 'range'>\n",
      "<class 'dict'>\n",
      "<class 'set'>\n",
      "<class 'frozenset'>\n",
      "<class 'bool'>\n",
      "<class 'bytes'>\n",
      "<class 'bytearray'>\n",
      "<class 'memoryview'>\n"
     ]
    }
   ],
   "source": [
    "x = str(\"Hello World\")\n",
    "print(type(x))\n",
    "\n",
    "x = int(20)\n",
    "print(type(x))\n",
    "\n",
    "x = float(20.5)\n",
    "print(type(x))\n",
    "\n",
    "x = complex(1j)\n",
    "print(type(x))\n",
    "\n",
    "x = list((\"apple\", \"banana\", \"cherry\"))\n",
    "print(type(x))\n",
    "\n",
    "x = tuple((\"apple\", \"banana\", \"cherry\"))\n",
    "print(type(x))\n",
    "\n",
    "x = range(6)\n",
    "print(type(x))\n",
    "\n",
    "x = dict(name = \"John\", age = 36)\n",
    "print(type(x))\n",
    "\n",
    "x = set((\"apple\", \"banana\", \"cherry\"))\n",
    "print(type(x))\n",
    "\n",
    "x = frozenset((\"apple\", \"banana\", \"cherry\"))\n",
    "print(type(x))\n",
    "\n",
    "x = bool(5)\n",
    "print(type(x))\n",
    "\n",
    "x = bytes(5)\n",
    "print(type(x))\n",
    "\n",
    "x = bytearray(5)\n",
    "print(type(x))\n",
    "\n",
    "x = memoryview(bytes(5))\n",
    "print(type(x))"
   ]
  },
  {
   "cell_type": "markdown",
   "id": "41eead69",
   "metadata": {},
   "source": [
    "* 파이썬 숫자\n",
    "\n",
    "  - int\n",
    "  - float\n",
    "  - complex"
   ]
  },
  {
   "cell_type": "code",
   "execution_count": 65,
   "id": "33ed92cb",
   "metadata": {},
   "outputs": [],
   "source": [
    "# 숫자형 변수는 값을 할당할 때 생성됩니다.\n",
    "x = 1\n",
    "y = 2.8\n",
    "z = 1j"
   ]
  },
  {
   "cell_type": "code",
   "execution_count": 66,
   "id": "3f462b5b",
   "metadata": {},
   "outputs": [
    {
     "name": "stdout",
     "output_type": "stream",
     "text": [
      "<class 'int'>\n",
      "<class 'float'>\n",
      "<class 'complex'>\n"
     ]
    }
   ],
   "source": [
    "# Python에서 객체의 유형을 확인하려면 다음 type()함수를 사용하세요.\n",
    "print(type(x))\n",
    "print(type(y))\n",
    "print(type(z))"
   ]
  },
  {
   "cell_type": "code",
   "execution_count": null,
   "id": "ad765d1e",
   "metadata": {},
   "outputs": [
    {
     "name": "stdout",
     "output_type": "stream",
     "text": [
      "<class 'int'>\n",
      "<class 'int'>\n",
      "<class 'int'>\n"
     ]
    }
   ],
   "source": [
    "# int (Int 또는 정수는 소수점이 없는 양수 또는 음수의 정수이며, 길이는 제한이 없습니다.)\n",
    "x = 1\n",
    "y = 35656222554887711\n",
    "z = -3255522\n",
    "\n",
    "print(type(x))\n",
    "print(type(y))\n",
    "print(type(z))"
   ]
  },
  {
   "cell_type": "code",
   "execution_count": 68,
   "id": "119a8a76",
   "metadata": {},
   "outputs": [
    {
     "name": "stdout",
     "output_type": "stream",
     "text": [
      "<class 'float'>\n",
      "<class 'int'>\n",
      "<class 'float'>\n"
     ]
    }
   ],
   "source": [
    "# Float (부동 소수점 숫자 또는 \"부동 소수점 숫자\"는 하나 이상의 소수점을 포함하는 양수 또는 음수 숫자입니다.)\n",
    "x = 1.10\n",
    "x = 1.0\n",
    "z = -35.59\n",
    "\n",
    "print(type(x))\n",
    "print(type(y))\n",
    "print(type(z))"
   ]
  },
  {
   "cell_type": "code",
   "execution_count": 69,
   "id": "6cecbe4c",
   "metadata": {},
   "outputs": [
    {
     "name": "stdout",
     "output_type": "stream",
     "text": [
      "<class 'float'>\n",
      "<class 'float'>\n",
      "<class 'float'>\n"
     ]
    }
   ],
   "source": [
    "# Float는 10의 거듭제곱을 나타내는 \"e\"를 사용한 과학적 숫자일 수도 있습니다.\n",
    "x = 35e3\n",
    "y = 12E4\n",
    "z = -87.7e100\n",
    "\n",
    "print(type(x))\n",
    "print(type(y))\n",
    "print(type(z))"
   ]
  },
  {
   "cell_type": "code",
   "execution_count": 71,
   "id": "0a6583ff",
   "metadata": {},
   "outputs": [
    {
     "name": "stdout",
     "output_type": "stream",
     "text": [
      "<class 'complex'>\n",
      "<class 'complex'>\n",
      "<class 'complex'>\n"
     ]
    }
   ],
   "source": [
    "# Complex (복소수는 허수부에 \"j\"를 붙여서 표기합니다.)\n",
    "x = 3+5j\n",
    "y = 5j\n",
    "z= -5j\n",
    "\n",
    "print(type(x))\n",
    "print(type(y))\n",
    "print(type(z))"
   ]
  },
  {
   "cell_type": "code",
   "execution_count": null,
   "id": "2c175542",
   "metadata": {},
   "outputs": [
    {
     "name": "stdout",
     "output_type": "stream",
     "text": [
      "1.0\n",
      "2\n",
      "(1+0j)\n",
      "<class 'float'>\n",
      "<class 'int'>\n",
      "<class 'complex'>\n",
      "1.0\n",
      "2\n",
      "(1+0j)\n"
     ]
    }
   ],
   "source": [
    "# 유형 변환 (int(), float() 및 complex() 메서드를 사용하여 한 유형에서 다른 유형으로 변환할 수 있습니다.)\n",
    "# 참고: 복소수를 다른 숫자 유형으로 변환할 수 없습니다.\n",
    "x = 1\n",
    "y = 2.8\n",
    "z = 1j\n",
    "\n",
    "#convert from int to float:\n",
    "a = float(x)\n",
    "\n",
    "#convert from float to int:\n",
    "b = int(y)\n",
    "\n",
    "#convert from int to complex:\n",
    "c = complex(x)\n",
    "\n",
    "print(a)\n",
    "print(b)\n",
    "print(c)\n",
    "\n",
    "print(type(a))\n",
    "print(type(b))\n",
    "print(type(c))\n",
    "\n",
    "print(a)\n",
    "print(b)\n",
    "print(c)"
   ]
  },
  {
   "cell_type": "markdown",
   "id": "48bc4556",
   "metadata": {},
   "source": [
    "* 난수\n",
    "\n",
    "  - Python에는 난수를 만드는 random() 함수가 없지만, Python에는 난수를 만드는 데 사용할 수 있는 random이라는 내장 모듈이 있습니다."
   ]
  },
  {
   "cell_type": "code",
   "execution_count": 75,
   "id": "3723f110",
   "metadata": {},
   "outputs": [
    {
     "name": "stdout",
     "output_type": "stream",
     "text": [
      "6\n"
     ]
    }
   ],
   "source": [
    "# random 모듈을 가져와서 1에서 9까지의 난수를 표시합니다.\n",
    "import random\n",
    "\n",
    "print(random.randrange(1, 10))"
   ]
  },
  {
   "cell_type": "markdown",
   "id": "de650fb0",
   "metadata": {},
   "source": [
    "* 파이썬 캐스팅"
   ]
  },
  {
   "cell_type": "markdown",
   "id": "70d8b19e",
   "metadata": {},
   "source": [
    "* 변수 유형 지정\n",
    "  \n",
    "  - 변수에 타입을 지정해야 할 때가 있습니다. 이는 캐스팅을 통해 가능합니다. Python은 객체 지향 언어이므로 클래스를 사용하여 기본 타입을 포함한 데이터 타입을 정의합니다.\n",
    "  - 따라서 파이썬에서의 캐스팅은 생성자 함수를 사용하여 수행됩니다.\n",
    "    - int() - 정수 리터럴, 모든 소수점을 제거한 부동 소수점 리터럴 또는 문자열 리터럴(문자열이 정수를 나타내는 경우)에서 정수를 생성합니다.\n",
    "    - float() - 정수 리터럴, float 리터럴 또는 문자열 리터럴에서 float 숫자를 구성합니다(문자열이 float 또는 정수를 나타내는 경우)\n",
    "    - str() - 문자열, 정수 리터럴, 부동 소수점 리터럴을 포함한 다양한 데이터 유형에서 문자열을 구성합니다."
   ]
  },
  {
   "cell_type": "code",
   "execution_count": null,
   "id": "23649e98",
   "metadata": {},
   "outputs": [],
   "source": [
    "# int\n",
    "x = int(1)\n",
    "y = int(2.8)\n",
    "z = int(\"3\")"
   ]
  },
  {
   "cell_type": "code",
   "execution_count": 77,
   "id": "42b145f8",
   "metadata": {},
   "outputs": [],
   "source": [
    "# float\n",
    "x = float(1)\n",
    "y = float(2.8)\n",
    "z = float(\"3\")\n",
    "w = float(\"4.2\")"
   ]
  },
  {
   "cell_type": "code",
   "execution_count": 78,
   "id": "e4e23813",
   "metadata": {},
   "outputs": [],
   "source": [
    "# str\n",
    "z = str(\"s1\")\n",
    "y = str(2)\n",
    "z = str(3.0)"
   ]
  }
 ],
 "metadata": {
  "kernelspec": {
   "display_name": "Python 3",
   "language": "python",
   "name": "python3"
  },
  "language_info": {
   "codemirror_mode": {
    "name": "ipython",
    "version": 3
   },
   "file_extension": ".py",
   "mimetype": "text/x-python",
   "name": "python",
   "nbconvert_exporter": "python",
   "pygments_lexer": "ipython3",
   "version": "3.13.2"
  }
 },
 "nbformat": 4,
 "nbformat_minor": 5
}
