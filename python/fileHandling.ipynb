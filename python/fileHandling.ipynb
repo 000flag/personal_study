{
 "cells": [
  {
   "cell_type": "markdown",
   "id": "ce61ce75",
   "metadata": {},
   "source": [
    "### File Open\n",
    " - 파일 처리는 모든 웹 애플리케이션에서 중요한 부분입니다.\n",
    " - Python에는 파일을 생성, 읽기, 업데이트 및 삭제하는 여러 함수가 있습니다.\n",
    "  \n",
    " - 파일 처리\n",
    "   - Python에서 파일을 처리하는 데 중요한 함수는 open() 함수입니다.\n",
    "   - open() 함수는 파일 이름과 모드라는 두 개의 매개변수를 받습니다.\n",
    "   - 파일을 여는 데는 네 가지 방법(모드)이 있습니다.\n",
    "     - \"`r`\" | 읽기 | 기본값. 읽기용으로 파일을 엽니다. 파일이 없으면 오류를 반환합니다.\n",
    "     - \"`a`\" | 추가 | 추가용으로 파일을 엽니다. 파일이 없으면 파일을 생성합니다.\n",
    "     - \"`w`\" | 쓰기 | 쓰기용으로 파일을 엽니다. 파일이 없으면 파일을 생성합니다.\n",
    "     - \"`x`\" | 생성 | 지정된 파일을 생성합니다. 파일이 있으면 오류를 반환합니다.\n",
    "   - 또한 파일을 Binary 모드 또는 텍스트 모드로 처리할지 지정할 수 있습니다.\n",
    "     - \"`t`\" | Text | 기본값. 텍스트 모드\n",
    "     - \"`b`\" | Binary | Binary 모드(예: 이미지)\n",
    "  \n",
    "  - 구문\n",
    "    - 파일을 읽기 위해 열려면 파일 이름을 지정하면 됩니다.\n",
    "    - 참고: 파일이 존재하는지 확인하세요. 그렇지 않으면 오류가 발생합니다."
   ]
  },
  {
   "cell_type": "code",
   "execution_count": 2,
   "id": "982314ed",
   "metadata": {},
   "outputs": [],
   "source": [
    "f = open(\"demofile.txt\")"
   ]
  },
  {
   "cell_type": "code",
   "execution_count": null,
   "id": "81172e36",
   "metadata": {},
   "outputs": [],
   "source": [
    "# 위의 코드는 다음과 같습니다.\n",
    "f = open(\"demofile.txt\", \"rt\") # \"r\"은 읽기를 의미하고 \"t\"는 텍스트를 의미하는 기본값이므로 이를 지정할 필요가 없습니다."
   ]
  },
  {
   "cell_type": "markdown",
   "id": "12caedba",
   "metadata": {},
   "source": [
    "- 서버에서 파일 열기\n",
    "  - Python과 같은 폴더에 demofile.txt 파일이 있다고 가정해 보겠습니다.\n",
    "  - 파일을 열려면 내장 함수 open()을 사용하세요.\n",
    "  - open() 함수는 파일 객체를 반환하는데, 이 객체에는 파일의 내용을 읽는 read() 메서드가 있습니다.\n",
    "  - 파일이 다른 위치에 있는 경우 다음과 같이 파일 경로를 지정해야 합니다."
   ]
  },
  {
   "cell_type": "code",
   "execution_count": 4,
   "id": "67d6a6de",
   "metadata": {},
   "outputs": [
    {
     "name": "stdout",
     "output_type": "stream",
     "text": [
      "Hello! Welcome to demofile.txt\n",
      "This file is for testing purposes.\n",
      "Good Luck!\n"
     ]
    }
   ],
   "source": [
    "f = open(\"demofile.txt\")\n",
    "print(f.read())"
   ]
  },
  {
   "cell_type": "code",
   "execution_count": 5,
   "id": "929dc6e7",
   "metadata": {},
   "outputs": [
    {
     "name": "stdout",
     "output_type": "stream",
     "text": [
      "Hello! Welcome to demofile.txt\n",
      "This file is for testing purposes.\n",
      "Good Luck!\n"
     ]
    },
    {
     "name": "stderr",
     "output_type": "stream",
     "text": [
      "<>:2: SyntaxWarning: invalid escape sequence '\\p'\n",
      "<>:2: SyntaxWarning: invalid escape sequence '\\p'\n",
      "C:\\Users\\Home\\AppData\\Local\\Temp\\ipykernel_3948\\2976631360.py:2: SyntaxWarning: invalid escape sequence '\\p'\n",
      "  f = open(\"D:\\personal_study\\python\\demofile.txt\")\n"
     ]
    }
   ],
   "source": [
    "# 다른 위치에 있는 파일을 엽니다.\n",
    "f = open(\"D:\\personal_study\\python\\demofile.txt\")\n",
    "print(f.read())"
   ]
  },
  {
   "cell_type": "markdown",
   "id": "905adfa5",
   "metadata": {},
   "source": [
    "- with 문 사용하기\n",
    "  - 파일을 열 때도 with 문을 사용할 수 있습니다.\n",
    "  - 그러면 파일을 닫는 것에 대해 걱정할 필요가 없습니다. with 문이 그 일을 처리해 줍니다."
   ]
  },
  {
   "cell_type": "code",
   "execution_count": 6,
   "id": "ffff3281",
   "metadata": {},
   "outputs": [
    {
     "name": "stdout",
     "output_type": "stream",
     "text": [
      "Hello! Welcome to demofile.txt\n",
      "This file is for testing purposes.\n",
      "Good Luck!\n"
     ]
    }
   ],
   "source": [
    "# with 키워드를 사용하면:\n",
    "with open(\"demofile.txt\") as f:\n",
    "    print(f.read())"
   ]
  },
  {
   "cell_type": "markdown",
   "id": "560349eb",
   "metadata": {},
   "source": [
    "- 파일 닫기\n",
    "  - 작업이 끝나면 항상 파일을 닫는 것이 좋습니다.\n",
    "  - with 문을 사용하지 않는 경우, 파일을 닫으려면 close 문을 작성해야 합니다.\n",
    "  - 참고: 항상 파일을 닫아야 합니다. 버퍼링으로 인해 파일을 닫을 때까지 변경 사항이 표시되지 않는 경우가 있습니다."
   ]
  },
  {
   "cell_type": "code",
   "execution_count": 8,
   "id": "071e66fd",
   "metadata": {},
   "outputs": [
    {
     "name": "stdout",
     "output_type": "stream",
     "text": [
      "Hello! Welcome to demofile.txt\n",
      "\n"
     ]
    }
   ],
   "source": [
    "# 작업이 끝나면 파일을 닫으세요.\n",
    "f = open(\"demofile.txt\")\n",
    "print(f.readline()) #  파일의 한 줄씩 읽어 문자열로 반환해주는 함수\n",
    "f.close()"
   ]
  },
  {
   "cell_type": "markdown",
   "id": "67c6e120",
   "metadata": {},
   "source": [
    "- 파일의 읽기 전용 부분\n",
    "  - 기본적으로 read() 메서드는 전체 텍스트를 반환하지만, 반환할 문자 수를 지정할 수도 있습니다."
   ]
  },
  {
   "cell_type": "code",
   "execution_count": 9,
   "id": "5f9d0ce0",
   "metadata": {},
   "outputs": [
    {
     "name": "stdout",
     "output_type": "stream",
     "text": [
      "Hello\n"
     ]
    }
   ],
   "source": [
    "# 파일의 처음 5자를 반환합니다.\n",
    "with open(\"demofile.txt\") as f:\n",
    "    print(f.read(5))"
   ]
  },
  {
   "cell_type": "markdown",
   "id": "2487b6d2",
   "metadata": {},
   "source": [
    "- 줄 읽기\n",
    "  - readline() 메서드를 사용하여 한 줄을 반환할 수 있습니다.\n",
    "  - readline()을 두 번 호출하면 처음 두 줄을 읽을 수 있습니다.\n",
    "  - 파일의 줄을 반복하면 줄별로 전체 파일을 읽을 수 있습니다."
   ]
  },
  {
   "cell_type": "code",
   "execution_count": 10,
   "id": "65be8402",
   "metadata": {},
   "outputs": [
    {
     "name": "stdout",
     "output_type": "stream",
     "text": [
      "Hello! Welcome to demofile.txt\n",
      "\n"
     ]
    }
   ],
   "source": [
    "# 파일의 한 줄을 읽으세요:\n",
    "with open(\"demofile.txt\") as f:\n",
    "    print(f.readline())"
   ]
  },
  {
   "cell_type": "code",
   "execution_count": 11,
   "id": "764c532e",
   "metadata": {},
   "outputs": [
    {
     "name": "stdout",
     "output_type": "stream",
     "text": [
      "Hello! Welcome to demofile.txt\n",
      "\n",
      "This file is for testing purposes.\n",
      "\n"
     ]
    }
   ],
   "source": [
    "# 파일의 두 줄을 읽으세요:\n",
    "with open(\"demofile.txt\") as f:\n",
    "    print(f.readline())\n",
    "    print(f.readline())"
   ]
  },
  {
   "cell_type": "code",
   "execution_count": 13,
   "id": "1cf446f3",
   "metadata": {},
   "outputs": [
    {
     "name": "stdout",
     "output_type": "stream",
     "text": [
      "Hello! Welcome to demofile.txt\n",
      "\n",
      "This file is for testing purposes.\n",
      "\n",
      "Good Luck!\n"
     ]
    }
   ],
   "source": [
    "# 파일을 줄별로 반복합니다.\n",
    "with open(\"demofile.txt\") as f:\n",
    "    for x in f:\n",
    "        print(x)"
   ]
  },
  {
   "cell_type": "markdown",
   "id": "6e95e6d7",
   "metadata": {},
   "source": [
    "### File Write\n",
    "\n",
    "  - 기존 파일에 쓰기\n",
    "    - 기존 파일에 쓰려면 open() 함수에 매개변수를 추가해야 합니다.\n",
    "      - \"a\" | Append | 파일 끝에 추가합니다.\n",
    "      -  \"w\" | Write | 기존 내용을 덮어씁니다."
   ]
  },
  {
   "cell_type": "code",
   "execution_count": null,
   "id": "3723f364",
   "metadata": {},
   "outputs": [
    {
     "name": "stdout",
     "output_type": "stream",
     "text": [
      "Hello! Welcome to demofile.txt\n",
      "This file is for testing purposes.\n",
      "Good Luck!Now the file has more content!\n"
     ]
    }
   ],
   "source": [
    "# \"demofile.txt\" 파일을 열고 파일의 내용을 추가합니다.\n",
    "with open(\"demofile.txt\", \"a\") as f: # \"a\" 는 append 를 의미합니다.\n",
    "    f.write(\"Now the file has more content!\")\n",
    "\n",
    "# 파일을 추가한 후 열어서 읽으세요:\n",
    "with open(\"demofile.txt\") as f:\n",
    "    print(f.read())"
   ]
  },
  {
   "cell_type": "markdown",
   "id": "af2d232d",
   "metadata": {},
   "source": [
    "- 기존 콘텐츠 덮어쓰기\n",
    "  - 파일의 기존 콘텐츠를 덮어쓰려면 `w` 매개변수를 사용하세요."
   ]
  },
  {
   "cell_type": "code",
   "execution_count": 15,
   "id": "02b92315",
   "metadata": {},
   "outputs": [
    {
     "name": "stdout",
     "output_type": "stream",
     "text": [
      "Woops! I have deleted the content!\n"
     ]
    }
   ],
   "source": [
    "# \"demofile.txt\" 파일을 열고 내용을 덮어씁니다.\n",
    "with open(\"demofile.txt\", \"w\") as f:\n",
    "    f.write(\"Woops! I have deleted the content!\")\n",
    "\n",
    "# 덮어쓰기 후 파일을 열고 읽으세요:\n",
    "with open(\"demofile.txt\") as f:\n",
    "    print(f.read())"
   ]
  },
  {
   "cell_type": "markdown",
   "id": "d18de8ea",
   "metadata": {},
   "source": [
    "### 새 파일 만들기\n",
    "\n",
    "  - Python에서 새 파일을 만들려면 다음 매개변수 중 하나를 사용하여 open() 메서드를 사용합니다.\n",
    "    - \"x\" | Create | 파일을 생성합니다. 파일이 있으면 오류를 반환합니다.\n",
    "    - \"a\" | Append | 지정된 파일이 없으면 파일을 생성합니다.\n",
    "    - \"w\" | Write | 지정된 파일이 없으면 파일을 생성합니다."
   ]
  },
  {
   "cell_type": "code",
   "execution_count": null,
   "id": "9d435f73",
   "metadata": {},
   "outputs": [],
   "source": [
    "# \"myfile.txt\"라는 새 파일을 만듭니다.\n",
    "# 참고: 파일이 이미 존재하는 경우 오류가 발생합니다.\n",
    "f = open(\"myfile.txt\", \"x\")"
   ]
  },
  {
   "cell_type": "markdown",
   "id": "ea198a85",
   "metadata": {},
   "source": [
    "### Delete File\n",
    "\n",
    "  - 파일을 삭제하려면 OS 모듈을 임포트하고 os.remove() 함수를 실행해야 합니다."
   ]
  },
  {
   "cell_type": "code",
   "execution_count": null,
   "id": "09c64be7",
   "metadata": {},
   "outputs": [],
   "source": [
    "# \"demofile.txt\" 파일을 제거합니다.\n",
    "import os\n",
    "\n",
    "os.remove(\"demofile.txt\")"
   ]
  },
  {
   "cell_type": "markdown",
   "id": "76955b26",
   "metadata": {},
   "source": [
    "- 파일이 있는지 확인하세요\n",
    "  - 오류 발생을 방지하려면 삭제하기 전에 파일이 있는지 확인하세요."
   ]
  },
  {
   "cell_type": "code",
   "execution_count": 18,
   "id": "f6c66d0f",
   "metadata": {},
   "outputs": [
    {
     "name": "stdout",
     "output_type": "stream",
     "text": [
      "The file does not exist\n"
     ]
    }
   ],
   "source": [
    "# 파일이 있는지 확인한 후 삭제합니다.\n",
    "import os\n",
    "\n",
    "if os.path.exists(\"demofile.txt\"):\n",
    "    os.remove(\"demofile.txt\")\n",
    "else:\n",
    "    print(\"The file does not exist\")"
   ]
  },
  {
   "cell_type": "markdown",
   "id": "16e313c1",
   "metadata": {},
   "source": [
    "- 폴더 삭제\n",
    "  - 전체 폴더를 삭제하려면 os.rmdir() 메서드를 사용하세요.\n",
    "  - 참고: 비어 있는 폴더만 제거할 수 있습니다."
   ]
  },
  {
   "cell_type": "code",
   "execution_count": 21,
   "id": "63df2d1d",
   "metadata": {},
   "outputs": [],
   "source": [
    "# \"myfolder\" 폴더를 제거합니다.\n",
    "import os\n",
    "\n",
    "os.rmdir(\"myfolder\")"
   ]
  }
 ],
 "metadata": {
  "kernelspec": {
   "display_name": "Python 3",
   "language": "python",
   "name": "python3"
  },
  "language_info": {
   "codemirror_mode": {
    "name": "ipython",
    "version": 3
   },
   "file_extension": ".py",
   "mimetype": "text/x-python",
   "name": "python",
   "nbconvert_exporter": "python",
   "pygments_lexer": "ipython3",
   "version": "3.13.2"
  }
 },
 "nbformat": 4,
 "nbformat_minor": 5
}
