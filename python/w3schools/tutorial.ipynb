{
 "cells": [
  {
   "cell_type": "markdown",
   "id": "5655a45f",
   "metadata": {},
   "source": [
    "### w3schools - Python\n",
    "\n",
    "- Link\n",
    "  - https://www.w3schools.com/python/default.asp"
   ]
  },
  {
   "cell_type": "code",
   "execution_count": 5,
   "id": "73a393ae",
   "metadata": {},
   "outputs": [
    {
     "name": "stdout",
     "output_type": "stream",
     "text": [
      "Hello, World!\n"
     ]
    }
   ],
   "source": [
    "print(\"Hello, World!\")"
   ]
  },
  {
   "cell_type": "markdown",
   "id": "3f537078",
   "metadata": {},
   "source": [
    "- 파이썬 버전 확인"
   ]
  },
  {
   "cell_type": "code",
   "execution_count": 6,
   "id": "2d19eadd",
   "metadata": {},
   "outputs": [
    {
     "name": "stdout",
     "output_type": "stream",
     "text": [
      "3.13.2 (tags/v3.13.2:4f8bb39, Feb  4 2025, 15:23:48) [MSC v.1942 64 bit (AMD64)]\n"
     ]
    }
   ],
   "source": [
    "import sys\n",
    "\n",
    "print(sys.version)"
   ]
  },
  {
   "cell_type": "markdown",
   "id": "08cf9a00",
   "metadata": {},
   "source": [
    "* 파이썬 구문 실행"
   ]
  },
  {
   "cell_type": "code",
   "execution_count": 7,
   "id": "f51cf81c",
   "metadata": {},
   "outputs": [
    {
     "name": "stdout",
     "output_type": "stream",
     "text": [
      "hello!\n"
     ]
    }
   ],
   "source": [
    "print(\"hello!\")"
   ]
  },
  {
   "cell_type": "markdown",
   "id": "b141c573",
   "metadata": {},
   "source": [
    "* 파이썬 들여쓰기"
   ]
  },
  {
   "cell_type": "code",
   "execution_count": 8,
   "id": "101fcc4c",
   "metadata": {},
   "outputs": [
    {
     "name": "stdout",
     "output_type": "stream",
     "text": [
      "Five is greater than two!\n"
     ]
    }
   ],
   "source": [
    "if 5 > 2:\n",
    "    print(\"Five is greater than two!\")"
   ]
  },
  {
   "cell_type": "code",
   "execution_count": 9,
   "id": "3b577fa1",
   "metadata": {},
   "outputs": [
    {
     "name": "stdout",
     "output_type": "stream",
     "text": [
      "Five is greater than two!\n",
      "Five is greater than two!\n"
     ]
    }
   ],
   "source": [
    "if 5 > 2:\n",
    "  print(\"Five is greater than two!\")\n",
    "if 5 > 2:\n",
    "    print(\"Five is greater than two!\")"
   ]
  },
  {
   "cell_type": "code",
   "execution_count": 12,
   "id": "2e7731c4",
   "metadata": {},
   "outputs": [
    {
     "ename": "IndentationError",
     "evalue": "unexpected indent (2828717955.py, line 4)",
     "output_type": "error",
     "traceback": [
      "  \u001b[36mCell\u001b[39m\u001b[36m \u001b[39m\u001b[32mIn[12]\u001b[39m\u001b[32m, line 4\u001b[39m\n\u001b[31m    \u001b[39m\u001b[31mprint(\"Five is greater than two!\")\u001b[39m\n    ^\n\u001b[31mIndentationError\u001b[39m\u001b[31m:\u001b[39m unexpected indent\n"
     ]
    }
   ],
   "source": [
    "# 동일한 코드 블록에서 동일한 수의 공백을 사용해야 합니다. 그렇지 않으면 Python에서 오류가 발생합니다.\n",
    "if 5 > 2:\n",
    " print(\"Five is greater than two!\")\n",
    "        print(\"Five is greater than two!\")"
   ]
  },
  {
   "cell_type": "markdown",
   "id": "b4714fbc",
   "metadata": {},
   "source": [
    "* 파이썬 변수"
   ]
  },
  {
   "cell_type": "code",
   "execution_count": 13,
   "id": "0538dfc2",
   "metadata": {},
   "outputs": [],
   "source": [
    "x = 5\n",
    "y = \"Hello, World!\""
   ]
  },
  {
   "cell_type": "markdown",
   "id": "e1dd3e7c",
   "metadata": {},
   "source": [
    "* 파이썬 주석"
   ]
  },
  {
   "cell_type": "code",
   "execution_count": 14,
   "id": "ad0df802",
   "metadata": {},
   "outputs": [
    {
     "name": "stdout",
     "output_type": "stream",
     "text": [
      "Hello, World!\n"
     ]
    }
   ],
   "source": [
    "#This is a comment.\n",
    "print(\"Hello, World!\")"
   ]
  },
  {
   "cell_type": "code",
   "execution_count": 15,
   "id": "fdbf23d7",
   "metadata": {},
   "outputs": [
    {
     "name": "stdout",
     "output_type": "stream",
     "text": [
      "Hello, World!\n"
     ]
    }
   ],
   "source": [
    "print(\"Hello, World!\") #This is a comment"
   ]
  },
  {
   "cell_type": "code",
   "execution_count": 16,
   "id": "b44dcf12",
   "metadata": {},
   "outputs": [
    {
     "name": "stdout",
     "output_type": "stream",
     "text": [
      "Cheers, Mate!\n"
     ]
    }
   ],
   "source": [
    "#print(\"Hello, World!\")\n",
    "print(\"Cheers, Mate!\")"
   ]
  },
  {
   "cell_type": "code",
   "execution_count": 17,
   "id": "d971ac57",
   "metadata": {},
   "outputs": [
    {
     "name": "stdout",
     "output_type": "stream",
     "text": [
      "Hello, World!\n"
     ]
    }
   ],
   "source": [
    "#This is a comment\n",
    "#written in\n",
    "#more than just one line\n",
    "print(\"Hello, World!\")"
   ]
  },
  {
   "cell_type": "code",
   "execution_count": 18,
   "id": "d8720396",
   "metadata": {},
   "outputs": [
    {
     "name": "stdout",
     "output_type": "stream",
     "text": [
      "Hello, World!\n"
     ]
    }
   ],
   "source": [
    "\"\"\"\n",
    "This is a comment\n",
    "written in\n",
    "more than just one line\n",
    "\"\"\"\n",
    "print(\"Hello, World!\")"
   ]
  },
  {
   "cell_type": "markdown",
   "id": "86309f47",
   "metadata": {},
   "source": [
    "* 변수 생성"
   ]
  },
  {
   "cell_type": "code",
   "execution_count": 19,
   "id": "fa93b425",
   "metadata": {},
   "outputs": [
    {
     "name": "stdout",
     "output_type": "stream",
     "text": [
      "5\n",
      "John\n"
     ]
    }
   ],
   "source": [
    "x = 5\n",
    "y = \"John\"\n",
    "print(x)\n",
    "print(y)"
   ]
  },
  {
   "cell_type": "code",
   "execution_count": 20,
   "id": "e509d68d",
   "metadata": {},
   "outputs": [
    {
     "name": "stdout",
     "output_type": "stream",
     "text": [
      "Sally\n"
     ]
    }
   ],
   "source": [
    "# 변수는 특정 유형 으로 선언될 필요가 없으며 , 설정된 후에도 유형을 변경할 수 있습니다.\n",
    "x = 4\n",
    "x = \"Sally\"\n",
    "print(x)"
   ]
  },
  {
   "cell_type": "code",
   "execution_count": 23,
   "id": "195a510d",
   "metadata": {},
   "outputs": [],
   "source": [
    "# 변수의 데이터 유형을 지정하려면 캐스팅을 사용하면 됩니다.\n",
    "x = str(3)\n",
    "y = int(3)\n",
    "z= float(3)"
   ]
  },
  {
   "cell_type": "code",
   "execution_count": 24,
   "id": "ad0f1b56",
   "metadata": {},
   "outputs": [
    {
     "name": "stdout",
     "output_type": "stream",
     "text": [
      "<class 'str'>\n",
      "<class 'int'>\n",
      "<class 'float'>\n"
     ]
    }
   ],
   "source": [
    "print(type(x))\n",
    "print(type(y))\n",
    "print(type(z))"
   ]
  },
  {
   "cell_type": "code",
   "execution_count": 25,
   "id": "a5cc92e9",
   "metadata": {},
   "outputs": [
    {
     "name": "stdout",
     "output_type": "stream",
     "text": [
      "<class 'int'>\n",
      "<class 'str'>\n"
     ]
    }
   ],
   "source": [
    "x = 5\n",
    "y = \"John\"\n",
    "print(type(x))\n",
    "print(type(y))"
   ]
  },
  {
   "cell_type": "markdown",
   "id": "b1c66462",
   "metadata": {},
   "source": [
    "* 작은 따옴표, 큰 따옴표"
   ]
  },
  {
   "cell_type": "code",
   "execution_count": 28,
   "id": "97bc16b3",
   "metadata": {},
   "outputs": [
    {
     "name": "stdout",
     "output_type": "stream",
     "text": [
      "John\n"
     ]
    }
   ],
   "source": [
    "x = \"John\"\n",
    "# is the same as\n",
    "x = 'John'\n",
    "\n",
    "print(x)"
   ]
  },
  {
   "cell_type": "code",
   "execution_count": 31,
   "id": "1676e065",
   "metadata": {},
   "outputs": [
    {
     "name": "stdout",
     "output_type": "stream",
     "text": [
      "4\n",
      "Sally\n"
     ]
    }
   ],
   "source": [
    "# 변수 이름은 대소문자를 구분합니다.\n",
    "a = 4\n",
    "A = \"Sally\"\n",
    "\n",
    "print(a)\n",
    "print(A)"
   ]
  },
  {
   "cell_type": "markdown",
   "id": "b5aad270",
   "metadata": {},
   "source": [
    "* 변수 이름\n",
    "\n",
    "  - 변수 이름은 문자 또는 밑줄 문자로 시작해야 합니다.\n",
    "  - 변수 이름은 숫자로 시작할 수 없습니다.\n",
    "  - 변수 이름에는 영숫자 문자와 밑줄(Az, 0-9, _)만 포함될 수 있습니다.\n",
    "  - 변수 이름은 대소문자를 구분합니다(age, Age 및 AGE는 세 개의 다른 변수입니다)\n",
    "  - 변수 이름은 Python 키워드 중 하나가 될 수 없습니다 ."
   ]
  },
  {
   "cell_type": "code",
   "execution_count": 32,
   "id": "c309af1b",
   "metadata": {},
   "outputs": [],
   "source": [
    "myvar = \"John\"\n",
    "my_var = \"John\"\n",
    "_my_var = \"John\"\n",
    "myVar = \"John\"\n",
    "MYVAR = \"John\"\n",
    "myvar2 = \"John\""
   ]
  },
  {
   "cell_type": "code",
   "execution_count": 33,
   "id": "1a4c91aa",
   "metadata": {},
   "outputs": [
    {
     "ename": "SyntaxError",
     "evalue": "invalid decimal literal (2185399839.py, line 1)",
     "output_type": "error",
     "traceback": [
      "  \u001b[36mCell\u001b[39m\u001b[36m \u001b[39m\u001b[32mIn[33]\u001b[39m\u001b[32m, line 1\u001b[39m\n\u001b[31m    \u001b[39m\u001b[31m2myvar = \"John\"\u001b[39m\n    ^\n\u001b[31mSyntaxError\u001b[39m\u001b[31m:\u001b[39m invalid decimal literal\n"
     ]
    }
   ],
   "source": [
    "2myvar = \"John\"\n",
    "my-var = \"John\"\n",
    "my var = \"John\""
   ]
  },
  {
   "cell_type": "code",
   "execution_count": 35,
   "id": "524a9a6e",
   "metadata": {},
   "outputs": [],
   "source": [
    "# Camel Case (첫 번째 단어를 제외한 모든 단어는 대문자로 시작합니다.)\n",
    "myVariableName = \"John\"\n",
    "\n",
    "# Pascal Case (각 단어는 대문자로 시작합니다.)\n",
    "MyVariableName = \"John\"\n",
    "\n",
    "# Snake Case (각 단어는 밑줄 문자로 구분됩니다.)\n",
    "my_variable_name = \"John\""
   ]
  },
  {
   "cell_type": "markdown",
   "id": "d05d76c6",
   "metadata": {},
   "source": [
    "* 여러 변수에 대한 여러 값"
   ]
  },
  {
   "cell_type": "code",
   "execution_count": 36,
   "id": "609ba427",
   "metadata": {},
   "outputs": [
    {
     "name": "stdout",
     "output_type": "stream",
     "text": [
      "Orange\n",
      "Banana\n",
      "Cherry\n"
     ]
    }
   ],
   "source": [
    "x, y, z = \"Orange\", \"Banana\", \"Cherry\"\n",
    "print(x)\n",
    "print(y)\n",
    "print(z)"
   ]
  },
  {
   "cell_type": "markdown",
   "id": "38b3bbff",
   "metadata": {},
   "source": [
    "* 하나의 값을 여러 변수에"
   ]
  },
  {
   "cell_type": "code",
   "execution_count": 37,
   "id": "a21f88d7",
   "metadata": {},
   "outputs": [
    {
     "name": "stdout",
     "output_type": "stream",
     "text": [
      "Orange\n",
      "Orange\n",
      "Orange\n"
     ]
    }
   ],
   "source": [
    "x = y = z = \"Orange\"\n",
    "print(x)\n",
    "print(y)\n",
    "print(z)"
   ]
  },
  {
   "cell_type": "markdown",
   "id": "054fc3b6",
   "metadata": {},
   "source": [
    "* 컬렉션 풀기\n",
    "  - list, 등 의 값 컬렉션이 있는 경우, tuplePython에서는 값을 변수로 추출할 수 있습니다. 이를 언패킹 이라고 합니다 ."
   ]
  },
  {
   "cell_type": "code",
   "execution_count": 38,
   "id": "6c22823f",
   "metadata": {},
   "outputs": [
    {
     "name": "stdout",
     "output_type": "stream",
     "text": [
      "apple\n",
      "banana\n",
      "cherry\n"
     ]
    }
   ],
   "source": [
    "fruits = [\"apple\", \"banana\", \"cherry\"]\n",
    "x, y, z = fruits\n",
    "print(x)\n",
    "print(y)\n",
    "print(z)"
   ]
  },
  {
   "cell_type": "markdown",
   "id": "4542543c",
   "metadata": {},
   "source": [
    "* 출력 변수"
   ]
  },
  {
   "cell_type": "code",
   "execution_count": 39,
   "id": "f815e7aa",
   "metadata": {},
   "outputs": [
    {
     "name": "stdout",
     "output_type": "stream",
     "text": [
      "Python is awesome\n"
     ]
    }
   ],
   "source": [
    "x = \"Python is awesome\"\n",
    "print(x)"
   ]
  },
  {
   "cell_type": "code",
   "execution_count": 40,
   "id": "984dd173",
   "metadata": {},
   "outputs": [
    {
     "name": "stdout",
     "output_type": "stream",
     "text": [
      "Python is awesome\n"
     ]
    }
   ],
   "source": [
    "# 함수 에서는 print()쉼표로 구분된 여러 변수를 출력합니다.\n",
    "x = \"Python\"\n",
    "y = \"is\"\n",
    "z = \"awesome\"\n",
    "print(x, y, z)"
   ]
  },
  {
   "cell_type": "code",
   "execution_count": 42,
   "id": "3457d915",
   "metadata": {},
   "outputs": [
    {
     "name": "stdout",
     "output_type": "stream",
     "text": [
      "Python is awesome\n",
      "Pythonisawesome\n"
     ]
    }
   ],
   "source": [
    "# +연산자를 사용하여 여러 변수를 출력할 수도 있습니다.\n",
    "x = \"Python \"\n",
    "y = \"is \"\n",
    "z = \"awesome\"\n",
    "print(x + y + z)\n",
    "\n",
    "# \"Python \"and 뒤에 있는 공백 문자에 주목하세요. 공백 \"is \"문자가 없으면 결과는 \"Pythonisawesome\"이 됩니다.\n",
    "x = \"Python\"\n",
    "y = \"is\"\n",
    "z = \"awesome\"\n",
    "print(x + y + z)"
   ]
  },
  {
   "cell_type": "code",
   "execution_count": 44,
   "id": "020f29f6",
   "metadata": {},
   "outputs": [
    {
     "ename": "TypeError",
     "evalue": "unsupported operand type(s) for +: 'int' and 'str'",
     "output_type": "error",
     "traceback": [
      "\u001b[31m---------------------------------------------------------------------------\u001b[39m",
      "\u001b[31mTypeError\u001b[39m                                 Traceback (most recent call last)",
      "\u001b[36mCell\u001b[39m\u001b[36m \u001b[39m\u001b[32mIn[44]\u001b[39m\u001b[32m, line 4\u001b[39m\n\u001b[32m      2\u001b[39m x = \u001b[32m5\u001b[39m\n\u001b[32m      3\u001b[39m y = \u001b[33m\"\u001b[39m\u001b[33mJohn\u001b[39m\u001b[33m\"\u001b[39m\n\u001b[32m----> \u001b[39m\u001b[32m4\u001b[39m \u001b[38;5;28mprint\u001b[39m(\u001b[43mx\u001b[49m\u001b[43m \u001b[49m\u001b[43m+\u001b[49m\u001b[43m \u001b[49m\u001b[43my\u001b[49m)\n",
      "\u001b[31mTypeError\u001b[39m: unsupported operand type(s) for +: 'int' and 'str'"
     ]
    }
   ],
   "source": [
    "# 함수 에서 연산자 print()를 사용하여 문자열과 숫자를 결합하려고 하면 + Python에서 오류가 발생합니다.\n",
    "x = 5\n",
    "y = \"John\"\n",
    "print(x + y)"
   ]
  },
  {
   "cell_type": "code",
   "execution_count": 45,
   "id": "9249193b",
   "metadata": {},
   "outputs": [
    {
     "name": "stdout",
     "output_type": "stream",
     "text": [
      "5 John\n"
     ]
    }
   ],
   "source": [
    "x = 5\n",
    "y = \"John\"\n",
    "print(x, y)"
   ]
  },
  {
   "cell_type": "markdown",
   "id": "cded58af",
   "metadata": {},
   "source": [
    "* 전역 변수\n",
    "\n",
    "  - 함수 외부에서 생성된 변수(이전 페이지의 모든 예제처럼)를 전역 변수라고 합니다.\n",
    "  - 전역 변수는 함수 내부와 외부 모두에서 누구나 사용할 수 있습니다."
   ]
  },
  {
   "cell_type": "code",
   "execution_count": 46,
   "id": "18f2a943",
   "metadata": {},
   "outputs": [
    {
     "name": "stdout",
     "output_type": "stream",
     "text": [
      "Python is awesome\n"
     ]
    }
   ],
   "source": [
    "# 함수 외부에서 변수를 생성하고 함수 내부에서 사용합니다.\n",
    "x = \"awesome\"\n",
    "\n",
    "def myfunc():\n",
    "    print(\"Python is \" + x)\n",
    "\n",
    "myfunc()"
   ]
  },
  {
   "cell_type": "code",
   "execution_count": 53,
   "id": "2285dd16",
   "metadata": {},
   "outputs": [
    {
     "name": "stdout",
     "output_type": "stream",
     "text": [
      "Python is fantastic\n",
      "Python is awesome\n"
     ]
    }
   ],
   "source": [
    "# 전역 변수와 동일한 이름으로 함수 내부에 변수를 생성합니다.\n",
    "x = \"awesome\"\n",
    "\n",
    "def myfunc():\n",
    "    x = \"fantastic\"\n",
    "    print(\"Python is \" + x)\n",
    "\n",
    "myfunc()\n",
    "\n",
    "print(\"Python is \" + x)"
   ]
  },
  {
   "cell_type": "markdown",
   "id": "f626f47d",
   "metadata": {},
   "source": [
    "* 글로벌 키워드\n",
    "  \n",
    "   - 일반적으로 함수 내부에 변수를 생성하면 해당 변수는 지역 변수가 되어 해당 함수 내부에서만 사용할 수 있습니다.\n",
    "   - 함수 내부에 전역 변수를 생성하려면 global키워드를 사용하면 됩니다."
   ]
  },
  {
   "cell_type": "code",
   "execution_count": 54,
   "id": "d2842fca",
   "metadata": {},
   "outputs": [
    {
     "name": "stdout",
     "output_type": "stream",
     "text": [
      "Python is fantastic\n"
     ]
    }
   ],
   "source": [
    "# 키워드를 사용하면 global변수는 전역 범위에 속합니다.\n",
    "def myfunc():\n",
    "    global x\n",
    "    x = \"fantastic\"\n",
    "\n",
    "myfunc()\n",
    "\n",
    "print(\"Python is \" + x) "
   ]
  },
  {
   "cell_type": "code",
   "execution_count": 60,
   "id": "43da25e9",
   "metadata": {},
   "outputs": [
    {
     "name": "stdout",
     "output_type": "stream",
     "text": [
      "Python is awesome\n",
      "Python is fantastic\n"
     ]
    }
   ],
   "source": [
    "# 또한, global함수 내에서 전역 변수를 변경하려면 키워드를 사용하세요.\n",
    "# 함수 내에서 전역 변수의 값을 변경하려면 global다음 키워드를 사용하여 변수를 참조합니다.\n",
    "\n",
    "x = \"awesome\"\n",
    "\n",
    "print(\"Python is \" + x)\n",
    "\n",
    "def myfunc():\n",
    "    global x\n",
    "    x = \"fantastic\"\n",
    "\n",
    "myfunc()\n",
    "\n",
    "print(\"Python is \" + x)"
   ]
  },
  {
   "cell_type": "markdown",
   "id": "babd6d92",
   "metadata": {},
   "source": [
    "* 내장 데이터 유형\n",
    "\n",
    "  - 텍스트 유형: str\n",
    "  - 숫자형 유형: int, float, complex\n",
    "  - 시퀀스 유형: list, tuple, range\n",
    "  - 매핑 유형: dict\n",
    "  - 세트 유형: set,frozenset\n",
    "  - 부울 유형: bool\n",
    "  - 이진 유형: bytes, bytearray, memoryview\n",
    "  - 없음 유형: NoneType\n"
   ]
  },
  {
   "cell_type": "markdown",
   "id": "3dfd0a02",
   "metadata": {},
   "source": [
    "* 데이터 유형 가져오기\n",
    "\n",
    "  - 다음 type() 함수를 사용하면 모든 객체의 데이터 유형을 얻을 수 있습니다."
   ]
  },
  {
   "cell_type": "code",
   "execution_count": 61,
   "id": "a7bde2dd",
   "metadata": {},
   "outputs": [
    {
     "name": "stdout",
     "output_type": "stream",
     "text": [
      "<class 'int'>\n"
     ]
    }
   ],
   "source": [
    "x = 5\n",
    "print(type(x))"
   ]
  },
  {
   "cell_type": "markdown",
   "id": "5a1b015c",
   "metadata": {},
   "source": [
    "* 데이터 유형 설정\n",
    "\n",
    "  - Python에서는 변수에 값을 할당할 때 데이터 유형이 설정됩니다."
   ]
  },
  {
   "cell_type": "code",
   "execution_count": 62,
   "id": "f40a2bfa",
   "metadata": {},
   "outputs": [
    {
     "name": "stdout",
     "output_type": "stream",
     "text": [
      "<class 'str'>\n",
      "<class 'int'>\n",
      "<class 'float'>\n",
      "<class 'complex'>\n",
      "<class 'list'>\n",
      "<class 'tuple'>\n",
      "<class 'range'>\n",
      "<class 'dict'>\n",
      "<class 'set'>\n",
      "<class 'frozenset'>\n",
      "<class 'bool'>\n",
      "<class 'bytes'>\n",
      "<class 'bytearray'>\n",
      "<class 'memoryview'>\n",
      "<class 'NoneType'>\n"
     ]
    }
   ],
   "source": [
    "x = \"Hello World\"\n",
    "print(type(x))\n",
    "\n",
    "x = 20\n",
    "print(type(x))\n",
    "\n",
    "x = 20.5\n",
    "print(type(x))\n",
    "\n",
    "x = 1j\n",
    "print(type(x))\n",
    "\n",
    "x = [\"apple\", \"banana\", \"cherry\"]\n",
    "print(type(x))\n",
    "\n",
    "x = (\"apple\", \"banana\", \"cherry\")\n",
    "print(type(x))\n",
    "\n",
    "x = range(6)\n",
    "print(type(x))\n",
    "\n",
    "x = { \"name\" : \"John\", \"age\" : 36 }\n",
    "print(type(x))\n",
    "\n",
    "x = { \"apple\", \"banana\", \"cherry\" }\n",
    "print(type(x))\n",
    "\n",
    "x = frozenset({\"apple\", \"banana\", \"cherry\"})\n",
    "print(type(x))\n",
    "\n",
    "x = True\n",
    "print(type(x))\n",
    "\n",
    "x = b\"Hello\"\n",
    "print(type(x))\n",
    "\n",
    "x = bytearray(5)\n",
    "print(type(x))\n",
    "\n",
    "x = memoryview(bytes(5))\n",
    "print(type(x))\n",
    "\n",
    "x = None\n",
    "print(type(x))"
   ]
  },
  {
   "cell_type": "markdown",
   "id": "ad850bb0",
   "metadata": {},
   "source": [
    "* 특정 데이터 유형 설정\n",
    "\n",
    "  - 데이터 유형을 지정하려면 다음 생성자 함수를 사용할 수 있습니다."
   ]
  },
  {
   "cell_type": "code",
   "execution_count": 64,
   "id": "bff90203",
   "metadata": {},
   "outputs": [
    {
     "name": "stdout",
     "output_type": "stream",
     "text": [
      "<class 'str'>\n",
      "<class 'int'>\n",
      "<class 'float'>\n",
      "<class 'complex'>\n",
      "<class 'list'>\n",
      "<class 'tuple'>\n",
      "<class 'range'>\n",
      "<class 'dict'>\n",
      "<class 'set'>\n",
      "<class 'frozenset'>\n",
      "<class 'bool'>\n",
      "<class 'bytes'>\n",
      "<class 'bytearray'>\n",
      "<class 'memoryview'>\n"
     ]
    }
   ],
   "source": [
    "x = str(\"Hello World\")\n",
    "print(type(x))\n",
    "\n",
    "x = int(20)\n",
    "print(type(x))\n",
    "\n",
    "x = float(20.5)\n",
    "print(type(x))\n",
    "\n",
    "x = complex(1j)\n",
    "print(type(x))\n",
    "\n",
    "x = list((\"apple\", \"banana\", \"cherry\"))\n",
    "print(type(x))\n",
    "\n",
    "x = tuple((\"apple\", \"banana\", \"cherry\"))\n",
    "print(type(x))\n",
    "\n",
    "x = range(6)\n",
    "print(type(x))\n",
    "\n",
    "x = dict(name = \"John\", age = 36)\n",
    "print(type(x))\n",
    "\n",
    "x = set((\"apple\", \"banana\", \"cherry\"))\n",
    "print(type(x))\n",
    "\n",
    "x = frozenset((\"apple\", \"banana\", \"cherry\"))\n",
    "print(type(x))\n",
    "\n",
    "x = bool(5)\n",
    "print(type(x))\n",
    "\n",
    "x = bytes(5)\n",
    "print(type(x))\n",
    "\n",
    "x = bytearray(5)\n",
    "print(type(x))\n",
    "\n",
    "x = memoryview(bytes(5))\n",
    "print(type(x))"
   ]
  },
  {
   "cell_type": "markdown",
   "id": "41eead69",
   "metadata": {},
   "source": [
    "* 파이썬 숫자\n",
    "\n",
    "  - int\n",
    "  - float\n",
    "  - complex"
   ]
  },
  {
   "cell_type": "code",
   "execution_count": 65,
   "id": "33ed92cb",
   "metadata": {},
   "outputs": [],
   "source": [
    "# 숫자형 변수는 값을 할당할 때 생성됩니다.\n",
    "x = 1\n",
    "y = 2.8\n",
    "z = 1j"
   ]
  },
  {
   "cell_type": "code",
   "execution_count": 66,
   "id": "3f462b5b",
   "metadata": {},
   "outputs": [
    {
     "name": "stdout",
     "output_type": "stream",
     "text": [
      "<class 'int'>\n",
      "<class 'float'>\n",
      "<class 'complex'>\n"
     ]
    }
   ],
   "source": [
    "# Python에서 객체의 유형을 확인하려면 다음 type()함수를 사용하세요.\n",
    "print(type(x))\n",
    "print(type(y))\n",
    "print(type(z))"
   ]
  },
  {
   "cell_type": "code",
   "execution_count": null,
   "id": "ad765d1e",
   "metadata": {},
   "outputs": [
    {
     "name": "stdout",
     "output_type": "stream",
     "text": [
      "<class 'int'>\n",
      "<class 'int'>\n",
      "<class 'int'>\n"
     ]
    }
   ],
   "source": [
    "# int (Int 또는 정수는 소수점이 없는 양수 또는 음수의 정수이며, 길이는 제한이 없습니다.)\n",
    "x = 1\n",
    "y = 35656222554887711\n",
    "z = -3255522\n",
    "\n",
    "print(type(x))\n",
    "print(type(y))\n",
    "print(type(z))"
   ]
  },
  {
   "cell_type": "code",
   "execution_count": 68,
   "id": "119a8a76",
   "metadata": {},
   "outputs": [
    {
     "name": "stdout",
     "output_type": "stream",
     "text": [
      "<class 'float'>\n",
      "<class 'int'>\n",
      "<class 'float'>\n"
     ]
    }
   ],
   "source": [
    "# Float (부동 소수점 숫자 또는 \"부동 소수점 숫자\"는 하나 이상의 소수점을 포함하는 양수 또는 음수 숫자입니다.)\n",
    "x = 1.10\n",
    "x = 1.0\n",
    "z = -35.59\n",
    "\n",
    "print(type(x))\n",
    "print(type(y))\n",
    "print(type(z))"
   ]
  },
  {
   "cell_type": "code",
   "execution_count": 69,
   "id": "6cecbe4c",
   "metadata": {},
   "outputs": [
    {
     "name": "stdout",
     "output_type": "stream",
     "text": [
      "<class 'float'>\n",
      "<class 'float'>\n",
      "<class 'float'>\n"
     ]
    }
   ],
   "source": [
    "# Float는 10의 거듭제곱을 나타내는 \"e\"를 사용한 과학적 숫자일 수도 있습니다.\n",
    "x = 35e3\n",
    "y = 12E4\n",
    "z = -87.7e100\n",
    "\n",
    "print(type(x))\n",
    "print(type(y))\n",
    "print(type(z))"
   ]
  },
  {
   "cell_type": "code",
   "execution_count": 71,
   "id": "0a6583ff",
   "metadata": {},
   "outputs": [
    {
     "name": "stdout",
     "output_type": "stream",
     "text": [
      "<class 'complex'>\n",
      "<class 'complex'>\n",
      "<class 'complex'>\n"
     ]
    }
   ],
   "source": [
    "# Complex (복소수는 허수부에 \"j\"를 붙여서 표기합니다.)\n",
    "x = 3+5j\n",
    "y = 5j\n",
    "z= -5j\n",
    "\n",
    "print(type(x))\n",
    "print(type(y))\n",
    "print(type(z))"
   ]
  },
  {
   "cell_type": "code",
   "execution_count": null,
   "id": "2c175542",
   "metadata": {},
   "outputs": [
    {
     "name": "stdout",
     "output_type": "stream",
     "text": [
      "1.0\n",
      "2\n",
      "(1+0j)\n",
      "<class 'float'>\n",
      "<class 'int'>\n",
      "<class 'complex'>\n",
      "1.0\n",
      "2\n",
      "(1+0j)\n"
     ]
    }
   ],
   "source": [
    "# 유형 변환 (int(), float() 및 complex() 메서드를 사용하여 한 유형에서 다른 유형으로 변환할 수 있습니다.)\n",
    "# 참고: 복소수를 다른 숫자 유형으로 변환할 수 없습니다.\n",
    "x = 1\n",
    "y = 2.8\n",
    "z = 1j\n",
    "\n",
    "#convert from int to float:\n",
    "a = float(x)\n",
    "\n",
    "#convert from float to int:\n",
    "b = int(y)\n",
    "\n",
    "#convert from int to complex:\n",
    "c = complex(x)\n",
    "\n",
    "print(a)\n",
    "print(b)\n",
    "print(c)\n",
    "\n",
    "print(type(a))\n",
    "print(type(b))\n",
    "print(type(c))\n",
    "\n",
    "print(a)\n",
    "print(b)\n",
    "print(c)"
   ]
  },
  {
   "cell_type": "markdown",
   "id": "48bc4556",
   "metadata": {},
   "source": [
    "* 난수\n",
    "\n",
    "  - Python에는 난수를 만드는 random() 함수가 없지만, Python에는 난수를 만드는 데 사용할 수 있는 random이라는 내장 모듈이 있습니다."
   ]
  },
  {
   "cell_type": "code",
   "execution_count": 75,
   "id": "3723f110",
   "metadata": {},
   "outputs": [
    {
     "name": "stdout",
     "output_type": "stream",
     "text": [
      "6\n"
     ]
    }
   ],
   "source": [
    "# random 모듈을 가져와서 1에서 9까지의 난수를 표시합니다.\n",
    "import random\n",
    "\n",
    "print(random.randrange(1, 10))"
   ]
  },
  {
   "cell_type": "markdown",
   "id": "de650fb0",
   "metadata": {},
   "source": [
    "* 파이썬 캐스팅"
   ]
  },
  {
   "cell_type": "markdown",
   "id": "70d8b19e",
   "metadata": {},
   "source": [
    "* 변수 유형 지정\n",
    "  \n",
    "  - 변수에 타입을 지정해야 할 때가 있습니다. 이는 캐스팅을 통해 가능합니다. Python은 객체 지향 언어이므로 클래스를 사용하여 기본 타입을 포함한 데이터 타입을 정의합니다.\n",
    "  - 따라서 파이썬에서의 캐스팅은 생성자 함수를 사용하여 수행됩니다.\n",
    "    - int() - 정수 리터럴, 모든 소수점을 제거한 부동 소수점 리터럴 또는 문자열 리터럴(문자열이 정수를 나타내는 경우)에서 정수를 생성합니다.\n",
    "    - float() - 정수 리터럴, float 리터럴 또는 문자열 리터럴에서 float 숫자를 구성합니다(문자열이 float 또는 정수를 나타내는 경우)\n",
    "    - str() - 문자열, 정수 리터럴, 부동 소수점 리터럴을 포함한 다양한 데이터 유형에서 문자열을 구성합니다."
   ]
  },
  {
   "cell_type": "code",
   "execution_count": null,
   "id": "23649e98",
   "metadata": {},
   "outputs": [],
   "source": [
    "# int\n",
    "x = int(1)\n",
    "y = int(2.8)\n",
    "z = int(\"3\")"
   ]
  },
  {
   "cell_type": "code",
   "execution_count": 77,
   "id": "42b145f8",
   "metadata": {},
   "outputs": [],
   "source": [
    "# float\n",
    "x = float(1)\n",
    "y = float(2.8)\n",
    "z = float(\"3\")\n",
    "w = float(\"4.2\")"
   ]
  },
  {
   "cell_type": "code",
   "execution_count": 78,
   "id": "e4e23813",
   "metadata": {},
   "outputs": [],
   "source": [
    "# str\n",
    "z = str(\"s1\")\n",
    "y = str(2)\n",
    "z = str(3.0)"
   ]
  },
  {
   "cell_type": "markdown",
   "id": "e45eb5e8",
   "metadata": {},
   "source": [
    "* 문자열\n",
    "\n",
    "  - 파이썬에서 문자열은 작은따옴표나 큰따옴표로 묶습니다.\n",
    "  - 'hello' 는 \"hello\" 와 같습니다.\n",
    "  - 다음 print() 함수를 사용하여 문자열 리터럴을 표시할 수 있습니다."
   ]
  },
  {
   "cell_type": "code",
   "execution_count": 80,
   "id": "4feb361c",
   "metadata": {},
   "outputs": [
    {
     "name": "stdout",
     "output_type": "stream",
     "text": [
      "Hello\n",
      "Hello\n"
     ]
    }
   ],
   "source": [
    "print(\"Hello\")\n",
    "print('Hello')"
   ]
  },
  {
   "cell_type": "markdown",
   "id": "8d54c6c6",
   "metadata": {},
   "source": [
    "* 인용문 안의 인용문\n",
    "\n",
    "   - 문자열을 둘러싼 따옴표와 일치하지 않는 한 문자열 내부에 따옴표를 사용할 수 있습니다."
   ]
  },
  {
   "cell_type": "code",
   "execution_count": 81,
   "id": "ad1ad7af",
   "metadata": {},
   "outputs": [
    {
     "name": "stdout",
     "output_type": "stream",
     "text": [
      "It's alright\n",
      "He is called 'Johnny'\n",
      "He is called \"Johnny\"\n"
     ]
    }
   ],
   "source": [
    "print(\"It's alright\")\n",
    "print(\"He is called 'Johnny'\")\n",
    "print('He is called \"Johnny\"')"
   ]
  },
  {
   "cell_type": "markdown",
   "id": "9b9b4895",
   "metadata": {},
   "source": [
    "* 변수에 문자열 할당\n",
    "\n",
    "  - 변수에 문자열을 할당하려면 변수 이름 뒤에 등호와 문자열을 입력합니다."
   ]
  },
  {
   "cell_type": "code",
   "execution_count": 82,
   "id": "40f1b3b8",
   "metadata": {},
   "outputs": [
    {
     "name": "stdout",
     "output_type": "stream",
     "text": [
      "Hello\n"
     ]
    }
   ],
   "source": [
    "a = \"Hello\"\n",
    "print(a)"
   ]
  },
  {
   "cell_type": "markdown",
   "id": "1c6c4645",
   "metadata": {},
   "source": [
    "* 다중줄 문자열\n",
    "\n",
    "  - 세 개의 따옴표를 사용하여 여러 줄의 문자열을 변수에 할당할 수 있습니다.\n",
    "  - 참고: 결과적으로 줄 바꿈은 코드와 같은 위치에 삽입됩니다."
   ]
  },
  {
   "cell_type": "code",
   "execution_count": 83,
   "id": "6f477e7c",
   "metadata": {},
   "outputs": [
    {
     "name": "stdout",
     "output_type": "stream",
     "text": [
      "Lorem ipsum dolor sit amet,\n",
      "consectetur adipiscing elit,\n",
      "sed do eiusmod tempor incididunt\n",
      "ut labore et dolore magna aliqua.\n"
     ]
    }
   ],
   "source": [
    "a = \"\"\"Lorem ipsum dolor sit amet,\n",
    "consectetur adipiscing elit,\n",
    "sed do eiusmod tempor incididunt\n",
    "ut labore et dolore magna aliqua.\"\"\"\n",
    "print(a)"
   ]
  },
  {
   "cell_type": "code",
   "execution_count": null,
   "id": "27f6782b",
   "metadata": {},
   "outputs": [
    {
     "name": "stdout",
     "output_type": "stream",
     "text": [
      "Lorem ipsum dolor sit amet,\n",
      "consectetur adipiscing elit,\n",
      "sed do eiusmod tempor incididunt\n",
      "ut labore et dolore magna aliqua.\n"
     ]
    }
   ],
   "source": [
    "# 또는 작은따옴표 세 개\n",
    "a = '''Lorem ipsum dolor sit amet,\n",
    "consectetur adipiscing elit,\n",
    "sed do eiusmod tempor incididunt\n",
    "ut labore et dolore magna aliqua.'''\n",
    "print(a)"
   ]
  },
  {
   "cell_type": "markdown",
   "id": "7fd6d8ce",
   "metadata": {},
   "source": [
    "- 문자열은 배열입니다.\n",
    "- 다른 많은 인기 프로그래밍 언어와 마찬가지로 Python의 문자열은 유니코드 문자의 배열입니다.\n",
    "- 하지만 파이썬에는 문자 데이터 유형이 없습니다. 단일 문자는 길이가 1인 문자열일 뿐입니다.\n",
    "- 대괄호를 사용하여 문자열의 요소에 접근할 수 있습니다."
   ]
  },
  {
   "cell_type": "code",
   "execution_count": 85,
   "id": "1bf0b364",
   "metadata": {},
   "outputs": [
    {
     "name": "stdout",
     "output_type": "stream",
     "text": [
      "e\n"
     ]
    }
   ],
   "source": [
    "# 위치 1에 있는 문자를 가져옵니다(첫 번째 문자는 위치 0에 있다는 것을 기억하세요)\n",
    "a = \"Hello, World!\"\n",
    "print(a[1])"
   ]
  },
  {
   "cell_type": "markdown",
   "id": "c4e70c6f",
   "metadata": {},
   "source": [
    "* 문자열 반복\n",
    "\n",
    "  - 문자열은 배열이므로 for루프를 사용하여 문자열의 문자를 반복할 수 있습니다."
   ]
  },
  {
   "cell_type": "code",
   "execution_count": 1,
   "id": "b600bd03",
   "metadata": {},
   "outputs": [
    {
     "name": "stdout",
     "output_type": "stream",
     "text": [
      "b\n",
      "a\n",
      "n\n",
      "a\n",
      "n\n",
      "a\n"
     ]
    }
   ],
   "source": [
    "# \"banana\"라는 단어의 글자를 반복하세요:\n",
    "for x in \"banana\":\n",
    "    print(x)"
   ]
  },
  {
   "cell_type": "markdown",
   "id": "667d1d20",
   "metadata": {},
   "source": [
    "* 문자열 길이\n",
    "\n",
    "  - 문자열의 길이를 구하려면 len()함수를 사용하세요."
   ]
  },
  {
   "cell_type": "code",
   "execution_count": 2,
   "id": "6f8110cc",
   "metadata": {},
   "outputs": [
    {
     "name": "stdout",
     "output_type": "stream",
     "text": [
      "13\n"
     ]
    }
   ],
   "source": [
    "a = \"Hello, World!\"\n",
    "print(len(a))"
   ]
  },
  {
   "cell_type": "markdown",
   "id": "03f53401",
   "metadata": {},
   "source": [
    "* 문자열 확인\n",
    "\n",
    "  - 문자열에 특정 구문이나 문자가 있는지 확인하려면 in 키워드를 사용할 수 있습니다."
   ]
  },
  {
   "cell_type": "code",
   "execution_count": 3,
   "id": "bd38a2e6",
   "metadata": {},
   "outputs": [
    {
     "name": "stdout",
     "output_type": "stream",
     "text": [
      "True\n"
     ]
    }
   ],
   "source": [
    "# 다음 텍스트에 \"무료\"가 있는지 확인하세요.\n",
    "txt = \"The best things in life are free!\"\n",
    "print(\"free\" in txt)"
   ]
  },
  {
   "cell_type": "code",
   "execution_count": 4,
   "id": "c3ff7e24",
   "metadata": {},
   "outputs": [
    {
     "name": "stdout",
     "output_type": "stream",
     "text": [
      "Yes, 'free' is present.\n"
     ]
    }
   ],
   "source": [
    "# 다음과 같은 문장에서 if 를 사용하세요.\n",
    "# \"free\"가 있는 경우에만 인쇄합니다.\n",
    "txt = \"The best things in life are free!\"\n",
    "if \"free\" in txt:\n",
    "    print(\"Yes, 'free' is present.\")"
   ]
  },
  {
   "cell_type": "code",
   "execution_count": 5,
   "id": "255441ad",
   "metadata": {},
   "outputs": [
    {
     "name": "stdout",
     "output_type": "stream",
     "text": [
      "True\n"
     ]
    }
   ],
   "source": [
    "# 아닌 경우 체크하세요\n",
    "# 문자열에 특정 구문이나 문자가 존재하지 않는지 확인하려면 not in 키워드를 사용할 수 있습니다.\n",
    "\n",
    "# 다음 텍스트에 \"expensive\"가 없는지 확인하세요\n",
    "txt = \"The best things in life are free!\"\n",
    "print(\"expensive\" not in txt)"
   ]
  },
  {
   "cell_type": "code",
   "execution_count": 6,
   "id": "ff9d7610",
   "metadata": {},
   "outputs": [
    {
     "name": "stdout",
     "output_type": "stream",
     "text": [
      "No, 'expensive' is NOT present.\n"
     ]
    }
   ],
   "source": [
    "# 다음과 같은 문장에서 if 사용하세요.\n",
    "# \"expensive\"가 존재하지 않는 경우에만 인쇄합니다.\n",
    "txt = \"The best things in life are free!\"\n",
    "if \"extensive\" not in txt:\n",
    "    print(\"No, 'expensive' is NOT present.\")"
   ]
  },
  {
   "cell_type": "markdown",
   "id": "26fd7d0a",
   "metadata": {},
   "source": [
    "* 파이썬 - 문자열 슬라이싱\n",
    "  \n",
    "   - 슬라이스 구문을 사용하면 다양한 문자를 반환할 수 있습니다.\n",
    "   - 문자열의 일부를 반환하려면 콜론으로 구분하여 시작 인덱스와 끝 인덱스를 지정합니다."
   ]
  },
  {
   "cell_type": "code",
   "execution_count": 10,
   "id": "d491308e",
   "metadata": {},
   "outputs": [
    {
     "name": "stdout",
     "output_type": "stream",
     "text": [
      "llo\n",
      "l\n",
      ",\n"
     ]
    }
   ],
   "source": [
    "# 2부터 5까지의 문자를 가져옵니다(포함되지 않음).\n",
    "# 참고: 첫 번째 문자의 인덱스는 0입니다.\n",
    "b = \"Hello, World!\"\n",
    "print(b[2:5])\n",
    "print(b[2])\n",
    "print(b[5])"
   ]
  },
  {
   "cell_type": "code",
   "execution_count": 8,
   "id": "57a3f812",
   "metadata": {},
   "outputs": [
    {
     "name": "stdout",
     "output_type": "stream",
     "text": [
      "Hello\n"
     ]
    }
   ],
   "source": [
    "# 처음부터 5번째 위치까지의 문자를 가져옵니다(포함되지 않음).\n",
    "b = \"Hello, World!\"\n",
    "print(b[:5])"
   ]
  },
  {
   "cell_type": "code",
   "execution_count": 11,
   "id": "cfac8d02",
   "metadata": {},
   "outputs": [
    {
     "name": "stdout",
     "output_type": "stream",
     "text": [
      "llo, World!\n"
     ]
    }
   ],
   "source": [
    "# 끝까지 슬라이스\n",
    "# 끝 인덱스를 생략하면 범위가 끝까지 이동합니다.\n",
    "\n",
    "# 2번째 위치부터 끝까지 문자를 가져옵니다.\n",
    "b = \"Hello, World!\"\n",
    "print(b[2:])"
   ]
  },
  {
   "cell_type": "code",
   "execution_count": 14,
   "id": "e1a90702",
   "metadata": {},
   "outputs": [
    {
     "name": "stdout",
     "output_type": "stream",
     "text": [
      "orl\n"
     ]
    }
   ],
   "source": [
    "# 음수 인덱싱\n",
    "# 문자열의 끝에서 슬라이스를 시작하려면 음수 인덱스를 사용합니다.\n",
    "\n",
    "# 캐릭터를 얻으세요.\n",
    "# 출처: \"World!\"의 \"o\" (위치 -5)\n",
    "# (단, 포함되지 않음: \"World!\"의 \"d\" (위치 -2)\n",
    "\n",
    "b = \"Hello, World!\"\n",
    "print(b[-5:-2])\n"
   ]
  },
  {
   "cell_type": "markdown",
   "id": "eff438d2",
   "metadata": {},
   "source": [
    "* 문자열 수정\n",
    "\n",
    "  - Python에는 문자열에 사용할 수 있는 내장 메서드 세트가 있습니다."
   ]
  },
  {
   "cell_type": "code",
   "execution_count": 16,
   "id": "b89fd20e",
   "metadata": {},
   "outputs": [
    {
     "name": "stdout",
     "output_type": "stream",
     "text": [
      "HELLO, WORLD!\n"
     ]
    }
   ],
   "source": [
    "# upper()메서드는 문자열을 대문자로 반환합니다.\n",
    "a = \"Hello, World!\"\n",
    "print(a.upper())"
   ]
  },
  {
   "cell_type": "code",
   "execution_count": 17,
   "id": "10bfc774",
   "metadata": {},
   "outputs": [
    {
     "name": "stdout",
     "output_type": "stream",
     "text": [
      "hello, world!\n"
     ]
    }
   ],
   "source": [
    "# lower()메서드는 문자열을 소문자로 반환합니다.\n",
    "a = \"Hello, World!\"\n",
    "print(a.lower())"
   ]
  },
  {
   "cell_type": "markdown",
   "id": "7331fd56",
   "metadata": {},
   "source": [
    "- 공백 제거\n",
    "- 공백은 실제 텍스트 앞이나 뒤에 있는 공백이며, 이 공백을 제거하고 싶은 경우가 많습니다."
   ]
  },
  {
   "cell_type": "code",
   "execution_count": 18,
   "id": "08532043",
   "metadata": {},
   "outputs": [
    {
     "name": "stdout",
     "output_type": "stream",
     "text": [
      "Hello, World!\n"
     ]
    }
   ],
   "source": [
    "# strip()방법은 시작이나 끝의 공백을 제거합니다.\n",
    "a = \" Hello, World! \"\n",
    "print(a.strip())"
   ]
  },
  {
   "cell_type": "code",
   "execution_count": 19,
   "id": "5c07860a",
   "metadata": {},
   "outputs": [
    {
     "name": "stdout",
     "output_type": "stream",
     "text": [
      "Jello, World!\n"
     ]
    }
   ],
   "source": [
    "# 문자열 바꾸기\n",
    "# replace()메서드는 문자열을 다른 문자열로 바꿉니다.\n",
    "a = \"Hello, World!\"\n",
    "print(a.replace(\"H\", \"J\"))"
   ]
  },
  {
   "cell_type": "markdown",
   "id": "01de4aec",
   "metadata": {},
   "source": [
    "- 분할 문자열\n",
    "  - split()메서드는 지정된 구분 기호 사이의 텍스트가 목록 항목이 되는 목록을 반환합니다."
   ]
  },
  {
   "cell_type": "code",
   "execution_count": 20,
   "id": "4bb7ed40",
   "metadata": {},
   "outputs": [
    {
     "name": "stdout",
     "output_type": "stream",
     "text": [
      "['Hello', ' World!']\n"
     ]
    }
   ],
   "source": [
    "# split()메서드는 구분 기호 인스턴스를 찾으면 문자열을 하위 문자열로 분할합니다.\n",
    "a = \"Hello, World!\"\n",
    "print(a.split(\",\"))"
   ]
  },
  {
   "cell_type": "markdown",
   "id": "db7654ab",
   "metadata": {},
   "source": [
    "- 문자열 연결\n",
    "    - 두 개의 문자열을 연결하거나 결합하려면 + 연산자를 사용하면 됩니다."
   ]
  },
  {
   "cell_type": "code",
   "execution_count": 23,
   "id": "fbabbfbe",
   "metadata": {},
   "outputs": [
    {
     "name": "stdout",
     "output_type": "stream",
     "text": [
      "HelloWorld\n"
     ]
    }
   ],
   "source": [
    "# 그 사이에 공백을 추가하려면 \" \"를 추가하세요.\n",
    "a = \"Hello\"\n",
    "b = \"World\"\n",
    "c = a + b\n",
    "print(c)"
   ]
  },
  {
   "cell_type": "code",
   "execution_count": 24,
   "id": "08d8610c",
   "metadata": {},
   "outputs": [
    {
     "name": "stdout",
     "output_type": "stream",
     "text": [
      "Hello  World\n"
     ]
    }
   ],
   "source": [
    "# 변수 a와 변수 b를 변수 c로 병합합니다.\n",
    "a = \"Hello\"\n",
    "b = \"World\"\n",
    "c = a + \"  \" + b\n",
    "print(c)"
   ]
  },
  {
   "cell_type": "markdown",
   "id": "8675955b",
   "metadata": {},
   "source": [
    "- 문자열 형식\n",
    "  - Python 변수 장에서 배웠듯이 문자열과 숫자를 다음과 같이 결합할 수 없습니다."
   ]
  },
  {
   "cell_type": "code",
   "execution_count": 25,
   "id": "eb80edb6",
   "metadata": {},
   "outputs": [
    {
     "ename": "TypeError",
     "evalue": "can only concatenate str (not \"int\") to str",
     "output_type": "error",
     "traceback": [
      "\u001b[31m---------------------------------------------------------------------------\u001b[39m",
      "\u001b[31mTypeError\u001b[39m                                 Traceback (most recent call last)",
      "\u001b[36mCell\u001b[39m\u001b[36m \u001b[39m\u001b[32mIn[25]\u001b[39m\u001b[32m, line 3\u001b[39m\n\u001b[32m      1\u001b[39m age = \u001b[32m36\u001b[39m\n\u001b[32m      2\u001b[39m \u001b[38;5;66;03m#This will produce an error:\u001b[39;00m\n\u001b[32m----> \u001b[39m\u001b[32m3\u001b[39m txt = \u001b[33;43m\"\u001b[39;49m\u001b[33;43mMy name is John, I am \u001b[39;49m\u001b[33;43m\"\u001b[39;49m\u001b[43m \u001b[49m\u001b[43m+\u001b[49m\u001b[43m \u001b[49m\u001b[43mage\u001b[49m\n\u001b[32m      4\u001b[39m \u001b[38;5;28mprint\u001b[39m(txt)\n",
      "\u001b[31mTypeError\u001b[39m: can only concatenate str (not \"int\") to str"
     ]
    }
   ],
   "source": [
    "age = 36\n",
    "#This will produce an error:\n",
    "txt = \"My name is John, I am \" + age\n",
    "print(txt)"
   ]
  },
  {
   "cell_type": "code",
   "execution_count": 27,
   "id": "a807fd5f",
   "metadata": {},
   "outputs": [
    {
     "name": "stdout",
     "output_type": "stream",
     "text": [
      "My name is John, I am 36\n"
     ]
    }
   ],
   "source": [
    "# 하지만 f-string이나 format() 메서드를 사용하면 문자열과 숫자를 결합할 수 있습니다.\n",
    "age = 36\n",
    "name = \"John\"\n",
    "print(\"My name is {}, I am {}\".format(name, age))"
   ]
  },
  {
   "cell_type": "markdown",
   "id": "d90673b8",
   "metadata": {},
   "source": [
    "- F-String\n",
    "  - F-String은 Python 3.6에서 도입되었으며, 현재는 문자열을 포맷하는 데 선호되는 방법입니다.\n",
    "  - 문자열을 f-문자열로 지정하려면 f문자열 리터럴 앞에 을 넣고 {}변수와 다른 연산에 대한 자리 표시자로 중괄호를 추가하기만 하면 됩니다."
   ]
  },
  {
   "cell_type": "code",
   "execution_count": 29,
   "id": "35055844",
   "metadata": {},
   "outputs": [
    {
     "name": "stdout",
     "output_type": "stream",
     "text": [
      "My name is John, I am 36\n"
     ]
    }
   ],
   "source": [
    "# F-String 문자열을 만듭니다.\n",
    "age = 36\n",
    "txt = f\"My name is John, I am {age}\"\n",
    "print(txt)"
   ]
  },
  {
   "cell_type": "markdown",
   "id": "2e7fea52",
   "metadata": {},
   "source": [
    "- 플레이스홀더와 수정자\n",
    "  - 플레이스홀더에는 값을 형식화하기 위한 변수, 연산, 함수 및 수정자가 포함될 수 있습니다."
   ]
  },
  {
   "cell_type": "code",
   "execution_count": 32,
   "id": "ba70c2f1",
   "metadata": {},
   "outputs": [
    {
     "name": "stdout",
     "output_type": "stream",
     "text": [
      "The price is 59 dollars\n"
     ]
    }
   ],
   "source": [
    "# 변수 price 에 대한 플레이스홀더를 추가합니다.\n",
    "price = 59\n",
    "txt = f\"The price is {price} dollars\"\n",
    "print(txt)"
   ]
  },
  {
   "cell_type": "code",
   "execution_count": 34,
   "id": "ec53e2cf",
   "metadata": {},
   "outputs": [
    {
     "name": "stdout",
     "output_type": "stream",
     "text": [
      "The price is 29.00 dollars\n"
     ]
    }
   ],
   "source": [
    "# 플레이스홀더에는 값의 형식을 지정하는 수정자가 포함될 수 있습니다.\n",
    "# 수정자는 콜론을 추가하고 :그 뒤에 합법적인 서식 유형을 지정하여 포함됩니다. 즉, .2f소수점 이하 두 자리로 이루어진 고정 소수점 숫자를 의미합니다.\n",
    "\n",
    "# 소수점 이하 2자리까지 가격을 표시하세요.\n",
    "price = 29\n",
    "txt = f\"The price is {price:.2f} dollars\"\n",
    "print(txt)"
   ]
  },
  {
   "cell_type": "code",
   "execution_count": 35,
   "id": "87e4e8a6",
   "metadata": {},
   "outputs": [
    {
     "name": "stdout",
     "output_type": "stream",
     "text": [
      "The price is 1180 dollars\n"
     ]
    }
   ],
   "source": [
    "# 플레이스홀더에서 수학 연산을 수행하고 결과를 반환합니다.\n",
    "txt = f\"The price is {20 * 59} dollars\"\n",
    "print(txt)"
   ]
  },
  {
   "cell_type": "markdown",
   "id": "6f9f0edb",
   "metadata": {},
   "source": [
    "* 파이썬 - 이스케이프 문자\n",
    "\n",
    "  - 이스케이프 문자\n",
    "    - 문자열에 허용되지 않는 문자를 삽입하려면 이스케이프 문자를 사용하세요.\n",
    "    - 이스케이프 문자는 백슬래시 \\뒤에 삽입하려는 문자를 입력하는 것입니다.\n",
    "    - 불법 문자의 예로는 큰따옴표로 둘러싸인 문자열 내부의 큰따옴표가 있습니다."
   ]
  },
  {
   "cell_type": "code",
   "execution_count": 37,
   "id": "8b00a902",
   "metadata": {},
   "outputs": [
    {
     "ename": "SyntaxError",
     "evalue": "invalid syntax (1597675808.py, line 2)",
     "output_type": "error",
     "traceback": [
      "  \u001b[36mCell\u001b[39m\u001b[36m \u001b[39m\u001b[32mIn[37]\u001b[39m\u001b[32m, line 2\u001b[39m\n\u001b[31m    \u001b[39m\u001b[31mtxt = \"We are the so-called \"Vikings\" from the north.\"\u001b[39m\n                                 ^\n\u001b[31mSyntaxError\u001b[39m\u001b[31m:\u001b[39m invalid syntax\n"
     ]
    }
   ],
   "source": [
    "# 큰따옴표로 둘러싸인 문자열 안에 큰따옴표를 사용하면 오류가 발생합니다.\n",
    "txt = \"We are the so-called \"Vikings\" from the north.\""
   ]
  },
  {
   "cell_type": "code",
   "execution_count": null,
   "id": "d8c317bf",
   "metadata": {},
   "outputs": [],
   "source": [
    "# 문제를 해결하려면 이스케이프 문자를 사용하세요.\n",
    "# 이스케이프 문자를 사용하면 일반적으로 허용되지 않는 큰따옴표를 사용할 수 있습니다.\n",
    "\n",
    "txt = \"We are the so-called \\\"Vikings\\\" from the north.\""
   ]
  },
  {
   "cell_type": "code",
   "execution_count": null,
   "id": "d983aa2d",
   "metadata": {},
   "outputs": [
    {
     "name": "stdout",
     "output_type": "stream",
     "text": [
      "It's alright.\n",
      "This will insert one \\ (backslash).\n",
      "Hello\n",
      "World!\n",
      "World!\n",
      "Hello\tWorld!\n",
      "HelloWorld!\n",
      "Hello\n",
      "Hello\n"
     ]
    }
   ],
   "source": [
    "txt = 'It\\'s alright.'\n",
    "print(txt)\n",
    "\n",
    "txt = \"This will insert one \\\\ (backslash).\"\n",
    "print(txt)\n",
    "\n",
    "txt = \"Hello\\nWorld!\"\n",
    "print(txt)\n",
    "\n",
    "txt = \"Hello\\rWorld!\"\n",
    "print(txt)\n",
    "\n",
    "txt = \"Hello\\tWorld!\"\n",
    "print(txt) \n",
    "\n",
    "# 이 예제에서는 한 문자(백스페이스)를 지웁니다.\n",
    "txt = \"Hello \\bWorld!\"\n",
    "print(txt) \n",
    "\n",
    "# 백슬래시 뒤에 정수 3개를 입력하면 8진수 값이 반환됩니다.\n",
    "txt = \"\\110\\145\\154\\154\\157\"\n",
    "print(txt)\n",
    "\n",
    "# 백슬래시 뒤에 'x'와 16진수를 입력하면 16진수 값이 나타납니다.\n",
    "txt = \"\\x48\\x65\\x6c\\x6c\\x6f\"\n",
    "print(txt)"
   ]
  },
  {
   "cell_type": "markdown",
   "id": "7266c102",
   "metadata": {},
   "source": [
    "* 문자열 메서드\n",
    "\n",
    "  - Python에는 문자열에 사용할 수 있는 내장 메서드 세트가 있습니다.\n",
    "  - 참고: 모든 문자열 메서드는 새 값을 반환합니다. 원본 문자열은 변경되지 않습니다.\n",
    "  - https://www.w3schools.com/python/python_strings_methods.asp"
   ]
  },
  {
   "cell_type": "markdown",
   "id": "88f80242",
   "metadata": {},
   "source": [
    "* 파이썬 Booleans\n",
    "  \n",
    "   - 부울은 True 또는 False 두 값 중 하나를 나타냅니다.\n",
    "   - 프로그래밍에서는 표현식이 참인지 거짓인지 알아야 하는 경우가 많습니다.\n",
    "   - Python에서는 모든 표현식을 평가하여 참 또는 거짓, 두 가지 결과 중 하나를 얻을 수 있습니다.\n",
    "   - 두 값을 비교하면 표현식이 평가되고 Python은 부울 값을 반환합니다."
   ]
  },
  {
   "cell_type": "code",
   "execution_count": 45,
   "id": "39b1a127",
   "metadata": {},
   "outputs": [
    {
     "name": "stdout",
     "output_type": "stream",
     "text": [
      "True\n",
      "False\n",
      "False\n"
     ]
    }
   ],
   "source": [
    "print(10 > 9)\n",
    "print(10 == 9)\n",
    "print(10 < 9)"
   ]
  },
  {
   "cell_type": "code",
   "execution_count": 49,
   "id": "1797515b",
   "metadata": {},
   "outputs": [
    {
     "name": "stdout",
     "output_type": "stream",
     "text": [
      "b is not greater than a\n"
     ]
    }
   ],
   "source": [
    "# if 문에서 조건을 실행하면 Python은 True 또는 False를 반환합니다.\n",
    "\n",
    "# 조건이 참인지 거짓인지에 따라 메시지를 표시합니다.\n",
    "a = 200\n",
    "b = 33\n",
    "\n",
    "if b > a:\n",
    "    print(\"b is greater than a\")\n",
    "else:\n",
    "    print(\"b is not greater than a\")"
   ]
  },
  {
   "cell_type": "markdown",
   "id": "3aa813f3",
   "metadata": {},
   "source": [
    "- 값 및 변수 평가\n",
    "  - bool() 함수를 사용하면 모든 값을 평가하여 True 또는 False 값을 반환할 수 있습니다."
   ]
  },
  {
   "cell_type": "code",
   "execution_count": 50,
   "id": "8fa7af5e",
   "metadata": {},
   "outputs": [
    {
     "name": "stdout",
     "output_type": "stream",
     "text": [
      "True\n",
      "True\n"
     ]
    }
   ],
   "source": [
    "# 문자열과 숫자를 평가합니다.\n",
    "print(bool(\"Hello\"))\n",
    "print(bool(15))"
   ]
  },
  {
   "cell_type": "code",
   "execution_count": 51,
   "id": "4f0393f6",
   "metadata": {},
   "outputs": [
    {
     "name": "stdout",
     "output_type": "stream",
     "text": [
      "True\n",
      "True\n"
     ]
    }
   ],
   "source": [
    "# 두 가지 변수를 평가합니다.\n",
    "x = \"Hello\"\n",
    "y = 15\n",
    "\n",
    "print(bool(x))\n",
    "print(bool(y))"
   ]
  },
  {
   "cell_type": "markdown",
   "id": "74d74f74",
   "metadata": {},
   "source": [
    "- 대부분의 값은 참입니다.\n",
    "- 어떤 종류의 내용이 있으면 거의 모든 값은 참으로 평가됩니다.\n",
    "- 빈 문자열을 제외한 모든 문자열은 참입니다.\n",
    "- 0을 제외한 모든 숫자는 참입니다.\n",
    "- 빈 문자열을 제외한 모든 목록, 튜플, 집합, 딕셔너리는 참입니다."
   ]
  },
  {
   "cell_type": "code",
   "execution_count": 52,
   "id": "ec61d0c2",
   "metadata": {},
   "outputs": [
    {
     "data": {
      "text/plain": [
       "True"
      ]
     },
     "execution_count": 52,
     "metadata": {},
     "output_type": "execute_result"
    }
   ],
   "source": [
    "# 다음은 True를 반환합니다.\n",
    "bool(\"abc\")\n",
    "bool(123)\n",
    "bool([\"apple\", \"cherry\", \"banana\"])"
   ]
  },
  {
   "cell_type": "code",
   "execution_count": 55,
   "id": "4c3d4e9e",
   "metadata": {},
   "outputs": [
    {
     "data": {
      "text/plain": [
       "False"
      ]
     },
     "execution_count": 55,
     "metadata": {},
     "output_type": "execute_result"
    }
   ],
   "source": [
    "# 일부 값은 False입니다.\n",
    "# 실제로 (), [], {}, \"\", 숫자 0, None과 같은 빈 값을 제외하고는 False로 평가되는 값은 많지 않습니다. 물론 False 값은 False로 평가됩니다.\n",
    "\n",
    "# 다음은 False를 반환합니다.\n",
    "bool(False)\n",
    "bool(None)\n",
    "bool(0)\n",
    "bool(\"\")\n",
    "bool(())\n",
    "bool([])\n",
    "bool({})"
   ]
  },
  {
   "cell_type": "code",
   "execution_count": 61,
   "id": "47138f59",
   "metadata": {},
   "outputs": [
    {
     "name": "stdout",
     "output_type": "stream",
     "text": [
      "False\n"
     ]
    }
   ],
   "source": [
    "# 이 경우 또 다른 값 또는 객체는 False로 평가되며, __len__ 함수가 0 또는 False를 반환하는 클래스에서 만들어진 객체가 있는 경우입니다.\n",
    "class myclass():\n",
    "    def __len__(self):\n",
    "        return 0\n",
    "\n",
    "myobj = myclass()\n",
    "print(bool(myobj))"
   ]
  },
  {
   "cell_type": "code",
   "execution_count": 63,
   "id": "684e65e2",
   "metadata": {},
   "outputs": [
    {
     "name": "stdout",
     "output_type": "stream",
     "text": [
      "True\n"
     ]
    }
   ],
   "source": [
    "# 함수는 부울 값을 반환할 수 있습니다.\n",
    "# 부울 값을 반환하는 함수를 만들 수 있습니다.\n",
    "\n",
    "def myFunction():\n",
    "    return True\n",
    "\n",
    "print(myFunction())"
   ]
  },
  {
   "cell_type": "code",
   "execution_count": 64,
   "id": "d26d6690",
   "metadata": {},
   "outputs": [
    {
     "name": "stdout",
     "output_type": "stream",
     "text": [
      "YES!\n"
     ]
    }
   ],
   "source": [
    "# 함수의 부울 답변을 기반으로 코드를 실행할 수 있습니다.\n",
    "\n",
    "# 함수가 True를 반환하면 \"YES!\"를 출력하고, 그렇지 않으면 \"NO!\"를 출력합니다.\n",
    "def myFunction():\n",
    "    return True\n",
    "\n",
    "if myFunction():\n",
    "    print(\"YES!\")\n",
    "else:\n",
    "    print(\"NO!\")"
   ]
  },
  {
   "cell_type": "code",
   "execution_count": 66,
   "id": "dc45d1b2",
   "metadata": {},
   "outputs": [
    {
     "name": "stdout",
     "output_type": "stream",
     "text": [
      "True\n",
      "False\n"
     ]
    }
   ],
   "source": [
    "# Python에는 isinstance() 함수와 같이 부울 값을 반환하는 많은 내장 함수가 있는데, 이 함수를 사용하면 객체가 특정 데이터 유형인지 확인할 수 있습니다.\n",
    "\n",
    "# 객체가 정수인지 아닌지 확인하세요.\n",
    "x = 200\n",
    "print(isinstance(x, int))\n",
    "print(isinstance(x, str))"
   ]
  },
  {
   "cell_type": "markdown",
   "id": "42b03884",
   "metadata": {},
   "source": [
    "* 파이썬 연산자\n",
    "  \n",
    "    - 연산자는 변수와 값에 대한 연산을 수행하는 데 사용됩니다.\n",
    "    - 아래 예에서 우리는 +연산자를 사용하여 두 값을 더합니다."
   ]
  },
  {
   "cell_type": "code",
   "execution_count": 67,
   "id": "c966bb33",
   "metadata": {},
   "outputs": [
    {
     "name": "stdout",
     "output_type": "stream",
     "text": [
      "15\n"
     ]
    }
   ],
   "source": [
    "print(10 + 5)"
   ]
  },
  {
   "cell_type": "markdown",
   "id": "2ee0316d",
   "metadata": {},
   "source": [
    "- Python은 연산자를 다음 그룹으로 나눕니다.\n",
    "   - 산술 연산자\n",
    "   - 할당 연산자\n",
    "   - 비교 연산자\n",
    "   - 논리 연산자\n",
    "   - 항등 연산자\n",
    "   - 멤버십 운영자\n",
    "   - 비트 연산자"
   ]
  },
  {
   "cell_type": "code",
   "execution_count": 70,
   "id": "94b23e53",
   "metadata": {},
   "outputs": [
    {
     "name": "stdout",
     "output_type": "stream",
     "text": [
      "8\n",
      "2\n",
      "15\n",
      "4.0\n",
      "1\n",
      "32\n",
      "7\n"
     ]
    }
   ],
   "source": [
    "# 산술 연산자\n",
    "# 산술 연산자는 숫자 값과 함께 사용되어 일반적인 수학 연산을 수행합니다.\n",
    "\n",
    "x = 5\n",
    "y = 3\n",
    "print(x + y)\n",
    "\n",
    "x = 5\n",
    "y = 3\n",
    "print(x - y)\n",
    "\n",
    "x = 5\n",
    "y = 3\n",
    "print(x * y)\n",
    "\n",
    "x = 12\n",
    "y = 3\n",
    "print(x / y)\n",
    "\n",
    "x = 5\n",
    "y = 2\n",
    "print(x % y)\n",
    "\n",
    "x = 2\n",
    "y = 5\n",
    "print(x ** y) # 2*2*2*2*2와 동일\n",
    "\n",
    "x = 15\n",
    "y = 2\n",
    "print(x // y) # floor 나누기 // 결과를 가장 가까운 정수로 반올림합니다."
   ]
  },
  {
   "cell_type": "code",
   "execution_count": null,
   "id": "2914f51d",
   "metadata": {},
   "outputs": [
    {
     "name": "stdout",
     "output_type": "stream",
     "text": [
      "5\n",
      "8\n",
      "2\n",
      "15\n",
      "1.6666666666666667\n",
      "2\n",
      "1\n",
      "125\n",
      "1\n",
      "7\n",
      "6\n",
      "0\n",
      "40\n",
      "3\n"
     ]
    }
   ],
   "source": [
    "# 할당 연산자\n",
    "# 할당 연산자는 변수에 값을 할당하는 데 사용됩니다.\n",
    "# 할당 연산자는 '변수에 값을 저장'하거나, \n",
    "# 기존 값에 연산을 적용한 뒤 그 결과를 다시 변수에 저장하는 역할을 합니다.\n",
    "# 예: x += 3  →  x = x + 3 과 동일한 의미\n",
    "\n",
    "# -------------------------------\n",
    "# 1. 기본 할당 (=)\n",
    "# -------------------------------\n",
    "x = 5               # x에 숫자 5를 저장 (기본적인 할당)\n",
    "print(x)            # 출력: 5\n",
    "\n",
    "# -------------------------------\n",
    "# 2. 덧셈 후 할당 (+=)\n",
    "# -------------------------------\n",
    "x = 5               # x를 다시 5로 초기화\n",
    "x += 3              # x = x + 3 → 5 + 3 = 8\n",
    "print(x)            # 출력: 8\n",
    "\n",
    "# -------------------------------\n",
    "# 3. 뺄셈 후 할당 (-=)\n",
    "# -------------------------------\n",
    "x = 5\n",
    "x -= 3              # x = x - 3 → 5 - 3 = 2\n",
    "print(x)            # 출력: 2\n",
    "\n",
    "# -------------------------------\n",
    "# 4. 곱셈 후 할당 (*=)\n",
    "# -------------------------------\n",
    "x = 5\n",
    "x *= 3              # x = x * 3 → 5 * 3 = 15\n",
    "print(x)            # 출력: 15\n",
    "\n",
    "# -------------------------------\n",
    "# 5. 나눗셈 후 할당 (/=)\n",
    "# -------------------------------\n",
    "x = 5\n",
    "x /= 3              # x = x / 3 → 5 ÷ 3 = 1.6666...\n",
    "# 주의: '/'는 항상 float(실수형) 결과를 반환합니다.\n",
    "print(x)            # 출력: 1.6666666666666667\n",
    "\n",
    "# -------------------------------\n",
    "# 6. 나머지 후 할당 (%=)\n",
    "# -------------------------------\n",
    "x = 5\n",
    "x %= 3              # x = x % 3 → 5를 3으로 나눈 나머지 = 2\n",
    "print(x)            # 출력: 2\n",
    "\n",
    "# -------------------------------\n",
    "# 7. 몫 후 할당 (//=)\n",
    "# -------------------------------\n",
    "x = 5\n",
    "x //= 3             # x = x // 3 → 5 ÷ 3의 몫 = 1\n",
    "# '//'는 정수 나눗셈 (소수점 버림)\n",
    "print(x)            # 출력: 1\n",
    "\n",
    "# -------------------------------\n",
    "# 8. 제곱 후 할당 (**=)\n",
    "# -------------------------------\n",
    "x = 5\n",
    "x **= 3             # x = x ** 3 → 5³ = 125\n",
    "# '**'는 제곱(거듭제곱) 연산자입니다.\n",
    "print(x)            # 출력: 125\n",
    "\n",
    "# -------------------------------\n",
    "# 9. 비트 AND 후 할당 (&=)\n",
    "# -------------------------------\n",
    "x = 5               # 5 = 0b0101 (2진수)\n",
    "x &= 3              # 3 = 0b0011\n",
    "# AND 연산: 0101 & 0011 → 0001 (십진수 1)\n",
    "print(x)            # 출력: 1\n",
    "\n",
    "# -------------------------------\n",
    "# 10. 비트 OR 후 할당 (|=)\n",
    "# -------------------------------\n",
    "x = 5               # 0b0101\n",
    "x |= 3              # 0b0011\n",
    "# OR 연산: 0101 | 0011 → 0111 (십진수 7)\n",
    "print(x)            # 출력: 7\n",
    "\n",
    "# -------------------------------\n",
    "# 11. 비트 XOR 후 할당 (^=)\n",
    "# -------------------------------\n",
    "x = 5               # 0b0101\n",
    "x ^= 3              # 0b0011\n",
    "# XOR 연산: 0101 ^ 0011 → 0110 (십진수 6)\n",
    "# XOR은 서로 다를 때만 1을 반환합니다.\n",
    "print(x)            # 출력: 6\n",
    "\n",
    "# -------------------------------\n",
    "# 12. 비트 오른쪽 시프트 후 할당 (>>=)\n",
    "# -------------------------------\n",
    "x = 5               # 0b0101\n",
    "x >>= 3             # 오른쪽으로 3비트 이동 → 0000 (십진수 0)\n",
    "# 오른쪽 시프트는 2의 n제곱으로 나누는 효과가 있습니다.\n",
    "# 즉, 5 >> 3 은 5 // 8 과 같습니다.\n",
    "print(x)            # 출력: 0\n",
    "\n",
    "# -------------------------------\n",
    "# 13. 비트 왼쪽 시프트 후 할당 (<<=)\n",
    "# -------------------------------\n",
    "x = 5               # 0b0101\n",
    "x <<= 3             # 왼쪽으로 3비트 이동 → 0101000 (십진수 40)\n",
    "# 왼쪽 시프트는 2의 n제곱을 곱하는 효과가 있습니다.\n",
    "# 즉, 5 << 3 은 5 * 8 과 같습니다.\n",
    "print(x)            # 출력: 40\n",
    "\n",
    "# -------------------------------\n",
    "# 14. 바다코끼리 연산자 (:=)\n",
    "# -------------------------------\n",
    "# 파이썬 3.8 이상에서 도입된 \"할당식\" 연산자입니다.\n",
    "# 표현식 내에서 변수를 동시에 '할당'하고 '사용'할 수 있습니다.\n",
    "# 예시: print(x := 3)는 x에 3을 저장하고, 동시에 3을 출력함.\n",
    "print(x := 3)       # 출력: 3\n",
    "# 위 코드는 내부적으로 아래와 동일:\n",
    "# x = 3\n",
    "# print(x)"
   ]
  },
  {
   "cell_type": "code",
   "execution_count": null,
   "id": "29e4c24d",
   "metadata": {},
   "outputs": [
    {
     "name": "stdout",
     "output_type": "stream",
     "text": [
      "False\n",
      "True\n",
      "True\n",
      "False\n",
      "True\n",
      "False\n"
     ]
    }
   ],
   "source": [
    "# 비교 연산자\n",
    "# 비교 연산자는 두 값을 비교하는 데 사용됩니다.\n",
    "\n",
    "x = 5\n",
    "y = 3\n",
    "print(x == y)\n",
    "\n",
    "x = 5\n",
    "y = 3\n",
    "print(x != y)\n",
    "\n",
    "x = 5\n",
    "y = 3\n",
    "print(x > y)\n",
    "\n",
    "x = 5\n",
    "y = 3\n",
    "print(x < y)\n",
    "\n",
    "x = 5\n",
    "y = 3\n",
    "print(x >= y)\n",
    "\n",
    "x = 5\n",
    "y = 3\n",
    "print(x <= y)"
   ]
  },
  {
   "cell_type": "code",
   "execution_count": 74,
   "id": "430b86df",
   "metadata": {},
   "outputs": [
    {
     "name": "stdout",
     "output_type": "stream",
     "text": [
      "True\n",
      "True\n",
      "False\n"
     ]
    }
   ],
   "source": [
    "# 논리 연산자\n",
    "# 논리 연산자는 조건문을 결합하는 데 사용됩니다.\n",
    "\n",
    "x = 5\n",
    "print(x > 3 and x < 10) # 5가 3보다 크고 5가 10보다 작으므로 True를 반환합니다.\n",
    "\n",
    "x = 5\n",
    "print(x > 3 or x < 4) # 조건 중 하나가 참이기 때문에 True를 반환합니다(5는 3보다 크지만 5는 4보다 작지 않습니다).\n",
    "\n",
    "x = 5\n",
    "print(not(x > 3 and x < 10)) # not은 결과를 반전하는 데 사용되므로 False를 반환합니다."
   ]
  },
  {
   "cell_type": "code",
   "execution_count": 75,
   "id": "231db30c",
   "metadata": {},
   "outputs": [
    {
     "name": "stdout",
     "output_type": "stream",
     "text": [
      "True\n",
      "False\n",
      "True\n",
      "False\n",
      "True\n",
      "False\n"
     ]
    }
   ],
   "source": [
    "# 항등 연산자\n",
    "# 항등 연산자는 객체가 같은지 여부가 아니라 실제로 동일한 객체이고 동일한 메모리 위치를 가지고 있는지 여부를 비교하는 데 사용됩니다.\n",
    "\n",
    "x = [\"apple\", \"banana\"]\n",
    "y = [\"apple\", \"banana\"]\n",
    "z = x\n",
    "print(x is z) # z와 x는 같은 객체이므로 True를 반환합니다.\n",
    "print(x is y) # x와 y는 같은 내용을 가지고 있더라도 같은 객체가 아니므로 False를 반환합니다.\n",
    "print(x == y) # \"is\"와 \"==\"의 차이점을 보여주기 위해: 이 비교는 x와 y가 같으므로 True를 반환합니다.\n",
    "\n",
    "x = [\"apple\", \"banana\"]\n",
    "y = [\"apple\", \"banana\"]\n",
    "z = x\n",
    "print(x is not z) # z와 x는 같은 객체이므로 False를 반환합니다.\n",
    "print(x is not y) # x와 y는 같은 내용을 가지고 있더라도 같은 객체가 아니므로 True를 반환합니다.\n",
    "print(x != y) # \"is not\"과 \"!=\"의 차이점을 보여주기 위해: 이 비교는 x와 y가 같으므로 False를 반환합니다."
   ]
  },
  {
   "cell_type": "code",
   "execution_count": 76,
   "id": "ecdacd64",
   "metadata": {},
   "outputs": [
    {
     "name": "stdout",
     "output_type": "stream",
     "text": [
      "True\n",
      "True\n"
     ]
    }
   ],
   "source": [
    "# 멤버십 연산자\n",
    "# 멤버십 연산자는 객체에 시퀀스가 ​​표현되는지 테스트하는 데 사용됩니다.\n",
    "\n",
    "x = [\"apple\", \"banana\"]\n",
    "print(\"banana\" in x) # \"banana\" 값을 갖는 시퀀스가 ​​목록에 있으므로 True를 반환합니다.\n",
    "\n",
    "x = [\"apple\", \"banana\"]\n",
    "print(\"pineapple\" not in x) # \"pineapple\" 값을 가진 시퀀스가 ​​리스트에 없으므로 True를 반환합니다."
   ]
  },
  {
   "cell_type": "code",
   "execution_count": 83,
   "id": "e4f2d7ec",
   "metadata": {},
   "outputs": [
    {
     "name": "stdout",
     "output_type": "stream",
     "text": [
      "2\n",
      "7\n",
      "5\n",
      "-4\n",
      "12\n",
      "2\n"
     ]
    },
    {
     "data": {
      "text/plain": [
       "'\\n>> 연산자는 각 비트를 지정된 횟수만큼 오른쪽으로 이동합니다. 왼쪽의 빈 공간은 0으로 채워집니다.\\n\\n각 비트를 오른쪽으로 두 번 이동하면 8은 2가 됩니다.\\n8 = 0000000000001000\\n다음이 됩니다.\\n2 = 0000000000000010\\n\\n10진수와 2진수 값:\\n0 = 0000000000000000\\n1 = 0000000000000001\\n2 = 00000000000000010\\n3 = 00000000000000011\\n4 = 00000000000000100\\n5 = 0000000000000101\\n6 = 0000000000000110\\n7 = 00000000000000111\\n8 = 0000000000001000\\n9 = 00000000000001001\\n10 = 0000000000001010\\n11 = 0000000000001011\\n12 = 0000000000001100\\n'"
      ]
     },
     "execution_count": 83,
     "metadata": {},
     "output_type": "execute_result"
    }
   ],
   "source": [
    "# 비트 연산자\n",
    "# 비트 연산자는 (이진) 숫자를 비교하는 데 사용됩니다.\n",
    "\n",
    "print(6 & 3)\n",
    "\"\"\"\n",
    "& 연산자는 각 비트를 비교하여 둘 다 1이면 1로 설정하고, 그렇지 않으면 0으로 설정합니다.\n",
    "\n",
    "6 = 0000000000000110\n",
    "3 = 0000000000000011\n",
    "--------------------\n",
    "2 = 0000000000000010\n",
    "====================\n",
    "\n",
    "10진수와 2진수 값:\n",
    "0 = 0000000000000000\n",
    "1 = 0000000000000001\n",
    "2 = 00000000000000010\n",
    "3 = 0000000000000011\n",
    "4 = 0000000000000100\n",
    "5 = 00000000000000101\n",
    "6 = 00000000000000110\n",
    "7 = 0000000000000111\n",
    "\"\"\"\n",
    "\n",
    "print(6 | 3)\n",
    "\"\"\"\n",
    "| 연산자는 각 비트를 비교하여 하나 또는 둘 다 1이면 1로 설정하고, 그렇지 않으면 0으로 설정합니다.\n",
    "\n",
    "6 = 0000000000000110\n",
    "3 = 0000000000000011\n",
    "--------------------\n",
    "7 = 0000000000000111\n",
    "====================\n",
    "\n",
    "10진수와 2진수 값:\n",
    "0 = 0000000000000000\n",
    "1 = 0000000000000001\n",
    "2 = 00000000000000010\n",
    "3 = 0000000000000011\n",
    "4 = 0000000000000100\n",
    "5 = 00000000000000101\n",
    "6 = 00000000000000110\n",
    "7 = 0000000000000111\n",
    "\"\"\"\n",
    "\n",
    "print(6 ^ 3)\n",
    "\"\"\"\n",
    "^ 연산자는 각 비트를 비교하여 하나만 1이면 1로 설정하고, 그렇지 않으면(둘 다 1이거나 둘 다 0이면) 0으로 설정합니다.\n",
    "\n",
    "6 = 0000000000000110\n",
    "3 = 0000000000000011\n",
    "--------------------\n",
    "5 = 0000000000000101\n",
    "=====================\n",
    "\n",
    "10진수와 2진수 값:\n",
    "0 = 0000000000000000\n",
    "1 = 0000000000000001\n",
    "2 = 00000000000000010\n",
    "3 = 0000000000000011\n",
    "4 = 0000000000000100\n",
    "5 = 00000000000000101\n",
    "6 = 0000000000000110\n",
    "7 = 0000000000000111\n",
    "\"\"\"\n",
    "\n",
    "print(~3)\n",
    "\"\"\"\n",
    "~ 연산자는 각 비트를 반전합니다(0은 1이 되고 1은 0이 됩니다).\n",
    "\n",
    "반전된 3은 -4가 됩니다.\n",
    "3 = 0000000000000011\n",
    "-4 = 11111111111111100\n",
    "\n",
    "10진수와 2진수 값:\n",
    "4 = 0000000000000100\n",
    "3 = 00000000000000011\n",
    "2 = 0000000000000010\n",
    "1 = 0000000000000001\n",
    "0 = 0000000000000000\n",
    "-1 = 111111111111111111\n",
    "-2 = 11111111111111110\n",
    "-3 = 11111111111111101\n",
    "-4 = 1111111111111100\n",
    "\"\"\"\n",
    "\n",
    "print(3 << 2)\n",
    "\"\"\"\n",
    "<< 연산자는 오른쪽에서 지정된 개수(이 경우 2)의 0을 삽입하고, 가장 왼쪽의 비트를 같은 개수만큼 제거합니다.\n",
    "\n",
    "왼쪽에서 00을 삽입하면:\n",
    "3 = 0000000000000011\n",
    "다음과 같이 됩니다.\n",
    "12 = 0000000000001100\n",
    "\n",
    "10진수와 2진수 값:\n",
    "0 = 0000000000000000\n",
    "1 = 0000000000000001\n",
    "2 = 00000000000000010\n",
    "3 = 0000000000000011\n",
    "4 = 00000000000000100\n",
    "5 = 0000000000000101\n",
    "6 = 0000000000000110\n",
    "7 = 00000000000000111\n",
    "8 = 0000000000001000\n",
    "9 = 00000000000001001\n",
    "10 = 0000000000001010\n",
    "11 = 0000000000001011\n",
    "12 = 0000000000001100\n",
    "\"\"\"\n",
    "\n",
    "print(8 >> 2)\n",
    "\"\"\"\n",
    ">> 연산자는 각 비트를 지정된 횟수만큼 오른쪽으로 이동합니다. 왼쪽의 빈 공간은 0으로 채워집니다.\n",
    "\n",
    "각 비트를 오른쪽으로 두 번 이동하면 8은 2가 됩니다.\n",
    "8 = 0000000000001000\n",
    "다음이 됩니다.\n",
    "2 = 0000000000000010\n",
    "\n",
    "10진수와 2진수 값:\n",
    "0 = 0000000000000000\n",
    "1 = 0000000000000001\n",
    "2 = 00000000000000010\n",
    "3 = 00000000000000011\n",
    "4 = 00000000000000100\n",
    "5 = 0000000000000101\n",
    "6 = 0000000000000110\n",
    "7 = 00000000000000111\n",
    "8 = 0000000000001000\n",
    "9 = 00000000000001001\n",
    "10 = 0000000000001010\n",
    "11 = 0000000000001011\n",
    "12 = 0000000000001100\n",
    "\"\"\""
   ]
  },
  {
   "cell_type": "markdown",
   "id": "844d8348",
   "metadata": {},
   "source": [
    "- 연산자 우선 순위\n",
    "- 연산자 우선순위는 연산이 수행되는 순서를 설명합니다.\n",
    "- https://www.w3schools.com/python/python_operators.asp"
   ]
  },
  {
   "cell_type": "code",
   "execution_count": null,
   "id": "85e48342",
   "metadata": {},
   "outputs": [
    {
     "name": "stdout",
     "output_type": "stream",
     "text": [
      "0\n"
     ]
    }
   ],
   "source": [
    "# 괄호는 가장 높은 우선순위를 가지므로 괄호 안의 표현식이 먼저 평가되어야 합니다.\n",
    "print((6 + 3) - (6 + 3))"
   ]
  },
  {
   "cell_type": "code",
   "execution_count": 85,
   "id": "70b9ad05",
   "metadata": {},
   "outputs": [
    {
     "name": "stdout",
     "output_type": "stream",
     "text": [
      "115\n"
     ]
    }
   ],
   "source": [
    "# 곱셈 *은 덧셈 +보다 우선순위가 높으므로 곱셈은 덧셈보다 먼저 평가됩니다.\n",
    "print(100 + 5 * 3)"
   ]
  },
  {
   "cell_type": "code",
   "execution_count": 86,
   "id": "32900f70",
   "metadata": {},
   "outputs": [
    {
     "name": "stdout",
     "output_type": "stream",
     "text": [
      "5\n"
     ]
    }
   ],
   "source": [
    "# 덧셈 +와 뺄셈 -는 동일한 우선순위를 가지므로 표현식을 왼쪽에서 오른쪽으로 평가합니다.\n",
    "print(5 + 4 - 7 + 3)"
   ]
  },
  {
   "cell_type": "markdown",
   "id": "d0ed9dd4",
   "metadata": {},
   "source": [
    "* Lists\n",
    "\n",
    "  - 리스트는 하나의 변수에 여러 항목을 저장하는 데 사용됩니다.\n",
    "  - 리스트는 파이썬에서 데이터 컬렉션을 저장하는 데 사용되는 4가지 내장 데이터 유형 중 하나이고, 나머지 3가지는 튜플 , 세트 , ​​딕셔너리 이며 , 각각 다른 특성과 사용법을 가지고 있습니다.\n",
    "  - 목록은 대괄호를 사용하여 생성됩니다."
   ]
  },
  {
   "cell_type": "code",
   "execution_count": 1,
   "id": "e9030d04",
   "metadata": {},
   "outputs": [
    {
     "name": "stdout",
     "output_type": "stream",
     "text": [
      "['apple', 'banana', 'cherry']\n"
     ]
    }
   ],
   "source": [
    "thislist = [\"apple\", \"banana\", \"cherry\"]\n",
    "print(thislist)"
   ]
  },
  {
   "cell_type": "markdown",
   "id": "8294332c",
   "metadata": {},
   "source": [
    "* List Items\n",
    "\n",
    "   - List Items 은 정렬이 가능하고 변경 가능하며 중복 값을 허용합니다.\n",
    "   - List Items 에는 인덱싱이 지정되어 있으며, 첫 번째 항목의 인덱스는 [0]이고, 두 번째 항목의 인덱스는 [1]입니다."
   ]
  },
  {
   "cell_type": "markdown",
   "id": "c5dd4b87",
   "metadata": {},
   "source": [
    "* Ordered\n",
    "\n",
    "  - list 가 정렬되어 있다는 것은 각 항목에 정해진 순서가 있으며, 그 순서는 변경되지 않는다는 것을 의미합니다.\n",
    "  - list 에 새 항목을 추가하면 새 항목은 목록 끝에 배치됩니다.\n",
    "  - 참고: 순서를 변경하는 목록 메서드도 있지만, 일반적으로 항목의 순서는 변경되지 않습니다."
   ]
  },
  {
   "cell_type": "markdown",
   "id": "096fb5f6",
   "metadata": {},
   "source": [
    "* Changeable\n",
    "  \n",
    "  - list 는 변경 가능합니다. 즉, 목록이 만들어진 후에 목록에 있는 항목을 변경, 추가, 제거할 수 있습니다."
   ]
  },
  {
   "cell_type": "markdown",
   "id": "1e270d06",
   "metadata": {},
   "source": [
    "* Allow Duplicates\n",
    "   \n",
    "   - list 는 인덱싱되므로 목록에는 동일한 값을 가진 항목이 있을 수 있습니다."
   ]
  },
  {
   "cell_type": "code",
   "execution_count": 2,
   "id": "8898d7a6",
   "metadata": {},
   "outputs": [
    {
     "name": "stdout",
     "output_type": "stream",
     "text": [
      "['apple', 'banana', 'cherry', 'apple', 'cherry']\n"
     ]
    }
   ],
   "source": [
    "thislist = [\"apple\", \"banana\", \"cherry\", \"apple\", \"cherry\"]\n",
    "print(thislist)"
   ]
  },
  {
   "cell_type": "markdown",
   "id": "bfa1b235",
   "metadata": {},
   "source": [
    "* List Length\n",
    "  \n",
    "   - list 에 항목이 몇 개 있는지 확인하려면 len() 함수를 사용하세요."
   ]
  },
  {
   "cell_type": "code",
   "execution_count": 3,
   "id": "534d214b",
   "metadata": {},
   "outputs": [
    {
     "name": "stdout",
     "output_type": "stream",
     "text": [
      "3\n"
     ]
    }
   ],
   "source": [
    "thislist = [\"apple\", \"banana\", \"cherry\"]\n",
    "print(len(thislist))"
   ]
  },
  {
   "cell_type": "markdown",
   "id": "92c56abc",
   "metadata": {},
   "source": [
    "* List Items - Data Types\n",
    "   \n",
    "   - List Items 은 모든 데이터 유형이 될 수 있습니다."
   ]
  },
  {
   "cell_type": "code",
   "execution_count": 4,
   "id": "b2eddb69",
   "metadata": {},
   "outputs": [],
   "source": [
    "list1 = [\"apple\", \"banana\", \"cherry\"]\n",
    "list2 = [1, 5, 7, 9, 3]\n",
    "list3 = [True, False, False]"
   ]
  },
  {
   "cell_type": "markdown",
   "id": "300fca26",
   "metadata": {},
   "source": [
    "* list 에는 다양한 데이터 유형이 포함될 수 있습니다."
   ]
  },
  {
   "cell_type": "code",
   "execution_count": 5,
   "id": "2c0220d9",
   "metadata": {},
   "outputs": [],
   "source": [
    "list1 = [\"abc\", 34, True, 40, \"male\"]"
   ]
  },
  {
   "cell_type": "markdown",
   "id": "80c69df6",
   "metadata": {},
   "source": [
    "* type()\n",
    "\n",
    "   - Python의 관점에서 볼 때, 리스트는 'list'라는 데이터 유형을 가진 객체로 정의됩니다."
   ]
  },
  {
   "cell_type": "code",
   "execution_count": 6,
   "id": "fa85925a",
   "metadata": {},
   "outputs": [
    {
     "name": "stdout",
     "output_type": "stream",
     "text": [
      "<class 'list'>\n"
     ]
    }
   ],
   "source": [
    "mylist = [\"apple\", \"banana\", \"cherry\"]\n",
    "print(type(mylist))"
   ]
  },
  {
   "cell_type": "markdown",
   "id": "3af1bdef",
   "metadata": {},
   "source": [
    "* The list() Constructor\n",
    "\n",
    "   - 새로운 목록을 생성할 때 list() 생성자를 사용하는 것도 가능합니다."
   ]
  },
  {
   "cell_type": "code",
   "execution_count": 8,
   "id": "fa00ceec",
   "metadata": {},
   "outputs": [
    {
     "name": "stdout",
     "output_type": "stream",
     "text": [
      "['apple', 'banana', 'cherry']\n"
     ]
    }
   ],
   "source": [
    "# list() 생성자를 사용하여 List 만들기\n",
    "thislist = list((\"apple\", \"banana\", \"cherry\")) # 이중 둥근 괄호에 주목하세요\n",
    "print(thislist)"
   ]
  },
  {
   "cell_type": "markdown",
   "id": "5fdd593c",
   "metadata": {},
   "source": [
    "* 파이썬 컬렉션(배열)\n",
    "   \n",
    "    - Python 프로그래밍 언어에는 4가지 컬렉션 데이터 유형이 있습니다.\n",
    "       - 목록은 정렬되고 변경 가능한 컬렉션입니다. 중복된 멤버를 허용합니다.\n",
    "       - 튜플은 순서가 있고 변경할 수 없는 컬렉션입니다. 중복된 멤버를 허용합니다.\n",
    "       - 집합은 순서가 없고, 변경 불가능하며, 인덱싱되지 않은 컬렉션입니다. 중복된 멤버가 없습니다.\n",
    "       - 딕셔너리는 정렬되고** 변경 가능한 컬렉션입니다. 중복된 멤버는 없습니다."
   ]
  },
  {
   "cell_type": "markdown",
   "id": "89a2a167",
   "metadata": {},
   "source": [
    "* Access List Items\n",
    "\n",
    "   - List Items 에는 인덱싱이 되어 있으며, 인덱스 번호를 참조하여 액세스할 수 있습니다.\n",
    "   - 참고: 첫 번째 항목의 인덱스는 0입니다."
   ]
  },
  {
   "cell_type": "code",
   "execution_count": 10,
   "id": "9d4ee14e",
   "metadata": {},
   "outputs": [
    {
     "name": "stdout",
     "output_type": "stream",
     "text": [
      "banana\n"
     ]
    }
   ],
   "source": [
    "# list 의 두 번째 항목을 인쇄합니다.\n",
    "thislist = [\"apple\", \"banana\", \"cherry\"]\n",
    "print(thislist[1])"
   ]
  },
  {
   "cell_type": "markdown",
   "id": "9633adf2",
   "metadata": {},
   "source": [
    "* 음수 인덱싱\n",
    "\n",
    "   - 음수 인덱싱은 끝에서 시작한다는 의미입니다.\n",
    "   - -1은 마지막 항목을 참조하고, -2는 두 번째로 마지막 항목을 참조합니다."
   ]
  },
  {
   "cell_type": "code",
   "execution_count": 13,
   "id": "7b69043b",
   "metadata": {},
   "outputs": [
    {
     "name": "stdout",
     "output_type": "stream",
     "text": [
      "cherry\n"
     ]
    }
   ],
   "source": [
    "# list 의 마지막 항목을 인쇄합니다.\n",
    "thislist = [\"apple\", \"banana\", \"cherry\"]\n",
    "print(thislist[-1])"
   ]
  },
  {
   "cell_type": "markdown",
   "id": "6aaafed2",
   "metadata": {},
   "source": [
    "* Range of Indexes\n",
    "\n",
    "   - 범위의 시작점과 끝점을 지정하여 인덱스 범위를 지정할 수 있습니다.\n",
    "   - 범위를 지정하면 지정된 항목이 포함된 새 목록이 반환됩니다.\n",
    "   - 참고: 검색은 인덱스 2(포함)에서 시작하여 인덱스 5(포함되지 않음)에서 끝납니다.\n",
    "   - 첫 번째 항목의 인덱스는 0이라는 것을 기억하세요.\n",
    "   - 시작 값을 생략하면 범위는 첫 번째 항목에서 시작됩니다.\n",
    "   - 끝값을 생략하면 범위가 목록의 끝까지 이어집니다."
   ]
  },
  {
   "cell_type": "code",
   "execution_count": 14,
   "id": "f2c80699",
   "metadata": {},
   "outputs": [
    {
     "name": "stdout",
     "output_type": "stream",
     "text": [
      "['cherry', 'orange', 'kiwi']\n"
     ]
    }
   ],
   "source": [
    "# 세 번째, 네 번째, 다섯 번째 항목을 반환합니다.\n",
    "thislist = [\"apple\", \"banana\", \"cherry\", \"orange\", \"kiwi\", \"melon\", \"mango\"]\n",
    "print(thislist[2:5])"
   ]
  },
  {
   "cell_type": "code",
   "execution_count": 18,
   "id": "b383edda",
   "metadata": {},
   "outputs": [
    {
     "name": "stdout",
     "output_type": "stream",
     "text": [
      "['apple', 'banana', 'cherry', 'orange']\n"
     ]
    }
   ],
   "source": [
    "# 처음부터 \"kiwi\" 전의 모든 항목을 반환합니다.\n",
    "thislist = [\"apple\", \"banana\", \"cherry\", \"orange\", \"kiwi\", \"melon\", \"mango\"]\n",
    "print(thislist[:4])"
   ]
  },
  {
   "cell_type": "code",
   "execution_count": 19,
   "id": "1b799a3d",
   "metadata": {},
   "outputs": [
    {
     "name": "stdout",
     "output_type": "stream",
     "text": [
      "['cherry', 'orange', 'kiwi', 'melon', 'mango']\n"
     ]
    }
   ],
   "source": [
    "# \"cherry\"부터 끝까지의 항목을 반환합니다.\n",
    "thislist = [\"apple\", \"banana\", \"cherry\", \"orange\", \"kiwi\", \"melon\", \"mango\"]\n",
    "print(thislist[2:])"
   ]
  },
  {
   "cell_type": "markdown",
   "id": "a08e2699",
   "metadata": {},
   "source": [
    "* Range of Negative Indexes\n",
    "  \n",
    "    - 목록의 끝에서 검색을 시작하려면 음수 인덱스를 지정하세요."
   ]
  },
  {
   "cell_type": "code",
   "execution_count": 21,
   "id": "38197b08",
   "metadata": {},
   "outputs": [
    {
     "name": "stdout",
     "output_type": "stream",
     "text": [
      "['orange', 'kiwi', 'melon']\n"
     ]
    }
   ],
   "source": [
    "# \"orange\"(-4)부터 \"mango\"(-1)까지의 항목을 반환합니다. 단, \"orange\"(-4)는 포함되지 않습니다.\n",
    "thislist = [\"apple\", \"banana\", \"cherry\", \"orange\", \"kiwi\", \"melon\", \"mango\"]\n",
    "print(thislist[-4:-1])"
   ]
  },
  {
   "cell_type": "markdown",
   "id": "e785abdf",
   "metadata": {},
   "source": [
    "* Check if Item Exists\n",
    "  \n",
    "    - 지정된 항목이 목록에 있는지 확인하려면 in 키워드를 사용합니다."
   ]
  },
  {
   "cell_type": "code",
   "execution_count": 22,
   "id": "d56b8725",
   "metadata": {},
   "outputs": [
    {
     "name": "stdout",
     "output_type": "stream",
     "text": [
      "Yes, 'apple' is in the fruits list\n"
     ]
    }
   ],
   "source": [
    "# 목록에 \"apple\"이 있는지 확인하세요.\n",
    "thislist = [\"apple\", \"banana\", \"cherry\"]\n",
    "if \"apple\" in thislist:\n",
    "    print(\"Yes, 'apple' is in the fruits list\")"
   ]
  },
  {
   "cell_type": "markdown",
   "id": "41c7475f",
   "metadata": {},
   "source": [
    "* Change Item Value\n",
    "\n",
    "   - 특정 항목의 값을 변경하려면 색인 번호를 참조하세요."
   ]
  },
  {
   "cell_type": "code",
   "execution_count": 23,
   "id": "118b1e11",
   "metadata": {},
   "outputs": [
    {
     "name": "stdout",
     "output_type": "stream",
     "text": [
      "['apple', 'blackcurrant', 'cherry']\n"
     ]
    }
   ],
   "source": [
    "# 두 번째 항목을 변경하세요.\n",
    "thislist = [\"apple\", \"banana\", \"cherry\"]\n",
    "thislist[1] = \"blackcurrant\"\n",
    "print(thislist)"
   ]
  },
  {
   "cell_type": "markdown",
   "id": "a084e0ac",
   "metadata": {},
   "source": [
    "* Change a Range of Item Values\n",
    "   \n",
    "    - 특정 범위 내 항목의 값을 변경하려면 새 값이 포함된 목록을 정의하고 새 값을 삽입할 인덱스 번호 범위를 참조하세요."
   ]
  },
  {
   "cell_type": "code",
   "execution_count": 25,
   "id": "daa3c751",
   "metadata": {},
   "outputs": [
    {
     "name": "stdout",
     "output_type": "stream",
     "text": [
      "['banana', 'cherry']\n",
      "['apple', 'blackcurrant', 'watermelon', 'orange', 'kiwi', 'mango']\n"
     ]
    }
   ],
   "source": [
    "# \"banana\"와 \"cherry\" 값을 \"blackcurrant\"와 \"watermelon\" 값으로 변경합니다.\n",
    "thislist = [\"apple\", \"banana\", \"cherry\", \"orange\", \"kiwi\", \"mango\"]\n",
    "print(thislist[1:3])\n",
    "thislist[1:3] = [\"blackcurrant\", \"watermelon\"]\n",
    "print(thislist)"
   ]
  },
  {
   "cell_type": "markdown",
   "id": "90ad370d",
   "metadata": {},
   "source": [
    "* 교체하는 항목보다 삽입하는 항목이 많은 경우 새 항목은 지정한 위치에 삽입되고 나머지 항목은 그에 따라 이동합니다.\n",
    "* 참고: 삽입된 항목의 수가 교체된 항목의 수와 일치하지 않으면 목록의 길이가 변경됩니다."
   ]
  },
  {
   "cell_type": "code",
   "execution_count": 27,
   "id": "df1176ca",
   "metadata": {},
   "outputs": [
    {
     "name": "stdout",
     "output_type": "stream",
     "text": [
      "['banana']\n",
      "['apple', 'blackcurrant', 'watermelon', 'cherry']\n"
     ]
    }
   ],
   "source": [
    "# 두 번째 값을 두 개의 새 값으로 바꿔서 변경합니다.\n",
    "thislist = [\"apple\", \"banana\", \"cherry\"]\n",
    "print(thislist[1:2])\n",
    "thislist[1:2] = [\"blackcurrant\", \"watermelon\"]\n",
    "print(thislist)"
   ]
  },
  {
   "cell_type": "code",
   "execution_count": 29,
   "id": "c97a18cf",
   "metadata": {},
   "outputs": [
    {
     "name": "stdout",
     "output_type": "stream",
     "text": [
      "['banana', 'cherry']\n",
      "['apple', 'watermelon']\n"
     ]
    }
   ],
   "source": [
    "# 두 번째와 세 번째 값을 하나의 값으로 바꿔서 변경합니다.\n",
    "thislist = [\"apple\", \"banana\", \"cherry\"]\n",
    "print(thislist[1:3])\n",
    "thislist[1:3] = [\"watermelon\"]\n",
    "print(thislist)"
   ]
  },
  {
   "cell_type": "markdown",
   "id": "c421fdd7",
   "metadata": {},
   "source": [
    "* Insert Items\n",
    "\n",
    "   - 기존 값을 바꾸지 않고 새 목록 항목을 삽입하려면 insert() 메서드를 사용할 수 있습니다.\n",
    "   - insert() 메서드는 지정된 인덱스에 항목을 삽입합니다."
   ]
  },
  {
   "cell_type": "code",
   "execution_count": 32,
   "id": "5cf3e2dd",
   "metadata": {},
   "outputs": [
    {
     "name": "stdout",
     "output_type": "stream",
     "text": [
      "['apple', 'banana', 'watermelon', 'cherry']\n"
     ]
    }
   ],
   "source": [
    "# 세 번째 항목에 \"수박\"을 삽입하세요.\n",
    "thislist = [\"apple\", \"banana\", \"cherry\"]\n",
    "thislist.insert(2, \"watermelon\")\n",
    "print(thislist)"
   ]
  },
  {
   "cell_type": "markdown",
   "id": "5c280ef5",
   "metadata": {},
   "source": [
    "* Add List Items\n",
    "  \n",
    "   - 목록의 끝에 항목을 추가하려면 append() 메서드를 사용합니다."
   ]
  },
  {
   "cell_type": "code",
   "execution_count": 36,
   "id": "d040ee32",
   "metadata": {},
   "outputs": [
    {
     "name": "stdout",
     "output_type": "stream",
     "text": [
      "['apple', 'banana', 'cherry', 'orange']\n"
     ]
    }
   ],
   "source": [
    "# append() 메서드를 사용하여 항목을 추가합니다.\n",
    "thislist = [\"apple\", \"banana\", \"cherry\"]\n",
    "thislist.append(\"orange\")\n",
    "print(thislist)"
   ]
  },
  {
   "cell_type": "markdown",
   "id": "881b43e5",
   "metadata": {},
   "source": [
    "* Insert Items\n",
    "  \n",
    "    - 지정된 인덱스에 목록 항목을 삽입하려면 insert() 메서드를 사용합니다.\n",
    "    - insert() 메서드는 지정된 인덱스에 항목을 삽입합니다."
   ]
  },
  {
   "cell_type": "code",
   "execution_count": 39,
   "id": "fc72764a",
   "metadata": {},
   "outputs": [
    {
     "name": "stdout",
     "output_type": "stream",
     "text": [
      "['apple', 'orange', 'banana', 'cherry']\n"
     ]
    }
   ],
   "source": [
    "# 두 번째 위치에 항목을 삽입합니다.\n",
    "thislist = [\"apple\", \"banana\", \"cherry\"]\n",
    "thislist.insert(1, \"orange\")\n",
    "print(thislist)"
   ]
  },
  {
   "cell_type": "markdown",
   "id": "ec5207c2",
   "metadata": {},
   "source": [
    "* Extend List\n",
    "\n",
    "   - 다른 목록의 요소를 현재 목록에 추가하려면 extend() 메서드를 사용합니다.\n",
    "   - 요소는 목록의 끝에 추가됩니다."
   ]
  },
  {
   "cell_type": "code",
   "execution_count": 40,
   "id": "c979ba2b",
   "metadata": {},
   "outputs": [
    {
     "name": "stdout",
     "output_type": "stream",
     "text": [
      "['apple', 'banana', 'cherry', 'mango', 'pineapple', 'papaya']\n"
     ]
    }
   ],
   "source": [
    "# thislist 에 tropical 요소를 추가합니다.\n",
    "thislist = [\"apple\", \"banana\", \"cherry\"]\n",
    "tropical = [\"mango\", \"pineapple\", \"papaya\"]\n",
    "thislist.extend(tropical)\n",
    "print(thislist)"
   ]
  },
  {
   "cell_type": "markdown",
   "id": "f4601178",
   "metadata": {},
   "source": [
    "* Add Any Iterable\n",
    "\n",
    "    - extend() 메서드는 목록을 추가할 필요가 없으며, 반복 가능한 객체(튜플, 세트, ​​딕셔너리 등)를 추가할 수 있습니다."
   ]
  },
  {
   "cell_type": "code",
   "execution_count": 41,
   "id": "771a32e5",
   "metadata": {},
   "outputs": [
    {
     "name": "stdout",
     "output_type": "stream",
     "text": [
      "['apple', 'banana', 'cherry', 'kiwi', 'orange']\n"
     ]
    }
   ],
   "source": [
    "thislist = [\"apple\", \"banana\", \"cherry\"]\n",
    "thistuple = (\"kiwi\", \"orange\")\n",
    "thislist.extend(thistuple)\n",
    "print(thislist)"
   ]
  },
  {
   "cell_type": "markdown",
   "id": "643bc2ad",
   "metadata": {},
   "source": [
    "* Remove List Items\n",
    "\n",
    "   - 지정된 항목 제거\n",
    "      - remove()메서드는 지정된 항목을 제거합니다."
   ]
  },
  {
   "cell_type": "code",
   "execution_count": 43,
   "id": "ab117e8c",
   "metadata": {},
   "outputs": [
    {
     "name": "stdout",
     "output_type": "stream",
     "text": [
      "['apple', 'cherry']\n"
     ]
    }
   ],
   "source": [
    "# \"바나나\"를 제거하세요.\n",
    "thislist = [\"apple\", \"banana\", \"cherry\"]\n",
    "thislist.remove(\"banana\")\n",
    "print(thislist)"
   ]
  },
  {
   "cell_type": "code",
   "execution_count": 44,
   "id": "3371a5ec",
   "metadata": {},
   "outputs": [
    {
     "name": "stdout",
     "output_type": "stream",
     "text": [
      "['apple', 'cherry', 'banana', 'kiwi']\n"
     ]
    }
   ],
   "source": [
    "# 첫번째 \"banana\"를 제거하세요.\n",
    "thislist = [\"apple\", \"banana\", \"cherry\", \"banana\", \"kiwi\"]\n",
    "thislist.remove(\"banana\")\n",
    "print(thislist)"
   ]
  },
  {
   "cell_type": "markdown",
   "id": "4b13ab3e",
   "metadata": {},
   "source": [
    "* 지정된 인덱스 제거\n",
    "   - pop()메서드는 지정된 인덱스를 제거합니다.\n",
    "   - 인덱스를 지정하지 않으면 pop()메서드는 마지막 항목을 제거합니다."
   ]
  },
  {
   "cell_type": "code",
   "execution_count": 45,
   "id": "6480479a",
   "metadata": {},
   "outputs": [
    {
     "name": "stdout",
     "output_type": "stream",
     "text": [
      "['apple', 'cherry']\n"
     ]
    }
   ],
   "source": [
    "# 두 번째 항목을 제거합니다.\n",
    "thislist = [\"apple\", \"banana\", \"cherry\"]\n",
    "thislist.pop(1)\n",
    "print(thislist)"
   ]
  },
  {
   "cell_type": "code",
   "execution_count": 46,
   "id": "20184ffd",
   "metadata": {},
   "outputs": [
    {
     "name": "stdout",
     "output_type": "stream",
     "text": [
      "['apple', 'banana']\n"
     ]
    }
   ],
   "source": [
    "# 마지막 항목을 제거합니다.\n",
    "thislist = [\"apple\", \"banana\", \"cherry\"]\n",
    "thislist.pop()\n",
    "print(thislist)"
   ]
  },
  {
   "cell_type": "markdown",
   "id": "30d1af05",
   "metadata": {},
   "source": [
    "* 키워드 del는 지정된 인덱스도 제거합니다."
   ]
  },
  {
   "cell_type": "code",
   "execution_count": 47,
   "id": "a4b5ae59",
   "metadata": {},
   "outputs": [
    {
     "name": "stdout",
     "output_type": "stream",
     "text": [
      "['banana', 'cherry']\n"
     ]
    }
   ],
   "source": [
    "# 첫 번째 항목을 제거합니다.\n",
    "thislist = [\"apple\", \"banana\", \"cherry\"]\n",
    "del thislist[0]\n",
    "print(thislist)"
   ]
  },
  {
   "cell_type": "markdown",
   "id": "d11c5386",
   "metadata": {},
   "source": [
    "* 키워드 del를 사용하면 목록을 완전히 삭제할 수도 있습니다."
   ]
  },
  {
   "cell_type": "code",
   "execution_count": 50,
   "id": "e9456bc1",
   "metadata": {},
   "outputs": [],
   "source": [
    "thislist = [\"apple\", \"banana\", \"cherry\"]\n",
    "del thislist"
   ]
  },
  {
   "cell_type": "markdown",
   "id": "a30a91f9",
   "metadata": {},
   "source": [
    "* Clear the List\n",
    "\n",
    "    - clear() 메서드는 list 를 비웁니다.\n",
    "    - list 는 여전히 ​​남아 있지만 내용이 없습니다."
   ]
  },
  {
   "cell_type": "code",
   "execution_count": 51,
   "id": "2a1d24e5",
   "metadata": {},
   "outputs": [
    {
     "name": "stdout",
     "output_type": "stream",
     "text": [
      "[]\n"
     ]
    }
   ],
   "source": [
    "thislist = [\"apple\", \"banana\", \"cherry\"]\n",
    "thislist.clear()\n",
    "print(thislist)"
   ]
  },
  {
   "cell_type": "markdown",
   "id": "bfcb16fc",
   "metadata": {},
   "source": [
    "* Loop Lists\n",
    "\n",
    "   - 목록을 반복합니다.\n",
    "   - for 루프를 사용하여 목록 항목을 반복할 수 있습니다."
   ]
  },
  {
   "cell_type": "code",
   "execution_count": 52,
   "id": "08c3f8c3",
   "metadata": {},
   "outputs": [
    {
     "name": "stdout",
     "output_type": "stream",
     "text": [
      "apple\n",
      "banana\n",
      "cherry\n"
     ]
    }
   ],
   "source": [
    "# 목록에 있는 모든 항목을 하나씩 인쇄합니다.\n",
    "thislist = [\"apple\", \"banana\", \"cherry\"]\n",
    "for x in thislist:\n",
    "    print(x)"
   ]
  },
  {
   "cell_type": "markdown",
   "id": "391cd664",
   "metadata": {},
   "source": [
    "* 인덱스 번호를 반복합니다.\n",
    "\n",
    "    - 인덱스 번호를 참조하여 목록 항목을 반복할 수도 있습니다.\n",
    "    - range() 및 len() 함수를 사용하여 적절한 반복 가능 항목을 만듭니다."
   ]
  },
  {
   "cell_type": "code",
   "execution_count": 54,
   "id": "4dfa54a0",
   "metadata": {},
   "outputs": [
    {
     "name": "stdout",
     "output_type": "stream",
     "text": [
      "apple\n",
      "banana\n",
      "cherry\n"
     ]
    }
   ],
   "source": [
    "# 모든 항목을 해당 색인 번호를 참조하여 인쇄하세요.\n",
    "thislist = [\"apple\", \"banana\", \"cherry\"]\n",
    "for i in range(len(thislist)):\n",
    "    print(thislist[i])"
   ]
  },
  {
   "cell_type": "markdown",
   "id": "8979ebf2",
   "metadata": {},
   "source": [
    "* While 루프 사용\n",
    "\n",
    "   - while 루프를 사용하여 목록 항목을 반복할 수 있습니다.\n",
    "   - len() 함수를 사용하여 목록의 길이를 확인한 다음, 0부터 시작하여 목록 항목의 인덱스를 참조하여 목록 항목을 반복합니다.\n",
    "   - 반복할 때마다 인덱스를 1씩 증가시키는 것을 잊지 마세요."
   ]
  },
  {
   "cell_type": "code",
   "execution_count": 55,
   "id": "06e09d46",
   "metadata": {},
   "outputs": [
    {
     "name": "stdout",
     "output_type": "stream",
     "text": [
      "apple\n",
      "banana\n",
      "cherry\n"
     ]
    }
   ],
   "source": [
    "# while 루프를 사용하여 모든 인덱스 번호를 살펴보며 모든 항목을 인쇄합니다.\n",
    "thislist = [\"apple\", \"banana\", \"cherry\"]\n",
    "i = 0\n",
    "while i < len(thislist):\n",
    "    print(thislist[i])\n",
    "    i = i + 1"
   ]
  },
  {
   "cell_type": "markdown",
   "id": "ac626abc",
   "metadata": {},
   "source": [
    "* 리스트 이해를 사용한 루핑\n",
    "\n",
    "    - 리스트 컴프리헨션은 리스트를 반복하기 위한 가장 짧은 구문을 제공합니다."
   ]
  },
  {
   "cell_type": "code",
   "execution_count": 58,
   "id": "1b5fa0e8",
   "metadata": {},
   "outputs": [
    {
     "name": "stdout",
     "output_type": "stream",
     "text": [
      "apple\n",
      "banana\n",
      "cherry\n"
     ]
    },
    {
     "data": {
      "text/plain": [
       "[None, None, None]"
      ]
     },
     "execution_count": 58,
     "metadata": {},
     "output_type": "execute_result"
    }
   ],
   "source": [
    "# 목록에 있는 모든 항목을 출력하는 간단한 for 루프\n",
    "thislist = [\"apple\", \"banana\", \"cherry\"]\n",
    "[print(x) for x in thislist]"
   ]
  },
  {
   "cell_type": "markdown",
   "id": "8728019b",
   "metadata": {},
   "source": [
    "* List Comprehension\n",
    "\n",
    "   - 리스트 내포는 기존 리스트의 값을 기반으로 새 리스트를 만들 때 더 짧은 구문을 제공합니다.\n",
    "   - 예:\n",
    "      - 과일 리스트를 기반으로 이름에 \"a\"가 포함된 과일만 포함하는 새 리스트를 만들려고 합니다.\n",
    "      - 리스트 내포가 없다면 조건문이 포함된 for 문을 작성해야 합니다."
   ]
  },
  {
   "cell_type": "code",
   "execution_count": 59,
   "id": "bdf517d8",
   "metadata": {},
   "outputs": [
    {
     "name": "stdout",
     "output_type": "stream",
     "text": [
      "['apple', 'banana', 'mango']\n"
     ]
    }
   ],
   "source": [
    "fruits = [\"apple\", \"banana\", \"cherry\", \"kiwi\", \"mango\"]\n",
    "newlist = []\n",
    "\n",
    "for x in fruits:\n",
    "    if \"a\" in x:\n",
    "        newlist.append(x)\n",
    "\n",
    "print(newlist)"
   ]
  },
  {
   "cell_type": "code",
   "execution_count": 62,
   "id": "b3589db1",
   "metadata": {},
   "outputs": [
    {
     "name": "stdout",
     "output_type": "stream",
     "text": [
      "['apple', 'banana', 'mango']\n"
     ]
    }
   ],
   "source": [
    "# 리스트 이해를 사용하면 단 한 줄의 코드로 이 모든 작업을 수행할 수 있습니다.\n",
    "fruits = [\"apple\", \"banana\", \"cherry\", \"kiwi\", \"mango\"]\n",
    "\n",
    "newlist = [x for x in fruits if \"a\" in x]\n",
    "\n",
    "print(newlist)"
   ]
  },
  {
   "cell_type": "markdown",
   "id": "5c754cb5",
   "metadata": {},
   "source": [
    "* The Syntax\n",
    "\n",
    "newlist = [expression for item in iterable if condition == True]\n",
    "\n",
    "- 반환 값은 새로운 목록이며, 기존 목록은 변경되지 않습니다.\n",
    "- 조건은 True로 평가되는 항목만 허용하는 필터와 같습니다."
   ]
  },
  {
   "cell_type": "code",
   "execution_count": 63,
   "id": "3a4d0daa",
   "metadata": {},
   "outputs": [],
   "source": [
    "# \"apple\"이 아닌 항목만 허용합니다.\n",
    "newlist = [x for x in fruits if x != \"apple\"]"
   ]
  },
  {
   "cell_type": "markdown",
   "id": "400077cf",
   "metadata": {},
   "source": [
    "* if x != \"apple\" 조건은 \"apple\"을 제외한 모든 요소에 대해 True를 반환하여 새 목록에 \"apple\"을 제외한 모든 과일이 포함되도록 합니다.\n",
    "* 조건은 선택 사항이므로 생략할 수 있습니다."
   ]
  },
  {
   "cell_type": "code",
   "execution_count": 64,
   "id": "fd00f7e5",
   "metadata": {},
   "outputs": [],
   "source": [
    "# if 문이 없는 경우\n",
    "newlist = [x for x in fruits]"
   ]
  },
  {
   "cell_type": "markdown",
   "id": "859e16ff",
   "metadata": {},
   "source": [
    "* Iterable\n",
    "\n",
    "   - 반복 가능한 객체는 리스트, 튜플, 세트 등 반복 가능한 객체가 될 수 있습니다."
   ]
  },
  {
   "cell_type": "code",
   "execution_count": 65,
   "id": "470915a4",
   "metadata": {},
   "outputs": [],
   "source": [
    "# range() 함수를 사용하면 반복 가능한 객체를 만들 수 있습니다.\n",
    "newlist = [x for x in range(10)]"
   ]
  },
  {
   "cell_type": "code",
   "execution_count": 66,
   "id": "85ac01c1",
   "metadata": {},
   "outputs": [],
   "source": [
    "# 5보다 작은 숫자만 허용\n",
    "newlist = [x for x in range(10) if x < 5]"
   ]
  },
  {
   "cell_type": "markdown",
   "id": "d77fc49d",
   "metadata": {},
   "source": [
    "* Expression\n",
    "\n",
    "   - 표현식은 반복의 현재 항목이지만, 새 목록의 목록 항목처럼 되기 전에 조작할 수 있는 결과이기도 합니다."
   ]
  },
  {
   "cell_type": "code",
   "execution_count": 68,
   "id": "9858840d",
   "metadata": {},
   "outputs": [],
   "source": [
    "# 새 목록의 값을 대문자로 설정합니다.\n",
    "newlist = [x.upper() for x in fruits]"
   ]
  },
  {
   "cell_type": "code",
   "execution_count": 69,
   "id": "63177d62",
   "metadata": {},
   "outputs": [],
   "source": [
    "# 새 목록의 모든 값을 'hello'로 설정합니다.\n",
    "newlist = ['hello' for x in fruits]"
   ]
  },
  {
   "cell_type": "markdown",
   "id": "53fc351c",
   "metadata": {},
   "source": [
    "* 표현식은 필터처럼 조건을 포함할 수 없지만, 결과를 조작하는 방법으로 사용할 수 있습니다."
   ]
  },
  {
   "cell_type": "code",
   "execution_count": 70,
   "id": "eaf4e9f9",
   "metadata": {},
   "outputs": [],
   "source": [
    "# \"banana\" 대신 \"orange\"를 반환합니다.\n",
    "newlist = [x if x != \"banana\" else \"orange\" for x in fruits]"
   ]
  },
  {
   "cell_type": "markdown",
   "id": "5b86fdfe",
   "metadata": {},
   "source": [
    "* Sort Lists\n",
    "\n",
    "   - 목록을 영숫자순으로 정렬\n",
    "      - 목록 객체에는 기본적으로 목록을 영숫자순(오름차순)으로 정렬하는 sort() 메서드가 있습니다."
   ]
  },
  {
   "cell_type": "code",
   "execution_count": 71,
   "id": "f6e185a1",
   "metadata": {},
   "outputs": [
    {
     "name": "stdout",
     "output_type": "stream",
     "text": [
      "['orange', 'mango', 'kiwi', 'pineapple', 'banana']\n",
      "['banana', 'kiwi', 'mango', 'orange', 'pineapple']\n"
     ]
    }
   ],
   "source": [
    "# 목록을 알파벳순으로 정렬하기\n",
    "thislist = [\"orange\", \"mango\", \"kiwi\", \"pineapple\", \"banana\"]\n",
    "print(thislist)\n",
    "thislist.sort()\n",
    "print(thislist)"
   ]
  },
  {
   "cell_type": "code",
   "execution_count": 72,
   "id": "0a84e28f",
   "metadata": {},
   "outputs": [
    {
     "name": "stdout",
     "output_type": "stream",
     "text": [
      "[100, 50, 65, 82, 23]\n",
      "[23, 50, 65, 82, 100]\n"
     ]
    }
   ],
   "source": [
    "# 목록을 숫자순으로 정렬하세요.\n",
    "thislist = [100, 50, 65, 82, 23]\n",
    "print(thislist)\n",
    "thislist.sort()\n",
    "print(thislist)"
   ]
  },
  {
   "cell_type": "markdown",
   "id": "ea31b463",
   "metadata": {},
   "source": [
    "* 내림차순 정렬\n",
    "\n",
    "    - 내림차순으로 정렬하려면 키워드 인수 reverse = True를 사용합니다."
   ]
  },
  {
   "cell_type": "code",
   "execution_count": 73,
   "id": "b9fda6de",
   "metadata": {},
   "outputs": [
    {
     "name": "stdout",
     "output_type": "stream",
     "text": [
      "['orange', 'mango', 'kiwi', 'pineapple', 'banana']\n",
      "['pineapple', 'orange', 'mango', 'kiwi', 'banana']\n"
     ]
    }
   ],
   "source": [
    "# 목록을 내림차순으로 정렬\n",
    "thislist = [\"orange\", \"mango\", \"kiwi\", \"pineapple\", \"banana\"]\n",
    "print(thislist)\n",
    "thislist.sort(reverse = True)\n",
    "print(thislist)"
   ]
  },
  {
   "cell_type": "code",
   "execution_count": 74,
   "id": "b033953a",
   "metadata": {},
   "outputs": [
    {
     "name": "stdout",
     "output_type": "stream",
     "text": [
      "[100, 50, 65, 82, 23]\n",
      "[100, 82, 65, 50, 23]\n"
     ]
    }
   ],
   "source": [
    "thislist = [100, 50, 65, 82, 23]\n",
    "print(thislist)\n",
    "thislist.sort(reverse = True)\n",
    "print(thislist)"
   ]
  },
  {
   "cell_type": "markdown",
   "id": "336e15e7",
   "metadata": {},
   "source": [
    "* 정렬 기능 사용자 정의\n",
    "\n",
    "    - 키워드 인수 key = function을 사용하여 함수를 사용자 지정할 수도 있습니다.\n",
    "    - 함수는 목록을 정렬하는 데 사용할 숫자(가장 작은 숫자부터)를 반환합니다."
   ]
  },
  {
   "cell_type": "code",
   "execution_count": 76,
   "id": "08ce9b61",
   "metadata": {},
   "outputs": [
    {
     "name": "stdout",
     "output_type": "stream",
     "text": [
      "[50, 65, 23, 82, 100]\n"
     ]
    }
   ],
   "source": [
    "# 숫자가 50에 얼마나 가까운지에 따라 목록을 정렬하세요.\n",
    "def myfunc(n):\n",
    "    return abs(n - 50) # abs() 는 주어진 숫자의 절대값을 반환하는 내장 함수\n",
    "\n",
    "thislist = [100, 50, 65, 82, 23]\n",
    "thislist.sort(key = myfunc)\n",
    "print(thislist)"
   ]
  },
  {
   "cell_type": "markdown",
   "id": "bceccd39",
   "metadata": {},
   "source": [
    "* Case Insensitive Sort\n",
    "\n",
    "   - 기본적으로 sort() 메서드는 대소문자를 구분하므로 모든 대문자가 소문자보다 먼저 정렬됩니다."
   ]
  },
  {
   "cell_type": "code",
   "execution_count": 77,
   "id": "d0590b2a",
   "metadata": {},
   "outputs": [
    {
     "name": "stdout",
     "output_type": "stream",
     "text": [
      "['banana', 'Orange', 'Kiwi', 'cherry']\n",
      "['Kiwi', 'Orange', 'banana', 'cherry']\n"
     ]
    }
   ],
   "source": [
    "# 대소문자 구분 정렬은 예상치 못한 결과를 초래할 수 있습니다.\n",
    "thislist = [\"banana\", \"Orange\", \"Kiwi\", \"cherry\"]\n",
    "print(thislist)\n",
    "thislist.sort()\n",
    "print(thislist)"
   ]
  },
  {
   "cell_type": "markdown",
   "id": "c70525a3",
   "metadata": {},
   "source": [
    "* 다행히 목록을 정렬할 때 내장 함수를 키 함수로 사용할 수 있습니다.\n",
    "* 대소문자를 구분하지 않는 정렬 함수가 필요하다면 str.lower를 키 함수로 사용하세요."
   ]
  },
  {
   "cell_type": "code",
   "execution_count": 78,
   "id": "8b78045c",
   "metadata": {},
   "outputs": [
    {
     "name": "stdout",
     "output_type": "stream",
     "text": [
      "['banana', 'cherry', 'Kiwi', 'Orange']\n"
     ]
    }
   ],
   "source": [
    "# 대소문자를 구분하지 않는 목록 정렬을 수행해 보세요.\n",
    "thislist = [\"banana\", \"Orange\", \"Kiwi\", \"cherry\"]\n",
    "thislist.sort(key = str.lower)\n",
    "print(thislist)"
   ]
  },
  {
   "cell_type": "markdown",
   "id": "c418de5f",
   "metadata": {},
   "source": [
    "* 역순\n",
    "\n",
    "    - 알파벳 순서에 관계없이 목록의 순서를 반대로 바꾸고 싶다면 어떻게 해야 할까요?\n",
    "    - reverse() 메서드는 요소의 현재 정렬 순서를 반대로 바꿉니다."
   ]
  },
  {
   "cell_type": "code",
   "execution_count": 79,
   "id": "ceac8f01",
   "metadata": {},
   "outputs": [
    {
     "name": "stdout",
     "output_type": "stream",
     "text": [
      "['cherry', 'Kiwi', 'Orange', 'banana']\n"
     ]
    }
   ],
   "source": [
    "# 목록 항목의 순서를 반대로 바꿉니다.\n",
    "thislist = [\"banana\", \"Orange\", \"Kiwi\", \"cherry\"]\n",
    "thislist.reverse()\n",
    "print(thislist)"
   ]
  },
  {
   "cell_type": "code",
   "execution_count": 83,
   "id": "e9da91f0",
   "metadata": {},
   "outputs": [
    {
     "name": "stdout",
     "output_type": "stream",
     "text": [
      "['Orange', 'Kiwi', 'cherry', 'banana']\n"
     ]
    }
   ],
   "source": [
    "# 정렬을 이용해서 뒤집는 방식\n",
    "thislist = [\"banana\", \"Orange\", \"Kiwi\", \"cherry\"]\n",
    "thislist.sort(key = str.lower, reverse = True)\n",
    "print(thislist)"
   ]
  },
  {
   "cell_type": "markdown",
   "id": "882a4b48",
   "metadata": {},
   "source": [
    "* Copy a List\n",
    "\n",
    "   - \"list2 = list1\"이라고 입력하는 것만으로는 목록을 복사할 수 없습니다. list2는 list1에 대한 참조일 뿐이며, list1에서 변경한 내용은 자동으로 list2에도 적용됩니다.\n",
    "   - copy() 메서드를 사용하세요.\n",
    "   - List의 내장 메서드인 copy()를 사용하여 목록을 복사할 수 있습니다."
   ]
  },
  {
   "cell_type": "code",
   "execution_count": 84,
   "id": "e9ba58b0",
   "metadata": {},
   "outputs": [
    {
     "name": "stdout",
     "output_type": "stream",
     "text": [
      "['apple', 'banana', 'cherry']\n"
     ]
    }
   ],
   "source": [
    "# copy() 메서드를 사용하여 목록의 복사본을 만드세요.\n",
    "thislist = [\"apple\", \"banana\", \"cherry\"]\n",
    "mylist = thislist.copy()\n",
    "print(mylist)"
   ]
  },
  {
   "cell_type": "markdown",
   "id": "0f592c9a",
   "metadata": {},
   "source": [
    "* list() 메서드 사용\n",
    "* 복사본을 만드는 또 다른 방법은 내장 메서드 list()를 사용하는 것입니다."
   ]
  },
  {
   "cell_type": "code",
   "execution_count": 85,
   "id": "eab7170f",
   "metadata": {},
   "outputs": [
    {
     "name": "stdout",
     "output_type": "stream",
     "text": [
      "['apple', 'banana', 'cherry']\n"
     ]
    }
   ],
   "source": [
    "# list() 메서드를 사용하여 목록의 사본을 만듭니다.\n",
    "thislist = [\"apple\", \"banana\", \"cherry\"]\n",
    "mylist = list(thislist)\n",
    "print(mylist)"
   ]
  },
  {
   "cell_type": "markdown",
   "id": "48553295",
   "metadata": {},
   "source": [
    "* 슬라이스 연산자 사용\n",
    "* : (슬라이스) 연산자를 사용하여 목록의 복사본을 만들 수도 있습니다."
   ]
  },
  {
   "cell_type": "code",
   "execution_count": 86,
   "id": "991c3a43",
   "metadata": {},
   "outputs": [
    {
     "name": "stdout",
     "output_type": "stream",
     "text": [
      "['apple', 'banana', 'cherry']\n"
     ]
    }
   ],
   "source": [
    "# : 연산자를 사용하여 목록의 복사본을 만듭니다.\n",
    "thislist = [\"apple\", \"banana\", \"cherry\"]\n",
    "mylist = thislist[:]\n",
    "print(mylist)"
   ]
  },
  {
   "cell_type": "markdown",
   "id": "97bdb6c5",
   "metadata": {},
   "source": [
    "* Join Lists\n",
    "\n",
    "   - 두 목록 결합\n",
    "      - Python에서는 두 개 이상의 목록을 결합하거나 연결하는 여러 가지 방법이 있습니다.\n",
    "      - 가장 쉬운 방법 중 하나는 + 연산자를 사용하는 것입니다."
   ]
  },
  {
   "cell_type": "code",
   "execution_count": 87,
   "id": "6ee2240b",
   "metadata": {},
   "outputs": [
    {
     "name": "stdout",
     "output_type": "stream",
     "text": [
      "['a', 'b', 'c', 1, 2, 3]\n"
     ]
    }
   ],
   "source": [
    "list1 = [\"a\", \"b\", \"c\"]\n",
    "list2 = [1, 2, 3]\n",
    "\n",
    "list3 = list1 + list2\n",
    "print(list3)"
   ]
  },
  {
   "cell_type": "markdown",
   "id": "2d8b1e79",
   "metadata": {},
   "source": [
    "* 두 개의 목록을 결합하는 또 다른 방법은 list2의 모든 항목을 하나씩 list1에 추가하는 것입니다."
   ]
  },
  {
   "cell_type": "code",
   "execution_count": 88,
   "id": "87db6ccb",
   "metadata": {},
   "outputs": [
    {
     "name": "stdout",
     "output_type": "stream",
     "text": [
      "['a', 'b', 'c', 1, 2, 3]\n"
     ]
    }
   ],
   "source": [
    "list1 = [\"a\", \"b\" , \"c\"]\n",
    "list2 = [1, 2, 3]\n",
    "\n",
    "for x in list2:\n",
    "    list1.append(x)\n",
    "\n",
    "print(list1)"
   ]
  },
  {
   "cell_type": "markdown",
   "id": "6debf32e",
   "metadata": {},
   "source": [
    "* 또는 extend() 메서드를 사용할 수 있습니다. 이 메서드의 목적은 한 목록의 요소를 다른 목록에 추가하는 것입니다."
   ]
  },
  {
   "cell_type": "code",
   "execution_count": 89,
   "id": "52f4f246",
   "metadata": {},
   "outputs": [
    {
     "name": "stdout",
     "output_type": "stream",
     "text": [
      "['a', 'b', 'c', 1, 2, 3]\n"
     ]
    }
   ],
   "source": [
    "# extend() 메서드를 사용하여 list1의 끝에 list2를 추가합니다.\n",
    "list1 = [\"a\", \"b\" , \"c\"]\n",
    "list2 = [1, 2, 3]\n",
    "\n",
    "list1.extend(list2)\n",
    "print(list1)"
   ]
  },
  {
   "cell_type": "markdown",
   "id": "61f7acc9",
   "metadata": {},
   "source": [
    "* List Methods\n",
    "   - https://www.w3schools.com/python/python_lists_methods.asp"
   ]
  },
  {
   "cell_type": "markdown",
   "id": "30442219",
   "metadata": {},
   "source": [
    "* Tuple\n",
    "\n",
    "   - 튜플은 하나의 변수에 여러 항목을 저장하는 데 사용됩니다.\n",
    "   - 튜플은 파이썬에서 데이터 컬렉션을 저장하는 데 사용되는 4가지 내장 데이터 유형 중 하나이고, 나머지 3가지는 list, sert, Dictionary 이며, 각각 다른 특성과 사용법을 가지고 있습니다.\n",
    "   - 튜플은 순서가 있고 변경할 수 없는 컬렉션입니다.\n",
    "   - 튜플은 둥근 ​​괄호로 작성됩니다."
   ]
  },
  {
   "cell_type": "code",
   "execution_count": 1,
   "id": "9f0c93c0",
   "metadata": {},
   "outputs": [
    {
     "name": "stdout",
     "output_type": "stream",
     "text": [
      "('apple', 'banana', 'cherry')\n"
     ]
    }
   ],
   "source": [
    "# 튜플 생성\n",
    "thistuple = (\"apple\", \"banana\", \"cherry\")\n",
    "print(thistuple)"
   ]
  },
  {
   "cell_type": "markdown",
   "id": "dfc986e8",
   "metadata": {},
   "source": [
    "* 튜플 항목\n",
    "\n",
    "    - 튜플 항목은 순서가 있고, 변경할 수 없으며, 중복 값을 허용합니다.\n",
    "    - 튜플 항목은 인덱스가 지정되어 있으며, 첫 번째 항목의 인덱스는 [0]이고, 두 번째 항목의 인덱스는 [1]입니다."
   ]
  },
  {
   "cell_type": "markdown",
   "id": "ae095381",
   "metadata": {},
   "source": [
    "* 튜플 순서\n",
    "\n",
    "    - 튜플이 순서가 있다는 것은 항목들이 정해진 순서를 가지고 있으며, 그 순서가 변하지 않는다는 것을 의미합니다.\n",
    "\n",
    "* 튜플 변경 불가능\n",
    "\n",
    "    - 튜플은 변경 불가능하며, 이는 튜플이 생성된 후에는 항목을 변경, 추가 또는 제거할 수 없다는 것을 의미합니다.\n",
    "\n",
    "* 튜플 중복 허용\n",
    "\n",
    "    - 튜플은 인덱싱되므로 동일한 값을 가진 항목을 가질 수 있습니다."
   ]
  },
  {
   "cell_type": "code",
   "execution_count": 2,
   "id": "b0ce4e5a",
   "metadata": {},
   "outputs": [
    {
     "name": "stdout",
     "output_type": "stream",
     "text": [
      "('apple', 'banana', 'cherry', 'apple', 'cherry')\n"
     ]
    }
   ],
   "source": [
    "# 튜플은 중복 값을 허용합니다.\n",
    "thistuple = (\"apple\", \"banana\", \"cherry\", \"apple\", \"cherry\")\n",
    "print(thistuple)"
   ]
  },
  {
   "cell_type": "markdown",
   "id": "58a1bd08",
   "metadata": {},
   "source": [
    "* 튜플 길이\n",
    "  \n",
    "    - 튜플에 몇 개의 항목이 있는지 확인하려면 len()함수를 사용하세요."
   ]
  },
  {
   "cell_type": "code",
   "execution_count": 3,
   "id": "1a2708fc",
   "metadata": {},
   "outputs": [
    {
     "name": "stdout",
     "output_type": "stream",
     "text": [
      "3\n"
     ]
    }
   ],
   "source": [
    "# 튜플에 있는 항목의 개수를 출력합니다.\n",
    "thistuple = (\"apple\", \"banana\", \"cherry\")\n",
    "print(len(thistuple))"
   ]
  },
  {
   "cell_type": "markdown",
   "id": "fcc6ede5",
   "metadata": {},
   "source": [
    "* 하나의 항목으로 튜플 만들기\n",
    "\n",
    "    - 항목이 하나만 있는 튜플을 만들려면 항목 뒤에 쉼표를 추가해야 합니다. 그렇지 않으면 Python에서 튜플로 인식하지 못합니다."
   ]
  },
  {
   "cell_type": "code",
   "execution_count": 4,
   "id": "86a2d096",
   "metadata": {},
   "outputs": [
    {
     "name": "stdout",
     "output_type": "stream",
     "text": [
      "<class 'tuple'>\n",
      "<class 'str'>\n"
     ]
    }
   ],
   "source": [
    "# 한 개의 항목 튜플, 쉼표를 기억하세요.\n",
    "thistuple = (\"apple\",)\n",
    "print(type(thistuple))\n",
    "\n",
    "# Not a tuple\n",
    "thistuple = (\"apple\")\n",
    "print(type(thistuple))"
   ]
  },
  {
   "cell_type": "markdown",
   "id": "ee4b3066",
   "metadata": {},
   "source": [
    "* 튜플 항목 - 데이터 유형\n",
    "\n",
    "   - 튜플 항목은 모든 데이터 유형이 될 수 있습니다."
   ]
  },
  {
   "cell_type": "code",
   "execution_count": 6,
   "id": "881a0a14",
   "metadata": {},
   "outputs": [
    {
     "name": "stdout",
     "output_type": "stream",
     "text": [
      "<class 'tuple'>\n",
      "<class 'tuple'>\n",
      "<class 'tuple'>\n"
     ]
    }
   ],
   "source": [
    "# 문자열, 정수 및 부울 데이터 유형:\n",
    "tuple1 = (\"apple\", \"banana\", \"cherry\")\n",
    "tuple2 = (1, 5, 7, 9, 3)\n",
    "tuple3 = (True, False, False)\n",
    "\n",
    "print(type(tuple1))\n",
    "print(type(tuple2))\n",
    "print(type(tuple3))"
   ]
  },
  {
   "cell_type": "markdown",
   "id": "73c90b3f",
   "metadata": {},
   "source": [
    "* 튜플에는 다양한 데이터 유형이 포함될 수 있습니다."
   ]
  },
  {
   "cell_type": "code",
   "execution_count": 7,
   "id": "ed830eab",
   "metadata": {},
   "outputs": [
    {
     "name": "stdout",
     "output_type": "stream",
     "text": [
      "<class 'tuple'>\n"
     ]
    }
   ],
   "source": [
    "# 문자열, 정수 및 부울 값을 포함하는 튜플:\n",
    "tuple1 = (\"abc\", 34, True, 40, \"male\")\n",
    "print(type(tuple1))"
   ]
  },
  {
   "cell_type": "markdown",
   "id": "a8d642c8",
   "metadata": {},
   "source": [
    "* Python의 관점에서 튜플은 '튜플'이라는 데이터 유형을 가진 객체로 정의됩니다."
   ]
  },
  {
   "cell_type": "code",
   "execution_count": 8,
   "id": "f4c4db0b",
   "metadata": {},
   "outputs": [
    {
     "name": "stdout",
     "output_type": "stream",
     "text": [
      "<class 'tuple'>\n"
     ]
    }
   ],
   "source": [
    "# 튜플의 데이터 유형은?\n",
    "mytuple = (\"apple\", \"banana\", \"cherry\")\n",
    "print(type(mytuple))"
   ]
  },
  {
   "cell_type": "markdown",
   "id": "53297ec9",
   "metadata": {},
   "source": [
    "* tuple() 생성자\n",
    "\n",
    "    - tuple() 생성자를 사용하여 튜플을 만드는 것도 가능합니다."
   ]
  },
  {
   "cell_type": "code",
   "execution_count": 9,
   "id": "8a747023",
   "metadata": {},
   "outputs": [
    {
     "name": "stdout",
     "output_type": "stream",
     "text": [
      "('apple', 'banana', 'cherry')\n"
     ]
    }
   ],
   "source": [
    "# tuple() 메서드를 사용하여 튜플을 만듭니다.\n",
    "thistuple = tuple((\"apple\", \"banana\", \"cherry\")) # 이중 둥근 괄호에 주목하세요\n",
    "print(thistuple)"
   ]
  },
  {
   "cell_type": "markdown",
   "id": "8944a5e1",
   "metadata": {},
   "source": [
    "* 파이썬 컬렉션(배열)\n",
    "   - Python 프로그래밍 언어에는 4가지 컬렉션 데이터 유형이 있습니다.\n",
    "\n",
    "      - 목록은 정렬되고 변경 가능한 컬렉션입니다. 중복된 멤버를 허용합니다.\n",
    "      - 튜플은 순서가 있고 변경할 수 없는 컬렉션입니다. 중복된 멤버를 허용합니다.\n",
    "      - 집합은 순서가 없고, 변경 불가능하며, 인덱싱되지 않은 컬렉션입니다. 중복된 멤버가 없습니다.\n",
    "      - 딕셔너리는 정렬되고** 변경 가능한 컬렉션입니다. 중복된 멤버는 없습니다."
   ]
  },
  {
   "cell_type": "markdown",
   "id": "3ff95223",
   "metadata": {},
   "source": [
    "* 튜플 항목에 접근하기\n",
    "\n",
    "   - 튜플 항목에 액세스\n",
    "     - 대괄호 안에 인덱스 번호를 참조하여 튜플 항목에 액세스할 수 있습니다.\n",
    "     - 참고: 첫 번째 항목의 인덱스는 0입니다."
   ]
  },
  {
   "cell_type": "code",
   "execution_count": 10,
   "id": "1d915b91",
   "metadata": {},
   "outputs": [
    {
     "name": "stdout",
     "output_type": "stream",
     "text": [
      "banana\n"
     ]
    }
   ],
   "source": [
    "# 튜플의 두 번째 항목을 출력합니다.\n",
    "thistuple = (\"apple\", \"banana\", \"cherry\")\n",
    "print(thistuple[1])"
   ]
  },
  {
   "cell_type": "markdown",
   "id": "6f4426bb",
   "metadata": {},
   "source": [
    "* 음수 인덱싱\n",
    "\n",
    "   - 음수 인덱싱은 끝에서부터 시작한다는 것을 의미합니다.\n",
    "   - -1은 마지막 항목을 참조하고, -2는 두 번째로 마지막 항목을 참조합니다."
   ]
  },
  {
   "cell_type": "code",
   "execution_count": 11,
   "id": "87ba8ee8",
   "metadata": {},
   "outputs": [
    {
     "name": "stdout",
     "output_type": "stream",
     "text": [
      "cherry\n"
     ]
    }
   ],
   "source": [
    "# 튜플의 마지막 항목을 출력합니다.\n",
    "thistuple = (\"apple\", \"banana\", \"cherry\")\n",
    "print(thistuple[-1])"
   ]
  },
  {
   "cell_type": "markdown",
   "id": "882b6cd2",
   "metadata": {},
   "source": [
    "* 인덱스 범위\n",
    "\n",
    "   - 범위의 시작점과 끝점을 지정하여 인덱스 범위를 지정할 수 있습니다.\n",
    "   - 범위를 지정하면 반환 값은 지정된 항목이 포함된 새 튜플이 됩니다."
   ]
  },
  {
   "cell_type": "code",
   "execution_count": 13,
   "id": "58c44b3e",
   "metadata": {},
   "outputs": [
    {
     "name": "stdout",
     "output_type": "stream",
     "text": [
      "('cherry', 'orange', 'kiwi')\n"
     ]
    }
   ],
   "source": [
    "# 세 번째, 네 번째, 다섯 번째 항목을 반환합니다.\n",
    "# 참고: 검색은 인덱스 2(포함)에서 시작하여 인덱스 5(포함되지 않음)에서 끝납니다.\n",
    "thistuple = (\"apple\", \"banana\", \"cherry\", \"orange\", \"kiwi\", \"melon\", \"mango\")\n",
    "print(thistuple[2:5])"
   ]
  },
  {
   "cell_type": "markdown",
   "id": "ae9755bd",
   "metadata": {},
   "source": [
    "* 시작 값을 생략하면 범위는 첫 번째 항목에서 시작됩니다."
   ]
  },
  {
   "cell_type": "code",
   "execution_count": 14,
   "id": "fb3a5c49",
   "metadata": {},
   "outputs": [
    {
     "name": "stdout",
     "output_type": "stream",
     "text": [
      "('apple', 'banana', 'cherry', 'orange')\n"
     ]
    }
   ],
   "source": [
    "# 처음부터 \"kiwi\"를 제외한 항목을 반환합니다.\n",
    "thistuple = (\"apple\", \"banana\", \"cherry\", \"orange\", \"kiwi\", \"melon\", \"mango\")\n",
    "print(thistuple[:4])"
   ]
  },
  {
   "cell_type": "markdown",
   "id": "f2abcb3d",
   "metadata": {},
   "source": [
    "* 끝 값을 생략하면 범위가 튜플의 끝까지 이어집니다."
   ]
  },
  {
   "cell_type": "code",
   "execution_count": 15,
   "id": "768e2af2",
   "metadata": {},
   "outputs": [
    {
     "name": "stdout",
     "output_type": "stream",
     "text": [
      "('cherry', 'orange', 'kiwi', 'melon', 'mango')\n"
     ]
    }
   ],
   "source": [
    "# \"cherry\"부터 끝까지의 항목을 반환합니다.\n",
    "thistuple = (\"apple\", \"banana\", \"cherry\", \"orange\", \"kiwi\", \"melon\", \"mango\")\n",
    "print(thistuple[2:])"
   ]
  },
  {
   "cell_type": "markdown",
   "id": "790daec2",
   "metadata": {},
   "source": [
    "* 음수 지수 범위\n",
    "\n",
    "   - 튜플의 끝에서 검색을 시작하려면 음수 인덱스를 지정하세요."
   ]
  },
  {
   "cell_type": "code",
   "execution_count": 16,
   "id": "95c6dcdd",
   "metadata": {},
   "outputs": [
    {
     "name": "stdout",
     "output_type": "stream",
     "text": [
      "('orange', 'kiwi', 'melon')\n"
     ]
    }
   ],
   "source": [
    "# 인덱스 -4(포함)부터 인덱스 -1(제외)까지의 항목을 반환합니다.\n",
    "thistuple = (\"apple\", \"banana\", \"cherry\", \"orange\", \"kiwi\", \"melon\", \"mango\")\n",
    "print(thistuple[-4:-1])"
   ]
  },
  {
   "cell_type": "markdown",
   "id": "486d490e",
   "metadata": {},
   "source": [
    "* 항목이 있는지 확인\n",
    "\n",
    "   - 튜플에 지정된 항목이 있는지 확인하려면 in 키워드를 사용하세요."
   ]
  },
  {
   "cell_type": "code",
   "execution_count": 17,
   "id": "d12d19a7",
   "metadata": {},
   "outputs": [
    {
     "name": "stdout",
     "output_type": "stream",
     "text": [
      "Yes, 'apple' is in the fruits tuple\n"
     ]
    }
   ],
   "source": [
    "# 튜플에 \"apple\"이 있는지 확인하세요.\n",
    "thistuple = (\"apple\", \"banana\", \"cherry\")\n",
    "if \"apple\" in thistuple:\n",
    "    print(\"Yes, 'apple' is in the fruits tuple\")"
   ]
  },
  {
   "cell_type": "markdown",
   "id": "8c7ca995",
   "metadata": {},
   "source": [
    "* 튜플 업데이트\n",
    "  \n",
    "   - 튜플은 변경할 수 없습니다. 즉, 튜플이 생성된 후에는 항목을 변경, 추가 또는 제거할 수 없습니다."
   ]
  },
  {
   "cell_type": "markdown",
   "id": "b87a961f",
   "metadata": {},
   "source": [
    "* 튜플 값 변경\n",
    "\n",
    "   - 튜플이 생성되면 값을 변경할 수 없습니다. 튜플은 변경할 수 없으며 , 불변(immutable) 이라고도 합니다.\n",
    "   - 하지만 해결 방법이 있습니다. 튜플을 리스트로 변환하고, 리스트를 변경한 후, 리스트를 다시 튜플로 변환하면 됩니다."
   ]
  },
  {
   "cell_type": "code",
   "execution_count": 18,
   "id": "f45f6720",
   "metadata": {},
   "outputs": [
    {
     "name": "stdout",
     "output_type": "stream",
     "text": [
      "('apple', 'kiwi', 'cherry')\n"
     ]
    }
   ],
   "source": [
    "# 튜플을 변경할 수 있도록 목록으로 변환합니다.\n",
    "x = (\"apple\", \"banana\", \"cherry\")\n",
    "y = list(x)\n",
    "y[1] = \"kiwi\"\n",
    "x = tuple(y)\n",
    "\n",
    "print(x)"
   ]
  },
  {
   "cell_type": "markdown",
   "id": "8dc9fba4",
   "metadata": {},
   "source": [
    "* 항목 추가\n",
    "\n",
    "   - 튜플은 변경 불가능하므로 내장 append()메서드가 없지만 튜플에 항목을 추가하는 다른 방법은 있습니다.\n",
    "     - 1. 목록으로 변환 : 튜플을 변경 하는 것과 마찬가지로 목록으로 변환하고, 항목을 추가한 다음, 다시 튜플로 변환할 수 있습니다.\n",
    "     - 2. 튜플에 튜플을 추가합니다. 튜플에 튜플을 추가할 수 있습니다. 따라서 항목을 하나(또는 여러 개) 추가하려면 해당 항목을 포함하는 새 튜플을 생성하여 기존 튜플에 추가합니다."
   ]
  },
  {
   "cell_type": "code",
   "execution_count": null,
   "id": "820d6bda",
   "metadata": {},
   "outputs": [
    {
     "name": "stdout",
     "output_type": "stream",
     "text": [
      "('apple', 'banana', 'cherry', 'orange')\n"
     ]
    }
   ],
   "source": [
    "# 튜플을 리스트로 변환하고, \"orange\"를 추가한 후, 다시 튜플로 변환합니다.\n",
    "thistuple = (\"apple\", \"banana\", \"cherry\")\n",
    "y = list(thistuple)\n",
    "y.append(\"orange\")\n",
    "thistuple = tuple(y)\n",
    "\n",
    "print(thistuple)"
   ]
  },
  {
   "cell_type": "code",
   "execution_count": 27,
   "id": "0b268e43",
   "metadata": {},
   "outputs": [
    {
     "name": "stdout",
     "output_type": "stream",
     "text": [
      "('apple', 'banana', 'cherry', 'orange')\n"
     ]
    }
   ],
   "source": [
    "# 값이 \"orange\"인 새 튜플을 만들고 해당 튜플을 추가합니다.\n",
    "thistuple = (\"apple\", \"banana\", \"cherry\")\n",
    "y = (\"orange\",) # 참고: 항목이 하나만 있는 튜플을 생성할 때는 항목 뒤에 쉼표를 꼭 넣어야 합니다. 그렇지 않으면 튜플로 식별되지 않습니다.\n",
    "thistuple += y\n",
    "\n",
    "print(thistuple)"
   ]
  },
  {
   "cell_type": "markdown",
   "id": "75f01c22",
   "metadata": {},
   "source": [
    "* 항목 제거\n",
    "\n",
    "   - 참고: 튜플의 항목을 제거할 수 없습니다.\n",
    "   - 튜플은 변경할 수 없으므로 튜플에서 항목을 제거할 수 없지만 튜플 항목을 변경하고 추가하는 데 사용한 것과 동일한 해결 방법을 사용할 수 있습니다."
   ]
  },
  {
   "cell_type": "code",
   "execution_count": 30,
   "id": "4989a09b",
   "metadata": {},
   "outputs": [
    {
     "name": "stdout",
     "output_type": "stream",
     "text": [
      "('banana', 'cherry')\n"
     ]
    }
   ],
   "source": [
    "# 튜플을 리스트로 변환하고, \"apple\"을 제거한 후, 다시 튜플로 변환합니다.\n",
    "thistuple = (\"apple\", \"banana\", \"cherry\")\n",
    "y = list(thistuple)\n",
    "y.remove(\"apple\")\n",
    "thistuple = tuple(y)\n",
    "\n",
    "print(thistuple)"
   ]
  },
  {
   "cell_type": "markdown",
   "id": "9dea9830",
   "metadata": {},
   "source": [
    "* 또는 튜플을 완전히 삭제할 수 있습니다."
   ]
  },
  {
   "cell_type": "code",
   "execution_count": 33,
   "id": "f15bdf68",
   "metadata": {},
   "outputs": [
    {
     "ename": "NameError",
     "evalue": "name 'thistuple' is not defined",
     "output_type": "error",
     "traceback": [
      "\u001b[31m---------------------------------------------------------------------------\u001b[39m",
      "\u001b[31mNameError\u001b[39m                                 Traceback (most recent call last)",
      "\u001b[36mCell\u001b[39m\u001b[36m \u001b[39m\u001b[32mIn[33]\u001b[39m\u001b[32m, line 4\u001b[39m\n\u001b[32m      2\u001b[39m thistuple = (\u001b[33m\"\u001b[39m\u001b[33mapple\u001b[39m\u001b[33m\"\u001b[39m, \u001b[33m\"\u001b[39m\u001b[33mbanana\u001b[39m\u001b[33m\"\u001b[39m, \u001b[33m\"\u001b[39m\u001b[33mcherry\u001b[39m\u001b[33m\"\u001b[39m)\n\u001b[32m      3\u001b[39m \u001b[38;5;28;01mdel\u001b[39;00m thistuple\n\u001b[32m----> \u001b[39m\u001b[32m4\u001b[39m \u001b[38;5;28mprint\u001b[39m(\u001b[43mthistuple\u001b[49m) \u001b[38;5;66;03m# 튜플이 더 이상 존재하지 않기 때문에 오류가 발생합니다.\u001b[39;00m\n",
      "\u001b[31mNameError\u001b[39m: name 'thistuple' is not defined"
     ]
    }
   ],
   "source": [
    "# 키워드 del는 튜플을 완전히 삭제할 수 있습니다.\n",
    "thistuple = (\"apple\", \"banana\", \"cherry\")\n",
    "del thistuple\n",
    "print(thistuple) # 튜플이 더 이상 존재하지 않기 때문에 오류가 발생합니다."
   ]
  },
  {
   "cell_type": "markdown",
   "id": "b2213988",
   "metadata": {},
   "source": [
    "* 튜플 압축 해제\n",
    "\n",
    "    - 튜플 풀기\n",
    "      - 튜플을 생성할 때는 일반적으로 값을 할당합니다. 이를 튜플 \"패킹\"이라고 합니다."
   ]
  },
  {
   "cell_type": "code",
   "execution_count": 34,
   "id": "1d954cda",
   "metadata": {},
   "outputs": [],
   "source": [
    "# 튜플 패킹\n",
    "fruits = (\"apple\", \"banana\", \"cherry\")"
   ]
  },
  {
   "cell_type": "markdown",
   "id": "61fb022a",
   "metadata": {},
   "source": [
    "* 하지만 Python에서는 값을 다시 변수로 추출할 수도 있습니다. 이를 \"언패킹(unpacking)\"이라고 합니다.\n",
    "* 참고: 변수의 개수는 튜플의 값 개수와 일치해야 합니다. 일치하지 않으면 별표를 사용하여 나머지 값을 목록으로 수집해야 합니다."
   ]
  },
  {
   "cell_type": "code",
   "execution_count": 35,
   "id": "dadf50e6",
   "metadata": {},
   "outputs": [
    {
     "name": "stdout",
     "output_type": "stream",
     "text": [
      "apple\n",
      "banana\n",
      "cherry\n"
     ]
    }
   ],
   "source": [
    "# 튜플 압축 해제\n",
    "fruits = (\"apple\", \"banana\", \"cherry\")\n",
    "\n",
    "(green, yellow, red) = fruits\n",
    "\n",
    "print(green)\n",
    "print(yellow)\n",
    "print(red)"
   ]
  },
  {
   "cell_type": "markdown",
   "id": "fc0cb2e2",
   "metadata": {},
   "source": [
    "* 별표* 사용\n",
    "\n",
    "   - 변수의 개수가 값의 개수보다 적으면 변수 이름에 을 추가하면 *값이 목록 형태로 변수에 할당됩니다."
   ]
  },
  {
   "cell_type": "code",
   "execution_count": 36,
   "id": "dedea15f",
   "metadata": {},
   "outputs": [
    {
     "name": "stdout",
     "output_type": "stream",
     "text": [
      "apple\n",
      "banana\n",
      "['cherry', 'strawberry', 'raspberry']\n"
     ]
    }
   ],
   "source": [
    "# 나머지 값을 \"red\"라는 목록으로 지정합니다.\n",
    "fruits = (\"apple\", \"banana\", \"cherry\", \"strawberry\", \"raspberry\")\n",
    "\n",
    "(green, yellow, *red) = fruits\n",
    "\n",
    "print(green)\n",
    "print(yellow)\n",
    "print(red)"
   ]
  },
  {
   "cell_type": "markdown",
   "id": "1bfd624c",
   "metadata": {},
   "source": [
    "* 별표가 마지막 변수 이름 외에 다른 변수 이름에 추가되면 Python은 남은 값의 개수가 남은 변수의 개수와 일치할 때까지 변수에 값을 할당합니다."
   ]
  },
  {
   "cell_type": "code",
   "execution_count": 38,
   "id": "a577ea56",
   "metadata": {},
   "outputs": [
    {
     "name": "stdout",
     "output_type": "stream",
     "text": [
      "apple\n",
      "['mango', 'papaya', 'pineapple']\n",
      "cherry\n"
     ]
    }
   ],
   "source": [
    "# \"tropic\" 변수에 값 목록을 추가합니다.\n",
    "fruits = (\"apple\", \"mango\", \"papaya\", \"pineapple\", \"cherry\")\n",
    "\n",
    "(green, *tropic, red) = fruits\n",
    "\n",
    "print(green)\n",
    "print(tropic)\n",
    "print(red)"
   ]
  },
  {
   "cell_type": "markdown",
   "id": "39653ed4",
   "metadata": {},
   "source": [
    "* 루프 튜플\n",
    "\n",
    "    - 튜플을 통한 루프\n",
    "    - for 루프를 사용하여 튜플 항목을 반복할 수 있습니다."
   ]
  },
  {
   "cell_type": "code",
   "execution_count": 39,
   "id": "b0d5ff30",
   "metadata": {},
   "outputs": [
    {
     "name": "stdout",
     "output_type": "stream",
     "text": [
      "apple\n",
      "banana\n",
      "cherry\n"
     ]
    }
   ],
   "source": [
    "# 항목을 반복하고 값을 인쇄합니다.\n",
    "thistuple = (\"apple\", \"banana\", \"cherry\")\n",
    "for x in thistuple:\n",
    "    print(x)"
   ]
  },
  {
   "cell_type": "markdown",
   "id": "c3898365",
   "metadata": {},
   "source": [
    "* 인덱스 번호를 반복합니다\n",
    "\n",
    "    - 튜플 항목의 인덱스 번호를 참조하여 해당 항목을 반복할 수도 있습니다.\n",
    "    - range()및 함수를 사용하여 len()적합한 반복 가능한 항목을 만듭니다."
   ]
  },
  {
   "cell_type": "code",
   "execution_count": 40,
   "id": "73fda54d",
   "metadata": {},
   "outputs": [
    {
     "name": "stdout",
     "output_type": "stream",
     "text": [
      "apple\n",
      "banana\n",
      "cherry\n"
     ]
    }
   ],
   "source": [
    "# 모든 항목을 해당 색인 번호를 참조하여 인쇄하세요.\n",
    "thistuple = (\"apple\", \"banana\", \"cherry\")\n",
    "for i in range(len(thistuple)):\n",
    "    print(thistuple[i])"
   ]
  },
  {
   "cell_type": "markdown",
   "id": "6e0e40ca",
   "metadata": {},
   "source": [
    "* While 루프 사용\n",
    "  \n",
    "    - while 루프를 사용하여 튜플 항목을 반복할 수 있습니다.\n",
    "    - len() 함수를 사용하여 튜플의 길이를 확인한 다음, 0부터 시작하여 인덱스를 참조하여 튜플 항목을 반복합니다.\n",
    "    - 매번 반복할 때마다 인덱스를 1씩 증가시키는 것을 잊지 마세요."
   ]
  },
  {
   "cell_type": "code",
   "execution_count": 42,
   "id": "499c8271",
   "metadata": {},
   "outputs": [
    {
     "name": "stdout",
     "output_type": "stream",
     "text": [
      "apple\n",
      "banana\n",
      "cherry\n"
     ]
    }
   ],
   "source": [
    "# while루프를 사용하여 모든 인덱스 번호를 차례로 살펴보며 모든 항목을 인쇄합니다.\n",
    "thistuple = (\"apple\", \"banana\", \"cherry\")\n",
    "i = 0\n",
    "while i < len(thistuple):\n",
    "    print(thistuple[i])\n",
    "    i = i + 1"
   ]
  },
  {
   "cell_type": "markdown",
   "id": "a6af001f",
   "metadata": {},
   "source": [
    "* 튜플 조인\n",
    "\n",
    "   - 두 개의 튜플을 결합합니다.\n",
    "   - 두 개 이상의 튜플을 결합하려면 다음 + 연산자를 사용할 수 있습니다."
   ]
  },
  {
   "cell_type": "code",
   "execution_count": 43,
   "id": "0f572ba9",
   "metadata": {},
   "outputs": [
    {
     "name": "stdout",
     "output_type": "stream",
     "text": [
      "('a', 'b', 'c', 1, 2, 3)\n"
     ]
    }
   ],
   "source": [
    "# 두 개의 튜플을 결합합니다.\n",
    "tuple1 = (\"a\", \"b\" , \"c\")\n",
    "tuple2 = (1, 2, 3)\n",
    "\n",
    "tuple3= tuple1 + tuple2\n",
    "print(tuple3)"
   ]
  },
  {
   "cell_type": "markdown",
   "id": "c4c28295",
   "metadata": {},
   "source": [
    "* 튜플 곱하기\n",
    "  - 튜플의 내용을 주어진 횟수만큼 곱하려면 다음 * 연산자를 사용하면 됩니다."
   ]
  },
  {
   "cell_type": "code",
   "execution_count": 44,
   "id": "40af46ca",
   "metadata": {},
   "outputs": [
    {
     "name": "stdout",
     "output_type": "stream",
     "text": [
      "('apple', 'banana', 'cherry', 'apple', 'banana', 'cherry')\n"
     ]
    }
   ],
   "source": [
    "# 과일 튜플을 2로 곱합니다.\n",
    "fruits = (\"apple\", \"banana\", \"cherry\")\n",
    "mytuple = fruits * 2\n",
    "print(mytuple)"
   ]
  },
  {
   "cell_type": "markdown",
   "id": "f8fc7934",
   "metadata": {},
   "source": [
    "* 튜플 메서드\n",
    "  - https://www.w3schools.com/python/python_tuples_methods.asp"
   ]
  },
  {
   "cell_type": "markdown",
   "id": "cf29ff6c",
   "metadata": {},
   "source": [
    "* 파이썬 - Sets\n",
    "\n",
    "   - 집합은 여러 항목을 하나의 변수에 저장하는 데 사용됩니다.\n",
    "   - Set은 데이터 컬렉션을 저장하는 데 사용되는 Python의 4가지 내장 데이터 유형 중 하나이고, 나머지 3가지는 List , Tuple , Dictionary 이며 , 각각 다른 특성과 사용법을 가지고 있습니다.\n",
    "   - 집합은 순서가 없고 , 변경 불가능하며 , 색인이 없는 컬렉션입니다.\n",
    "   - 참고: 설정된 아이템은 변경할 수 없지만, 아이템을 삭제하고 새로운 아이템을 추가할 수 있습니다.\n",
    "   - 집합은 중괄호로 표기합니다.\n",
    "   - 참고: 세트에는 순서가 없으므로 항목이 어떤 순서로 나타나는지 확신할 수 없습니다."
   ]
  },
  {
   "cell_type": "code",
   "execution_count": 1,
   "id": "94f8543e",
   "metadata": {},
   "outputs": [
    {
     "name": "stdout",
     "output_type": "stream",
     "text": [
      "{'apple', 'cherry', 'banana'}\n"
     ]
    }
   ],
   "source": [
    "# 세트 만들기\n",
    "thisset = {\"apple\", \"banana\", \"cherry\"}\n",
    "print(thisset)"
   ]
  },
  {
   "cell_type": "markdown",
   "id": "a3ae1dae",
   "metadata": {},
   "source": [
    "* 세트 아이템\n",
    "  - 설정 항목은 순서가 없고, 변경할 수 없으며, 중복된 값을 허용하지 않습니다.\n",
    "\n",
    "* 순서 없음\n",
    "  - 순서 없음은 집합의 항목에 정의된 순서가 없다는 것을 의미합니다.\n",
    "  - 설정된 항목은 사용할 때마다 다른 순서로 나타날 수 있으며, 인덱스나 키로 참조할 수 없습니다.\n",
    "\n",
    "* 변하지 않는\n",
    "  - 세트 항목은 변경할 수 없습니다. 즉, 세트가 생성된 후에는 항목을 변경할 수 없습니다.\n",
    "\n",
    "* 세트가 생성되면 항목을 변경할 수 없지만 항목을 제거하고 새 항목을 추가할 수는 있습니다.\n",
    "\n",
    "* 중복은 허용되지 않습니다.\n",
    "  - 세트에는 같은 값을 갖는 두 항목이 있을 수 없습니다."
   ]
  },
  {
   "cell_type": "code",
   "execution_count": 3,
   "id": "008cfdef",
   "metadata": {},
   "outputs": [
    {
     "name": "stdout",
     "output_type": "stream",
     "text": [
      "{'apple', 'cherry', 'banana'}\n"
     ]
    }
   ],
   "source": [
    "# 중복된 값은 무시됩니다.\n",
    "thisset =  {\"apple\", \"banana\", \"cherry\", \"apple\"}\n",
    "print(thisset)"
   ]
  },
  {
   "cell_type": "markdown",
   "id": "b8dc51c6",
   "metadata": {},
   "source": [
    "* 참고: 값 True 과 값 1은 집합에서 동일한 값으로 간주되며 중복으로 처리됩니다."
   ]
  },
  {
   "cell_type": "code",
   "execution_count": null,
   "id": "d566b779",
   "metadata": {},
   "outputs": [
    {
     "name": "stdout",
     "output_type": "stream",
     "text": [
      "{True, 2, 'apple', 'cherry', 'banana'}\n"
     ]
    }
   ],
   "source": [
    "# True 그리고 1 은 동일한 값으로 간주됩니다.\n",
    "thisset = {\"apple\", \"banana\", \"cherry\", True, 1, 2}\n",
    "print(thisset)"
   ]
  },
  {
   "cell_type": "markdown",
   "id": "57640c75",
   "metadata": {},
   "source": [
    "* 참고: 값 False 과 값 0은 집합에서 동일한 값으로 간주되며 중복으로 처리됩니다."
   ]
  },
  {
   "cell_type": "code",
   "execution_count": 6,
   "id": "db61f7a1",
   "metadata": {},
   "outputs": [
    {
     "name": "stdout",
     "output_type": "stream",
     "text": [
      "{False, True, 'apple', 'cherry', 'banana'}\n"
     ]
    }
   ],
   "source": [
    "# False 그리고 0 은 동일한 값으로 간주됩니다.\n",
    "thisset = {\"apple\", \"banana\", \"cherry\", False, True, 0}\n",
    "print(thisset)"
   ]
  },
  {
   "cell_type": "markdown",
   "id": "4176637b",
   "metadata": {},
   "source": [
    "* 세트의 길이를 구하세요\n",
    "  - 세트에 몇 개의 항목이 있는지 확인하려면 len() 함수를 사용하세요."
   ]
  },
  {
   "cell_type": "code",
   "execution_count": 7,
   "id": "60e192b6",
   "metadata": {},
   "outputs": [
    {
     "name": "stdout",
     "output_type": "stream",
     "text": [
      "3\n"
     ]
    }
   ],
   "source": [
    "# 세트에 있는 항목의 개수를 구하세요.\n",
    "thisset = {\"apple\", \"banana\", \"cherry\"}\n",
    "print(len(thisset))"
   ]
  },
  {
   "cell_type": "markdown",
   "id": "b679e02f",
   "metadata": {},
   "source": [
    "* 항목 설정 - 데이터 유형\n",
    "  - 설정 항목은 모든 데이터 유형이 될 수 있습니다."
   ]
  },
  {
   "cell_type": "code",
   "execution_count": 9,
   "id": "418f6e40",
   "metadata": {},
   "outputs": [
    {
     "name": "stdout",
     "output_type": "stream",
     "text": [
      "{'apple', 'cherry', 'banana'}\n",
      "{1, 3, 5, 7, 9}\n",
      "{False, True}\n"
     ]
    }
   ],
   "source": [
    "# 문자열, 정수 및 부울 데이터 유형\n",
    "set1 = {\"apple\", \"banana\", \"cherry\"}\n",
    "set2 = {1, 5, 7, 9, 3}\n",
    "set3 = {True, False, False}\n",
    "\n",
    "print(set1)\n",
    "print(set2)\n",
    "print(set3)"
   ]
  },
  {
   "cell_type": "markdown",
   "id": "48fcfb6a",
   "metadata": {},
   "source": [
    "* 집합에는 다양한 데이터 유형이 포함될 수 있습니다."
   ]
  },
  {
   "cell_type": "code",
   "execution_count": 11,
   "id": "9e2306c1",
   "metadata": {},
   "outputs": [
    {
     "name": "stdout",
     "output_type": "stream",
     "text": [
      "{True, 34, 'male', 40, 'abc'}\n"
     ]
    }
   ],
   "source": [
    "# 문자열, 정수 및 부울 값을 포함하는 집합\n",
    "set1 = {\"abc\", 34, True, 40, \"male\"}\n",
    "print(set1)"
   ]
  },
  {
   "cell_type": "markdown",
   "id": "8c882975",
   "metadata": {},
   "source": [
    "* Set 의 type()\n",
    "  - Python의 관점에서 보면, 집합은 'set'이라는 데이터 유형을 가진 객체로 정의됩니다."
   ]
  },
  {
   "cell_type": "code",
   "execution_count": 12,
   "id": "dd2f8679",
   "metadata": {},
   "outputs": [
    {
     "name": "stdout",
     "output_type": "stream",
     "text": [
      "<class 'set'>\n"
     ]
    }
   ],
   "source": [
    "# 집합의 데이터 유형은?\n",
    "myset = {\"apple\", \"banana\", \"cherry\"}\n",
    "print(type(myset))"
   ]
  },
  {
   "cell_type": "markdown",
   "id": "b1d32a36",
   "metadata": {},
   "source": [
    "* set() 생성자\n",
    "  - set() 생성자를 사용하여 집합을 만드는 것도 가능합니다."
   ]
  },
  {
   "cell_type": "code",
   "execution_count": 13,
   "id": "23acdbc2",
   "metadata": {},
   "outputs": [
    {
     "name": "stdout",
     "output_type": "stream",
     "text": [
      "{'apple', 'cherry', 'banana'}\n"
     ]
    }
   ],
   "source": [
    "# set() 생성자를 사용하여 집합을 만듭니다.\n",
    "thisset = set((\"apple\", \"banana\", \"cherry\")) # 이중 둥근 괄호에 주목하세요\n",
    "print(thisset)"
   ]
  },
  {
   "cell_type": "markdown",
   "id": "9af86978",
   "metadata": {},
   "source": [
    "* 파이썬 컬렉션(배열)\n",
    "  - Python 프로그래밍 언어에는 4가지 컬렉션 데이터 유형이 있습니다.\n",
    "    \n",
    "    - 목록은 정렬되고 변경 가능한 컬렉션입니다. 중복된 멤버를 허용합니다.\n",
    "    - 튜플은 순서가 있고 변경할 수 없는 컬렉션입니다. 중복된 멤버를 허용합니다.\n",
    "    - 집합은 순서가 없고, 변경 불가능하며, 인덱싱되지 않은 컬렉션입니다. 중복된 멤버가 없습니다.\n",
    "    - 딕셔너리는 정렬되고** 변경 가능한 컬렉션입니다. 중복된 멤버는 없습니다."
   ]
  },
  {
   "cell_type": "markdown",
   "id": "f4dfe628",
   "metadata": {},
   "source": [
    "* set 항목 접근\n",
    "  - 인덱스나 키를 참조하여 집합의 항목에 접근할 수 없습니다.\n",
    "  - 하지만 for 루프를 사용하여 집합의 항목을 순회하거나, in 키워드를 사용하여 지정된 값이 집합에 있는지 확인할 수 있습니다."
   ]
  },
  {
   "cell_type": "code",
   "execution_count": 15,
   "id": "baa3b81e",
   "metadata": {},
   "outputs": [
    {
     "name": "stdout",
     "output_type": "stream",
     "text": [
      "apple\n",
      "cherry\n",
      "banana\n"
     ]
    }
   ],
   "source": [
    "# 집합을 반복하고 값을 출력합니다.\n",
    "thisset = {\"apple\", \"banana\", \"cherry\"}\n",
    "\n",
    "for x in thisset:\n",
    "    print(x)"
   ]
  },
  {
   "cell_type": "code",
   "execution_count": 17,
   "id": "dd4c7e98",
   "metadata": {},
   "outputs": [
    {
     "name": "stdout",
     "output_type": "stream",
     "text": [
      "True\n"
     ]
    }
   ],
   "source": [
    "# 세트에 \"banana\"가 있는지 확인하세요.\n",
    "thisset = {\"apple\", \"banana\", \"cherry\"}\n",
    "print(\"banana\" in thisset)"
   ]
  },
  {
   "cell_type": "code",
   "execution_count": 19,
   "id": "ced0d772",
   "metadata": {},
   "outputs": [
    {
     "name": "stdout",
     "output_type": "stream",
     "text": [
      "False\n"
     ]
    }
   ],
   "source": [
    "# 세트에 \"banana\"가 없는지 확인하세요.\n",
    "thisset = {\"apple\", \"banana\", \"cherry\"}\n",
    "print(\"banana\" not in thisset)"
   ]
  },
  {
   "cell_type": "markdown",
   "id": "51e26fbc",
   "metadata": {},
   "source": [
    "* set 항목 추가\n",
    "\n",
    "  - 세트가 생성되면 항목을 변경할 수 없지만 새 항목을 추가할 수는 있습니다.\n",
    "  - 세트에 항목을 하나 추가하려면 add() 메서드를 사용합니다."
   ]
  },
  {
   "cell_type": "code",
   "execution_count": 25,
   "id": "0b1f174b",
   "metadata": {},
   "outputs": [
    {
     "name": "stdout",
     "output_type": "stream",
     "text": [
      "{'apple', 'cherry', 'orange', 'banana'}\n"
     ]
    }
   ],
   "source": [
    "# add() 메서드를 사용하여 세트에 항목을 추가합니다.\n",
    "# set(집합)은 순서를 보장하지 않는 자료형이라, add()로 \"orange\"를 추가할 때마다 출력 순서가 달라질 수 있습니다.\n",
    "thisset = {\"apple\", \"banana\", \"cherry\"}\n",
    "thisset.add(\"orange\")\n",
    "\n",
    "print(thisset)"
   ]
  },
  {
   "cell_type": "markdown",
   "id": "c94d7692",
   "metadata": {},
   "source": [
    "* 세트 추가\n",
    "  - 다른 세트의 항목을 현재 세트에 추가하려면 update() 메서드를 사용합니다."
   ]
  },
  {
   "cell_type": "code",
   "execution_count": 27,
   "id": "5f2f5d60",
   "metadata": {},
   "outputs": [
    {
     "name": "stdout",
     "output_type": "stream",
     "text": [
      "{'papaya', 'apple', 'cherry', 'banana', 'mango', 'pineapple'}\n"
     ]
    }
   ],
   "source": [
    "# thisset 에 tropical 의 요소를 추가하세요.\n",
    "thisset = {\"apple\", \"banana\", \"cherry\"}\n",
    "tropical = {\"pineapple\", \"mango\", \"papaya\"}\n",
    "\n",
    "thisset.update(tropical)\n",
    "\n",
    "print(thisset)"
   ]
  },
  {
   "cell_type": "markdown",
   "id": "1590a828",
   "metadata": {},
   "source": [
    "* 반복 가능한 항목 추가\n",
    "  - update() 메서드의 객체는 집합일 필요는 없으며, 반복 가능한 객체(튜플, 리스트, 딕셔너리 등)이면 됩니다."
   ]
  },
  {
   "cell_type": "code",
   "execution_count": 28,
   "id": "51b76d29",
   "metadata": {},
   "outputs": [
    {
     "name": "stdout",
     "output_type": "stream",
     "text": [
      "{'apple', 'kiwi', 'cherry', 'orange', 'banana'}\n"
     ]
    }
   ],
   "source": [
    "# set 에 목록의 요소를 추가합니다. \n",
    "thisset = {\"apple\", \"banana\", \"cherry\"}\n",
    "mylist = [\"kiwi\", \"orange\"]\n",
    "\n",
    "thisset.update(mylist)\n",
    "\n",
    "print(thisset)"
   ]
  },
  {
   "cell_type": "markdown",
   "id": "bf7a3b6f",
   "metadata": {},
   "source": [
    "* set 항목 제거\n",
    "  - 세트에서 항목을 제거하려면 remove() 또는 discard() 메서드를 사용합니다.\n",
    "  - 참고: 제거할 항목이 존재하지 않으면 remove() 오류가 발생합니다.\n",
    "  - 참고: 제거할 항목이 존재하지 않으면 discard() 오류가 발생 하지 않습니다."
   ]
  },
  {
   "cell_type": "code",
   "execution_count": 30,
   "id": "79161ada",
   "metadata": {},
   "outputs": [
    {
     "name": "stdout",
     "output_type": "stream",
     "text": [
      "{'apple', 'cherry'}\n"
     ]
    }
   ],
   "source": [
    "# remove() 을 사용하여 \"banana\"를 제거하세요.\n",
    "thisset = {\"apple\", \"banana\", \"cherry\"}\n",
    "\n",
    "thisset.remove(\"banana\")\n",
    "\n",
    "print(thisset)"
   ]
  },
  {
   "cell_type": "code",
   "execution_count": 31,
   "id": "da52bf7d",
   "metadata": {},
   "outputs": [
    {
     "name": "stdout",
     "output_type": "stream",
     "text": [
      "{'apple', 'cherry'}\n"
     ]
    }
   ],
   "source": [
    "#  discard() 을 사용하여 \"banana\"를 제거하세요.\n",
    "thisset = {\"apple\", \"banana\", \"cherry\"}\n",
    "\n",
    "thisset.discard(\"banana\")\n",
    "\n",
    "print(thisset)"
   ]
  },
  {
   "cell_type": "markdown",
   "id": "1a8b81e6",
   "metadata": {},
   "source": [
    "* pop() 메서드를 사용하여 항목을 제거할 수도 있지만, 이 메서드는 무작위 항목을 제거하므로 어떤 항목이 제거되는지 확신할 수 없습니다.\n",
    "* pop() 메서드의 반환값은 제거된 항목입니다.\n",
    "* 참고: 집합은 순서가 없으므로 pop() 메서드를 사용할 때 어떤 항목이 제거되는지 알 수 없습니다."
   ]
  },
  {
   "cell_type": "code",
   "execution_count": 37,
   "id": "375dd938",
   "metadata": {},
   "outputs": [
    {
     "name": "stdout",
     "output_type": "stream",
     "text": [
      "apple\n",
      "{'cherry', 'banana'}\n"
     ]
    }
   ],
   "source": [
    "# pop() 메서드를 사용하여 무작위 항목을 제거합니다.\n",
    "thisset = {\"apple\", \"banana\", \"cherry\"}\n",
    "\n",
    "x = thisset.pop()\n",
    "\n",
    "print(x)\n",
    "\n",
    "print(thisset)"
   ]
  },
  {
   "cell_type": "code",
   "execution_count": 38,
   "id": "39a4e1ff",
   "metadata": {},
   "outputs": [
    {
     "name": "stdout",
     "output_type": "stream",
     "text": [
      "set()\n"
     ]
    }
   ],
   "source": [
    "# clear() 메서드는 집합을 비웁니다.\n",
    "thisset = {\"apple\", \"banana\", \"cherry\"}\n",
    "\n",
    "thisset.clear()\n",
    "\n",
    "print(thisset)"
   ]
  },
  {
   "cell_type": "code",
   "execution_count": 39,
   "id": "1a68c011",
   "metadata": {},
   "outputs": [
    {
     "ename": "NameError",
     "evalue": "name 'thisset' is not defined",
     "output_type": "error",
     "traceback": [
      "\u001b[31m---------------------------------------------------------------------------\u001b[39m",
      "\u001b[31mNameError\u001b[39m                                 Traceback (most recent call last)",
      "\u001b[36mCell\u001b[39m\u001b[36m \u001b[39m\u001b[32mIn[39]\u001b[39m\u001b[32m, line 6\u001b[39m\n\u001b[32m      2\u001b[39m thisset = {\u001b[33m\"\u001b[39m\u001b[33mapple\u001b[39m\u001b[33m\"\u001b[39m, \u001b[33m\"\u001b[39m\u001b[33mbanana\u001b[39m\u001b[33m\"\u001b[39m, \u001b[33m\"\u001b[39m\u001b[33mcherry\u001b[39m\u001b[33m\"\u001b[39m}\n\u001b[32m      4\u001b[39m \u001b[38;5;28;01mdel\u001b[39;00m thisset\n\u001b[32m----> \u001b[39m\u001b[32m6\u001b[39m \u001b[38;5;28mprint\u001b[39m(\u001b[43mthisset\u001b[49m)\n",
      "\u001b[31mNameError\u001b[39m: name 'thisset' is not defined"
     ]
    }
   ],
   "source": [
    "# del 키워드는 set 를 완전히 삭제합니다.\n",
    "thisset = {\"apple\", \"banana\", \"cherry\"}\n",
    "\n",
    "del thisset\n",
    "\n",
    "print(thisset)"
   ]
  },
  {
   "cell_type": "markdown",
   "id": "992e9095",
   "metadata": {},
   "source": [
    "* set 반복\n",
    "  - for 루프를 사용하여 set 항목을 반복할 수 있습니다."
   ]
  },
  {
   "cell_type": "code",
   "execution_count": 40,
   "id": "cd77b88d",
   "metadata": {},
   "outputs": [
    {
     "name": "stdout",
     "output_type": "stream",
     "text": [
      "apple\n",
      "cherry\n",
      "banana\n"
     ]
    }
   ],
   "source": [
    "# 집합을 반복하고 값을 출력합니다.\n",
    "thisset = {\"apple\", \"banana\", \"cherry\"}\n",
    "\n",
    "for x in thisset:\n",
    "    print(x)"
   ]
  },
  {
   "cell_type": "markdown",
   "id": "ff142b7e",
   "metadata": {},
   "source": [
    "* set 결합\n",
    "\n",
    "  - Python에서 두 개 이상의 집합을 결합하는 방법은 여러 가지가 있습니다.\n",
    "  - union()과 update() 메서드는 두 집합의 모든 항목을 결합합니다.\n",
    "  - intersection() 메서드는 중복된 항목만 유지합니다.\n",
    "  - difference() 메서드는 첫 번째 집합의 항목 중 다른 집합에는 없는 항목을 유지합니다.\n",
    "  - symmetric_difference() 메서드는 중복된 항목을 제외한 모든 항목을 유지합니다."
   ]
  },
  {
   "cell_type": "markdown",
   "id": "f332a713",
   "metadata": {},
   "source": [
    "* Union\n",
    "  - union() 메서드는 두 집합의 모든 항목을 포함하는 새 집합을 반환합니다."
   ]
  },
  {
   "cell_type": "code",
   "execution_count": 41,
   "id": "7594527e",
   "metadata": {},
   "outputs": [
    {
     "name": "stdout",
     "output_type": "stream",
     "text": [
      "{'b', 1, 'c', 2, 3, 'a'}\n"
     ]
    }
   ],
   "source": [
    "# set1과 set2를 새로운 세트로 결합합니다.\n",
    "set1 = {\"a\", \"b\", \"c\"}\n",
    "set2 = {1, 2, 3}\n",
    "\n",
    "set3 = set1.union(set2)\n",
    "print(set3)"
   ]
  },
  {
   "cell_type": "markdown",
   "id": "92c2d704",
   "metadata": {},
   "source": [
    "* union() 메서드 대신 | 연산자를 사용하면 동일한 결과를 얻을 수 있습니다."
   ]
  },
  {
   "cell_type": "code",
   "execution_count": 42,
   "id": "574e652e",
   "metadata": {},
   "outputs": [
    {
     "name": "stdout",
     "output_type": "stream",
     "text": [
      "{'b', 1, 'c', 2, 3, 'a'}\n"
     ]
    }
   ],
   "source": [
    "# 두 set 를 결합하려면 |를 사용합니다.\n",
    "set1 = {\"a\", \"b\", \"c\"}\n",
    "set2 = {1, 2, 3}\n",
    "\n",
    "set3 = set1 | set2\n",
    "print(set3)"
   ]
  },
  {
   "cell_type": "markdown",
   "id": "fd444d40",
   "metadata": {},
   "source": [
    "* 여러 set 결합\n",
    "\n",
    "  - 모든 결합 방법과 연산자를 사용하여 여러 set 를 결합할 수 있습니다.\n",
    "  - 방법을 사용할 때는 괄호 안에 쉼표로 구분하여 set 를 추가하기만 하면 됩니다."
   ]
  },
  {
   "cell_type": "code",
   "execution_count": 43,
   "id": "3197fb1b",
   "metadata": {},
   "outputs": [
    {
     "name": "stdout",
     "output_type": "stream",
     "text": [
      "{'John', 1, 'c', 2, 3, 'apple', 'b', 'bananas', 'cherry', 'a', 'Elena'}\n"
     ]
    }
   ],
   "source": [
    "# union() 메서드를 사용하여 여러 set 를 결합합니다.\n",
    "set1 = {\"a\", \"b\", \"c\"}\n",
    "set2 = {1, 2, 3}\n",
    "set3 = {\"John\", \"Elena\"}\n",
    "set4 = {\"apple\", \"bananas\", \"cherry\"}\n",
    "\n",
    "myset = set1.union(set2, set3, set4)\n",
    "print(myset)"
   ]
  },
  {
   "cell_type": "markdown",
   "id": "1664d7d5",
   "metadata": {},
   "source": [
    "* | 연산자를 사용할 때는 더 많은 | 연산자로 set 를 구분하세요."
   ]
  },
  {
   "cell_type": "code",
   "execution_count": 44,
   "id": "f4634106",
   "metadata": {},
   "outputs": [
    {
     "name": "stdout",
     "output_type": "stream",
     "text": [
      "{'John', 1, 'c', 2, 3, 'apple', 'b', 'bananas', 'cherry', 'a', 'Elena'}\n"
     ]
    }
   ],
   "source": [
    "# 두 set 를 결합하려면 |를 사용합니다.\n",
    "set1 = {\"a\", \"b\", \"c\"}\n",
    "set2 = {1, 2, 3}\n",
    "set3 = {\"John\", \"Elena\"}\n",
    "set4 = {\"apple\", \"bananas\", \"cherry\"}\n",
    "\n",
    "myset = set1 | set2 | set3 | set4\n",
    "print(myset)"
   ]
  },
  {
   "cell_type": "markdown",
   "id": "2baa1f12",
   "metadata": {},
   "source": [
    "* set 과 튜플 결합\n",
    "   - union() 메서드를 사용하면 set 을 리스트나 튜플과 같은 다른 데이터 유형과 결합할 수 있습니다.\n",
    "   - 결과는 set 이 됩니다.\n",
    "   - 참고: | 연산자는 set 끼리만 결합할 수 있고, union() 메서드처럼 다른 데이터 유형과는 결합할 수 없습니다."
   ]
  },
  {
   "cell_type": "code",
   "execution_count": 45,
   "id": "8fda7756",
   "metadata": {},
   "outputs": [
    {
     "name": "stdout",
     "output_type": "stream",
     "text": [
      "{1, 'c', 2, 3, 'b', 'a'}\n"
     ]
    }
   ],
   "source": [
    "# 튜플로 set 을 조인합니다.\n",
    "x = {\"a\", \"b\", \"c\"} # set\n",
    "y = (1, 2, 3) # tuple\n",
    "\n",
    "z = x.union(y)\n",
    "print(z)"
   ]
  },
  {
   "cell_type": "markdown",
   "id": "205ca4ad",
   "metadata": {},
   "source": [
    "* set - 업데이트\n",
    "\n",
    "  - update() 메서드는 한 set 의 모든 항목을 다른 set 에 삽입합니다.\n",
    "  - update()는 원래 set 을 변경하며, 새 set 을 반환하지 않습니다.\n",
    "  - 참고: union()과 update()는 모두 중복 항목을 제외합니다."
   ]
  },
  {
   "cell_type": "code",
   "execution_count": 46,
   "id": "55ebadbe",
   "metadata": {},
   "outputs": [
    {
     "name": "stdout",
     "output_type": "stream",
     "text": [
      "{'b', 1, 'c', 2, 3, 'a'}\n"
     ]
    }
   ],
   "source": [
    "# update() 메서드는 set2의 항목을 set1에 삽입합니다.\n",
    "set1 = {\"a\", \"b\" , \"c\"}\n",
    "set2 = {1, 2, 3}\n",
    "\n",
    "set1.update(set2)\n",
    "print(set1)"
   ]
  },
  {
   "cell_type": "markdown",
   "id": "d972a812",
   "metadata": {},
   "source": [
    "* set - 교집합\n",
    "\n",
    "  - 중복된 항목만 유지합니다.\n",
    "  - intersection() 메서드는 두 set 에 모두 존재하는 항목만 포함하는 새 set 을 반환합니다."
   ]
  },
  {
   "cell_type": "code",
   "execution_count": 47,
   "id": "d9c9665b",
   "metadata": {},
   "outputs": [
    {
     "name": "stdout",
     "output_type": "stream",
     "text": [
      "{'apple'}\n"
     ]
    }
   ],
   "source": [
    "# set1과 set2를 결합하지만 중복된 것만 유지합니다.\n",
    "set1 = {\"apple\", \"banana\", \"cherry\"}\n",
    "set2 = {\"google\", \"microsoft\", \"apple\"}\n",
    "\n",
    "set3 = set1.intersection(set2)\n",
    "print(set3)"
   ]
  },
  {
   "cell_type": "markdown",
   "id": "7aa856ab",
   "metadata": {},
   "source": [
    "* intersection() 메서드 대신 & 연산자를 사용하면 동일한 결과를 얻을 수 있습니다.\n",
    "* 참고: & 연산자는 집합끼리만 결합할 수 있고, intersection() 메서드처럼 다른 데이터 유형과는 결합할 수 없습니다."
   ]
  },
  {
   "cell_type": "code",
   "execution_count": 48,
   "id": "fa1e0eea",
   "metadata": {},
   "outputs": [
    {
     "name": "stdout",
     "output_type": "stream",
     "text": [
      "{'apple'}\n"
     ]
    }
   ],
   "source": [
    "# 두 set 를 결합하려면 &를 사용합니다.\n",
    "set1 = {\"apple\", \"banana\", \"cherry\"}\n",
    "set2 = {\"google\", \"microsoft\", \"apple\"}\n",
    "\n",
    "set3 = set1 & set2\n",
    "print(set3)"
   ]
  },
  {
   "cell_type": "markdown",
   "id": "6185daf7",
   "metadata": {},
   "source": [
    "* intersection_update() 메서드는 중복된 항목만 유지하지만, 새로운 세트를 반환하는 대신 원본 세트를 변경합니다."
   ]
  },
  {
   "cell_type": "code",
   "execution_count": 50,
   "id": "31059616",
   "metadata": {},
   "outputs": [
    {
     "name": "stdout",
     "output_type": "stream",
     "text": [
      "{'apple'}\n"
     ]
    }
   ],
   "source": [
    "# set1과 set2에 모두 존재하는 항목을 유지합니다.\n",
    "set1 = {\"apple\", \"banana\", \"cherry\"}\n",
    "set2 = {\"google\", \"microsoft\", \"apple\"}\n",
    "\n",
    "set1.intersection_update(set2)\n",
    "\n",
    "print(set1)"
   ]
  },
  {
   "cell_type": "markdown",
   "id": "86aba7e7",
   "metadata": {},
   "source": [
    "* True와 1은 같은 값으로 간주됩니다. False와 0도 마찬가지입니다."
   ]
  },
  {
   "cell_type": "code",
   "execution_count": 51,
   "id": "efbf0efe",
   "metadata": {},
   "outputs": [
    {
     "name": "stdout",
     "output_type": "stream",
     "text": [
      "{False, 1, 'apple'}\n"
     ]
    }
   ],
   "source": [
    "# True, False, 1, 0 값을 포함하는 집합을 결합하고 무엇이 중복으로 간주되는지 확인하세요.\n",
    "set1 = {\"apple\", 1,  \"banana\", 0, \"cherry\"}\n",
    "set2 = {False, \"google\", 1, \"apple\", 2, True}\n",
    "\n",
    "set3 = set1.intersection(set2)\n",
    "\n",
    "print(set3)"
   ]
  },
  {
   "cell_type": "markdown",
   "id": "77dcd18a",
   "metadata": {},
   "source": [
    "* set - Difference\n",
    "  - difference() 메서드는 다른 set 에는 없는 첫 번째 set 의 항목만 포함하는 새 set 를 반환합니다."
   ]
  },
  {
   "cell_type": "code",
   "execution_count": 52,
   "id": "6979f2b2",
   "metadata": {},
   "outputs": [
    {
     "name": "stdout",
     "output_type": "stream",
     "text": [
      "{'cherry', 'banana'}\n"
     ]
    }
   ],
   "source": [
    "# set2에 없는 set1의 모든 항목을 유지합니다.\n",
    "set1 = {\"apple\", \"banana\", \"cherry\"}\n",
    "set2 = {\"google\", \"microsoft\", \"apple\"}\n",
    "\n",
    "set3 = set1.difference(set2)\n",
    "\n",
    "print(set3)"
   ]
  },
  {
   "cell_type": "markdown",
   "id": "b194409b",
   "metadata": {},
   "source": [
    "* difference() 메서드 대신 - 연산자를 사용하면 동일한 결과를 얻을 수 있습니다.\n",
    "* 참고: - 연산자는 집합끼리만 결합할 수 있고, difference() 메서드처럼 다른 데이터 유형과는 결합할 수 없습니다."
   ]
  },
  {
   "cell_type": "code",
   "execution_count": 53,
   "id": "4cbf758f",
   "metadata": {},
   "outputs": [
    {
     "name": "stdout",
     "output_type": "stream",
     "text": [
      "{'cherry', 'banana'}\n"
     ]
    }
   ],
   "source": [
    "# - 를 사용하여 두 set 를 결합합니다.\n",
    "set1 = {\"apple\", \"banana\", \"cherry\"}\n",
    "set2 = {\"google\", \"microsoft\", \"apple\"}\n",
    "\n",
    "set3 = set1 - set2\n",
    "\n",
    "print(set3)"
   ]
  },
  {
   "cell_type": "markdown",
   "id": "5abed797",
   "metadata": {},
   "source": [
    "* difference_update() 메서드는 다른 세트에 없는 첫 번째 세트의 항목을 유지하지만, 새로운 세트를 반환하는 대신 원래 세트를 변경합니다."
   ]
  },
  {
   "cell_type": "code",
   "execution_count": 54,
   "id": "04cf3d2d",
   "metadata": {},
   "outputs": [
    {
     "name": "stdout",
     "output_type": "stream",
     "text": [
      "{'cherry', 'banana'}\n"
     ]
    }
   ],
   "source": [
    "# 두 세트에 모두 없는 항목을 유지하려면 difference_update() 메서드를 사용합니다.\n",
    "set1 = {\"apple\", \"banana\", \"cherry\"}\n",
    "set2 = {\"google\", \"microsoft\", \"apple\"}\n",
    "\n",
    "set1.difference_update(set2)\n",
    "\n",
    "print(set1)"
   ]
  },
  {
   "cell_type": "markdown",
   "id": "e5f3c0fd",
   "metadata": {},
   "source": [
    "* set - Symmetric Differences (대칭 차이)\n",
    "  - symmetric_difference() 메서드는 두 set 모두에 존재하지 않는 요소만 유지합니다."
   ]
  },
  {
   "cell_type": "code",
   "execution_count": 55,
   "id": "ed1b3155",
   "metadata": {},
   "outputs": [
    {
     "name": "stdout",
     "output_type": "stream",
     "text": [
      "{'microsoft', 'cherry', 'banana', 'google'}\n"
     ]
    }
   ],
   "source": [
    "# 두 set 모두에 없는 항목은 그대로 두세요.\n",
    "set1 = {\"apple\", \"banana\", \"cherry\"}\n",
    "set2 = {\"google\", \"microsoft\", \"apple\"}\n",
    "\n",
    "set3 = set1.symmetric_difference(set2)\n",
    "\n",
    "print(set3)"
   ]
  },
  {
   "cell_type": "markdown",
   "id": "06211ee3",
   "metadata": {},
   "source": [
    "* symmetric_difference() 메서드 대신 ^ 연산자를 사용하면 동일한 결과를 얻을 수 있습니다.\n",
    "* 참고: ^ 연산자는 집합끼리만 결합할 수 있고, symmetric_difference() 메서드처럼 다른 데이터 유형과는 결합할 수 없습니다."
   ]
  },
  {
   "cell_type": "code",
   "execution_count": 1,
   "id": "a9b7547c",
   "metadata": {},
   "outputs": [
    {
     "name": "stdout",
     "output_type": "stream",
     "text": [
      "{'google', 'microsoft', 'cherry', 'banana'}\n"
     ]
    }
   ],
   "source": [
    "# 두 set 를 결합하려면 ^를 사용하세요.\n",
    "set1 = {\"apple\", \"banana\", \"cherry\"}\n",
    "set2 = {\"google\", \"microsoft\", \"apple\"}\n",
    "\n",
    "set3 = set1 ^ set2\n",
    "\n",
    "print(set3)"
   ]
  },
  {
   "cell_type": "markdown",
   "id": "3f0e28d7",
   "metadata": {},
   "source": [
    "* symmetric_difference_update() 메서드는 중복된 항목을 제외한 모든 항목을 유지하지만, 새 세트를 반환하는 대신 원본 세트를 변경합니다."
   ]
  },
  {
   "cell_type": "code",
   "execution_count": 2,
   "id": "058fbfbf",
   "metadata": {},
   "outputs": [
    {
     "name": "stdout",
     "output_type": "stream",
     "text": [
      "{'cherry', 'banana', 'google', 'microsoft'}\n"
     ]
    }
   ],
   "source": [
    "# 두 set 에 모두 존재하지 않는 항목을 유지하려면 symmetric_difference_update() 메서드를 사용합니다.\n",
    "set1 = {\"apple\", \"banana\", \"cherry\"}\n",
    "set2 = {\"google\", \"microsoft\", \"apple\"}\n",
    "\n",
    "set1.symmetric_difference_update(set2)\n",
    "\n",
    "print(set1)"
   ]
  },
  {
   "cell_type": "markdown",
   "id": "a5b79d41",
   "metadata": {},
   "source": [
    "* set - frozenset\n",
    "\n",
    "  - frozenset은 set의 불변 버전입니다.\n",
    "  - set과 마찬가지로, frozenset은 고유하고 순서가 없으며 변경할 수 없는 요소를 포함합니다.\n",
    "  - set과 달리 frozenset에서는 요소를 추가하거나 제거할 수 없습니다."
   ]
  },
  {
   "cell_type": "markdown",
   "id": "be9328c6",
   "metadata": {},
   "source": [
    "* frozenset 만들기\n",
    "  - frozenset() 생성자를 사용하여 반복 가능한 객체로부터 frozenset을 만듭니다.\n",
    "  \n",
    "  - frozenset methods\n",
    "    - https://www.w3schools.com/python/python_frozenset.asp"
   ]
  },
  {
   "cell_type": "code",
   "execution_count": 3,
   "id": "477d6701",
   "metadata": {},
   "outputs": [
    {
     "name": "stdout",
     "output_type": "stream",
     "text": [
      "frozenset({'apple', 'cherry', 'banana'})\n",
      "<class 'frozenset'>\n"
     ]
    }
   ],
   "source": [
    "# frozenset을 생성하고 해당 유형을 확인하세요.\n",
    "x = frozenset({\"apple\", \"banana\", \"cherry\"})\n",
    "print(x)\n",
    "print(type(x))"
   ]
  },
  {
   "cell_type": "markdown",
   "id": "b13e79dc",
   "metadata": {},
   "source": [
    "* Set Methods\n",
    "  - https://www.w3schools.com/python/python_sets_methods.asp"
   ]
  },
  {
   "cell_type": "markdown",
   "id": "66adef99",
   "metadata": {},
   "source": [
    "* set - Dictionary\n",
    "\n",
    "  - Dictionary 은 키:값 쌍으로 데이터 값을 저장하는 데 사용됩니다.\n",
    "  - Dictionary 은 순서가 있고, 변경 가능하며, 중복을 허용하지 않는 컬렉션입니다.\n",
    "  - Python 3.7 버전부터 Dictionary 은 순서가 있습니다. Python 3.6 이하 버전에서는 Dictionary 이 순서가 없습니다.\n",
    "  - Dictionary 은 중괄호로 작성되며, 키와 값을 가집니다."
   ]
  },
  {
   "cell_type": "code",
   "execution_count": 5,
   "id": "284a6379",
   "metadata": {},
   "outputs": [
    {
     "name": "stdout",
     "output_type": "stream",
     "text": [
      "{'brand': 'Ford', 'model': 'Mustang', 'year': 1964}\n"
     ]
    }
   ],
   "source": [
    "# Dictionary 를 만들고 출력하세요.\n",
    "thisdict = {\n",
    "    \"brand\": \"Ford\",\n",
    "    \"model\": \"Mustang\",\n",
    "    \"year\": 1964\n",
    "}\n",
    "print(thisdict)"
   ]
  },
  {
   "cell_type": "markdown",
   "id": "b010edc1",
   "metadata": {},
   "source": [
    "* Dictionary 항목\n",
    "  - Dictionary 항목은 정렬되고 변경 가능하며 중복을 허용하지 않습니다.\n",
    "  - Dictionary 항목은 키:값 쌍으로 표시되며 키 이름을 사용하여 참조할 수 있습니다."
   ]
  },
  {
   "cell_type": "code",
   "execution_count": 6,
   "id": "6e9db4e1",
   "metadata": {},
   "outputs": [
    {
     "name": "stdout",
     "output_type": "stream",
     "text": [
      "Ford\n"
     ]
    }
   ],
   "source": [
    "# Dictionary 의 \"brand\" 값을 출력하세요.\n",
    "thisdict = {\n",
    "    \"brand\": \"Ford\",\n",
    "    \"model\": \"Mustang\",\n",
    "    \"year\": 1964\n",
    "}\n",
    "print(thisdict[\"brand\"])"
   ]
  },
  {
   "cell_type": "markdown",
   "id": "5e5ad388",
   "metadata": {},
   "source": [
    "* set - Dictionary\n",
    "  - 순서가 있나요, 아니면 순서가 없나요?\n",
    "    - Python 3.7 버전부터 Dictionary 은 순서가 있습니다. Python 3.6 이하 버전에서는 Dictionary 이 순서가 없습니다.\n",
    "    - Dictionary 이 순서가 있다는 것은 항목에 정의된 순서가 있으며, 그 순서는 변경되지 않는다는 것을 의미합니다.\n",
    "    - 순서가 없다는 것은 항목에 정의된 순서가 없으며, 인덱스를 사용하여 항목을 참조할 수 없다는 것을 의미합니다.\n",
    "\n",
    "  - 변경 가능\n",
    "    - Dictionary 은 변경 가능합니다. 즉, Dictionary 이 생성된 후에도 항목을 변경, 추가 또는 제거할 수 있습니다.\n",
    "  \n",
    "  - 중복 불가\n",
    "    - Dictionary 에는 동일한 키를 가진 두 항목이 있을 수 없습니다."
   ]
  },
  {
   "cell_type": "code",
   "execution_count": 7,
   "id": "4304f283",
   "metadata": {},
   "outputs": [
    {
     "name": "stdout",
     "output_type": "stream",
     "text": [
      "{'brand': 'Ford', 'model': 'Mustang', 'year': 2020}\n"
     ]
    }
   ],
   "source": [
    "# 중복된 값은 기존 값을 덮어씁니다.\n",
    "thisdict = {\n",
    "    \"brand\": \"Ford\",\n",
    "    \"model\": \"Mustang\",\n",
    "    \"year\": 1964,\n",
    "    \"year\": 2020\n",
    "}\n",
    "print(thisdict)"
   ]
  },
  {
   "cell_type": "markdown",
   "id": "2ec76055",
   "metadata": {},
   "source": [
    "* Dictionary 길이\n",
    "  - Dictionary 에 있는 항목 수를 확인하려면 len() 함수를 사용하세요."
   ]
  },
  {
   "cell_type": "code",
   "execution_count": 8,
   "id": "820e7f00",
   "metadata": {},
   "outputs": [
    {
     "name": "stdout",
     "output_type": "stream",
     "text": [
      "3\n"
     ]
    }
   ],
   "source": [
    "# Dictionary 의 항목 수를 출력하세요.\n",
    "print(len(thisdict))"
   ]
  },
  {
   "cell_type": "markdown",
   "id": "2d5798c1",
   "metadata": {},
   "source": [
    "* Dictionary Items - Data Types\n",
    "  \n",
    "   - Dictionary 항목의 값은 모든 데이터 유형이 될 수 있습니다."
   ]
  },
  {
   "cell_type": "code",
   "execution_count": 9,
   "id": "ba9f5baa",
   "metadata": {},
   "outputs": [
    {
     "name": "stdout",
     "output_type": "stream",
     "text": [
      "{'brand': 'Ford', 'electric': False, 'year': 1964, 'colors': ['red', 'white', 'blue']}\n"
     ]
    }
   ],
   "source": [
    "# 문자열, 정수, 부울 및 목록 데이터 유형\n",
    "thisdict = {\n",
    "    \"brand\": \"Ford\",\n",
    "    \"electric\": False,\n",
    "    \"year\": 1964,\n",
    "    \"colors\": [\"red\", \"white\", \"blue\"]\n",
    "}\n",
    "print(thisdict)"
   ]
  },
  {
   "cell_type": "markdown",
   "id": "85597557",
   "metadata": {},
   "source": [
    "* Dictionary 의 type()\n",
    "  - Python 관점에서 Dictionary 는 'dict' 데이터 유형을 가진 객체로 정의됩니다."
   ]
  },
  {
   "cell_type": "code",
   "execution_count": null,
   "id": "9299c4b9",
   "metadata": {},
   "outputs": [
    {
     "name": "stdout",
     "output_type": "stream",
     "text": [
      "<class 'dict'>\n"
     ]
    }
   ],
   "source": [
    "# Dictionary 의 데이터 유형을 출력합니다.\n",
    "thisdict = {\n",
    "    \"brand\": \"Ford\",\n",
    "    \"model\": \"Mustang\",\n",
    "    \"year\": 1964\n",
    "}\n",
    "print(type(thisdict))"
   ]
  },
  {
   "cell_type": "markdown",
   "id": "b71868ac",
   "metadata": {},
   "source": [
    "* dict() 생성자\n",
    "  - dict() 생성자를 사용하여 Dictionary 을 만들 수도 있습니다."
   ]
  },
  {
   "cell_type": "code",
   "execution_count": 11,
   "id": "44765eb6",
   "metadata": {},
   "outputs": [
    {
     "name": "stdout",
     "output_type": "stream",
     "text": [
      "{'name': 'John', 'age': 36, 'country': 'Norway'}\n"
     ]
    }
   ],
   "source": [
    "# dict() 메서드를 사용하여 Dictionary 을 만듭니다.\n",
    "thisdict = dict(name = \"John\", age = 36, country = \"Norway\")\n",
    "print(thisdict)"
   ]
  },
  {
   "cell_type": "markdown",
   "id": "e7467106",
   "metadata": {},
   "source": [
    "* Python 컬렉션(배열)\n",
    "  - Python 프로그래밍 언어에는 네 가지 컬렉션 데이터 유형이 있습니다.\n",
    "\n",
    "    - List는 순서가 있고 변경 가능한 컬렉션입니다. 중복된 멤버를 허용합니다.\n",
    "    - Tuple은 순서가 있고 변경 불가능한 컬렉션입니다. 중복된 멤버를 허용합니다.\n",
    "    - Set은 순서가 없고, 변경 불가능하며,* 인덱스가 없는 컬렉션입니다. 중복된 멤버는 없습니다.\n",
    "    - Dictionary는 순서가 있고** 변경 가능한 컬렉션입니다. 중복된 멤버는 없습니다."
   ]
  },
  {
   "cell_type": "markdown",
   "id": "fb183811",
   "metadata": {},
   "source": [
    "* Dictionary 항목 액세스\n",
    "  - 대괄호 안에 키 이름을 참조하면 Dictionary 항목에 액세스할 수 있습니다."
   ]
  },
  {
   "cell_type": "code",
   "execution_count": 13,
   "id": "9f5962d3",
   "metadata": {},
   "outputs": [
    {
     "name": "stdout",
     "output_type": "stream",
     "text": [
      "Mustang\n"
     ]
    }
   ],
   "source": [
    "# \"모델\" 키의 값을 가져옵니다.\n",
    "thisdict = {\n",
    "    \"brand\": \"Ford\",\n",
    "    \"model\": \"Mustang\",\n",
    "    \"year\": 1964\n",
    "}\n",
    "x = thisdict[\"model\"]\n",
    "print(x)"
   ]
  },
  {
   "cell_type": "markdown",
   "id": "c0e361cc",
   "metadata": {},
   "source": [
    "* 동일한 결과를 제공하는 get()이라는 메서드도 있습니다."
   ]
  },
  {
   "cell_type": "code",
   "execution_count": 15,
   "id": "b050cd85",
   "metadata": {},
   "outputs": [
    {
     "name": "stdout",
     "output_type": "stream",
     "text": [
      "Mustang\n"
     ]
    }
   ],
   "source": [
    "# \"모델\" 키의 값을 가져옵니다.\n",
    "x = thisdict.get(\"model\")\n",
    "print(x)"
   ]
  },
  {
   "cell_type": "markdown",
   "id": "9771b1e6",
   "metadata": {},
   "source": [
    "* 키 가져오기\n",
    "  - keys() 메서드는 Dictionary 의 모든 키 목록을 반환합니다."
   ]
  },
  {
   "cell_type": "code",
   "execution_count": 17,
   "id": "1c623bbb",
   "metadata": {},
   "outputs": [
    {
     "name": "stdout",
     "output_type": "stream",
     "text": [
      "dict_keys(['brand', 'model', 'year'])\n"
     ]
    }
   ],
   "source": [
    "# 키 목록을 받으세요.\n",
    "x = thisdict.keys()\n",
    "print(x)"
   ]
  },
  {
   "cell_type": "markdown",
   "id": "031a30d3",
   "metadata": {},
   "source": [
    "* 키 목록은 Dictionary 의 보기이며, 이는 Dictionary 에 적용된 모든 변경 사항이 키 목록에 반영됨을 의미합니다."
   ]
  },
  {
   "cell_type": "code",
   "execution_count": 20,
   "id": "0d663dea",
   "metadata": {},
   "outputs": [
    {
     "name": "stdout",
     "output_type": "stream",
     "text": [
      "dict_keys(['brand', 'model', 'year'])\n",
      "dict_keys(['brand', 'model', 'year', 'color'])\n"
     ]
    }
   ],
   "source": [
    "# 원래 Dictionary 에 새 항목을 추가하고 키 목록도 업데이트되는지 확인하세요.\n",
    "\n",
    "# dict.keys()가 ‘실시간 뷰(View)’ 객체를 반환하기 때문\n",
    "# x = car.keys() 를 하면,\n",
    "# x에는 단순히 “현재 키 목록의 복사본”이 들어가는 게 아니라,\n",
    "# car 딕셔너리의 키들을 실시간으로 바라보는 ‘뷰 객체(dict_keys)’ 가 들어갑니다.\n",
    "# 즉, x는 car와 연결된 상태로,\n",
    "# car에 변화가 생기면 x도 자동으로 업데이트됩니다.\n",
    "\n",
    "# x = car.keys()는 **변수 복사(값 복사)**가 아니라,\n",
    "# car 딕셔너리 객체를 **참조(reference)**하는 뷰 객체 복사, 즉 “객체 연결”에 더 가깝습니다.\n",
    "\n",
    "car = {\n",
    "    \"brand\": \"Ford\",\n",
    "    \"model\": \"Mustang\",\n",
    "    \"year\": 1964\n",
    "}\n",
    "\n",
    "x = car.keys() # 변경 전\n",
    "\n",
    "print(x)\n",
    "\n",
    "car[\"color\"] = \"white\"\n",
    "\n",
    "print(x) # 변경 후"
   ]
  },
  {
   "cell_type": "markdown",
   "id": "df1d3f40",
   "metadata": {},
   "source": [
    "* 값 가져오기\n",
    "  - values() 메서드는 Dictionary 의 모든 값 목록을 반환합니다."
   ]
  },
  {
   "cell_type": "code",
   "execution_count": 22,
   "id": "0d1a2101",
   "metadata": {},
   "outputs": [
    {
     "name": "stdout",
     "output_type": "stream",
     "text": [
      "dict_values(['Ford', 'Mustang', 1964])\n"
     ]
    }
   ],
   "source": [
    "# 값 목록을 가져옵니다.\n",
    "x = thisdict.values()\n",
    "print(x)"
   ]
  },
  {
   "cell_type": "markdown",
   "id": "fb82abbd",
   "metadata": {},
   "source": [
    "* 값 목록은 사전의 보기이며, 이는 사전에 적용된 모든 변경 사항이 값 목록에 반영됨을 의미합니다."
   ]
  },
  {
   "cell_type": "code",
   "execution_count": 23,
   "id": "5ca8cc9a",
   "metadata": {},
   "outputs": [
    {
     "name": "stdout",
     "output_type": "stream",
     "text": [
      "dict_values(['Ford', 'Mustang', 1964])\n",
      "dict_values(['Ford', 'Mustang', 2020])\n"
     ]
    }
   ],
   "source": [
    "# 원본 Dictionary 에서 변경 사항을 만들고 값 목록도 업데이트되는지 확인하세요.\n",
    "car = {\n",
    "    \"brand\": \"Ford\",\n",
    "    \"model\": \"Mustang\",\n",
    "    \"year\": 1964\n",
    "}\n",
    "\n",
    "x = car.values()\n",
    "\n",
    "print(x) # 변경 전\n",
    "\n",
    "car[\"year\"] = 2020\n",
    "\n",
    "print(x) # 변경 후"
   ]
  },
  {
   "cell_type": "code",
   "execution_count": 25,
   "id": "30d9fbfd",
   "metadata": {},
   "outputs": [
    {
     "name": "stdout",
     "output_type": "stream",
     "text": [
      "dict_values(['Ford', 'Mustang', 1964])\n",
      "dict_values(['Ford', 'Mustang', 1964, 'white'])\n"
     ]
    }
   ],
   "source": [
    "# 원래 Dictionary 에 새 항목을 추가하고 값 목록도 업데이트되는지 확인하세요.\n",
    "car = {\n",
    "    \"brand\": \"Ford\",\n",
    "    \"model\": \"Mustang\",\n",
    "    \"year\": 1964\n",
    "}\n",
    "\n",
    "x = car.values()\n",
    "\n",
    "print(x) # 변경 전\n",
    "\n",
    "car[\"color\"] = \"white\"\n",
    "\n",
    "print(x) # 변경 후"
   ]
  },
  {
   "cell_type": "markdown",
   "id": "c6d22096",
   "metadata": {},
   "source": [
    "* 항목 가져오기\n",
    "  - items() 메서드는 Dictionary 의 각 항목을 목록의 튜플로 반환합니다."
   ]
  },
  {
   "cell_type": "code",
   "execution_count": 26,
   "id": "bc0df642",
   "metadata": {},
   "outputs": [
    {
     "name": "stdout",
     "output_type": "stream",
     "text": [
      "dict_items([('brand', 'Ford'), ('model', 'Mustang'), ('year', 1964)])\n"
     ]
    }
   ],
   "source": [
    "# 키:값 쌍 목록 가져오기\n",
    "x = thisdict.items()\n",
    "print(x)"
   ]
  },
  {
   "cell_type": "markdown",
   "id": "53fd41ee",
   "metadata": {},
   "source": [
    "* 반환된 목록은 Dictionary 항목에 대한 뷰입니다. 즉, Dictionary 에 적용된 모든 변경 사항은 항목 목록에 반영됩니다."
   ]
  },
  {
   "cell_type": "code",
   "execution_count": 29,
   "id": "75edd9b3",
   "metadata": {},
   "outputs": [
    {
     "name": "stdout",
     "output_type": "stream",
     "text": [
      "dict_items([('brand', 'Ford'), ('model', 'Mustang'), ('year', 1964)])\n",
      "dict_items([('brand', 'Ford'), ('model', 'Mustang'), ('year', 2020)])\n"
     ]
    }
   ],
   "source": [
    "# 원본 Dictionary 에서 변경 사항을 만들고 항목 목록도 업데이트되는지 확인하세요.\n",
    "car = {\n",
    "    \"brand\": \"Ford\",\n",
    "    \"model\": \"Mustang\",\n",
    "    \"year\": 1964\n",
    "}\n",
    "\n",
    "x = car.items()\n",
    "\n",
    "print(x) # 변경 전\n",
    "\n",
    "car[\"year\"] = 2020\n",
    "\n",
    "print(x) # 변경 후"
   ]
  },
  {
   "cell_type": "code",
   "execution_count": 32,
   "id": "204e8af8",
   "metadata": {},
   "outputs": [
    {
     "name": "stdout",
     "output_type": "stream",
     "text": [
      "dict_items([('brand', 'Ford'), ('model', 'Mustang'), ('year', 1964)])\n",
      "dict_items([('brand', 'Ford'), ('model', 'Mustang'), ('year', 1964), ('color', 'red')])\n"
     ]
    }
   ],
   "source": [
    "# 원래 Dictionary 에 새 항목을 추가하면 항목 목록도 업데이트되는지 확인하세요.\n",
    "car = {\n",
    "    \"brand\": \"Ford\",\n",
    "    \"model\": \"Mustang\",\n",
    "    \"year\": 1964\n",
    "}\n",
    "\n",
    "x = car.items()\n",
    "\n",
    "print(x) # 변경 전\n",
    "\n",
    "car[\"color\"] = \"red\"\n",
    "\n",
    "print(x) # 변경 후"
   ]
  },
  {
   "cell_type": "markdown",
   "id": "603058fc",
   "metadata": {},
   "source": [
    "* 키가 있는지 확인\n",
    "  - 지정된 키가 Dictionary 에 있는지 확인하려면 in 키워드를 사용하세요."
   ]
  },
  {
   "cell_type": "code",
   "execution_count": 34,
   "id": "f3807edf",
   "metadata": {},
   "outputs": [
    {
     "name": "stdout",
     "output_type": "stream",
     "text": [
      "Yes, 'model' is one of the keys in the thisdict dictionary\n"
     ]
    }
   ],
   "source": [
    "# Dictionary 에 \"model\"이 있는지 확인하세요.\n",
    "thisdict = {\n",
    "    \"brand\": \"Ford\",\n",
    "    \"model\": \"Mustang\",\n",
    "    \"year\": 1964\n",
    "}\n",
    "\n",
    "if \"model\" in thisdict:\n",
    "    print(\"Yes, 'model' is one of the keys in the thisdict dictionary\")"
   ]
  },
  {
   "cell_type": "markdown",
   "id": "c840d598",
   "metadata": {},
   "source": [
    "* Dictionary 항목 변경\n",
    "  - 값 변경\n",
    "    - 키 이름을 참조하여 특정 항목의 값을 변경할 수 있습니다."
   ]
  },
  {
   "cell_type": "code",
   "execution_count": 38,
   "id": "d5d72753",
   "metadata": {},
   "outputs": [
    {
     "data": {
      "text/plain": [
       "dict_items([('brand', 'Ford'), ('model', 'Mustang'), ('year', 2018)])"
      ]
     },
     "execution_count": 38,
     "metadata": {},
     "output_type": "execute_result"
    }
   ],
   "source": [
    "# \"year\"를 2018년으로 변경하세요.\n",
    "thisdict = {\n",
    "    \"brand\": \"Ford\",\n",
    "    \"model\": \"Mustang\",\n",
    "    \"year\": 1964\n",
    "}\n",
    "thisdict[\"year\"] = 2018\n",
    "thisdict.items()"
   ]
  },
  {
   "cell_type": "markdown",
   "id": "70c579b5",
   "metadata": {},
   "source": [
    "* Dictionary 업데이트\n",
    "  - update() 메서드는 주어진 인수의 항목으로 Dictionary 을 업데이트합니다.\n",
    "  - 인수는 Dictionary 이거나 키:값 쌍을 가진 반복 가능한 객체여야 합니다."
   ]
  },
  {
   "cell_type": "code",
   "execution_count": 37,
   "id": "0d311252",
   "metadata": {},
   "outputs": [
    {
     "data": {
      "text/plain": [
       "dict_items([('brand', 'Ford'), ('model', 'Mustang'), ('year', 2020)])"
      ]
     },
     "execution_count": 37,
     "metadata": {},
     "output_type": "execute_result"
    }
   ],
   "source": [
    "# update() 메서드를 사용하여 자동차의 \"year\"를 업데이트합니다.\n",
    "thisdict = {\n",
    "    \"brand\": \"Ford\",\n",
    "    \"model\": \"Mustang\",\n",
    "    \"year\": 1964\n",
    "}\n",
    "thisdict.update({\"year\": 2020})\n",
    "thisdict.items()"
   ]
  },
  {
   "cell_type": "markdown",
   "id": "9b5dcc19",
   "metadata": {},
   "source": [
    "* Dictionary 항목 추가\n",
    "  - 항목 추가\n",
    "    - Dictionary 에 항목을 추가하려면 새 인덱스 키를 사용하고 해당 키에 값을 할당합니다."
   ]
  },
  {
   "cell_type": "code",
   "execution_count": 39,
   "id": "cf1df2ec",
   "metadata": {},
   "outputs": [
    {
     "name": "stdout",
     "output_type": "stream",
     "text": [
      "{'brand': 'Ford', 'model': 'Mustang', 'year': 1964, 'color': 'red'}\n"
     ]
    }
   ],
   "source": [
    "thisdict = {\n",
    "    \"brand\": \"Ford\",\n",
    "    \"model\": \"Mustang\",\n",
    "    \"year\": 1964\n",
    "}\n",
    "thisdict[\"color\"] = \"red\"\n",
    "print(thisdict)"
   ]
  },
  {
   "cell_type": "markdown",
   "id": "5cd1ceb5",
   "metadata": {},
   "source": [
    "* Dictionary 업데이트\n",
    "  - update() 메서드는 주어진 인수의 항목으로 Dictionary 을 업데이트합니다. 항목이 없으면 항목이 추가됩니다.\n",
    "  - 인수는 Dictionary 이거나 키:값 쌍을 가진 반복 가능한 객체여야 합니다."
   ]
  },
  {
   "cell_type": "code",
   "execution_count": 40,
   "id": "97be06bf",
   "metadata": {},
   "outputs": [
    {
     "data": {
      "text/plain": [
       "dict_items([('brand', 'Ford'), ('model', 'Mustang'), ('year', 1964), ('color', 'red')])"
      ]
     },
     "execution_count": 40,
     "metadata": {},
     "output_type": "execute_result"
    }
   ],
   "source": [
    "# update() 메서드를 사용하여 Dictionary 에 색상 항목을 추가합니다.\n",
    "thisdict = {\n",
    "    \"brand\": \"Ford\",\n",
    "    \"model\": \"Mustang\",\n",
    "    \"year\": 1964\n",
    "}\n",
    "thisdict.update({\"color\": \"red\"})\n",
    "thisdict.items()"
   ]
  },
  {
   "cell_type": "markdown",
   "id": "0bd1914f",
   "metadata": {},
   "source": [
    "* Dictionary 항목 제거\n",
    "  - 항목 제거\n",
    "    - Dictionary 에서 항목을 제거하는 방법에는 여러 가지가 있습니다."
   ]
  },
  {
   "cell_type": "code",
   "execution_count": 41,
   "id": "f065d37c",
   "metadata": {},
   "outputs": [
    {
     "name": "stdout",
     "output_type": "stream",
     "text": [
      "{'brand': 'Ford', 'year': 1964}\n"
     ]
    }
   ],
   "source": [
    "# pop() 메서드는 지정된 키 이름을 가진 항목을 제거합니다.\n",
    "thisdict = {\n",
    "    \"brand\": \"Ford\",\n",
    "    \"model\": \"Mustang\",\n",
    "    \"year\": 1964\n",
    "}\n",
    "thisdict.pop(\"model\")\n",
    "print(thisdict)"
   ]
  },
  {
   "cell_type": "code",
   "execution_count": 43,
   "id": "ac4f4fbe",
   "metadata": {},
   "outputs": [
    {
     "name": "stdout",
     "output_type": "stream",
     "text": [
      "{'brand': 'Ford', 'model': 'Mustang'}\n"
     ]
    }
   ],
   "source": [
    "# popitem() 메서드는 마지막으로 삽입된 항목을 제거합니다(3.7 이전 버전에서는 대신 임의의 항목이 제거됨).\n",
    "thisdict = {\n",
    "    \"brand\": \"Ford\",\n",
    "    \"model\": \"Mustang\",\n",
    "    \"year\": 1964\n",
    "}\n",
    "thisdict.popitem()\n",
    "print(thisdict)"
   ]
  },
  {
   "cell_type": "code",
   "execution_count": 44,
   "id": "d6f5654b",
   "metadata": {},
   "outputs": [
    {
     "name": "stdout",
     "output_type": "stream",
     "text": [
      "{'brand': 'Ford', 'year': 1964}\n"
     ]
    }
   ],
   "source": [
    "# del 키워드는 지정된 키 이름을 가진 항목을 제거합니다.\n",
    "thisdict = {\n",
    "    \"brand\": \"Ford\",\n",
    "    \"model\": \"Mustang\",\n",
    "    \"year\": 1964\n",
    "}\n",
    "del thisdict[\"model\"]\n",
    "print(thisdict)"
   ]
  },
  {
   "cell_type": "code",
   "execution_count": 46,
   "id": "ca5e3d9d",
   "metadata": {},
   "outputs": [
    {
     "ename": "NameError",
     "evalue": "name 'thisdict' is not defined",
     "output_type": "error",
     "traceback": [
      "\u001b[31m---------------------------------------------------------------------------\u001b[39m",
      "\u001b[31mNameError\u001b[39m                                 Traceback (most recent call last)",
      "\u001b[36mCell\u001b[39m\u001b[36m \u001b[39m\u001b[32mIn[46]\u001b[39m\u001b[32m, line 8\u001b[39m\n\u001b[32m      2\u001b[39m thisdict = {\n\u001b[32m      3\u001b[39m     \u001b[33m\"\u001b[39m\u001b[33mbrand\u001b[39m\u001b[33m\"\u001b[39m: \u001b[33m\"\u001b[39m\u001b[33mFord\u001b[39m\u001b[33m\"\u001b[39m,\n\u001b[32m      4\u001b[39m     \u001b[33m\"\u001b[39m\u001b[33mmodel\u001b[39m\u001b[33m\"\u001b[39m: \u001b[33m\"\u001b[39m\u001b[33mMustang\u001b[39m\u001b[33m\"\u001b[39m,\n\u001b[32m      5\u001b[39m     \u001b[33m\"\u001b[39m\u001b[33myear\u001b[39m\u001b[33m\"\u001b[39m: \u001b[32m1964\u001b[39m\n\u001b[32m      6\u001b[39m }\n\u001b[32m      7\u001b[39m \u001b[38;5;28;01mdel\u001b[39;00m thisdict\n\u001b[32m----> \u001b[39m\u001b[32m8\u001b[39m \u001b[38;5;28mprint\u001b[39m(\u001b[43mthisdict\u001b[49m) \u001b[38;5;66;03m# \"thisdict\"가 더 이상 존재하지 않기 때문에 오류가 발생합니다.\u001b[39;00m\n",
      "\u001b[31mNameError\u001b[39m: name 'thisdict' is not defined"
     ]
    }
   ],
   "source": [
    "# del 키워드는 사전을 완전히 삭제할 수도 있습니다.\n",
    "thisdict = {\n",
    "    \"brand\": \"Ford\",\n",
    "    \"model\": \"Mustang\",\n",
    "    \"year\": 1964\n",
    "}\n",
    "del thisdict\n",
    "print(thisdict) # \"thisdict\"가 더 이상 존재하지 않기 때문에 오류가 발생합니다."
   ]
  },
  {
   "cell_type": "code",
   "execution_count": 48,
   "id": "9a051b1c",
   "metadata": {},
   "outputs": [
    {
     "name": "stdout",
     "output_type": "stream",
     "text": [
      "{}\n"
     ]
    }
   ],
   "source": [
    "# clear() 메서드는 Dictionary 을 비웁니다.\n",
    "thisdict = {\n",
    "    \"brand\": \"Ford\",\n",
    "    \"model\": \"Mustang\",\n",
    "    \"year\": 1964\n",
    "}\n",
    "thisdict.clear()\n",
    "print(thisdict)"
   ]
  },
  {
   "cell_type": "markdown",
   "id": "2e4be05f",
   "metadata": {},
   "source": [
    "* 루프 Dictionary\n",
    "  - Dictionary 루프\n",
    "    - for 루프를 사용하여 Dictionary 을 루프할 수 있습니다.\n",
    "    - Dictionary 을 루프할 때 반환 값은 Dictionary 의 키이지만, 값을 반환하는 메서드도 있습니다."
   ]
  },
  {
   "cell_type": "code",
   "execution_count": 51,
   "id": "96b55dd9",
   "metadata": {},
   "outputs": [],
   "source": [
    "thisdict = {\n",
    "    \"brand\": \"Ford\",\n",
    "    \"model\": \"Mustang\",\n",
    "    \"year\": 1964\n",
    "}"
   ]
  },
  {
   "cell_type": "code",
   "execution_count": 52,
   "id": "02b151d3",
   "metadata": {},
   "outputs": [
    {
     "name": "stdout",
     "output_type": "stream",
     "text": [
      "brand\n",
      "model\n",
      "year\n"
     ]
    }
   ],
   "source": [
    "# Dictionary 에 있는 모든 주요 이름을 하나씩 출력하세요.\n",
    "for x in thisdict:\n",
    "    print(x)"
   ]
  },
  {
   "cell_type": "code",
   "execution_count": 53,
   "id": "d5f73f13",
   "metadata": {},
   "outputs": [
    {
     "name": "stdout",
     "output_type": "stream",
     "text": [
      "Ford\n",
      "Mustang\n",
      "1964\n"
     ]
    }
   ],
   "source": [
    "# Dictionary 에 있는 모든 값을 하나씩 출력하세요.\n",
    "for x in thisdict:\n",
    "    print(thisdict[x])"
   ]
  },
  {
   "cell_type": "code",
   "execution_count": 54,
   "id": "381cd394",
   "metadata": {},
   "outputs": [
    {
     "name": "stdout",
     "output_type": "stream",
     "text": [
      "Ford\n",
      "Mustang\n",
      "1964\n"
     ]
    }
   ],
   "source": [
    "# values() 메서드를 사용하여 Dictionary 의 값을 반환할 수도 있습니다.\n",
    "for x in thisdict.values():\n",
    "    print(x)"
   ]
  },
  {
   "cell_type": "code",
   "execution_count": 55,
   "id": "6f7d0782",
   "metadata": {},
   "outputs": [
    {
     "name": "stdout",
     "output_type": "stream",
     "text": [
      "brand\n",
      "model\n",
      "year\n"
     ]
    }
   ],
   "source": [
    "# keys() 메서드를 사용하면 Dictionary 의 키를 반환할 수 있습니다.\n",
    "for x in thisdict.keys():\n",
    "    print(x)"
   ]
  },
  {
   "cell_type": "code",
   "execution_count": 56,
   "id": "2abb1748",
   "metadata": {},
   "outputs": [
    {
     "name": "stdout",
     "output_type": "stream",
     "text": [
      "brand Ford\n",
      "model Mustang\n",
      "year 1964\n"
     ]
    }
   ],
   "source": [
    "# items() 메서드를 사용하여 키와 값을 모두 반복합니다.\n",
    "for x, y in thisdict.items():\n",
    "    print(x, y)"
   ]
  },
  {
   "cell_type": "markdown",
   "id": "4e0bcbf4",
   "metadata": {},
   "source": [
    "* Dictionary 복사\n",
    "   - dict2 = dict1이라고 입력하는 것만으로는 사전을 복사할 수 없습니다. dict2는 dict1에 대한 참조일 뿐이며, dict1에서 변경한 내용은 자동으로 dict2에도 반영되기 때문입니다.\n",
    "   - Dictionary 을 복사하는 방법은 여러 가지가 있는데, 그중 하나는 Dictionary 내장 메서드인 copy()를 사용하는 것입니다."
   ]
  },
  {
   "cell_type": "code",
   "execution_count": 57,
   "id": "dea5d720",
   "metadata": {},
   "outputs": [
    {
     "name": "stdout",
     "output_type": "stream",
     "text": [
      "{'brand': 'Ford', 'model': 'Mustang', 'year': 1964}\n"
     ]
    }
   ],
   "source": [
    "# copy() 메서드를 사용하여 Dictionary 의 복사본을 만듭니다.\n",
    "thisdict = {\n",
    "    \"brand\": \"Ford\",\n",
    "    \"model\": \"Mustang\",\n",
    "    \"year\": 1964\n",
    "}\n",
    "mydict = thisdict.copy()\n",
    "print(mydict)"
   ]
  },
  {
   "cell_type": "markdown",
   "id": "a0481425",
   "metadata": {},
   "source": [
    "* 복사본을 만드는 또 다른 방법은 내장 함수 dict()를 사용하는 것입니다."
   ]
  },
  {
   "cell_type": "code",
   "execution_count": 58,
   "id": "05011198",
   "metadata": {},
   "outputs": [
    {
     "name": "stdout",
     "output_type": "stream",
     "text": [
      "{'brand': 'Ford', 'model': 'Mustang', 'year': 1964}\n"
     ]
    }
   ],
   "source": [
    "# dict() 함수를 사용하여 Dictionary 의 복사본을 만듭니다.\n",
    "thisdict = {\n",
    "    \"brand\": \"Ford\",\n",
    "    \"model\": \"Mustang\",\n",
    "    \"year\": 1964\n",
    "}\n",
    "mydict = dict(thisdict)\n",
    "print(mydict)"
   ]
  },
  {
   "cell_type": "markdown",
   "id": "68878010",
   "metadata": {},
   "source": [
    "* 중첩 Dictionary\n",
    "  - Dictionary 은 여러 Dictionary 을 포함할 수 있는데, 이를 중첩 Dictionary 이라고 합니다."
   ]
  },
  {
   "cell_type": "code",
   "execution_count": 61,
   "id": "99f6bf35",
   "metadata": {},
   "outputs": [
    {
     "name": "stdout",
     "output_type": "stream",
     "text": [
      "{'child1': {'name': 'Emil', 'year': 2004}, 'child2': {'name': 'Tobias', 'year': 2007}, 'child3': {'name': 'Linus', 'year': 2011}}\n"
     ]
    }
   ],
   "source": [
    "# 세 개의 Dictionary 을 포함하는 Dictionary 을 만듭니다.\n",
    "myfamily = {\n",
    "    \"child1\" : {\n",
    "        \"name\" : \"Emil\",\n",
    "        \"year\" : 2004\n",
    "    },\n",
    "    \"child2\" : {\n",
    "        \"name\" : \"Tobias\",\n",
    "        \"year\" : 2007\n",
    "    },\n",
    "    \"child3\" : {\n",
    "        \"name\" : \"Linus\",\n",
    "        \"year\" : 2011\n",
    "    }\n",
    "}\n",
    "print(myfamily)"
   ]
  },
  {
   "cell_type": "markdown",
   "id": "2220e187",
   "metadata": {},
   "source": [
    "* 또는 새 Dictionary 에 세 개의 Dictionary 을 추가하려면 다음을 수행합니다."
   ]
  },
  {
   "cell_type": "code",
   "execution_count": 64,
   "id": "244ca9f7",
   "metadata": {},
   "outputs": [
    {
     "name": "stdout",
     "output_type": "stream",
     "text": [
      "{'child1': {'name': 'Emil', 'year': 2004}, 'child2': {'name': 'Tobias', 'year': 2007}, 'child3': {'name': 'Linus', 'year': 2011}}\n"
     ]
    }
   ],
   "source": [
    "# 세 개의 Dictionary 을 만든 다음, 나머지 세 개의 Dictionary 을 포함하는 하나의 Dictionary 을 만듭니다.\n",
    "child1 = {\n",
    "    \"name\" : \"Emil\",\n",
    "    \"year\" : 2004\n",
    "}\n",
    "child2 = {\n",
    "    \"name\" : \"Tobias\",\n",
    "    \"year\" : 2007\n",
    "}\n",
    "child3 = {\n",
    "    \"name\" : \"Linus\",\n",
    "    \"year\" : 2011\n",
    "}\n",
    "\n",
    "myfamily = {\n",
    "    \"child1\" : child1,\n",
    "    \"child2\" : child2,\n",
    "    \"child3\" : child3\n",
    "}\n",
    "\n",
    "print(myfamily)"
   ]
  },
  {
   "cell_type": "markdown",
   "id": "73f473e6",
   "metadata": {},
   "source": [
    "* 중첩된 Dictionary 의 항목에 접근하기\n",
    "  - 중첩된 Dictionary 의 항목에 접근하려면 바깥쪽 Dictionary 부터 시작하여 Dictionary 이름을 사용합니다."
   ]
  },
  {
   "cell_type": "code",
   "execution_count": 65,
   "id": "63e24b01",
   "metadata": {},
   "outputs": [
    {
     "name": "stdout",
     "output_type": "stream",
     "text": [
      "Tobias\n"
     ]
    }
   ],
   "source": [
    "# \"2번째 child\" 의 \"name\"을 출력하세요.\n",
    "print(myfamily[\"child2\"][\"name\"])"
   ]
  },
  {
   "cell_type": "markdown",
   "id": "d0022302",
   "metadata": {},
   "source": [
    "* 중첩된 Dictionary 반복\n",
    "  - items() 메서드를 사용하여 다음과 같이 Dictionary 을 반복할 수 있습니다."
   ]
  },
  {
   "cell_type": "code",
   "execution_count": 67,
   "id": "69896a4f",
   "metadata": {},
   "outputs": [
    {
     "name": "stdout",
     "output_type": "stream",
     "text": [
      "child1\n",
      "name: Emil\n",
      "year: 2004\n",
      "child2\n",
      "name: Tobias\n",
      "year: 2007\n",
      "child3\n",
      "name: Linus\n",
      "year: 2011\n"
     ]
    }
   ],
   "source": [
    "# 중첩된 모든 Dictionary 의 키와 값을 반복합니다.\n",
    "for x, obj in myfamily.items():\n",
    "    print(x)\n",
    "\n",
    "    for y in obj:\n",
    "        print(y + ':', obj[y])"
   ]
  },
  {
   "cell_type": "markdown",
   "id": "e31e03b2",
   "metadata": {},
   "source": [
    "* Dictionary Methods\n",
    "  - https://www.w3schools.com/python/python_dictionaries_methods.asp"
   ]
  },
  {
   "cell_type": "markdown",
   "id": "c4141416",
   "metadata": {},
   "source": [
    "* If ... Else\n",
    "   - 조건문 및 If 문\n",
    "     - Python은 수학에서 흔히 사용되는 논리 조건을 지원합니다.\n",
    "       - 같음: a == b\n",
    "       - 같지 않음: a != b\n",
    "       - 작음: a < b\n",
    "       - 작거나 같음: a <= b\n",
    "       - 큼: a > b\n",
    "       - 큼이나 같음: a >= b\n",
    "     - 이러한 조건문은 여러 가지 방법으로 사용할 수 있으며, 특히 \"if 문\"과 반복문에서 많이 사용됩니다.\n",
    "     - \"if 문\"은 if 키워드를 사용하여 작성합니다."
   ]
  },
  {
   "cell_type": "code",
   "execution_count": 2,
   "id": "6dcce15b",
   "metadata": {},
   "outputs": [
    {
     "name": "stdout",
     "output_type": "stream",
     "text": [
      "b is greater than a\n"
     ]
    }
   ],
   "source": [
    "# If 문\n",
    "a = 33\n",
    "b = 200\n",
    "\n",
    "# 이 예제에서는 두 변수 a와 b를 사용합니다.\n",
    "# 이 변수들은 if 문의 일부로 사용되어 b가 a보다 큰지 여부를 검사합니다. a는 33이고 b는 200이므로 200이 33보다 크다는 것을 알 수 있고, \n",
    "# 따라서 \"b is greater than a\"를 화면에 출력합니다.\n",
    "if b > a:\n",
    "    print(\"b is greater than a\")"
   ]
  },
  {
   "cell_type": "markdown",
   "id": "f95b5b14",
   "metadata": {},
   "source": [
    "* 들여쓰기\n",
    "  - Python은 들여쓰기(줄 시작 부분의 공백)를 사용하여 코드의 범위를 정의합니다. 다른 프로그래밍 언어에서는 이러한 목적으로 중괄호를 사용하는 경우가 많습니다."
   ]
  },
  {
   "cell_type": "code",
   "execution_count": 3,
   "id": "9effa0c7",
   "metadata": {},
   "outputs": [
    {
     "ename": "IndentationError",
     "evalue": "expected an indented block after 'if' statement on line 5 (3809537412.py, line 6)",
     "output_type": "error",
     "traceback": [
      "  \u001b[36mCell\u001b[39m\u001b[36m \u001b[39m\u001b[32mIn[3]\u001b[39m\u001b[32m, line 6\u001b[39m\n\u001b[31m    \u001b[39m\u001b[31mprint(\"b is greater than a\") # 오류가 발생합니다\u001b[39m\n    ^\n\u001b[31mIndentationError\u001b[39m\u001b[31m:\u001b[39m expected an indented block after 'if' statement on line 5\n"
     ]
    }
   ],
   "source": [
    "# 들여쓰기 없는 if 문(오류 발생)\n",
    "a = 33\n",
    "b = 200\n",
    "\n",
    "if b > a:\n",
    "print(\"b is greater than a\") # 오류가 발생합니다"
   ]
  },
  {
   "cell_type": "markdown",
   "id": "6980529f",
   "metadata": {},
   "source": [
    "* Elif\n",
    "  - elif 키워드는 Python에서 \"이전 조건이 참이 아니면 이 조건을 시도하세요\"라고 말하는 방식입니다."
   ]
  },
  {
   "cell_type": "code",
   "execution_count": 5,
   "id": "c492ee89",
   "metadata": {},
   "outputs": [
    {
     "name": "stdout",
     "output_type": "stream",
     "text": [
      "a and b are equal\n"
     ]
    }
   ],
   "source": [
    "a = 33\n",
    "b = 33\n",
    "\n",
    "# 이 예에서 a는 b와 같으므로 첫 번째 조건은 참이 아니지만 elif 조건은 참이므로 \"a와 b는 같다\"라는 내용을 화면에 출력합니다.\n",
    "if b > a:\n",
    "    print(\"b is greater than a\")\n",
    "elif a == b:\n",
    "    print(\"a and b are equal\")"
   ]
  },
  {
   "cell_type": "markdown",
   "id": "fc8d4bce",
   "metadata": {},
   "source": [
    "* Else\n",
    "  - else 키워드는 이전 조건에 해당하지 않는 모든 항목을 처리합니다."
   ]
  },
  {
   "cell_type": "code",
   "execution_count": 7,
   "id": "18adda72",
   "metadata": {},
   "outputs": [
    {
     "name": "stdout",
     "output_type": "stream",
     "text": [
      "a is greater than b\n"
     ]
    }
   ],
   "source": [
    "a = 200\n",
    "b = 33\n",
    "\n",
    "# 이 예에서 a는 b보다 크므로 첫 번째 조건은 참이 아닙니다. 또한 elif 조건도 참이 아니므로 else 조건으로 이동하여 \"a는 b보다 크다\"를 화면에 출력합니다.\n",
    "# elif 없이 else를 사용할 수도 있습니다.\n",
    "if b > a:\n",
    "    print(\"b is greater than a\")\n",
    "elif a == b:\n",
    "    print(\"a and b are equal\")\n",
    "else:\n",
    "    print(\"a is greater than b\")"
   ]
  },
  {
   "cell_type": "code",
   "execution_count": 8,
   "id": "44decddf",
   "metadata": {},
   "outputs": [
    {
     "name": "stdout",
     "output_type": "stream",
     "text": [
      "b is not greater than a\n"
     ]
    }
   ],
   "source": [
    "a = 200\n",
    "b = 33\n",
    "if b > a:\n",
    "    print(\"b is greater than a\")\n",
    "else:\n",
    "    print(\"b is not greater than a\")"
   ]
  },
  {
   "cell_type": "markdown",
   "id": "0333d076",
   "metadata": {},
   "source": [
    "* 간단한 if 문\n",
    "  - 실행할 명령문이 하나뿐인 경우 if 문과 같은 줄에 입력할 수 있습니다."
   ]
  },
  {
   "cell_type": "code",
   "execution_count": 9,
   "id": "8039a74f",
   "metadata": {},
   "outputs": [
    {
     "name": "stdout",
     "output_type": "stream",
     "text": [
      "a is greater than b\n"
     ]
    }
   ],
   "source": [
    "# 한 줄 if 문\n",
    "if a > b: print(\"a is greater than b\")"
   ]
  },
  {
   "cell_type": "markdown",
   "id": "31e186a4",
   "metadata": {},
   "source": [
    "* If ... Else의 간단한 사용법\n",
    "  - 실행할 명령문이 if와 else 각각 하나씩만 있는 경우, 모두 같은 줄에 입력할 수 있습니다."
   ]
  },
  {
   "cell_type": "code",
   "execution_count": 12,
   "id": "672b9087",
   "metadata": {},
   "outputs": [
    {
     "name": "stdout",
     "output_type": "stream",
     "text": [
      "B\n"
     ]
    }
   ],
   "source": [
    "# 한 줄의 if else 문\n",
    "a = 2\n",
    "b = 330\n",
    "\n",
    "# 이 기술은 삼항 연산자 또는 조건식이라고 합니다.\n",
    "# 파이썬의 삼항 연산자 문법\n",
    "#  참일_때_값 if 조건 else 거짓일_때_값\n",
    "print(\"A\") if a > b else print(\"B\")"
   ]
  },
  {
   "cell_type": "markdown",
   "id": "da10d029",
   "metadata": {},
   "source": [
    "* 같은 줄에 여러 개의 else 문을 사용할 수도 있습니다."
   ]
  },
  {
   "cell_type": "code",
   "execution_count": 14,
   "id": "ad6b6914",
   "metadata": {},
   "outputs": [
    {
     "name": "stdout",
     "output_type": "stream",
     "text": [
      "=\n"
     ]
    }
   ],
   "source": [
    "# 3가지 조건이 있는 한 줄의 if else 문\n",
    "a = 330\n",
    "b = 330\n",
    "\n",
    "print(\"A\") if a > b else print(\"=\") if a == b else print(\"B\")\n",
    "\n",
    "# 아래와 같음\n",
    "# if a > b:\n",
    "#     print(\"A\")\n",
    "# else:\n",
    "#     if a == b:\n",
    "#         print(\"=\")\n",
    "#     else:\n",
    "#         print(\"B\")"
   ]
  },
  {
   "cell_type": "markdown",
   "id": "3f2e3bf3",
   "metadata": {},
   "source": [
    "* And\n",
    "  - and 키워드는 논리 연산자이며, 조건문을 결합하는 데 사용됩니다."
   ]
  },
  {
   "cell_type": "code",
   "execution_count": 15,
   "id": "76d1fc41",
   "metadata": {},
   "outputs": [
    {
     "name": "stdout",
     "output_type": "stream",
     "text": [
      "Both conditions are True\n"
     ]
    }
   ],
   "source": [
    "# a가 b보다 큰지, 그리고 c가 a보다 큰지 테스트합니다.\n",
    "a = 200\n",
    "b = 33\n",
    "c = 500\n",
    "\n",
    "if a > b and c > a:\n",
    "    print(\"Both conditions are True\")"
   ]
  },
  {
   "cell_type": "markdown",
   "id": "cf8dc948",
   "metadata": {},
   "source": [
    "* Or\n",
    "  - or 키워드는 논리 연산자이며 조건문을 결합하는 데 사용됩니다."
   ]
  },
  {
   "cell_type": "code",
   "execution_count": 16,
   "id": "21a317e4",
   "metadata": {},
   "outputs": [
    {
     "name": "stdout",
     "output_type": "stream",
     "text": [
      "At least one of the conditions is True\n"
     ]
    }
   ],
   "source": [
    "# a가 b보다 큰지, 또는 a가 c보다 큰지 테스트합니다.\n",
    "a = 200\n",
    "b = 33\n",
    "c = 500\n",
    "if a > b or a > c:\n",
    "    print(\"At least one of the conditions is True\")"
   ]
  },
  {
   "cell_type": "markdown",
   "id": "93a72c61",
   "metadata": {},
   "source": [
    "* Not\n",
    "  - not 키워드는 논리 연산자이며, 조건문의 결과를 반전하는 데 사용됩니다."
   ]
  },
  {
   "cell_type": "code",
   "execution_count": 17,
   "id": "fedd7ba8",
   "metadata": {},
   "outputs": [
    {
     "name": "stdout",
     "output_type": "stream",
     "text": [
      "a is NOT greater than b\n"
     ]
    }
   ],
   "source": [
    "# a가 b보다 크지 않은지 테스트합니다.\n",
    "a = 33\n",
    "b = 200\n",
    "if not a > b:\n",
    "    print(\"a is NOT greater than b\")"
   ]
  },
  {
   "cell_type": "markdown",
   "id": "c948ea51",
   "metadata": {},
   "source": [
    "* 중첩된 if 문\n",
    "  - if 문 안에 if 문을 넣을 수 있는데, 이를 중첩된 if 문이라고 합니다."
   ]
  },
  {
   "cell_type": "code",
   "execution_count": 19,
   "id": "9cbfc3ed",
   "metadata": {},
   "outputs": [
    {
     "name": "stdout",
     "output_type": "stream",
     "text": [
      "Above ten,\n",
      "and also above 20!\n"
     ]
    }
   ],
   "source": [
    "x = 41\n",
    "\n",
    "if x > 10:\n",
    "    print(\"Above ten,\")\n",
    "    if x > 20:\n",
    "        print(\"and also above 20!\")\n",
    "    else:\n",
    "        print(\"but not above 20.\")"
   ]
  },
  {
   "cell_type": "markdown",
   "id": "41f931bf",
   "metadata": {},
   "source": [
    "* pass 문\n",
    "  - if 문은 비어 있을 수 없지만, 어떤 이유로든 내용이 없는 if 문이 있는 경우, 오류를 방지하기 위해 pass 문을 삽입하세요."
   ]
  },
  {
   "cell_type": "code",
   "execution_count": 20,
   "id": "ad368b7b",
   "metadata": {},
   "outputs": [],
   "source": [
    "a = 33\n",
    "b = 200\n",
    "\n",
    "if b > a:\n",
    "    pass"
   ]
  },
  {
   "cell_type": "markdown",
   "id": "e00546d6",
   "metadata": {},
   "source": [
    "* Match\n",
    "  - match 문은 다양한 조건에 따라 다양한 동작을 수행하는 데 사용됩니다.\n",
    "  - Python Match 문\n",
    "    - if..else 문을 여러 개 작성하는 대신 match 문을 사용할 수 있습니다.\n",
    "    - match 문은 실행할 여러 코드 블록 중 하나를 선택합니다."
   ]
  },
  {
   "cell_type": "markdown",
   "id": "26f1705e",
   "metadata": {},
   "source": [
    "* match 문법\n",
    "    ```\n",
    "    match expression:\n",
    "    case x:\n",
    "        code block\n",
    "    case y:\n",
    "        code block\n",
    "    case z:\n",
    "        code block\n",
    "    ```"
   ]
  },
  {
   "cell_type": "markdown",
   "id": "c5dea704",
   "metadata": {},
   "source": [
    "* match 작동 방식은 다음과 같습니다.\n",
    "  - 일치 표현식은 한 번 평가됩니다.\n",
    "  - 표현식의 값은 각 case의 값과 비교됩니다.\n",
    "  - 일치하는 항목이 있으면 연관된 코드 블록이 실행됩니다."
   ]
  },
  {
   "cell_type": "code",
   "execution_count": 21,
   "id": "4c432395",
   "metadata": {},
   "outputs": [
    {
     "name": "stdout",
     "output_type": "stream",
     "text": [
      "Thursday\n"
     ]
    }
   ],
   "source": [
    "# 이 예제에서는 요일 번호를 사용하여 요일 이름을 출력합니다.\n",
    "day = 4\n",
    "match day:\n",
    "    case 1:\n",
    "        print(\"Monday\")\n",
    "    case 2:\n",
    "        print(\"Tuesday\")\n",
    "    case 3:\n",
    "        print(\"Wednesday\")\n",
    "    case 4:\n",
    "        print(\"Thursday\")\n",
    "    case 5:\n",
    "        print(\"Friday\")\n",
    "    case 6:\n",
    "        print(\"Saturday\")\n",
    "    case 7:\n",
    "        print(\"Sunday\")"
   ]
  },
  {
   "cell_type": "markdown",
   "id": "b99aa11f",
   "metadata": {},
   "source": [
    "* 기본값\n",
    "  - 다른 일치 항목이 없을 때 코드 블록을 실행하려면 마지막 case 값으로 밑줄 문자 _를 사용하세요.\n",
    "  - 값 _는 항상 일치하므로 기본 케이스처럼 동작하도록 하려면 마지막 케이스에 두는 것이 중요합니다."
   ]
  },
  {
   "cell_type": "code",
   "execution_count": 22,
   "id": "e75fab92",
   "metadata": {},
   "outputs": [
    {
     "name": "stdout",
     "output_type": "stream",
     "text": [
      "Looking forward to the Weekend\n"
     ]
    }
   ],
   "source": [
    "day = 4\n",
    "match day:\n",
    "    case 6:\n",
    "        print(\"Today is Saturday\")\n",
    "    case 7:\n",
    "        print(\"Today is Sunday\")\n",
    "    case _:\n",
    "        print(\"Looking forward to the Weekend\")"
   ]
  },
  {
   "cell_type": "markdown",
   "id": "2c9bfee9",
   "metadata": {},
   "source": [
    "* 값 결합\n",
    "  - 케이스 평가에서 파이프 문자 |를 or 연산자로 사용하여 하나의 케이스에서 두 개 이상의 값이 일치하는지 확인합니다."
   ]
  },
  {
   "cell_type": "code",
   "execution_count": 23,
   "id": "dd75f171",
   "metadata": {},
   "outputs": [
    {
     "name": "stdout",
     "output_type": "stream",
     "text": [
      "Today is a weekday\n"
     ]
    }
   ],
   "source": [
    "day = 4\n",
    "match day:\n",
    "    case 1 | 2 | 3 | 4 | 5:\n",
    "        print(\"Today is a weekday\")\n",
    "    case 6 | 7:\n",
    "        print(\"I love weekends!\")"
   ]
  },
  {
   "cell_type": "markdown",
   "id": "be416969",
   "metadata": {},
   "source": [
    "* if 문을 가드로 사용\n",
    "  - 케이스 평가에 if 문을 추가 조건 검사로 사용할 수 있습니다."
   ]
  },
  {
   "cell_type": "code",
   "execution_count": 24,
   "id": "a6d5c5fc",
   "metadata": {},
   "outputs": [
    {
     "name": "stdout",
     "output_type": "stream",
     "text": [
      "A weekday in May\n"
     ]
    }
   ],
   "source": [
    "month = 5\n",
    "day = 4\n",
    "match day:\n",
    "    case 1 | 2 | 3 | 4 | 5 if month == 4:\n",
    "        print(\"A weekday in April\")\n",
    "    case 1 | 2 | 3 | 4 | 5 if month == 5:\n",
    "        print(\"A weekday in May\")\n",
    "    case _:\n",
    "        print(\"No match\")"
   ]
  },
  {
   "cell_type": "markdown",
   "id": "fbf74c5e",
   "metadata": {},
   "source": [
    "* While 루프\n",
    "  - Python에는 두 가지 기본 루프 명령이 있습니다.\n",
    "    - while 루프\n",
    "    - for 루프\n",
    "\n",
    "  - while 루프\n",
    "    - while 루프를 사용하면 조건이 참인 동안 일련의 명령문을 실행할 수 있습니다."
   ]
  },
  {
   "cell_type": "code",
   "execution_count": 27,
   "id": "3a5ab03d",
   "metadata": {},
   "outputs": [
    {
     "name": "stdout",
     "output_type": "stream",
     "text": [
      "1\n",
      "2\n",
      "3\n",
      "4\n",
      "5\n"
     ]
    }
   ],
   "source": [
    "# while 루프는 관련 변수가 준비되어야 합니다. 이 예에서는 인덱싱 변수 i를 정의하고 1로 설정해야 합니다.\n",
    "# i가 6보다 작은 경우 i를 출력합니다.\n",
    "# 참고: i를 증가시키는 것을 잊지 마세요. 그렇지 않으면 루프가 영원히 계속됩니다.\n",
    "i = 1\n",
    "while i < 6:\n",
    "    print(i)\n",
    "    i += 1"
   ]
  },
  {
   "cell_type": "markdown",
   "id": "bf31938a",
   "metadata": {},
   "source": [
    "* break 문\n",
    "  - break 문을 사용하면 while 조건이 참이면 루프를 중단할 수 있습니다."
   ]
  },
  {
   "cell_type": "code",
   "execution_count": 28,
   "id": "ed9f9e13",
   "metadata": {},
   "outputs": [
    {
     "name": "stdout",
     "output_type": "stream",
     "text": [
      "1\n",
      "2\n",
      "3\n"
     ]
    }
   ],
   "source": [
    "# i가 3일 때 루프를 종료합니다.\n",
    "i = 1\n",
    "while i < 6:\n",
    "    print(i)\n",
    "    if i == 3:\n",
    "        break\n",
    "    i += 1"
   ]
  },
  {
   "cell_type": "markdown",
   "id": "614e45d4",
   "metadata": {},
   "source": [
    "* continue 문\n",
    "  - continue 문을 사용하면 현재 반복을 중단하고 다음 반복을 계속할 수 있습니다."
   ]
  },
  {
   "cell_type": "code",
   "execution_count": 29,
   "id": "7748ee9f",
   "metadata": {},
   "outputs": [
    {
     "name": "stdout",
     "output_type": "stream",
     "text": [
      "1\n",
      "2\n",
      "4\n",
      "5\n",
      "6\n"
     ]
    }
   ],
   "source": [
    "# i가 3이면 다음 반복을 계속합니다.\n",
    "i = 0\n",
    "while i < 6:\n",
    "    i += 1\n",
    "    if i == 3:\n",
    "        continue\n",
    "    print(i)"
   ]
  },
  {
   "cell_type": "markdown",
   "id": "083ed4bc",
   "metadata": {},
   "source": [
    "* else 문\n",
    "  - else 문을 사용하면 조건이 더 이상 참이 아닐 때 코드 블록을 한 번 실행할 수 있습니다."
   ]
  },
  {
   "cell_type": "code",
   "execution_count": 30,
   "id": "5f9ef046",
   "metadata": {},
   "outputs": [
    {
     "name": "stdout",
     "output_type": "stream",
     "text": [
      "1\n",
      "2\n",
      "3\n",
      "4\n",
      "5\n",
      "i is no longer less than 6\n"
     ]
    }
   ],
   "source": [
    "# 조건이 거짓이면 메시지를 출력합니다.\n",
    "i = 1\n",
    "while i < 6:\n",
    "    print(i)\n",
    "    i += 1\n",
    "else:\n",
    "    print(\"i is no longer less than 6\")"
   ]
  },
  {
   "cell_type": "markdown",
   "id": "d4d8c9f0",
   "metadata": {},
   "source": [
    "* for 루프\n",
    "  - for 루프는 시퀀스(리스트, 튜플, 딕셔너리, 집합 또는 문자열)를 반복하는 데 사용됩니다.\n",
    "  - 이는 다른 프로그래밍 언어의 for 키워드와는 다르며, 다른 객체 지향 프로그래밍 언어에서 볼 수 있는 반복자 메서드와 더 유사하게 작동합니다.\n",
    "  - for 루프를 사용하면 리스트, 튜플, 집합 등의 각 항목에 대해 한 번씩 일련의 명령문을 실행할 수 있습니다."
   ]
  },
  {
   "cell_type": "code",
   "execution_count": 31,
   "id": "552f05aa",
   "metadata": {},
   "outputs": [
    {
     "name": "stdout",
     "output_type": "stream",
     "text": [
      "apple\n",
      "banana\n",
      "cherry\n"
     ]
    }
   ],
   "source": [
    "# fruits 목록에 있는 각 과일을 출력하세요.\n",
    "fruits = [\"apple\", \"banana\", \"cherry\"]\n",
    "for x in fruits:\n",
    "    print(x)"
   ]
  },
  {
   "cell_type": "markdown",
   "id": "94037aa4",
   "metadata": {},
   "source": [
    "* for 루프는 인덱싱 변수를 미리 설정할 필요가 없습니다."
   ]
  },
  {
   "cell_type": "markdown",
   "id": "a78b66d1",
   "metadata": {},
   "source": [
    "* 문자열 반복하기\n",
    "  - 문자열도 반복 가능한 객체이며, 일련의 문자를 포함합니다."
   ]
  },
  {
   "cell_type": "code",
   "execution_count": 32,
   "id": "3966b192",
   "metadata": {},
   "outputs": [
    {
     "name": "stdout",
     "output_type": "stream",
     "text": [
      "b\n",
      "a\n",
      "n\n",
      "a\n",
      "n\n",
      "a\n"
     ]
    }
   ],
   "source": [
    "# \"banana\"라는 단어의 글자를 반복하세요.\n",
    "for x in \"banana\":\n",
    "    print(x)"
   ]
  },
  {
   "cell_type": "markdown",
   "id": "bf8c8409",
   "metadata": {},
   "source": [
    "* break 문\n",
    "  - break 문을 사용하면 모든 항목을 순회하기 전에 루프를 중단할 수 있습니다."
   ]
  },
  {
   "cell_type": "code",
   "execution_count": 33,
   "id": "59006df7",
   "metadata": {},
   "outputs": [
    {
     "name": "stdout",
     "output_type": "stream",
     "text": [
      "apple\n",
      "banana\n"
     ]
    }
   ],
   "source": [
    "# x가 \"banana\"일 때 루프를 종료합니다.\n",
    "fruits = [\"apple\", \"banana\", \"cherry\"]\n",
    "for x in fruits:\n",
    "    print(x)\n",
    "    if x == \"banana\":\n",
    "        break"
   ]
  },
  {
   "cell_type": "code",
   "execution_count": 34,
   "id": "e6774ad0",
   "metadata": {},
   "outputs": [
    {
     "name": "stdout",
     "output_type": "stream",
     "text": [
      "apple\n"
     ]
    }
   ],
   "source": [
    "# x가 \"banana\"일 때 루프를 종료하지만 이번에는 break가 print보다 먼저 옵니다.\n",
    "fruits = [\"apple\", \"banana\", \"cherry\"]\n",
    "for x in fruits:\n",
    "    if x == \"banana\":\n",
    "        break\n",
    "    print(x)"
   ]
  },
  {
   "cell_type": "markdown",
   "id": "25b59ece",
   "metadata": {},
   "source": [
    "* continue 문\n",
    "  - continue 문을 사용하면 루프의 현재 반복을 중단하고 다음 반복을 계속할 수 있습니다."
   ]
  },
  {
   "cell_type": "code",
   "execution_count": 35,
   "id": "13a97f8e",
   "metadata": {},
   "outputs": [
    {
     "name": "stdout",
     "output_type": "stream",
     "text": [
      "apple\n",
      "cherry\n"
     ]
    }
   ],
   "source": [
    "# \"banana\"를 출력하지 마세요.\n",
    "fruits = [\"apple\", \"banana\", \"cherry\"]\n",
    "for x in fruits:\n",
    "    if x == \"banana\":\n",
    "        continue\n",
    "    print(x)"
   ]
  },
  {
   "cell_type": "markdown",
   "id": "8c2784a3",
   "metadata": {},
   "source": [
    "* range() 함수\n",
    "  - 지정된 횟수만큼 코드 집합을 반복하려면 range() 함수를 사용할 수 있습니다.\n",
    "  - range() 함수는 기본적으로 0부터 시작하여 1씩 증가(기본값)하고 지정된 숫자에서 끝나는 일련의 숫자를 반환합니다."
   ]
  },
  {
   "cell_type": "code",
   "execution_count": 37,
   "id": "211a8787",
   "metadata": {},
   "outputs": [
    {
     "name": "stdout",
     "output_type": "stream",
     "text": [
      "0\n",
      "1\n",
      "2\n",
      "3\n",
      "4\n",
      "5\n"
     ]
    }
   ],
   "source": [
    "# range() 함수를 사용합니다.\n",
    "# range(6)은 0~6의 값이 아니라 0~5의 값이라는 점에 유의하세요.\n",
    "for x in range(6):\n",
    "    print(x)"
   ]
  },
  {
   "cell_type": "markdown",
   "id": "5d769186",
   "metadata": {},
   "source": [
    "* range() 함수는 기본적으로 시작 값으로 0을 사용하지만 매개변수 range(2, 6)를 추가하여 시작 값을 지정할 수 있습니다. 이는 2에서 6까지의 값(6은 제외)을 의미합니다."
   ]
  },
  {
   "cell_type": "code",
   "execution_count": 40,
   "id": "0ca1d304",
   "metadata": {},
   "outputs": [
    {
     "name": "stdout",
     "output_type": "stream",
     "text": [
      "2\n",
      "3\n",
      "4\n",
      "5\n"
     ]
    }
   ],
   "source": [
    "# 시작 매개변수 사용\n",
    "for x in range(2, 6):\n",
    "    print(x)"
   ]
  },
  {
   "cell_type": "code",
   "execution_count": 42,
   "id": "7d334282",
   "metadata": {},
   "outputs": [
    {
     "name": "stdout",
     "output_type": "stream",
     "text": [
      "3\n",
      "4\n",
      "5\n",
      "6\n",
      "7\n",
      "8\n",
      "9\n",
      "10\n",
      "11\n",
      "12\n",
      "13\n",
      "14\n"
     ]
    }
   ],
   "source": [
    "# 시작 매개변수 사용\n",
    "for x in range(3, 15):\n",
    "    print(x)"
   ]
  },
  {
   "cell_type": "markdown",
   "id": "727d95e4",
   "metadata": {},
   "source": [
    "* range() 함수는 기본적으로 시퀀스를 1씩 증가시키지만 세 번째 매개변수를 추가하여 증가 값을 지정할 수 있습니다. 예를 들어 range(2, 30, 3)"
   ]
  },
  {
   "cell_type": "code",
   "execution_count": 43,
   "id": "1af3e417",
   "metadata": {},
   "outputs": [
    {
     "name": "stdout",
     "output_type": "stream",
     "text": [
      "2\n",
      "5\n",
      "8\n",
      "11\n",
      "14\n",
      "17\n",
      "20\n",
      "23\n",
      "26\n",
      "29\n"
     ]
    }
   ],
   "source": [
    "# 시퀀스를 3씩 증가시킵니다(기본값은 1)\n",
    "for x in range(2, 30, 3):\n",
    "    print(x)"
   ]
  },
  {
   "cell_type": "markdown",
   "id": "1ca9476c",
   "metadata": {},
   "source": [
    "* for 루프의 else\n",
    "  - for 루프의 else 키워드는 루프가 완료되었을 때 실행될 코드 블록을 지정합니다."
   ]
  },
  {
   "cell_type": "code",
   "execution_count": 44,
   "id": "32754b78",
   "metadata": {},
   "outputs": [
    {
     "name": "stdout",
     "output_type": "stream",
     "text": [
      "0\n",
      "1\n",
      "2\n",
      "3\n",
      "4\n",
      "5\n",
      "Finally finished!\n"
     ]
    }
   ],
   "source": [
    "# 0부터 5까지의 모든 숫자를 출력하고, 루프가 끝나면 메시지를 출력합니다.\n",
    "for x in range(6):\n",
    "    print(x)\n",
    "else:\n",
    "    print(\"Finally finished!\")"
   ]
  },
  {
   "cell_type": "markdown",
   "id": "889906a3",
   "metadata": {},
   "source": [
    "* 참고: 루프가 break 문으로 중단되면 else 블록은 실행되지 않습니다."
   ]
  },
  {
   "cell_type": "code",
   "execution_count": 45,
   "id": "1843a766",
   "metadata": {},
   "outputs": [
    {
     "name": "stdout",
     "output_type": "stream",
     "text": [
      "0\n",
      "1\n",
      "2\n"
     ]
    }
   ],
   "source": [
    "# x가 3일 때 루프를 중단하고 else 블록에서 무슨 일이 일어나는지 살펴보세요.\n",
    "for x in range(6):\n",
    "    if x == 3: break\n",
    "    print(x)\n",
    "else:\n",
    "    print(\"Finally finished!\")"
   ]
  },
  {
   "cell_type": "markdown",
   "id": "28db0d98",
   "metadata": {},
   "source": [
    "* 중첩 루프\n",
    "  - 중첩 루프는 루프 안에 있는 루프입니다.\n",
    "  - \"내부 루프\"는 \"외부 루프\"가 반복될 때마다 한 번씩 실행됩니다."
   ]
  },
  {
   "cell_type": "code",
   "execution_count": 46,
   "id": "e5c5e077",
   "metadata": {},
   "outputs": [
    {
     "name": "stdout",
     "output_type": "stream",
     "text": [
      "red apple\n",
      "red banana\n",
      "red cherry\n",
      "big apple\n",
      "big banana\n",
      "big cherry\n",
      "tasty apple\n",
      "tasty banana\n",
      "tasty cherry\n"
     ]
    }
   ],
   "source": [
    "# 각 과일에 대한 형용사를 각각 출력하세요.\n",
    "adj = [\"red\", \"big\", \"tasty\"]\n",
    "fruits = [\"apple\", \"banana\", \"cherry\"]\n",
    "\n",
    "for x in adj:\n",
    "    for y in fruits:\n",
    "        print(x, y)"
   ]
  },
  {
   "cell_type": "markdown",
   "id": "e5ba62c7",
   "metadata": {},
   "source": [
    "* pass 문\n",
    "  - for 루프는 비어 있을 수 없지만, 어떤 이유로든 내용이 없는 for 루프가 있는 경우, 오류를 방지하기 위해 pass 문을 삽입하세요."
   ]
  },
  {
   "cell_type": "code",
   "execution_count": 47,
   "id": "2ce6df97",
   "metadata": {},
   "outputs": [],
   "source": [
    "for x in [0, 1, 2]:\n",
    "    pass"
   ]
  },
  {
   "cell_type": "markdown",
   "id": "b42eb2ea",
   "metadata": {},
   "source": [
    "* 함수\n",
    "\n",
    "  - 함수는 호출될 때만 실행되는 코드 블록입니다.\n",
    "  - 매개변수라고 하는 데이터를 함수에 전달할 수 있습니다.\n",
    "  - 함수는 결과로 데이터를 반환할 수 있습니다."
   ]
  },
  {
   "cell_type": "markdown",
   "id": "706004f5",
   "metadata": {},
   "source": [
    "- 함수 만들기\n",
    "  - Python에서 함수는 다음 def 키워드를 사용하여 정의됩니다."
   ]
  },
  {
   "cell_type": "code",
   "execution_count": 1,
   "id": "12b3432a",
   "metadata": {},
   "outputs": [],
   "source": [
    "def my_function():\n",
    "    print(\"Hello from a function\")"
   ]
  },
  {
   "cell_type": "markdown",
   "id": "8c5523d7",
   "metadata": {},
   "source": [
    "- 함수 호출\n",
    "  - 함수를 호출하려면 함수 이름 뒤에 괄호를 사용합니다."
   ]
  },
  {
   "cell_type": "code",
   "execution_count": 2,
   "id": "a51827a1",
   "metadata": {},
   "outputs": [
    {
     "name": "stdout",
     "output_type": "stream",
     "text": [
      "Hello from a function\n"
     ]
    }
   ],
   "source": [
    "def my_function():\n",
    "    print(\"Hello from a function\")\n",
    "\n",
    "my_function()"
   ]
  },
  {
   "cell_type": "markdown",
   "id": "b1c4276f",
   "metadata": {},
   "source": [
    "* 인수\n",
    "  - 정보는 인수로 함수에 전달될 수 있습니다.\n",
    "  - 인수는 함수 이름 뒤 괄호 안에 지정합니다. 인수는 원하는 만큼 추가할 수 있으며, 쉼표로 구분하면 됩니다.\n",
    "  - 다음 예제는 인수가 하나인 함수(fname)를 사용합니다. 함수가 호출될 때 이름을 전달하는데, 이 이름은 함수 내부에서 전체 이름을 출력하는 데 사용됩니다.\n",
    "  - Python 문서에서는 인수를 args 로 줄여서 쓰는 경우가 많습니다."
   ]
  },
  {
   "cell_type": "code",
   "execution_count": null,
   "id": "7d4e4676",
   "metadata": {},
   "outputs": [
    {
     "name": "stdout",
     "output_type": "stream",
     "text": [
      "Emil Refsnes\n",
      "Tobias Refsnes\n",
      "Linus Refsnes\n"
     ]
    }
   ],
   "source": [
    "def my_function(fname):\n",
    "    print(fname + \" Refsnes\")\n",
    "\n",
    "my_function(\"Emil\")\n",
    "my_function(\"Tobias\")\n",
    "my_function(\"Linus\")"
   ]
  },
  {
   "cell_type": "markdown",
   "id": "715e4a74",
   "metadata": {},
   "source": [
    "* 매개변수 또는 인수?\n",
    "  - 매개변수 와 인수라는 용어는 같은 의미로 사용될 수 있습니다. 즉, 함수에 전달되는 정보를 의미합니다.\n",
    "  - 함수의 관점에서:\n",
    "    - 매개변수는 함수 정의에서 괄호 안에 나열된 변수입니다.\n",
    "    - 인수는 함수가 호출될 때 전달되는 값입니다."
   ]
  },
  {
   "cell_type": "markdown",
   "id": "2a21e366",
   "metadata": {},
   "source": [
    "- 인수의 수\n",
    "  - 기본적으로 함수는 올바른 개수의 인수로 호출되어야 합니다. 즉, 함수가 인수를 두 개 예상한다면, 인수를 두 개 이상 또는 그 이하로 지정해서 호출해야 합니다."
   ]
  },
  {
   "cell_type": "code",
   "execution_count": 4,
   "id": "23e87fb4",
   "metadata": {},
   "outputs": [
    {
     "name": "stdout",
     "output_type": "stream",
     "text": [
      "Emil Refsnes\n"
     ]
    }
   ],
   "source": [
    "# 이 함수는 2개의 인수를 기대하고 2개의 인수를 받습니다.\n",
    "def my_function(fname, lname):\n",
    "    print(fname + \" \" + lname)\n",
    "\n",
    "my_function(\"Emil\", \"Refsnes\")"
   ]
  },
  {
   "cell_type": "markdown",
   "id": "01e62c4e",
   "metadata": {},
   "source": [
    "* 1개 또는 3개의 인수로 함수를 호출하려고 하면 오류가 발생합니다."
   ]
  },
  {
   "cell_type": "code",
   "execution_count": 6,
   "id": "80574178",
   "metadata": {},
   "outputs": [
    {
     "ename": "TypeError",
     "evalue": "my_function() missing 1 required positional argument: 'lname'",
     "output_type": "error",
     "traceback": [
      "\u001b[31m---------------------------------------------------------------------------\u001b[39m",
      "\u001b[31mTypeError\u001b[39m                                 Traceback (most recent call last)",
      "\u001b[36mCell\u001b[39m\u001b[36m \u001b[39m\u001b[32mIn[6]\u001b[39m\u001b[32m, line 5\u001b[39m\n\u001b[32m      2\u001b[39m \u001b[38;5;28;01mdef\u001b[39;00m\u001b[38;5;250m \u001b[39m\u001b[34mmy_function\u001b[39m(fname, lname):\n\u001b[32m      3\u001b[39m     \u001b[38;5;28mprint\u001b[39m(fname + \u001b[33m\"\u001b[39m\u001b[33m \u001b[39m\u001b[33m\"\u001b[39m + lname)\n\u001b[32m----> \u001b[39m\u001b[32m5\u001b[39m \u001b[43mmy_function\u001b[49m\u001b[43m(\u001b[49m\u001b[33;43m\"\u001b[39;49m\u001b[33;43mEmil\u001b[39;49m\u001b[33;43m\"\u001b[39;49m\u001b[43m)\u001b[49m\n",
      "\u001b[31mTypeError\u001b[39m: my_function() missing 1 required positional argument: 'lname'"
     ]
    }
   ],
   "source": [
    "# 이 함수는 2개의 인수를 기대하지만 1개만 받습니다.\n",
    "def my_function(fname, lname):\n",
    "    print(fname + \" \" + lname)\n",
    "\n",
    "my_function(\"Emil\")"
   ]
  },
  {
   "cell_type": "markdown",
   "id": "2d7d0467",
   "metadata": {},
   "source": [
    "- 임의의 인수, *args\n",
    "  - 함수에 전달될 인수의 개수를 모르는 경우, *함수 정의에서 매개변수 이름 앞에 를 추가합니다.\n",
    "  - 이렇게 하면 함수는 인수 튜플을 받고 그에 따라 항목에 액세스할 수 있습니다.\n",
    "  - Python 문서에서는 임의의 인수를 종종 *args 로 줄여서 표기합니다."
   ]
  },
  {
   "cell_type": "code",
   "execution_count": null,
   "id": "f2f1c80c",
   "metadata": {},
   "outputs": [
    {
     "name": "stdout",
     "output_type": "stream",
     "text": [
      "The youngest child is Linus\n"
     ]
    }
   ],
   "source": [
    "# 인수의 개수를 알 수 없는 경우 매개변수 이름 앞에 *를 추가합니다.\n",
    "def my_function(*kids):\n",
    "    print(\"The youngest child is \" + kids[2])\n",
    "\n",
    "my_function(\"Emil\", \"Tobias\", \"Linus\")"
   ]
  },
  {
   "cell_type": "markdown",
   "id": "252e3c48",
   "metadata": {},
   "source": [
    "* 키워드 인수\n",
    "  - 키 = 값 구문을 사용하여 인수를 보낼 수도 있습니다.\n",
    "  - 이렇게 하면 인수의 순서는 중요하지 않습니다.\n",
    "  - Python 문서에서는 키워드 인수라는 문구 를 종종 kwargs 로 줄여서 사용합니다."
   ]
  },
  {
   "cell_type": "code",
   "execution_count": 8,
   "id": "027f6111",
   "metadata": {},
   "outputs": [
    {
     "name": "stdout",
     "output_type": "stream",
     "text": [
      "The youngest child is Linus\n"
     ]
    }
   ],
   "source": [
    "def my_function(child3, child2, child1):\n",
    "    print(\"The youngest child is \" + child3)\n",
    "\n",
    "my_function(child1 = \"Emil\", child2 = \"Tobias\", child3 = \"Linus\")"
   ]
  },
  {
   "cell_type": "markdown",
   "id": "3cb6cdbc",
   "metadata": {},
   "source": [
    "- 임의의 키워드 인수, **kwargs\n",
    "  - 함수에 전달될 키워드 인수의 개수를 모르는 경우 **함수 정의에서 매개변수 이름 앞에 별표 두 개를 추가합니다.\n",
    "  - 이렇게 하면 함수는 인수 사전을 받고 그에 따라 항목에 액세스할 수 있습니다.\n",
    "  - 임의의 Kword 인수는 Python 문서에서 종종 **kwargs 로 줄여서 표기됩니다."
   ]
  },
  {
   "cell_type": "code",
   "execution_count": 9,
   "id": "fe1ee1fb",
   "metadata": {},
   "outputs": [
    {
     "name": "stdout",
     "output_type": "stream",
     "text": [
      "His last name is Refsnes\n"
     ]
    }
   ],
   "source": [
    "# 키워드 인수의 개수를 알 수 없는 경우 매개변수 이름 앞에 **를 두 개 추가합니다.\n",
    "def my_function(**kid):\n",
    "    print(\"His last name is \" + kid[\"lname\"])\n",
    "\n",
    "my_function(fname = \"Tobias\", lname = \"Refsnes\")"
   ]
  },
  {
   "cell_type": "markdown",
   "id": "31ff944c",
   "metadata": {},
   "source": [
    "- 기본 매개변수 값\n",
    "  - 다음 예제에서는 기본 매개변수 값을 사용하는 방법을 보여줍니다.\n",
    "  - 인수 없이 함수를 호출하면 기본값이 사용됩니다."
   ]
  },
  {
   "cell_type": "code",
   "execution_count": 10,
   "id": "1b0ee2e7",
   "metadata": {},
   "outputs": [
    {
     "name": "stdout",
     "output_type": "stream",
     "text": [
      "I am from Sweden\n",
      "I am from India\n",
      "I am from Norway\n",
      "I am from Brazil\n"
     ]
    }
   ],
   "source": [
    "def my_function(country = \"Norway\"):\n",
    "    print(\"I am from \" + country)\n",
    "\n",
    "my_function(\"Sweden\")\n",
    "my_function(\"India\")\n",
    "my_function()\n",
    "my_function(\"Brazil\")"
   ]
  },
  {
   "cell_type": "markdown",
   "id": "8255952b",
   "metadata": {},
   "source": [
    "- 인수로 목록 전달하기\n",
    "  - 함수에 어떤 데이터 유형(문자열, 숫자, 목록, 사전 등)의 인수를 보낼 수 있으며, 이는 함수 내부에서 동일한 데이터 유형으로 처리됩니다.\n",
    "  - 예를 들어 인수로 목록을 보내면 함수에 도달할 때 여전히 목록이 됩니다."
   ]
  },
  {
   "cell_type": "code",
   "execution_count": 12,
   "id": "7b3d8145",
   "metadata": {},
   "outputs": [
    {
     "name": "stdout",
     "output_type": "stream",
     "text": [
      "apple\n",
      "banana\n",
      "cherry\n"
     ]
    }
   ],
   "source": [
    "def my_function(food):\n",
    "    for x in food:\n",
    "        print(x)\n",
    "\n",
    "fruits = [\"apple\", \"banana\", \"cherry\"]\n",
    "\n",
    "my_function(fruits)"
   ]
  },
  {
   "cell_type": "markdown",
   "id": "422ee35b",
   "metadata": {},
   "source": [
    "- 반환 값\n",
    "  - 함수가 값을 반환하도록 하려면 return 다음 명령문을 사용하세요."
   ]
  },
  {
   "cell_type": "code",
   "execution_count": 13,
   "id": "54b08c2f",
   "metadata": {},
   "outputs": [
    {
     "name": "stdout",
     "output_type": "stream",
     "text": [
      "15\n",
      "25\n",
      "45\n"
     ]
    }
   ],
   "source": [
    "def my_function(x):\n",
    "    return 5 * x\n",
    "\n",
    "print(my_function(3))\n",
    "print(my_function(5))\n",
    "print(my_function(9))"
   ]
  },
  {
   "cell_type": "markdown",
   "id": "24261dd0",
   "metadata": {},
   "source": [
    "- pass 구문\n",
    "  - 함수 정의는 비어 있을 수 없지만, 어떤 이유로 내용이 없는 함수 정의가 있는 경우 pass 문을 넣어 오류를 방지하세요."
   ]
  },
  {
   "cell_type": "code",
   "execution_count": null,
   "id": "e9fa5f72",
   "metadata": {},
   "outputs": [],
   "source": [
    "def my_function():\n",
    "    pass"
   ]
  },
  {
   "cell_type": "markdown",
   "id": "130c2c3e",
   "metadata": {},
   "source": [
    "- 위치 전용 인수\n",
    "  - 함수가 위치 인수만 가질 수 있도록 지정하거나 키워드 인수만 가질 수 있도록 지정할 수 있습니다.\n",
    "  - 함수가 위치 인수만 가질 수 있도록 지정하려면 인수 뒤에 `, /` 를 추가합니다."
   ]
  },
  {
   "cell_type": "code",
   "execution_count": 14,
   "id": "804070ca",
   "metadata": {},
   "outputs": [
    {
     "name": "stdout",
     "output_type": "stream",
     "text": [
      "3\n"
     ]
    }
   ],
   "source": [
    "def my_function(x, /):\n",
    "    print(x)\n",
    "\n",
    "\n",
    "my_function(3)"
   ]
  },
  {
   "cell_type": "markdown",
   "id": "23af1554",
   "metadata": {},
   "source": [
    "* `, /` 없이도 함수가 위치 인수를 기대하더라도 키워드 인수를 사용할 수 있습니다."
   ]
  },
  {
   "cell_type": "code",
   "execution_count": 17,
   "id": "0dbdb6be",
   "metadata": {},
   "outputs": [
    {
     "name": "stdout",
     "output_type": "stream",
     "text": [
      "3\n"
     ]
    }
   ],
   "source": [
    "def my_function(x):\n",
    "    print(x)\n",
    "\n",
    "my_function(x = 3)"
   ]
  },
  {
   "cell_type": "markdown",
   "id": "f4e20b65",
   "metadata": {},
   "source": [
    "* 하지만 `, /`를 추가할 때 키워드 인수를 보내려고 하면 오류가 발생합니다."
   ]
  },
  {
   "cell_type": "code",
   "execution_count": 18,
   "id": "e91ab93e",
   "metadata": {},
   "outputs": [
    {
     "ename": "TypeError",
     "evalue": "my_function() got some positional-only arguments passed as keyword arguments: 'x'",
     "output_type": "error",
     "traceback": [
      "\u001b[31m---------------------------------------------------------------------------\u001b[39m",
      "\u001b[31mTypeError\u001b[39m                                 Traceback (most recent call last)",
      "\u001b[36mCell\u001b[39m\u001b[36m \u001b[39m\u001b[32mIn[18]\u001b[39m\u001b[32m, line 4\u001b[39m\n\u001b[32m      1\u001b[39m \u001b[38;5;28;01mdef\u001b[39;00m\u001b[38;5;250m \u001b[39m\u001b[34mmy_function\u001b[39m(x, /):\n\u001b[32m      2\u001b[39m     \u001b[38;5;28mprint\u001b[39m(x)\n\u001b[32m----> \u001b[39m\u001b[32m4\u001b[39m \u001b[43mmy_function\u001b[49m\u001b[43m(\u001b[49m\u001b[43mx\u001b[49m\u001b[43m \u001b[49m\u001b[43m=\u001b[49m\u001b[43m \u001b[49m\u001b[32;43m3\u001b[39;49m\u001b[43m)\u001b[49m\n",
      "\u001b[31mTypeError\u001b[39m: my_function() got some positional-only arguments passed as keyword arguments: 'x'"
     ]
    }
   ],
   "source": [
    "def my_function(x, /):\n",
    "    print(x)\n",
    "\n",
    "my_function(x = 3)"
   ]
  },
  {
   "cell_type": "markdown",
   "id": "c64ce61a",
   "metadata": {},
   "source": [
    "* 키워드 전용 인수\n",
    "  - 함수가 키워드 인수만 가질 수 있도록 지정하려면 인수 `*,` 앞에 다음을 추가합니다."
   ]
  },
  {
   "cell_type": "code",
   "execution_count": 19,
   "id": "6c0bbacf",
   "metadata": {},
   "outputs": [
    {
     "name": "stdout",
     "output_type": "stream",
     "text": [
      "3\n"
     ]
    }
   ],
   "source": [
    "def my_function(*, x):\n",
    "    print(x)\n",
    "\n",
    "my_function(x = 3)"
   ]
  },
  {
   "cell_type": "markdown",
   "id": "1f9e2b8b",
   "metadata": {},
   "source": [
    "- 키워드 인수를 기대하는 함수 `*,` 라도 위치 인수를 사용할 수 있습니다."
   ]
  },
  {
   "cell_type": "code",
   "execution_count": 20,
   "id": "e6baf80d",
   "metadata": {},
   "outputs": [
    {
     "name": "stdout",
     "output_type": "stream",
     "text": [
      "3\n"
     ]
    }
   ],
   "source": [
    "def my_function(x):\n",
    "    print(x)\n",
    "\n",
    "my_function(3)"
   ]
  },
  {
   "cell_type": "markdown",
   "id": "7ba7bda0",
   "metadata": {},
   "source": [
    "* 하지만 `*,` 위치 인수를 보내려고 하면 오류가 발생합니다."
   ]
  },
  {
   "cell_type": "code",
   "execution_count": 21,
   "id": "162243e6",
   "metadata": {},
   "outputs": [
    {
     "ename": "TypeError",
     "evalue": "my_function() takes 0 positional arguments but 1 was given",
     "output_type": "error",
     "traceback": [
      "\u001b[31m---------------------------------------------------------------------------\u001b[39m",
      "\u001b[31mTypeError\u001b[39m                                 Traceback (most recent call last)",
      "\u001b[36mCell\u001b[39m\u001b[36m \u001b[39m\u001b[32mIn[21]\u001b[39m\u001b[32m, line 4\u001b[39m\n\u001b[32m      1\u001b[39m \u001b[38;5;28;01mdef\u001b[39;00m\u001b[38;5;250m \u001b[39m\u001b[34mmy_function\u001b[39m(*, x):\n\u001b[32m      2\u001b[39m     \u001b[38;5;28mprint\u001b[39m(x)\n\u001b[32m----> \u001b[39m\u001b[32m4\u001b[39m \u001b[43mmy_function\u001b[49m\u001b[43m(\u001b[49m\u001b[32;43m3\u001b[39;49m\u001b[43m)\u001b[49m\n",
      "\u001b[31mTypeError\u001b[39m: my_function() takes 0 positional arguments but 1 was given"
     ]
    }
   ],
   "source": [
    "def my_function(*, x):\n",
    "    print(x)\n",
    "\n",
    "my_function(3)"
   ]
  },
  {
   "cell_type": "markdown",
   "id": "4cce0998",
   "metadata": {},
   "source": [
    "- 위치 전용과 키워드 전용을 결합합니다.\n",
    "  - 동일한 함수에서 두 가지 인수 유형을 결합할 수 있습니다.\n",
    "  - 앞에 있는 인수는 위치 `/ ,`전용이고 뒤에 있는 인수는 키워드 `*, ` 전용입니다."
   ]
  },
  {
   "cell_type": "code",
   "execution_count": 22,
   "id": "051743bd",
   "metadata": {},
   "outputs": [
    {
     "name": "stdout",
     "output_type": "stream",
     "text": [
      "26\n"
     ]
    }
   ],
   "source": [
    "def my_function(a, b, /, *, c, d):\n",
    "    print(a + b + c + d)\n",
    "\n",
    "my_function(5, 6, c = 7, d = 8)"
   ]
  },
  {
   "cell_type": "code",
   "execution_count": 23,
   "id": "e8890560",
   "metadata": {},
   "outputs": [
    {
     "name": "stdout",
     "output_type": "stream",
     "text": [
      "1 2 3\n"
     ]
    }
   ],
   "source": [
    "def func(a, /, b, *, c):\n",
    "    print(a, b, c)\n",
    "\n",
    "func(1, 2, c = 3) # a=1 (위치 인자), b=2 (위치 인자), c=3 (키워드 인자)\n",
    "\n",
    "# func(a=1, b=2, c=3) 오류: a는 위치 전용이라 키워드로 전달 불가\n",
    "# func(1, 2, 3)오류: c는 키워드 전용이므로 반드시 c=3 형태여야 함"
   ]
  },
  {
   "cell_type": "markdown",
   "id": "faf8461c",
   "metadata": {},
   "source": [
    "* 재귀\n",
    "  - 파이썬은 또한 함수 재귀를 허용하는데, 이는 정의된 함수가 자기 자신을 호출할 수 있다는 것을 의미합니다.\n",
    "  - 재귀는 일반적인 수학 및 프로그래밍 개념입니다. 함수가 자기 자신을 호출한다는 의미입니다. 이는 데이터를 반복하여 결과에 도달할 수 있다는 장점이 있습니다.\n",
    "  - 개발자는 재귀를 사용할 때 매우 주의해야 합니다. 종료되지 않는 함수나 과도한 메모리 또는 프로세서 성능을 사용하는 함수를 작성하게 될 수 있기 때문입니다. 하지만 올바르게 작성하면 재귀는 매우 효율적이고 수학적으로 우아한 프로그래밍 방식이 될 수 있습니다.\n",
    "  - 이 예제에서 tri_recursion() 은 자기 자신을 호출하도록 정의한 함수입니다(\"recurse\"). k 변수를 데이터로 사용하는데, 이 변수는 재귀가 발생할 때마다 감소( -1 )합니다. 재귀는 조건이 0보다 크지 않을 때(즉, 0이 될 때) 종료됩니다.\n",
    "  - 새로운 개발자에게는 이것이 정확히 어떻게 작동하는지 알아내는 데 시간이 걸릴 수 있으며, 알아내는 가장 좋은 방법은 테스트하고 수정하는 것입니다."
   ]
  },
  {
   "cell_type": "code",
   "execution_count": 24,
   "id": "5c962c5d",
   "metadata": {},
   "outputs": [
    {
     "name": "stdout",
     "output_type": "stream",
     "text": [
      "Recursion Example Results:\n",
      "1\n",
      "3\n",
      "6\n",
      "10\n",
      "15\n",
      "21\n"
     ]
    },
    {
     "data": {
      "text/plain": [
       "21"
      ]
     },
     "execution_count": 24,
     "metadata": {},
     "output_type": "execute_result"
    }
   ],
   "source": [
    "def tri_recursion(k):\n",
    "    if(k > 0):\n",
    "        result = k + tri_recursion(k - 1)\n",
    "        print(result)\n",
    "    else:\n",
    "        result = 0\n",
    "    return result\n",
    "\n",
    "print(\"Recursion Example Results:\")\n",
    "tri_recursion(6)"
   ]
  },
  {
   "cell_type": "markdown",
   "id": "15de7cb7",
   "metadata": {},
   "source": [
    "* 데코레이터\n",
    "  - 데코레이터를 사용하면 함수의 코드를 변경하지 않고도 함수에 추가적인 동작을 추가할 수 있습니다.\n",
    "  - 데코레이터는 다른 함수를 입력으로 받아서 새로운 함수를 반환하는 함수입니다."
   ]
  },
  {
   "cell_type": "markdown",
   "id": "22a45ea7",
   "metadata": {},
   "source": [
    "* 기본 데코레이터\n",
    "  - 먼저 데코레이터를 정의한 다음, @decorator_name함수 위에 적용합니다."
   ]
  },
  {
   "cell_type": "code",
   "execution_count": 26,
   "id": "ffe5d7a8",
   "metadata": {},
   "outputs": [
    {
     "name": "stdout",
     "output_type": "stream",
     "text": [
      "HELLO SALLY\n"
     ]
    }
   ],
   "source": [
    "# 데코레이팅된 함수의 반환 값을 대문자로 바꾸는 기본 데코레이터입니다.\n",
    "def changecase(func):\n",
    "    def myinner():\n",
    "        return func().upper()\n",
    "    return myinner\n",
    "\n",
    "@changecase\n",
    "def myfunction():\n",
    "    return \"Hello Sally\"\n",
    "\n",
    "print(myfunction())\n",
    "\n",
    "# @changecase를 함수 정의 바로 위에 배치함으로써 myfunction 함수는 changecase 함수로 \"데코레이팅\"됩니다.\n",
    "# changecase 함수는 데코레이터입니다.\n",
    "# myfunction 함수는 데코레이팅되는 함수입니다."
   ]
  },
  {
   "cell_type": "markdown",
   "id": "899edcb2",
   "metadata": {},
   "source": [
    "- 여러 데코레이터 호출\n",
    "  - 데코레이터는 여러 번 호출될 수 있습니다. 데코레이터를 데코레이션하려는 함수 위에 배치하기만 하면 됩니다."
   ]
  },
  {
   "cell_type": "code",
   "execution_count": 27,
   "id": "c9fd871b",
   "metadata": {},
   "outputs": [
    {
     "name": "stdout",
     "output_type": "stream",
     "text": [
      "HELLO SALLY\n",
      "I AM SPEED!\n"
     ]
    }
   ],
   "source": [
    "# @changecase두 가지 함수에 데코레이터 사용\n",
    "def changecase(func):\n",
    "    def myinner():\n",
    "        return func().upper()\n",
    "    return myinner\n",
    "\n",
    "@changecase\n",
    "def myfunction():\n",
    "    return \"Hello Sally\"\n",
    "\n",
    "@changecase\n",
    "def otherfunction():\n",
    "    return \"I am speed!\"\n",
    "\n",
    "print(myfunction())\n",
    "print(otherfunction())"
   ]
  },
  {
   "cell_type": "markdown",
   "id": "35b91f16",
   "metadata": {},
   "source": [
    "* 데코레이팅된 함수의 인수\n",
    "  - 인수가 필요한 함수도 데코레이팅할 수 있습니다. 단, 래퍼 함수에 인수를 전달해야 합니다."
   ]
  },
  {
   "cell_type": "code",
   "execution_count": 28,
   "id": "d9dd40ad",
   "metadata": {},
   "outputs": [
    {
     "name": "stdout",
     "output_type": "stream",
     "text": [
      "HELLO JOHN\n"
     ]
    }
   ],
   "source": [
    "# 인수가 있는 함수도 데코레이트할 수 있습니다.\n",
    "def changecase(func):\n",
    "    def myinner(x):\n",
    "        return func(x).upper()\n",
    "    return myinner\n",
    "\n",
    "@changecase\n",
    "def myfunction(name):\n",
    "    return \"Hello \" + name\n",
    "\n",
    "print(myfunction(\"John\"))"
   ]
  },
  {
   "cell_type": "markdown",
   "id": "91d522f0",
   "metadata": {},
   "source": [
    "* *args 및 **kwargs\n",
    "  - 데코레이터 함수가 데코레이팅된 함수에서 전달되는 인수를 제어할 수 없는 경우가 있습니다. 이 문제를 해결하려면 래퍼 함수에 (*args, **kwargs)를 추가합니다. 이렇게 하면 래퍼 함수가 원하는 개수와 유형의 인수를 받아 데코레이팅된 함수에 전달할 수 있습니다."
   ]
  },
  {
   "cell_type": "code",
   "execution_count": 29,
   "id": "412253d7",
   "metadata": {},
   "outputs": [
    {
     "name": "stdout",
     "output_type": "stream",
     "text": [
      "HELLO JOHN\n"
     ]
    }
   ],
   "source": [
    "# *args 및 **kwargs 인수를 사용하여 함수를 보호합니다.\n",
    "def changecase(func):\n",
    "    def myinner(*args, **kwargs):\n",
    "        return func(*args, **kwargs).upper()\n",
    "    return myinner\n",
    "\n",
    "@changecase\n",
    "def myfunction(name):\n",
    "    return \"Hello \" + name\n",
    "\n",
    "print(myfunction(\"John\"))"
   ]
  },
  {
   "cell_type": "markdown",
   "id": "29558c5e",
   "metadata": {},
   "source": [
    "* 인수가 있는 데코레이터\n",
    "  - 데코레이터는 다른 래퍼 수준을 추가하여 자체 인수를 받을 수 있습니다."
   ]
  },
  {
   "cell_type": "code",
   "execution_count": 31,
   "id": "5ef9f069",
   "metadata": {},
   "outputs": [
    {
     "name": "stdout",
     "output_type": "stream",
     "text": [
      "hello linus\n"
     ]
    }
   ],
   "source": [
    "# 인수를 받아서 인수 값에 따라 케이스를 변환하는 데코레이터 팩토리입니다.\n",
    "def changecase(n):\n",
    "    def changecase(func):\n",
    "        def myinner():\n",
    "            if n == 1:\n",
    "                a = func().lower()\n",
    "            else:\n",
    "                a = func().upper()\n",
    "            return a\n",
    "        return myinner\n",
    "    return changecase\n",
    "\n",
    "@changecase(1)\n",
    "def myfunction():\n",
    "    return \"Hello Linus\"\n",
    "\n",
    "print(myfunction())"
   ]
  },
  {
   "cell_type": "markdown",
   "id": "c5cafb2d",
   "metadata": {},
   "source": [
    "* 여러 데코레이터\n",
    "  - 하나의 함수에 여러 데코레이터를 사용할 수 있습니다.\n",
    "  - 데코레이터 호출을 서로 겹쳐서 배치하면 됩니다.\n",
    "  - 데코레이터는 지정된 순서대로 호출됩니다."
   ]
  },
  {
   "cell_type": "code",
   "execution_count": 32,
   "id": "80d8934d",
   "metadata": {},
   "outputs": [
    {
     "name": "stdout",
     "output_type": "stream",
     "text": [
      "HELLO TOBIAS HAVE A GOOD DAY!\n"
     ]
    }
   ],
   "source": [
    "# 대문자를 위한 데코레이터 하나와 인사말을 추가하기 위한 데코레이터 하나:\n",
    "def changecase(func):\n",
    "    def myinner():\n",
    "        return func().upper()\n",
    "    return myinner\n",
    "\n",
    "def addgreeting(func):\n",
    "    def myinner():\n",
    "        return \"Hello \" + func() + \" Have a good day!\"\n",
    "    return myinner\n",
    "\n",
    "@changecase\n",
    "@addgreeting\n",
    "def myfunction():\n",
    "    return \"Tobias\"\n",
    "\n",
    "print(myfunction())"
   ]
  },
  {
   "cell_type": "markdown",
   "id": "f9132bc7",
   "metadata": {},
   "source": [
    "- 함수 메타데이터 보존\n",
    "  - Python 함수에는 `__name__` 및 `__doc__` 속성을 사용하여 액세스할 수 있는 메타데이터가 있습니다."
   ]
  },
  {
   "cell_type": "code",
   "execution_count": 33,
   "id": "c744d0a2",
   "metadata": {},
   "outputs": [
    {
     "name": "stdout",
     "output_type": "stream",
     "text": [
      "myfunction\n"
     ]
    }
   ],
   "source": [
    "# 일반적으로 함수의 이름은 __name__ 속성을 사용하여 반환될 수 있습니다.\n",
    "def myfunction():\n",
    "    return \"Have a great day!\"\n",
    "\n",
    "print(myfunction.__name__)"
   ]
  },
  {
   "cell_type": "markdown",
   "id": "69df256c",
   "metadata": {},
   "source": [
    "* 하지만 함수가 데코레이팅되면 원래 함수의 메타데이터가 손실됩니다."
   ]
  },
  {
   "cell_type": "code",
   "execution_count": 34,
   "id": "701f3c2d",
   "metadata": {},
   "outputs": [
    {
     "name": "stdout",
     "output_type": "stream",
     "text": [
      "myinner\n"
     ]
    }
   ],
   "source": [
    "# 장식된 함수에서 이름을 반환해 보면 같은 결과를 얻을 수 없습니다.\n",
    "def changecase(func):\n",
    "    def myinner():\n",
    "        return func().upper()\n",
    "    return myinner\n",
    "\n",
    "@changecase\n",
    "def myfunction():\n",
    "    return \"Have a great day!\"\n",
    "\n",
    "print(myfunction.__name__)"
   ]
  },
  {
   "cell_type": "markdown",
   "id": "c26a35c3",
   "metadata": {},
   "source": [
    "* 이 문제를 해결하기 위해 Python에는 functools.wraps라는 내장 함수가 있는데, 이를 사용하여 원래 함수의 이름과 docstring을 보존할 수 있습니다."
   ]
  },
  {
   "cell_type": "code",
   "execution_count": 35,
   "id": "f011f3ba",
   "metadata": {},
   "outputs": [
    {
     "name": "stdout",
     "output_type": "stream",
     "text": [
      "myfunction\n"
     ]
    }
   ],
   "source": [
    "# 원래 함수 이름과 docstring을 보존하려면 functools.wraps를 가져옵니다.\n",
    "import functools\n",
    "\n",
    "def changecase(func):\n",
    "    @functools.wraps(func)\n",
    "    def myinner():\n",
    "        return func().upper()\n",
    "    return myinner\n",
    "\n",
    "@changecase\n",
    "def myfunction():\n",
    "    return \"Have a great day!\"\n",
    "\n",
    "print(myfunction.__name__)"
   ]
  },
  {
   "cell_type": "markdown",
   "id": "56d12c0c",
   "metadata": {},
   "source": [
    "* Python - Range\n",
    "\n",
    "  - 내장 함수 range()는 특정 횟수만큼 반복하는 데 일반적으로 사용되는 불변 숫자 시퀀스를 반환합니다.\n",
    "  - 이 숫자 세트는 범위라는 자체 데이터 유형을 갖습니다.\n",
    "  - 참고: 불변이란 생성된 후에는 수정할 수 없다는 것을 의미합니다."
   ]
  },
  {
   "cell_type": "markdown",
   "id": "e1189e0b",
   "metadata": {},
   "source": [
    "* range 만들기\n",
    "  - range() 함수는 다음 구문을 사용하여 1개, 2개 또는 3개의 인수로 호출할 수 있습니다."
   ]
  },
  {
   "cell_type": "code",
   "execution_count": 36,
   "id": "28a8028f",
   "metadata": {},
   "outputs": [
    {
     "ename": "NameError",
     "evalue": "name 'start' is not defined",
     "output_type": "error",
     "traceback": [
      "\u001b[31m---------------------------------------------------------------------------\u001b[39m",
      "\u001b[31mNameError\u001b[39m                                 Traceback (most recent call last)",
      "\u001b[36mCell\u001b[39m\u001b[36m \u001b[39m\u001b[32mIn[36]\u001b[39m\u001b[32m, line 1\u001b[39m\n\u001b[32m----> \u001b[39m\u001b[32m1\u001b[39m \u001b[38;5;28mrange\u001b[39m(\u001b[43mstart\u001b[49m, stop, step)\n",
      "\u001b[31mNameError\u001b[39m: name 'start' is not defined"
     ]
    }
   ],
   "source": [
    "range(start, stop, step)"
   ]
  },
  {
   "cell_type": "markdown",
   "id": "23ed5a16",
   "metadata": {},
   "source": [
    "- 하나의 인수로 range() 호출\n",
    "  - range 함수를 하나의 인수로만 호출하면, 해당 인수는 종료 값을 나타냅니다.\n",
    "  - 시작 인수는 선택 사항이며, 지정하지 않으면 기본값은 0입니다.\n",
    "  - range(10)은 0부터 9까지의 각 숫자의 시퀀스를 반환합니다. (시작 인수 0은 포함되고, 종료 인수 10은 제외됩니다.)"
   ]
  },
  {
   "cell_type": "code",
   "execution_count": 41,
   "id": "83372d93",
   "metadata": {},
   "outputs": [],
   "source": [
    "# 0~9까지의 숫자 범위를 만듭니다.\n",
    "x = range(10)"
   ]
  },
  {
   "cell_type": "markdown",
   "id": "1ffae813",
   "metadata": {},
   "source": [
    "* 두 개의 인수로 range() 호출\n",
    "  - range 함수가 두 개의 인수로 호출되면 첫 번째 인수는 시작 값을, 두 번째 인수는 종료 값을 나타냅니다.\n",
    "  - range(3, 10)은 3부터 9까지 각 숫자의 시퀀스를 반환합니다."
   ]
  },
  {
   "cell_type": "code",
   "execution_count": 42,
   "id": "5cf13c2c",
   "metadata": {},
   "outputs": [],
   "source": [
    "# 3에서 9까지의 숫자 범위를 만듭니다.\n",
    "x = range(3, 10)"
   ]
  },
  {
   "cell_type": "markdown",
   "id": "eac2ade3",
   "metadata": {},
   "source": [
    "* 세 개의 인수로 range() 호출\n",
    "  - range 함수를 세 개의 인수로 호출하면 세 번째 인수는 단계 값을 나타냅니다.\n",
    "  - 단계 값은 시퀀스의 각 숫자 사이의 차이를 의미합니다. 선택 사항이며, 지정하지 않으면 기본값은 1입니다.  "
   ]
  },
  {
   "cell_type": "code",
   "execution_count": null,
   "id": "c57c62c8",
   "metadata": {},
   "outputs": [],
   "source": [
    "# range(3, 10, 2)는 3부터 9까지 각 숫자의 단계가 2인 시퀀스를 반환합니다.\n",
    "x = range(3, 10, 2)"
   ]
  },
  {
   "cell_type": "markdown",
   "id": "b6633924",
   "metadata": {},
   "source": [
    "* 범위 사용\n",
    "  - 범위는 for 루프에서 숫자 시퀀스를 반복하는 데 자주 사용됩니다."
   ]
  },
  {
   "cell_type": "code",
   "execution_count": 44,
   "id": "413e4925",
   "metadata": {},
   "outputs": [
    {
     "name": "stdout",
     "output_type": "stream",
     "text": [
      "0\n",
      "1\n",
      "2\n",
      "3\n",
      "4\n",
      "5\n",
      "6\n",
      "7\n",
      "8\n",
      "9\n"
     ]
    }
   ],
   "source": [
    "# 범위 내의 각 값을 반복합니다.\n",
    "for i in range(10):\n",
    "    print(i)"
   ]
  },
  {
   "cell_type": "markdown",
   "id": "a049ef11",
   "metadata": {},
   "source": [
    "* 목록을 사용하여 범위 표시하기\n",
    "  - 범위 객체는 변경 불가능한 숫자 시퀀스를 나타내는 데이터 유형이며, 직접 표시할 수 없습니다.\n",
    "  - 따라서 범위를 목록으로 변환하여 표시하는 경우가 많습니다."
   ]
  },
  {
   "cell_type": "code",
   "execution_count": 45,
   "id": "b4a84326",
   "metadata": {},
   "outputs": [
    {
     "name": "stdout",
     "output_type": "stream",
     "text": [
      "[0, 1, 2, 3, 4]\n",
      "[1, 2, 3, 4, 5]\n",
      "[5, 8, 11, 14, 17]\n"
     ]
    }
   ],
   "source": [
    "# 다양한 범위를 목록으로 변환\n",
    "print(list(range(5)))\n",
    "print(list(range(1, 6)))\n",
    "print(list(range(5, 20, 3)))"
   ]
  },
  {
   "cell_type": "markdown",
   "id": "0d173907",
   "metadata": {},
   "source": [
    "* 범위 슬라이싱\n",
    "  - 다른 시퀀스와 마찬가지로 범위도 슬라이싱하여 하위 시퀀스를 추출할 수 있습니다.\n",
    "  - 참고: 첫 번째 print 문은 인덱스 2의 값을 반환하고, 두 번째 print 문은 인덱스 0부터 3까지의 새로운 범위 객체를 반환합니다."
   ]
  },
  {
   "cell_type": "code",
   "execution_count": 47,
   "id": "df70f109",
   "metadata": {},
   "outputs": [
    {
     "name": "stdout",
     "output_type": "stream",
     "text": [
      "2\n",
      "range(0, 3)\n"
     ]
    }
   ],
   "source": [
    "# 범위에서 하위 시퀀스 추출\n",
    "r = range(10)\n",
    "print(r[2])\n",
    "print(r[:3])"
   ]
  },
  {
   "cell_type": "markdown",
   "id": "851f339f",
   "metadata": {},
   "source": [
    "* 멤버십 테스트\n",
    "  - 범위는 in 연산자를 사용하여 멤버십 테스트를 지원합니다.\n",
    "  - 숫자가 범위 내에 있으면 반환 값은 True이고, 없으면 반환 값은 False입니다."
   ]
  },
  {
   "cell_type": "code",
   "execution_count": 51,
   "id": "1d1459ae",
   "metadata": {},
   "outputs": [
    {
     "name": "stdout",
     "output_type": "stream",
     "text": [
      "True\n",
      "False\n"
     ]
    }
   ],
   "source": [
    "# 숫자 6과 7이 범위 내에 존재하는지 테스트합니다.\n",
    "r = range(0, 10, 2)\n",
    "print(6 in r)\n",
    "print(7 in r)"
   ]
  },
  {
   "cell_type": "markdown",
   "id": "284fee39",
   "metadata": {},
   "source": [
    "* 길이\n",
    "  - 범위는 범위 내 요소의 개수를 가져오는 len() 함수를 지원합니다."
   ]
  },
  {
   "cell_type": "code",
   "execution_count": 52,
   "id": "2fbad200",
   "metadata": {},
   "outputs": [
    {
     "name": "stdout",
     "output_type": "stream",
     "text": [
      "5\n"
     ]
    }
   ],
   "source": [
    "# 범위의 길이를 가져옵니다.\n",
    "r = range(0, 10, 2)\n",
    "print(len(r))"
   ]
  }
 ],
 "metadata": {
  "kernelspec": {
   "display_name": "Python 3",
   "language": "python",
   "name": "python3"
  },
  "language_info": {
   "codemirror_mode": {
    "name": "ipython",
    "version": 3
   },
   "file_extension": ".py",
   "mimetype": "text/x-python",
   "name": "python",
   "nbconvert_exporter": "python",
   "pygments_lexer": "ipython3",
   "version": "3.13.2"
  }
 },
 "nbformat": 4,
 "nbformat_minor": 5
}
