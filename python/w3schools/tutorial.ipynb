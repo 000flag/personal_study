{
 "cells": [
  {
   "cell_type": "markdown",
   "id": "5655a45f",
   "metadata": {},
   "source": [
    "### w3schools - Python\n",
    "\n",
    "- Link\n",
    "  - https://www.w3schools.com/python/default.asp"
   ]
  },
  {
   "cell_type": "code",
   "execution_count": 5,
   "id": "73a393ae",
   "metadata": {},
   "outputs": [
    {
     "name": "stdout",
     "output_type": "stream",
     "text": [
      "Hello, World!\n"
     ]
    }
   ],
   "source": [
    "print(\"Hello, World!\")"
   ]
  },
  {
   "cell_type": "markdown",
   "id": "3f537078",
   "metadata": {},
   "source": [
    "- 파이썬 버전 확인"
   ]
  },
  {
   "cell_type": "code",
   "execution_count": 6,
   "id": "2d19eadd",
   "metadata": {},
   "outputs": [
    {
     "name": "stdout",
     "output_type": "stream",
     "text": [
      "3.13.2 (tags/v3.13.2:4f8bb39, Feb  4 2025, 15:23:48) [MSC v.1942 64 bit (AMD64)]\n"
     ]
    }
   ],
   "source": [
    "import sys\n",
    "\n",
    "print(sys.version)"
   ]
  },
  {
   "cell_type": "markdown",
   "id": "08cf9a00",
   "metadata": {},
   "source": [
    "* 파이썬 구문 실행"
   ]
  },
  {
   "cell_type": "code",
   "execution_count": 7,
   "id": "f51cf81c",
   "metadata": {},
   "outputs": [
    {
     "name": "stdout",
     "output_type": "stream",
     "text": [
      "hello!\n"
     ]
    }
   ],
   "source": [
    "print(\"hello!\")"
   ]
  },
  {
   "cell_type": "markdown",
   "id": "b141c573",
   "metadata": {},
   "source": [
    "* 파이썬 들여쓰기"
   ]
  },
  {
   "cell_type": "code",
   "execution_count": 8,
   "id": "101fcc4c",
   "metadata": {},
   "outputs": [
    {
     "name": "stdout",
     "output_type": "stream",
     "text": [
      "Five is greater than two!\n"
     ]
    }
   ],
   "source": [
    "if 5 > 2:\n",
    "    print(\"Five is greater than two!\")"
   ]
  },
  {
   "cell_type": "code",
   "execution_count": 9,
   "id": "3b577fa1",
   "metadata": {},
   "outputs": [
    {
     "name": "stdout",
     "output_type": "stream",
     "text": [
      "Five is greater than two!\n",
      "Five is greater than two!\n"
     ]
    }
   ],
   "source": [
    "if 5 > 2:\n",
    "  print(\"Five is greater than two!\")\n",
    "if 5 > 2:\n",
    "    print(\"Five is greater than two!\")"
   ]
  },
  {
   "cell_type": "code",
   "execution_count": 12,
   "id": "2e7731c4",
   "metadata": {},
   "outputs": [
    {
     "ename": "IndentationError",
     "evalue": "unexpected indent (2828717955.py, line 4)",
     "output_type": "error",
     "traceback": [
      "  \u001b[36mCell\u001b[39m\u001b[36m \u001b[39m\u001b[32mIn[12]\u001b[39m\u001b[32m, line 4\u001b[39m\n\u001b[31m    \u001b[39m\u001b[31mprint(\"Five is greater than two!\")\u001b[39m\n    ^\n\u001b[31mIndentationError\u001b[39m\u001b[31m:\u001b[39m unexpected indent\n"
     ]
    }
   ],
   "source": [
    "# 동일한 코드 블록에서 동일한 수의 공백을 사용해야 합니다. 그렇지 않으면 Python에서 오류가 발생합니다.\n",
    "if 5 > 2:\n",
    " print(\"Five is greater than two!\")\n",
    "        print(\"Five is greater than two!\")"
   ]
  },
  {
   "cell_type": "markdown",
   "id": "b4714fbc",
   "metadata": {},
   "source": [
    "* 파이썬 변수"
   ]
  },
  {
   "cell_type": "code",
   "execution_count": 13,
   "id": "0538dfc2",
   "metadata": {},
   "outputs": [],
   "source": [
    "x = 5\n",
    "y = \"Hello, World!\""
   ]
  },
  {
   "cell_type": "markdown",
   "id": "e1dd3e7c",
   "metadata": {},
   "source": [
    "* 파이썬 주석"
   ]
  },
  {
   "cell_type": "code",
   "execution_count": 14,
   "id": "ad0df802",
   "metadata": {},
   "outputs": [
    {
     "name": "stdout",
     "output_type": "stream",
     "text": [
      "Hello, World!\n"
     ]
    }
   ],
   "source": [
    "#This is a comment.\n",
    "print(\"Hello, World!\")"
   ]
  },
  {
   "cell_type": "code",
   "execution_count": 15,
   "id": "fdbf23d7",
   "metadata": {},
   "outputs": [
    {
     "name": "stdout",
     "output_type": "stream",
     "text": [
      "Hello, World!\n"
     ]
    }
   ],
   "source": [
    "print(\"Hello, World!\") #This is a comment"
   ]
  },
  {
   "cell_type": "code",
   "execution_count": 16,
   "id": "b44dcf12",
   "metadata": {},
   "outputs": [
    {
     "name": "stdout",
     "output_type": "stream",
     "text": [
      "Cheers, Mate!\n"
     ]
    }
   ],
   "source": [
    "#print(\"Hello, World!\")\n",
    "print(\"Cheers, Mate!\")"
   ]
  },
  {
   "cell_type": "code",
   "execution_count": 17,
   "id": "d971ac57",
   "metadata": {},
   "outputs": [
    {
     "name": "stdout",
     "output_type": "stream",
     "text": [
      "Hello, World!\n"
     ]
    }
   ],
   "source": [
    "#This is a comment\n",
    "#written in\n",
    "#more than just one line\n",
    "print(\"Hello, World!\")"
   ]
  },
  {
   "cell_type": "code",
   "execution_count": 18,
   "id": "d8720396",
   "metadata": {},
   "outputs": [
    {
     "name": "stdout",
     "output_type": "stream",
     "text": [
      "Hello, World!\n"
     ]
    }
   ],
   "source": [
    "\"\"\"\n",
    "This is a comment\n",
    "written in\n",
    "more than just one line\n",
    "\"\"\"\n",
    "print(\"Hello, World!\")"
   ]
  },
  {
   "cell_type": "markdown",
   "id": "86309f47",
   "metadata": {},
   "source": [
    "* 변수 생성"
   ]
  },
  {
   "cell_type": "code",
   "execution_count": 19,
   "id": "fa93b425",
   "metadata": {},
   "outputs": [
    {
     "name": "stdout",
     "output_type": "stream",
     "text": [
      "5\n",
      "John\n"
     ]
    }
   ],
   "source": [
    "x = 5\n",
    "y = \"John\"\n",
    "print(x)\n",
    "print(y)"
   ]
  },
  {
   "cell_type": "code",
   "execution_count": 20,
   "id": "e509d68d",
   "metadata": {},
   "outputs": [
    {
     "name": "stdout",
     "output_type": "stream",
     "text": [
      "Sally\n"
     ]
    }
   ],
   "source": [
    "# 변수는 특정 유형 으로 선언될 필요가 없으며 , 설정된 후에도 유형을 변경할 수 있습니다.\n",
    "x = 4\n",
    "x = \"Sally\"\n",
    "print(x)"
   ]
  },
  {
   "cell_type": "code",
   "execution_count": 23,
   "id": "195a510d",
   "metadata": {},
   "outputs": [],
   "source": [
    "# 변수의 데이터 유형을 지정하려면 캐스팅을 사용하면 됩니다.\n",
    "x = str(3)\n",
    "y = int(3)\n",
    "z= float(3)"
   ]
  },
  {
   "cell_type": "code",
   "execution_count": 24,
   "id": "ad0f1b56",
   "metadata": {},
   "outputs": [
    {
     "name": "stdout",
     "output_type": "stream",
     "text": [
      "<class 'str'>\n",
      "<class 'int'>\n",
      "<class 'float'>\n"
     ]
    }
   ],
   "source": [
    "print(type(x))\n",
    "print(type(y))\n",
    "print(type(z))"
   ]
  },
  {
   "cell_type": "code",
   "execution_count": 25,
   "id": "a5cc92e9",
   "metadata": {},
   "outputs": [
    {
     "name": "stdout",
     "output_type": "stream",
     "text": [
      "<class 'int'>\n",
      "<class 'str'>\n"
     ]
    }
   ],
   "source": [
    "x = 5\n",
    "y = \"John\"\n",
    "print(type(x))\n",
    "print(type(y))"
   ]
  },
  {
   "cell_type": "markdown",
   "id": "b1c66462",
   "metadata": {},
   "source": [
    "* 작은 따옴표, 큰 따옴표"
   ]
  },
  {
   "cell_type": "code",
   "execution_count": 28,
   "id": "97bc16b3",
   "metadata": {},
   "outputs": [
    {
     "name": "stdout",
     "output_type": "stream",
     "text": [
      "John\n"
     ]
    }
   ],
   "source": [
    "x = \"John\"\n",
    "# is the same as\n",
    "x = 'John'\n",
    "\n",
    "print(x)"
   ]
  },
  {
   "cell_type": "code",
   "execution_count": 31,
   "id": "1676e065",
   "metadata": {},
   "outputs": [
    {
     "name": "stdout",
     "output_type": "stream",
     "text": [
      "4\n",
      "Sally\n"
     ]
    }
   ],
   "source": [
    "# 변수 이름은 대소문자를 구분합니다.\n",
    "a = 4\n",
    "A = \"Sally\"\n",
    "\n",
    "print(a)\n",
    "print(A)"
   ]
  },
  {
   "cell_type": "markdown",
   "id": "b5aad270",
   "metadata": {},
   "source": [
    "* 변수 이름\n",
    "\n",
    "  - 변수 이름은 문자 또는 밑줄 문자로 시작해야 합니다.\n",
    "  - 변수 이름은 숫자로 시작할 수 없습니다.\n",
    "  - 변수 이름에는 영숫자 문자와 밑줄(Az, 0-9, _)만 포함될 수 있습니다.\n",
    "  - 변수 이름은 대소문자를 구분합니다(age, Age 및 AGE는 세 개의 다른 변수입니다)\n",
    "  - 변수 이름은 Python 키워드 중 하나가 될 수 없습니다 ."
   ]
  },
  {
   "cell_type": "code",
   "execution_count": 32,
   "id": "c309af1b",
   "metadata": {},
   "outputs": [],
   "source": [
    "myvar = \"John\"\n",
    "my_var = \"John\"\n",
    "_my_var = \"John\"\n",
    "myVar = \"John\"\n",
    "MYVAR = \"John\"\n",
    "myvar2 = \"John\""
   ]
  },
  {
   "cell_type": "code",
   "execution_count": 33,
   "id": "1a4c91aa",
   "metadata": {},
   "outputs": [
    {
     "ename": "SyntaxError",
     "evalue": "invalid decimal literal (2185399839.py, line 1)",
     "output_type": "error",
     "traceback": [
      "  \u001b[36mCell\u001b[39m\u001b[36m \u001b[39m\u001b[32mIn[33]\u001b[39m\u001b[32m, line 1\u001b[39m\n\u001b[31m    \u001b[39m\u001b[31m2myvar = \"John\"\u001b[39m\n    ^\n\u001b[31mSyntaxError\u001b[39m\u001b[31m:\u001b[39m invalid decimal literal\n"
     ]
    }
   ],
   "source": [
    "2myvar = \"John\"\n",
    "my-var = \"John\"\n",
    "my var = \"John\""
   ]
  },
  {
   "cell_type": "code",
   "execution_count": 35,
   "id": "524a9a6e",
   "metadata": {},
   "outputs": [],
   "source": [
    "# Camel Case (첫 번째 단어를 제외한 모든 단어는 대문자로 시작합니다.)\n",
    "myVariableName = \"John\"\n",
    "\n",
    "# Pascal Case (각 단어는 대문자로 시작합니다.)\n",
    "MyVariableName = \"John\"\n",
    "\n",
    "# Snake Case (각 단어는 밑줄 문자로 구분됩니다.)\n",
    "my_variable_name = \"John\""
   ]
  },
  {
   "cell_type": "markdown",
   "id": "d05d76c6",
   "metadata": {},
   "source": [
    "* 여러 변수에 대한 여러 값"
   ]
  },
  {
   "cell_type": "code",
   "execution_count": 36,
   "id": "609ba427",
   "metadata": {},
   "outputs": [
    {
     "name": "stdout",
     "output_type": "stream",
     "text": [
      "Orange\n",
      "Banana\n",
      "Cherry\n"
     ]
    }
   ],
   "source": [
    "x, y, z = \"Orange\", \"Banana\", \"Cherry\"\n",
    "print(x)\n",
    "print(y)\n",
    "print(z)"
   ]
  },
  {
   "cell_type": "markdown",
   "id": "38b3bbff",
   "metadata": {},
   "source": [
    "* 하나의 값을 여러 변수에"
   ]
  },
  {
   "cell_type": "code",
   "execution_count": 37,
   "id": "a21f88d7",
   "metadata": {},
   "outputs": [
    {
     "name": "stdout",
     "output_type": "stream",
     "text": [
      "Orange\n",
      "Orange\n",
      "Orange\n"
     ]
    }
   ],
   "source": [
    "x = y = z = \"Orange\"\n",
    "print(x)\n",
    "print(y)\n",
    "print(z)"
   ]
  },
  {
   "cell_type": "markdown",
   "id": "054fc3b6",
   "metadata": {},
   "source": [
    "* 컬렉션 풀기\n",
    "  - list, 등 의 값 컬렉션이 있는 경우, tuplePython에서는 값을 변수로 추출할 수 있습니다. 이를 언패킹 이라고 합니다 ."
   ]
  },
  {
   "cell_type": "code",
   "execution_count": 38,
   "id": "6c22823f",
   "metadata": {},
   "outputs": [
    {
     "name": "stdout",
     "output_type": "stream",
     "text": [
      "apple\n",
      "banana\n",
      "cherry\n"
     ]
    }
   ],
   "source": [
    "fruits = [\"apple\", \"banana\", \"cherry\"]\n",
    "x, y, z = fruits\n",
    "print(x)\n",
    "print(y)\n",
    "print(z)"
   ]
  },
  {
   "cell_type": "markdown",
   "id": "4542543c",
   "metadata": {},
   "source": [
    "* 출력 변수"
   ]
  },
  {
   "cell_type": "code",
   "execution_count": 39,
   "id": "f815e7aa",
   "metadata": {},
   "outputs": [
    {
     "name": "stdout",
     "output_type": "stream",
     "text": [
      "Python is awesome\n"
     ]
    }
   ],
   "source": [
    "x = \"Python is awesome\"\n",
    "print(x)"
   ]
  },
  {
   "cell_type": "code",
   "execution_count": 40,
   "id": "984dd173",
   "metadata": {},
   "outputs": [
    {
     "name": "stdout",
     "output_type": "stream",
     "text": [
      "Python is awesome\n"
     ]
    }
   ],
   "source": [
    "# 함수 에서는 print()쉼표로 구분된 여러 변수를 출력합니다.\n",
    "x = \"Python\"\n",
    "y = \"is\"\n",
    "z = \"awesome\"\n",
    "print(x, y, z)"
   ]
  },
  {
   "cell_type": "code",
   "execution_count": 42,
   "id": "3457d915",
   "metadata": {},
   "outputs": [
    {
     "name": "stdout",
     "output_type": "stream",
     "text": [
      "Python is awesome\n",
      "Pythonisawesome\n"
     ]
    }
   ],
   "source": [
    "# +연산자를 사용하여 여러 변수를 출력할 수도 있습니다.\n",
    "x = \"Python \"\n",
    "y = \"is \"\n",
    "z = \"awesome\"\n",
    "print(x + y + z)\n",
    "\n",
    "# \"Python \"and 뒤에 있는 공백 문자에 주목하세요. 공백 \"is \"문자가 없으면 결과는 \"Pythonisawesome\"이 됩니다.\n",
    "x = \"Python\"\n",
    "y = \"is\"\n",
    "z = \"awesome\"\n",
    "print(x + y + z)"
   ]
  },
  {
   "cell_type": "code",
   "execution_count": 44,
   "id": "020f29f6",
   "metadata": {},
   "outputs": [
    {
     "ename": "TypeError",
     "evalue": "unsupported operand type(s) for +: 'int' and 'str'",
     "output_type": "error",
     "traceback": [
      "\u001b[31m---------------------------------------------------------------------------\u001b[39m",
      "\u001b[31mTypeError\u001b[39m                                 Traceback (most recent call last)",
      "\u001b[36mCell\u001b[39m\u001b[36m \u001b[39m\u001b[32mIn[44]\u001b[39m\u001b[32m, line 4\u001b[39m\n\u001b[32m      2\u001b[39m x = \u001b[32m5\u001b[39m\n\u001b[32m      3\u001b[39m y = \u001b[33m\"\u001b[39m\u001b[33mJohn\u001b[39m\u001b[33m\"\u001b[39m\n\u001b[32m----> \u001b[39m\u001b[32m4\u001b[39m \u001b[38;5;28mprint\u001b[39m(\u001b[43mx\u001b[49m\u001b[43m \u001b[49m\u001b[43m+\u001b[49m\u001b[43m \u001b[49m\u001b[43my\u001b[49m)\n",
      "\u001b[31mTypeError\u001b[39m: unsupported operand type(s) for +: 'int' and 'str'"
     ]
    }
   ],
   "source": [
    "# 함수 에서 연산자 print()를 사용하여 문자열과 숫자를 결합하려고 하면 + Python에서 오류가 발생합니다.\n",
    "x = 5\n",
    "y = \"John\"\n",
    "print(x + y)"
   ]
  },
  {
   "cell_type": "code",
   "execution_count": 45,
   "id": "9249193b",
   "metadata": {},
   "outputs": [
    {
     "name": "stdout",
     "output_type": "stream",
     "text": [
      "5 John\n"
     ]
    }
   ],
   "source": [
    "x = 5\n",
    "y = \"John\"\n",
    "print(x, y)"
   ]
  },
  {
   "cell_type": "markdown",
   "id": "cded58af",
   "metadata": {},
   "source": [
    "* 전역 변수\n",
    "\n",
    "  - 함수 외부에서 생성된 변수(이전 페이지의 모든 예제처럼)를 전역 변수라고 합니다.\n",
    "  - 전역 변수는 함수 내부와 외부 모두에서 누구나 사용할 수 있습니다."
   ]
  },
  {
   "cell_type": "code",
   "execution_count": 46,
   "id": "18f2a943",
   "metadata": {},
   "outputs": [
    {
     "name": "stdout",
     "output_type": "stream",
     "text": [
      "Python is awesome\n"
     ]
    }
   ],
   "source": [
    "# 함수 외부에서 변수를 생성하고 함수 내부에서 사용합니다.\n",
    "x = \"awesome\"\n",
    "\n",
    "def myfunc():\n",
    "    print(\"Python is \" + x)\n",
    "\n",
    "myfunc()"
   ]
  },
  {
   "cell_type": "code",
   "execution_count": 53,
   "id": "2285dd16",
   "metadata": {},
   "outputs": [
    {
     "name": "stdout",
     "output_type": "stream",
     "text": [
      "Python is fantastic\n",
      "Python is awesome\n"
     ]
    }
   ],
   "source": [
    "# 전역 변수와 동일한 이름으로 함수 내부에 변수를 생성합니다.\n",
    "x = \"awesome\"\n",
    "\n",
    "def myfunc():\n",
    "    x = \"fantastic\"\n",
    "    print(\"Python is \" + x)\n",
    "\n",
    "myfunc()\n",
    "\n",
    "print(\"Python is \" + x)"
   ]
  },
  {
   "cell_type": "markdown",
   "id": "f626f47d",
   "metadata": {},
   "source": [
    "* 글로벌 키워드\n",
    "  \n",
    "   - 일반적으로 함수 내부에 변수를 생성하면 해당 변수는 지역 변수가 되어 해당 함수 내부에서만 사용할 수 있습니다.\n",
    "   - 함수 내부에 전역 변수를 생성하려면 global키워드를 사용하면 됩니다."
   ]
  },
  {
   "cell_type": "code",
   "execution_count": 54,
   "id": "d2842fca",
   "metadata": {},
   "outputs": [
    {
     "name": "stdout",
     "output_type": "stream",
     "text": [
      "Python is fantastic\n"
     ]
    }
   ],
   "source": [
    "# 키워드를 사용하면 global변수는 전역 범위에 속합니다.\n",
    "def myfunc():\n",
    "    global x\n",
    "    x = \"fantastic\"\n",
    "\n",
    "myfunc()\n",
    "\n",
    "print(\"Python is \" + x) "
   ]
  },
  {
   "cell_type": "code",
   "execution_count": 60,
   "id": "43da25e9",
   "metadata": {},
   "outputs": [
    {
     "name": "stdout",
     "output_type": "stream",
     "text": [
      "Python is awesome\n",
      "Python is fantastic\n"
     ]
    }
   ],
   "source": [
    "# 또한, global함수 내에서 전역 변수를 변경하려면 키워드를 사용하세요.\n",
    "# 함수 내에서 전역 변수의 값을 변경하려면 global다음 키워드를 사용하여 변수를 참조합니다.\n",
    "\n",
    "x = \"awesome\"\n",
    "\n",
    "print(\"Python is \" + x)\n",
    "\n",
    "def myfunc():\n",
    "    global x\n",
    "    x = \"fantastic\"\n",
    "\n",
    "myfunc()\n",
    "\n",
    "print(\"Python is \" + x)"
   ]
  },
  {
   "cell_type": "markdown",
   "id": "babd6d92",
   "metadata": {},
   "source": [
    "* 내장 데이터 유형\n",
    "\n",
    "  - 텍스트 유형: str\n",
    "  - 숫자형 유형: int, float, complex\n",
    "  - 시퀀스 유형: list, tuple, range\n",
    "  - 매핑 유형: dict\n",
    "  - 세트 유형: set,frozenset\n",
    "  - 부울 유형: bool\n",
    "  - 이진 유형: bytes, bytearray, memoryview\n",
    "  - 없음 유형: NoneType\n"
   ]
  },
  {
   "cell_type": "markdown",
   "id": "3dfd0a02",
   "metadata": {},
   "source": [
    "* 데이터 유형 가져오기\n",
    "\n",
    "  - 다음 type() 함수를 사용하면 모든 객체의 데이터 유형을 얻을 수 있습니다."
   ]
  },
  {
   "cell_type": "code",
   "execution_count": 61,
   "id": "a7bde2dd",
   "metadata": {},
   "outputs": [
    {
     "name": "stdout",
     "output_type": "stream",
     "text": [
      "<class 'int'>\n"
     ]
    }
   ],
   "source": [
    "x = 5\n",
    "print(type(x))"
   ]
  },
  {
   "cell_type": "markdown",
   "id": "5a1b015c",
   "metadata": {},
   "source": [
    "* 데이터 유형 설정\n",
    "\n",
    "  - Python에서는 변수에 값을 할당할 때 데이터 유형이 설정됩니다."
   ]
  },
  {
   "cell_type": "code",
   "execution_count": 62,
   "id": "f40a2bfa",
   "metadata": {},
   "outputs": [
    {
     "name": "stdout",
     "output_type": "stream",
     "text": [
      "<class 'str'>\n",
      "<class 'int'>\n",
      "<class 'float'>\n",
      "<class 'complex'>\n",
      "<class 'list'>\n",
      "<class 'tuple'>\n",
      "<class 'range'>\n",
      "<class 'dict'>\n",
      "<class 'set'>\n",
      "<class 'frozenset'>\n",
      "<class 'bool'>\n",
      "<class 'bytes'>\n",
      "<class 'bytearray'>\n",
      "<class 'memoryview'>\n",
      "<class 'NoneType'>\n"
     ]
    }
   ],
   "source": [
    "x = \"Hello World\"\n",
    "print(type(x))\n",
    "\n",
    "x = 20\n",
    "print(type(x))\n",
    "\n",
    "x = 20.5\n",
    "print(type(x))\n",
    "\n",
    "x = 1j\n",
    "print(type(x))\n",
    "\n",
    "x = [\"apple\", \"banana\", \"cherry\"]\n",
    "print(type(x))\n",
    "\n",
    "x = (\"apple\", \"banana\", \"cherry\")\n",
    "print(type(x))\n",
    "\n",
    "x = range(6)\n",
    "print(type(x))\n",
    "\n",
    "x = { \"name\" : \"John\", \"age\" : 36 }\n",
    "print(type(x))\n",
    "\n",
    "x = { \"apple\", \"banana\", \"cherry\" }\n",
    "print(type(x))\n",
    "\n",
    "x = frozenset({\"apple\", \"banana\", \"cherry\"})\n",
    "print(type(x))\n",
    "\n",
    "x = True\n",
    "print(type(x))\n",
    "\n",
    "x = b\"Hello\"\n",
    "print(type(x))\n",
    "\n",
    "x = bytearray(5)\n",
    "print(type(x))\n",
    "\n",
    "x = memoryview(bytes(5))\n",
    "print(type(x))\n",
    "\n",
    "x = None\n",
    "print(type(x))"
   ]
  },
  {
   "cell_type": "markdown",
   "id": "ad850bb0",
   "metadata": {},
   "source": [
    "* 특정 데이터 유형 설정\n",
    "\n",
    "  - 데이터 유형을 지정하려면 다음 생성자 함수를 사용할 수 있습니다."
   ]
  },
  {
   "cell_type": "code",
   "execution_count": 64,
   "id": "bff90203",
   "metadata": {},
   "outputs": [
    {
     "name": "stdout",
     "output_type": "stream",
     "text": [
      "<class 'str'>\n",
      "<class 'int'>\n",
      "<class 'float'>\n",
      "<class 'complex'>\n",
      "<class 'list'>\n",
      "<class 'tuple'>\n",
      "<class 'range'>\n",
      "<class 'dict'>\n",
      "<class 'set'>\n",
      "<class 'frozenset'>\n",
      "<class 'bool'>\n",
      "<class 'bytes'>\n",
      "<class 'bytearray'>\n",
      "<class 'memoryview'>\n"
     ]
    }
   ],
   "source": [
    "x = str(\"Hello World\")\n",
    "print(type(x))\n",
    "\n",
    "x = int(20)\n",
    "print(type(x))\n",
    "\n",
    "x = float(20.5)\n",
    "print(type(x))\n",
    "\n",
    "x = complex(1j)\n",
    "print(type(x))\n",
    "\n",
    "x = list((\"apple\", \"banana\", \"cherry\"))\n",
    "print(type(x))\n",
    "\n",
    "x = tuple((\"apple\", \"banana\", \"cherry\"))\n",
    "print(type(x))\n",
    "\n",
    "x = range(6)\n",
    "print(type(x))\n",
    "\n",
    "x = dict(name = \"John\", age = 36)\n",
    "print(type(x))\n",
    "\n",
    "x = set((\"apple\", \"banana\", \"cherry\"))\n",
    "print(type(x))\n",
    "\n",
    "x = frozenset((\"apple\", \"banana\", \"cherry\"))\n",
    "print(type(x))\n",
    "\n",
    "x = bool(5)\n",
    "print(type(x))\n",
    "\n",
    "x = bytes(5)\n",
    "print(type(x))\n",
    "\n",
    "x = bytearray(5)\n",
    "print(type(x))\n",
    "\n",
    "x = memoryview(bytes(5))\n",
    "print(type(x))"
   ]
  },
  {
   "cell_type": "markdown",
   "id": "41eead69",
   "metadata": {},
   "source": [
    "* 파이썬 숫자\n",
    "\n",
    "  - int\n",
    "  - float\n",
    "  - complex"
   ]
  },
  {
   "cell_type": "code",
   "execution_count": 65,
   "id": "33ed92cb",
   "metadata": {},
   "outputs": [],
   "source": [
    "# 숫자형 변수는 값을 할당할 때 생성됩니다.\n",
    "x = 1\n",
    "y = 2.8\n",
    "z = 1j"
   ]
  },
  {
   "cell_type": "code",
   "execution_count": 66,
   "id": "3f462b5b",
   "metadata": {},
   "outputs": [
    {
     "name": "stdout",
     "output_type": "stream",
     "text": [
      "<class 'int'>\n",
      "<class 'float'>\n",
      "<class 'complex'>\n"
     ]
    }
   ],
   "source": [
    "# Python에서 객체의 유형을 확인하려면 다음 type()함수를 사용하세요.\n",
    "print(type(x))\n",
    "print(type(y))\n",
    "print(type(z))"
   ]
  },
  {
   "cell_type": "code",
   "execution_count": null,
   "id": "ad765d1e",
   "metadata": {},
   "outputs": [
    {
     "name": "stdout",
     "output_type": "stream",
     "text": [
      "<class 'int'>\n",
      "<class 'int'>\n",
      "<class 'int'>\n"
     ]
    }
   ],
   "source": [
    "# int (Int 또는 정수는 소수점이 없는 양수 또는 음수의 정수이며, 길이는 제한이 없습니다.)\n",
    "x = 1\n",
    "y = 35656222554887711\n",
    "z = -3255522\n",
    "\n",
    "print(type(x))\n",
    "print(type(y))\n",
    "print(type(z))"
   ]
  },
  {
   "cell_type": "code",
   "execution_count": 68,
   "id": "119a8a76",
   "metadata": {},
   "outputs": [
    {
     "name": "stdout",
     "output_type": "stream",
     "text": [
      "<class 'float'>\n",
      "<class 'int'>\n",
      "<class 'float'>\n"
     ]
    }
   ],
   "source": [
    "# Float (부동 소수점 숫자 또는 \"부동 소수점 숫자\"는 하나 이상의 소수점을 포함하는 양수 또는 음수 숫자입니다.)\n",
    "x = 1.10\n",
    "x = 1.0\n",
    "z = -35.59\n",
    "\n",
    "print(type(x))\n",
    "print(type(y))\n",
    "print(type(z))"
   ]
  },
  {
   "cell_type": "code",
   "execution_count": 69,
   "id": "6cecbe4c",
   "metadata": {},
   "outputs": [
    {
     "name": "stdout",
     "output_type": "stream",
     "text": [
      "<class 'float'>\n",
      "<class 'float'>\n",
      "<class 'float'>\n"
     ]
    }
   ],
   "source": [
    "# Float는 10의 거듭제곱을 나타내는 \"e\"를 사용한 과학적 숫자일 수도 있습니다.\n",
    "x = 35e3\n",
    "y = 12E4\n",
    "z = -87.7e100\n",
    "\n",
    "print(type(x))\n",
    "print(type(y))\n",
    "print(type(z))"
   ]
  },
  {
   "cell_type": "code",
   "execution_count": 71,
   "id": "0a6583ff",
   "metadata": {},
   "outputs": [
    {
     "name": "stdout",
     "output_type": "stream",
     "text": [
      "<class 'complex'>\n",
      "<class 'complex'>\n",
      "<class 'complex'>\n"
     ]
    }
   ],
   "source": [
    "# Complex (복소수는 허수부에 \"j\"를 붙여서 표기합니다.)\n",
    "x = 3+5j\n",
    "y = 5j\n",
    "z= -5j\n",
    "\n",
    "print(type(x))\n",
    "print(type(y))\n",
    "print(type(z))"
   ]
  },
  {
   "cell_type": "code",
   "execution_count": null,
   "id": "2c175542",
   "metadata": {},
   "outputs": [
    {
     "name": "stdout",
     "output_type": "stream",
     "text": [
      "1.0\n",
      "2\n",
      "(1+0j)\n",
      "<class 'float'>\n",
      "<class 'int'>\n",
      "<class 'complex'>\n",
      "1.0\n",
      "2\n",
      "(1+0j)\n"
     ]
    }
   ],
   "source": [
    "# 유형 변환 (int(), float() 및 complex() 메서드를 사용하여 한 유형에서 다른 유형으로 변환할 수 있습니다.)\n",
    "# 참고: 복소수를 다른 숫자 유형으로 변환할 수 없습니다.\n",
    "x = 1\n",
    "y = 2.8\n",
    "z = 1j\n",
    "\n",
    "#convert from int to float:\n",
    "a = float(x)\n",
    "\n",
    "#convert from float to int:\n",
    "b = int(y)\n",
    "\n",
    "#convert from int to complex:\n",
    "c = complex(x)\n",
    "\n",
    "print(a)\n",
    "print(b)\n",
    "print(c)\n",
    "\n",
    "print(type(a))\n",
    "print(type(b))\n",
    "print(type(c))\n",
    "\n",
    "print(a)\n",
    "print(b)\n",
    "print(c)"
   ]
  },
  {
   "cell_type": "markdown",
   "id": "48bc4556",
   "metadata": {},
   "source": [
    "* 난수\n",
    "\n",
    "  - Python에는 난수를 만드는 random() 함수가 없지만, Python에는 난수를 만드는 데 사용할 수 있는 random이라는 내장 모듈이 있습니다."
   ]
  },
  {
   "cell_type": "code",
   "execution_count": 75,
   "id": "3723f110",
   "metadata": {},
   "outputs": [
    {
     "name": "stdout",
     "output_type": "stream",
     "text": [
      "6\n"
     ]
    }
   ],
   "source": [
    "# random 모듈을 가져와서 1에서 9까지의 난수를 표시합니다.\n",
    "import random\n",
    "\n",
    "print(random.randrange(1, 10))"
   ]
  },
  {
   "cell_type": "markdown",
   "id": "de650fb0",
   "metadata": {},
   "source": [
    "* 파이썬 캐스팅"
   ]
  },
  {
   "cell_type": "markdown",
   "id": "70d8b19e",
   "metadata": {},
   "source": [
    "* 변수 유형 지정\n",
    "  \n",
    "  - 변수에 타입을 지정해야 할 때가 있습니다. 이는 캐스팅을 통해 가능합니다. Python은 객체 지향 언어이므로 클래스를 사용하여 기본 타입을 포함한 데이터 타입을 정의합니다.\n",
    "  - 따라서 파이썬에서의 캐스팅은 생성자 함수를 사용하여 수행됩니다.\n",
    "    - int() - 정수 리터럴, 모든 소수점을 제거한 부동 소수점 리터럴 또는 문자열 리터럴(문자열이 정수를 나타내는 경우)에서 정수를 생성합니다.\n",
    "    - float() - 정수 리터럴, float 리터럴 또는 문자열 리터럴에서 float 숫자를 구성합니다(문자열이 float 또는 정수를 나타내는 경우)\n",
    "    - str() - 문자열, 정수 리터럴, 부동 소수점 리터럴을 포함한 다양한 데이터 유형에서 문자열을 구성합니다."
   ]
  },
  {
   "cell_type": "code",
   "execution_count": null,
   "id": "23649e98",
   "metadata": {},
   "outputs": [],
   "source": [
    "# int\n",
    "x = int(1)\n",
    "y = int(2.8)\n",
    "z = int(\"3\")"
   ]
  },
  {
   "cell_type": "code",
   "execution_count": 77,
   "id": "42b145f8",
   "metadata": {},
   "outputs": [],
   "source": [
    "# float\n",
    "x = float(1)\n",
    "y = float(2.8)\n",
    "z = float(\"3\")\n",
    "w = float(\"4.2\")"
   ]
  },
  {
   "cell_type": "code",
   "execution_count": 78,
   "id": "e4e23813",
   "metadata": {},
   "outputs": [],
   "source": [
    "# str\n",
    "z = str(\"s1\")\n",
    "y = str(2)\n",
    "z = str(3.0)"
   ]
  },
  {
   "cell_type": "markdown",
   "id": "e45eb5e8",
   "metadata": {},
   "source": [
    "* 문자열\n",
    "\n",
    "  - 파이썬에서 문자열은 작은따옴표나 큰따옴표로 묶습니다.\n",
    "  - 'hello' 는 \"hello\" 와 같습니다.\n",
    "  - 다음 print() 함수를 사용하여 문자열 리터럴을 표시할 수 있습니다."
   ]
  },
  {
   "cell_type": "code",
   "execution_count": 80,
   "id": "4feb361c",
   "metadata": {},
   "outputs": [
    {
     "name": "stdout",
     "output_type": "stream",
     "text": [
      "Hello\n",
      "Hello\n"
     ]
    }
   ],
   "source": [
    "print(\"Hello\")\n",
    "print('Hello')"
   ]
  },
  {
   "cell_type": "markdown",
   "id": "8d54c6c6",
   "metadata": {},
   "source": [
    "* 인용문 안의 인용문\n",
    "\n",
    "   - 문자열을 둘러싼 따옴표와 일치하지 않는 한 문자열 내부에 따옴표를 사용할 수 있습니다."
   ]
  },
  {
   "cell_type": "code",
   "execution_count": 81,
   "id": "ad1ad7af",
   "metadata": {},
   "outputs": [
    {
     "name": "stdout",
     "output_type": "stream",
     "text": [
      "It's alright\n",
      "He is called 'Johnny'\n",
      "He is called \"Johnny\"\n"
     ]
    }
   ],
   "source": [
    "print(\"It's alright\")\n",
    "print(\"He is called 'Johnny'\")\n",
    "print('He is called \"Johnny\"')"
   ]
  },
  {
   "cell_type": "markdown",
   "id": "9b9b4895",
   "metadata": {},
   "source": [
    "* 변수에 문자열 할당\n",
    "\n",
    "  - 변수에 문자열을 할당하려면 변수 이름 뒤에 등호와 문자열을 입력합니다."
   ]
  },
  {
   "cell_type": "code",
   "execution_count": 82,
   "id": "40f1b3b8",
   "metadata": {},
   "outputs": [
    {
     "name": "stdout",
     "output_type": "stream",
     "text": [
      "Hello\n"
     ]
    }
   ],
   "source": [
    "a = \"Hello\"\n",
    "print(a)"
   ]
  },
  {
   "cell_type": "markdown",
   "id": "1c6c4645",
   "metadata": {},
   "source": [
    "* 다중줄 문자열\n",
    "\n",
    "  - 세 개의 따옴표를 사용하여 여러 줄의 문자열을 변수에 할당할 수 있습니다.\n",
    "  - 참고: 결과적으로 줄 바꿈은 코드와 같은 위치에 삽입됩니다."
   ]
  },
  {
   "cell_type": "code",
   "execution_count": 83,
   "id": "6f477e7c",
   "metadata": {},
   "outputs": [
    {
     "name": "stdout",
     "output_type": "stream",
     "text": [
      "Lorem ipsum dolor sit amet,\n",
      "consectetur adipiscing elit,\n",
      "sed do eiusmod tempor incididunt\n",
      "ut labore et dolore magna aliqua.\n"
     ]
    }
   ],
   "source": [
    "a = \"\"\"Lorem ipsum dolor sit amet,\n",
    "consectetur adipiscing elit,\n",
    "sed do eiusmod tempor incididunt\n",
    "ut labore et dolore magna aliqua.\"\"\"\n",
    "print(a)"
   ]
  },
  {
   "cell_type": "code",
   "execution_count": null,
   "id": "27f6782b",
   "metadata": {},
   "outputs": [
    {
     "name": "stdout",
     "output_type": "stream",
     "text": [
      "Lorem ipsum dolor sit amet,\n",
      "consectetur adipiscing elit,\n",
      "sed do eiusmod tempor incididunt\n",
      "ut labore et dolore magna aliqua.\n"
     ]
    }
   ],
   "source": [
    "# 또는 작은따옴표 세 개\n",
    "a = '''Lorem ipsum dolor sit amet,\n",
    "consectetur adipiscing elit,\n",
    "sed do eiusmod tempor incididunt\n",
    "ut labore et dolore magna aliqua.'''\n",
    "print(a)"
   ]
  },
  {
   "cell_type": "markdown",
   "id": "7fd6d8ce",
   "metadata": {},
   "source": [
    "- 문자열은 배열입니다.\n",
    "- 다른 많은 인기 프로그래밍 언어와 마찬가지로 Python의 문자열은 유니코드 문자의 배열입니다.\n",
    "- 하지만 파이썬에는 문자 데이터 유형이 없습니다. 단일 문자는 길이가 1인 문자열일 뿐입니다.\n",
    "- 대괄호를 사용하여 문자열의 요소에 접근할 수 있습니다."
   ]
  },
  {
   "cell_type": "code",
   "execution_count": 85,
   "id": "1bf0b364",
   "metadata": {},
   "outputs": [
    {
     "name": "stdout",
     "output_type": "stream",
     "text": [
      "e\n"
     ]
    }
   ],
   "source": [
    "# 위치 1에 있는 문자를 가져옵니다(첫 번째 문자는 위치 0에 있다는 것을 기억하세요)\n",
    "a = \"Hello, World!\"\n",
    "print(a[1])"
   ]
  },
  {
   "cell_type": "markdown",
   "id": "c4e70c6f",
   "metadata": {},
   "source": [
    "* 문자열 반복\n",
    "\n",
    "  - 문자열은 배열이므로 for루프를 사용하여 문자열의 문자를 반복할 수 있습니다."
   ]
  },
  {
   "cell_type": "code",
   "execution_count": 1,
   "id": "b600bd03",
   "metadata": {},
   "outputs": [
    {
     "name": "stdout",
     "output_type": "stream",
     "text": [
      "b\n",
      "a\n",
      "n\n",
      "a\n",
      "n\n",
      "a\n"
     ]
    }
   ],
   "source": [
    "# \"banana\"라는 단어의 글자를 반복하세요:\n",
    "for x in \"banana\":\n",
    "    print(x)"
   ]
  },
  {
   "cell_type": "markdown",
   "id": "667d1d20",
   "metadata": {},
   "source": [
    "* 문자열 길이\n",
    "\n",
    "  - 문자열의 길이를 구하려면 len()함수를 사용하세요."
   ]
  },
  {
   "cell_type": "code",
   "execution_count": 2,
   "id": "6f8110cc",
   "metadata": {},
   "outputs": [
    {
     "name": "stdout",
     "output_type": "stream",
     "text": [
      "13\n"
     ]
    }
   ],
   "source": [
    "a = \"Hello, World!\"\n",
    "print(len(a))"
   ]
  },
  {
   "cell_type": "markdown",
   "id": "03f53401",
   "metadata": {},
   "source": [
    "* 문자열 확인\n",
    "\n",
    "  - 문자열에 특정 구문이나 문자가 있는지 확인하려면 in 키워드를 사용할 수 있습니다."
   ]
  },
  {
   "cell_type": "code",
   "execution_count": 3,
   "id": "bd38a2e6",
   "metadata": {},
   "outputs": [
    {
     "name": "stdout",
     "output_type": "stream",
     "text": [
      "True\n"
     ]
    }
   ],
   "source": [
    "# 다음 텍스트에 \"무료\"가 있는지 확인하세요.\n",
    "txt = \"The best things in life are free!\"\n",
    "print(\"free\" in txt)"
   ]
  },
  {
   "cell_type": "code",
   "execution_count": 4,
   "id": "c3ff7e24",
   "metadata": {},
   "outputs": [
    {
     "name": "stdout",
     "output_type": "stream",
     "text": [
      "Yes, 'free' is present.\n"
     ]
    }
   ],
   "source": [
    "# 다음과 같은 문장에서 if 를 사용하세요.\n",
    "# \"free\"가 있는 경우에만 인쇄합니다.\n",
    "txt = \"The best things in life are free!\"\n",
    "if \"free\" in txt:\n",
    "    print(\"Yes, 'free' is present.\")"
   ]
  },
  {
   "cell_type": "code",
   "execution_count": 5,
   "id": "255441ad",
   "metadata": {},
   "outputs": [
    {
     "name": "stdout",
     "output_type": "stream",
     "text": [
      "True\n"
     ]
    }
   ],
   "source": [
    "# 아닌 경우 체크하세요\n",
    "# 문자열에 특정 구문이나 문자가 존재하지 않는지 확인하려면 not in 키워드를 사용할 수 있습니다.\n",
    "\n",
    "# 다음 텍스트에 \"expensive\"가 없는지 확인하세요\n",
    "txt = \"The best things in life are free!\"\n",
    "print(\"expensive\" not in txt)"
   ]
  },
  {
   "cell_type": "code",
   "execution_count": 6,
   "id": "ff9d7610",
   "metadata": {},
   "outputs": [
    {
     "name": "stdout",
     "output_type": "stream",
     "text": [
      "No, 'expensive' is NOT present.\n"
     ]
    }
   ],
   "source": [
    "# 다음과 같은 문장에서 if 사용하세요.\n",
    "# \"expensive\"가 존재하지 않는 경우에만 인쇄합니다.\n",
    "txt = \"The best things in life are free!\"\n",
    "if \"extensive\" not in txt:\n",
    "    print(\"No, 'expensive' is NOT present.\")"
   ]
  },
  {
   "cell_type": "markdown",
   "id": "26fd7d0a",
   "metadata": {},
   "source": [
    "* 파이썬 - 문자열 슬라이싱\n",
    "  \n",
    "   - 슬라이스 구문을 사용하면 다양한 문자를 반환할 수 있습니다.\n",
    "   - 문자열의 일부를 반환하려면 콜론으로 구분하여 시작 인덱스와 끝 인덱스를 지정합니다."
   ]
  },
  {
   "cell_type": "code",
   "execution_count": 10,
   "id": "d491308e",
   "metadata": {},
   "outputs": [
    {
     "name": "stdout",
     "output_type": "stream",
     "text": [
      "llo\n",
      "l\n",
      ",\n"
     ]
    }
   ],
   "source": [
    "# 2부터 5까지의 문자를 가져옵니다(포함되지 않음).\n",
    "# 참고: 첫 번째 문자의 인덱스는 0입니다.\n",
    "b = \"Hello, World!\"\n",
    "print(b[2:5])\n",
    "print(b[2])\n",
    "print(b[5])"
   ]
  },
  {
   "cell_type": "code",
   "execution_count": 8,
   "id": "57a3f812",
   "metadata": {},
   "outputs": [
    {
     "name": "stdout",
     "output_type": "stream",
     "text": [
      "Hello\n"
     ]
    }
   ],
   "source": [
    "# 처음부터 5번째 위치까지의 문자를 가져옵니다(포함되지 않음).\n",
    "b = \"Hello, World!\"\n",
    "print(b[:5])"
   ]
  },
  {
   "cell_type": "code",
   "execution_count": 11,
   "id": "cfac8d02",
   "metadata": {},
   "outputs": [
    {
     "name": "stdout",
     "output_type": "stream",
     "text": [
      "llo, World!\n"
     ]
    }
   ],
   "source": [
    "# 끝까지 슬라이스\n",
    "# 끝 인덱스를 생략하면 범위가 끝까지 이동합니다.\n",
    "\n",
    "# 2번째 위치부터 끝까지 문자를 가져옵니다.\n",
    "b = \"Hello, World!\"\n",
    "print(b[2:])"
   ]
  },
  {
   "cell_type": "code",
   "execution_count": 14,
   "id": "e1a90702",
   "metadata": {},
   "outputs": [
    {
     "name": "stdout",
     "output_type": "stream",
     "text": [
      "orl\n"
     ]
    }
   ],
   "source": [
    "# 음수 인덱싱\n",
    "# 문자열의 끝에서 슬라이스를 시작하려면 음수 인덱스를 사용합니다.\n",
    "\n",
    "# 캐릭터를 얻으세요.\n",
    "# 출처: \"World!\"의 \"o\" (위치 -5)\n",
    "# (단, 포함되지 않음: \"World!\"의 \"d\" (위치 -2)\n",
    "\n",
    "b = \"Hello, World!\"\n",
    "print(b[-5:-2])\n"
   ]
  },
  {
   "cell_type": "markdown",
   "id": "eff438d2",
   "metadata": {},
   "source": [
    "* 문자열 수정\n",
    "\n",
    "  - Python에는 문자열에 사용할 수 있는 내장 메서드 세트가 있습니다."
   ]
  },
  {
   "cell_type": "code",
   "execution_count": 16,
   "id": "b89fd20e",
   "metadata": {},
   "outputs": [
    {
     "name": "stdout",
     "output_type": "stream",
     "text": [
      "HELLO, WORLD!\n"
     ]
    }
   ],
   "source": [
    "# upper()메서드는 문자열을 대문자로 반환합니다.\n",
    "a = \"Hello, World!\"\n",
    "print(a.upper())"
   ]
  },
  {
   "cell_type": "code",
   "execution_count": 17,
   "id": "10bfc774",
   "metadata": {},
   "outputs": [
    {
     "name": "stdout",
     "output_type": "stream",
     "text": [
      "hello, world!\n"
     ]
    }
   ],
   "source": [
    "# lower()메서드는 문자열을 소문자로 반환합니다.\n",
    "a = \"Hello, World!\"\n",
    "print(a.lower())"
   ]
  },
  {
   "cell_type": "markdown",
   "id": "7331fd56",
   "metadata": {},
   "source": [
    "- 공백 제거\n",
    "- 공백은 실제 텍스트 앞이나 뒤에 있는 공백이며, 이 공백을 제거하고 싶은 경우가 많습니다."
   ]
  },
  {
   "cell_type": "code",
   "execution_count": 18,
   "id": "08532043",
   "metadata": {},
   "outputs": [
    {
     "name": "stdout",
     "output_type": "stream",
     "text": [
      "Hello, World!\n"
     ]
    }
   ],
   "source": [
    "# strip()방법은 시작이나 끝의 공백을 제거합니다.\n",
    "a = \" Hello, World! \"\n",
    "print(a.strip())"
   ]
  },
  {
   "cell_type": "code",
   "execution_count": 19,
   "id": "5c07860a",
   "metadata": {},
   "outputs": [
    {
     "name": "stdout",
     "output_type": "stream",
     "text": [
      "Jello, World!\n"
     ]
    }
   ],
   "source": [
    "# 문자열 바꾸기\n",
    "# replace()메서드는 문자열을 다른 문자열로 바꿉니다.\n",
    "a = \"Hello, World!\"\n",
    "print(a.replace(\"H\", \"J\"))"
   ]
  },
  {
   "cell_type": "markdown",
   "id": "01de4aec",
   "metadata": {},
   "source": [
    "- 분할 문자열\n",
    "  - split()메서드는 지정된 구분 기호 사이의 텍스트가 목록 항목이 되는 목록을 반환합니다."
   ]
  },
  {
   "cell_type": "code",
   "execution_count": 20,
   "id": "4bb7ed40",
   "metadata": {},
   "outputs": [
    {
     "name": "stdout",
     "output_type": "stream",
     "text": [
      "['Hello', ' World!']\n"
     ]
    }
   ],
   "source": [
    "# split()메서드는 구분 기호 인스턴스를 찾으면 문자열을 하위 문자열로 분할합니다.\n",
    "a = \"Hello, World!\"\n",
    "print(a.split(\",\"))"
   ]
  },
  {
   "cell_type": "markdown",
   "id": "db7654ab",
   "metadata": {},
   "source": [
    "- 문자열 연결\n",
    "    - 두 개의 문자열을 연결하거나 결합하려면 + 연산자를 사용하면 됩니다."
   ]
  },
  {
   "cell_type": "code",
   "execution_count": 23,
   "id": "fbabbfbe",
   "metadata": {},
   "outputs": [
    {
     "name": "stdout",
     "output_type": "stream",
     "text": [
      "HelloWorld\n"
     ]
    }
   ],
   "source": [
    "# 그 사이에 공백을 추가하려면 \" \"를 추가하세요.\n",
    "a = \"Hello\"\n",
    "b = \"World\"\n",
    "c = a + b\n",
    "print(c)"
   ]
  },
  {
   "cell_type": "code",
   "execution_count": 24,
   "id": "08d8610c",
   "metadata": {},
   "outputs": [
    {
     "name": "stdout",
     "output_type": "stream",
     "text": [
      "Hello  World\n"
     ]
    }
   ],
   "source": [
    "# 변수 a와 변수 b를 변수 c로 병합합니다.\n",
    "a = \"Hello\"\n",
    "b = \"World\"\n",
    "c = a + \"  \" + b\n",
    "print(c)"
   ]
  },
  {
   "cell_type": "markdown",
   "id": "8675955b",
   "metadata": {},
   "source": [
    "- 문자열 형식\n",
    "  - Python 변수 장에서 배웠듯이 문자열과 숫자를 다음과 같이 결합할 수 없습니다."
   ]
  },
  {
   "cell_type": "code",
   "execution_count": 25,
   "id": "eb80edb6",
   "metadata": {},
   "outputs": [
    {
     "ename": "TypeError",
     "evalue": "can only concatenate str (not \"int\") to str",
     "output_type": "error",
     "traceback": [
      "\u001b[31m---------------------------------------------------------------------------\u001b[39m",
      "\u001b[31mTypeError\u001b[39m                                 Traceback (most recent call last)",
      "\u001b[36mCell\u001b[39m\u001b[36m \u001b[39m\u001b[32mIn[25]\u001b[39m\u001b[32m, line 3\u001b[39m\n\u001b[32m      1\u001b[39m age = \u001b[32m36\u001b[39m\n\u001b[32m      2\u001b[39m \u001b[38;5;66;03m#This will produce an error:\u001b[39;00m\n\u001b[32m----> \u001b[39m\u001b[32m3\u001b[39m txt = \u001b[33;43m\"\u001b[39;49m\u001b[33;43mMy name is John, I am \u001b[39;49m\u001b[33;43m\"\u001b[39;49m\u001b[43m \u001b[49m\u001b[43m+\u001b[49m\u001b[43m \u001b[49m\u001b[43mage\u001b[49m\n\u001b[32m      4\u001b[39m \u001b[38;5;28mprint\u001b[39m(txt)\n",
      "\u001b[31mTypeError\u001b[39m: can only concatenate str (not \"int\") to str"
     ]
    }
   ],
   "source": [
    "age = 36\n",
    "#This will produce an error:\n",
    "txt = \"My name is John, I am \" + age\n",
    "print(txt)"
   ]
  },
  {
   "cell_type": "code",
   "execution_count": 27,
   "id": "a807fd5f",
   "metadata": {},
   "outputs": [
    {
     "name": "stdout",
     "output_type": "stream",
     "text": [
      "My name is John, I am 36\n"
     ]
    }
   ],
   "source": [
    "# 하지만 f-string이나 format() 메서드를 사용하면 문자열과 숫자를 결합할 수 있습니다.\n",
    "age = 36\n",
    "name = \"John\"\n",
    "print(\"My name is {}, I am {}\".format(name, age))"
   ]
  },
  {
   "cell_type": "markdown",
   "id": "d90673b8",
   "metadata": {},
   "source": [
    "- F-String\n",
    "  - F-String은 Python 3.6에서 도입되었으며, 현재는 문자열을 포맷하는 데 선호되는 방법입니다.\n",
    "  - 문자열을 f-문자열로 지정하려면 f문자열 리터럴 앞에 을 넣고 {}변수와 다른 연산에 대한 자리 표시자로 중괄호를 추가하기만 하면 됩니다."
   ]
  },
  {
   "cell_type": "code",
   "execution_count": 29,
   "id": "35055844",
   "metadata": {},
   "outputs": [
    {
     "name": "stdout",
     "output_type": "stream",
     "text": [
      "My name is John, I am 36\n"
     ]
    }
   ],
   "source": [
    "# F-String 문자열을 만듭니다.\n",
    "age = 36\n",
    "txt = f\"My name is John, I am {age}\"\n",
    "print(txt)"
   ]
  },
  {
   "cell_type": "markdown",
   "id": "2e7fea52",
   "metadata": {},
   "source": [
    "- 플레이스홀더와 수정자\n",
    "  - 플레이스홀더에는 값을 형식화하기 위한 변수, 연산, 함수 및 수정자가 포함될 수 있습니다."
   ]
  },
  {
   "cell_type": "code",
   "execution_count": 32,
   "id": "ba70c2f1",
   "metadata": {},
   "outputs": [
    {
     "name": "stdout",
     "output_type": "stream",
     "text": [
      "The price is 59 dollars\n"
     ]
    }
   ],
   "source": [
    "# 변수 price 에 대한 플레이스홀더를 추가합니다.\n",
    "price = 59\n",
    "txt = f\"The price is {price} dollars\"\n",
    "print(txt)"
   ]
  },
  {
   "cell_type": "code",
   "execution_count": 34,
   "id": "ec53e2cf",
   "metadata": {},
   "outputs": [
    {
     "name": "stdout",
     "output_type": "stream",
     "text": [
      "The price is 29.00 dollars\n"
     ]
    }
   ],
   "source": [
    "# 플레이스홀더에는 값의 형식을 지정하는 수정자가 포함될 수 있습니다.\n",
    "# 수정자는 콜론을 추가하고 :그 뒤에 합법적인 서식 유형을 지정하여 포함됩니다. 즉, .2f소수점 이하 두 자리로 이루어진 고정 소수점 숫자를 의미합니다.\n",
    "\n",
    "# 소수점 이하 2자리까지 가격을 표시하세요.\n",
    "price = 29\n",
    "txt = f\"The price is {price:.2f} dollars\"\n",
    "print(txt)"
   ]
  },
  {
   "cell_type": "code",
   "execution_count": 35,
   "id": "87e4e8a6",
   "metadata": {},
   "outputs": [
    {
     "name": "stdout",
     "output_type": "stream",
     "text": [
      "The price is 1180 dollars\n"
     ]
    }
   ],
   "source": [
    "# 플레이스홀더에서 수학 연산을 수행하고 결과를 반환합니다.\n",
    "txt = f\"The price is {20 * 59} dollars\"\n",
    "print(txt)"
   ]
  },
  {
   "cell_type": "markdown",
   "id": "6f9f0edb",
   "metadata": {},
   "source": [
    "* 파이썬 - 이스케이프 문자\n",
    "\n",
    "  - 이스케이프 문자\n",
    "    - 문자열에 허용되지 않는 문자를 삽입하려면 이스케이프 문자를 사용하세요.\n",
    "    - 이스케이프 문자는 백슬래시 \\뒤에 삽입하려는 문자를 입력하는 것입니다.\n",
    "    - 불법 문자의 예로는 큰따옴표로 둘러싸인 문자열 내부의 큰따옴표가 있습니다."
   ]
  },
  {
   "cell_type": "code",
   "execution_count": 37,
   "id": "8b00a902",
   "metadata": {},
   "outputs": [
    {
     "ename": "SyntaxError",
     "evalue": "invalid syntax (1597675808.py, line 2)",
     "output_type": "error",
     "traceback": [
      "  \u001b[36mCell\u001b[39m\u001b[36m \u001b[39m\u001b[32mIn[37]\u001b[39m\u001b[32m, line 2\u001b[39m\n\u001b[31m    \u001b[39m\u001b[31mtxt = \"We are the so-called \"Vikings\" from the north.\"\u001b[39m\n                                 ^\n\u001b[31mSyntaxError\u001b[39m\u001b[31m:\u001b[39m invalid syntax\n"
     ]
    }
   ],
   "source": [
    "# 큰따옴표로 둘러싸인 문자열 안에 큰따옴표를 사용하면 오류가 발생합니다.\n",
    "txt = \"We are the so-called \"Vikings\" from the north.\""
   ]
  },
  {
   "cell_type": "code",
   "execution_count": null,
   "id": "d8c317bf",
   "metadata": {},
   "outputs": [],
   "source": [
    "# 문제를 해결하려면 이스케이프 문자를 사용하세요.\n",
    "# 이스케이프 문자를 사용하면 일반적으로 허용되지 않는 큰따옴표를 사용할 수 있습니다.\n",
    "\n",
    "txt = \"We are the so-called \\\"Vikings\\\" from the north.\""
   ]
  },
  {
   "cell_type": "code",
   "execution_count": null,
   "id": "d983aa2d",
   "metadata": {},
   "outputs": [
    {
     "name": "stdout",
     "output_type": "stream",
     "text": [
      "It's alright.\n",
      "This will insert one \\ (backslash).\n",
      "Hello\n",
      "World!\n",
      "World!\n",
      "Hello\tWorld!\n",
      "HelloWorld!\n",
      "Hello\n",
      "Hello\n"
     ]
    }
   ],
   "source": [
    "txt = 'It\\'s alright.'\n",
    "print(txt)\n",
    "\n",
    "txt = \"This will insert one \\\\ (backslash).\"\n",
    "print(txt)\n",
    "\n",
    "txt = \"Hello\\nWorld!\"\n",
    "print(txt)\n",
    "\n",
    "txt = \"Hello\\rWorld!\"\n",
    "print(txt)\n",
    "\n",
    "txt = \"Hello\\tWorld!\"\n",
    "print(txt) \n",
    "\n",
    "# 이 예제에서는 한 문자(백스페이스)를 지웁니다.\n",
    "txt = \"Hello \\bWorld!\"\n",
    "print(txt) \n",
    "\n",
    "# 백슬래시 뒤에 정수 3개를 입력하면 8진수 값이 반환됩니다.\n",
    "txt = \"\\110\\145\\154\\154\\157\"\n",
    "print(txt)\n",
    "\n",
    "# 백슬래시 뒤에 'x'와 16진수를 입력하면 16진수 값이 나타납니다.\n",
    "txt = \"\\x48\\x65\\x6c\\x6c\\x6f\"\n",
    "print(txt)"
   ]
  },
  {
   "cell_type": "markdown",
   "id": "7266c102",
   "metadata": {},
   "source": [
    "* 문자열 메서드\n",
    "\n",
    "  - Python에는 문자열에 사용할 수 있는 내장 메서드 세트가 있습니다.\n",
    "  - 참고: 모든 문자열 메서드는 새 값을 반환합니다. 원본 문자열은 변경되지 않습니다.\n",
    "  - https://www.w3schools.com/python/python_strings_methods.asp"
   ]
  },
  {
   "cell_type": "markdown",
   "id": "88f80242",
   "metadata": {},
   "source": [
    "* 파이썬 Booleans\n",
    "  \n",
    "   - 부울은 True 또는 False 두 값 중 하나를 나타냅니다.\n",
    "   - 프로그래밍에서는 표현식이 참인지 거짓인지 알아야 하는 경우가 많습니다.\n",
    "   - Python에서는 모든 표현식을 평가하여 참 또는 거짓, 두 가지 결과 중 하나를 얻을 수 있습니다.\n",
    "   - 두 값을 비교하면 표현식이 평가되고 Python은 부울 값을 반환합니다."
   ]
  },
  {
   "cell_type": "code",
   "execution_count": 45,
   "id": "39b1a127",
   "metadata": {},
   "outputs": [
    {
     "name": "stdout",
     "output_type": "stream",
     "text": [
      "True\n",
      "False\n",
      "False\n"
     ]
    }
   ],
   "source": [
    "print(10 > 9)\n",
    "print(10 == 9)\n",
    "print(10 < 9)"
   ]
  },
  {
   "cell_type": "code",
   "execution_count": 49,
   "id": "1797515b",
   "metadata": {},
   "outputs": [
    {
     "name": "stdout",
     "output_type": "stream",
     "text": [
      "b is not greater than a\n"
     ]
    }
   ],
   "source": [
    "# if 문에서 조건을 실행하면 Python은 True 또는 False를 반환합니다.\n",
    "\n",
    "# 조건이 참인지 거짓인지에 따라 메시지를 표시합니다.\n",
    "a = 200\n",
    "b = 33\n",
    "\n",
    "if b > a:\n",
    "    print(\"b is greater than a\")\n",
    "else:\n",
    "    print(\"b is not greater than a\")"
   ]
  },
  {
   "cell_type": "markdown",
   "id": "3aa813f3",
   "metadata": {},
   "source": [
    "- 값 및 변수 평가\n",
    "  - bool() 함수를 사용하면 모든 값을 평가하여 True 또는 False 값을 반환할 수 있습니다."
   ]
  },
  {
   "cell_type": "code",
   "execution_count": 50,
   "id": "8fa7af5e",
   "metadata": {},
   "outputs": [
    {
     "name": "stdout",
     "output_type": "stream",
     "text": [
      "True\n",
      "True\n"
     ]
    }
   ],
   "source": [
    "# 문자열과 숫자를 평가합니다.\n",
    "print(bool(\"Hello\"))\n",
    "print(bool(15))"
   ]
  },
  {
   "cell_type": "code",
   "execution_count": 51,
   "id": "4f0393f6",
   "metadata": {},
   "outputs": [
    {
     "name": "stdout",
     "output_type": "stream",
     "text": [
      "True\n",
      "True\n"
     ]
    }
   ],
   "source": [
    "# 두 가지 변수를 평가합니다.\n",
    "x = \"Hello\"\n",
    "y = 15\n",
    "\n",
    "print(bool(x))\n",
    "print(bool(y))"
   ]
  },
  {
   "cell_type": "markdown",
   "id": "74d74f74",
   "metadata": {},
   "source": [
    "- 대부분의 값은 참입니다.\n",
    "- 어떤 종류의 내용이 있으면 거의 모든 값은 참으로 평가됩니다.\n",
    "- 빈 문자열을 제외한 모든 문자열은 참입니다.\n",
    "- 0을 제외한 모든 숫자는 참입니다.\n",
    "- 빈 문자열을 제외한 모든 목록, 튜플, 집합, 사전은 참입니다."
   ]
  },
  {
   "cell_type": "code",
   "execution_count": 52,
   "id": "ec61d0c2",
   "metadata": {},
   "outputs": [
    {
     "data": {
      "text/plain": [
       "True"
      ]
     },
     "execution_count": 52,
     "metadata": {},
     "output_type": "execute_result"
    }
   ],
   "source": [
    "# 다음은 True를 반환합니다.\n",
    "bool(\"abc\")\n",
    "bool(123)\n",
    "bool([\"apple\", \"cherry\", \"banana\"])"
   ]
  },
  {
   "cell_type": "code",
   "execution_count": 55,
   "id": "4c3d4e9e",
   "metadata": {},
   "outputs": [
    {
     "data": {
      "text/plain": [
       "False"
      ]
     },
     "execution_count": 55,
     "metadata": {},
     "output_type": "execute_result"
    }
   ],
   "source": [
    "# 일부 값은 False입니다.\n",
    "# 실제로 (), [], {}, \"\", 숫자 0, None과 같은 빈 값을 제외하고는 False로 평가되는 값은 많지 않습니다. 물론 False 값은 False로 평가됩니다.\n",
    "\n",
    "# 다음은 False를 반환합니다.\n",
    "bool(False)\n",
    "bool(None)\n",
    "bool(0)\n",
    "bool(\"\")\n",
    "bool(())\n",
    "bool([])\n",
    "bool({})"
   ]
  },
  {
   "cell_type": "code",
   "execution_count": 61,
   "id": "47138f59",
   "metadata": {},
   "outputs": [
    {
     "name": "stdout",
     "output_type": "stream",
     "text": [
      "False\n"
     ]
    }
   ],
   "source": [
    "# 이 경우 또 다른 값 또는 객체는 False로 평가되며, __len__ 함수가 0 또는 False를 반환하는 클래스에서 만들어진 객체가 있는 경우입니다.\n",
    "class myclass():\n",
    "    def __len__(self):\n",
    "        return 0\n",
    "\n",
    "myobj = myclass()\n",
    "print(bool(myobj))"
   ]
  },
  {
   "cell_type": "code",
   "execution_count": 63,
   "id": "684e65e2",
   "metadata": {},
   "outputs": [
    {
     "name": "stdout",
     "output_type": "stream",
     "text": [
      "True\n"
     ]
    }
   ],
   "source": [
    "# 함수는 부울 값을 반환할 수 있습니다.\n",
    "# 부울 값을 반환하는 함수를 만들 수 있습니다.\n",
    "\n",
    "def myFunction():\n",
    "    return True\n",
    "\n",
    "print(myFunction())"
   ]
  },
  {
   "cell_type": "code",
   "execution_count": 64,
   "id": "d26d6690",
   "metadata": {},
   "outputs": [
    {
     "name": "stdout",
     "output_type": "stream",
     "text": [
      "YES!\n"
     ]
    }
   ],
   "source": [
    "# 함수의 부울 답변을 기반으로 코드를 실행할 수 있습니다.\n",
    "\n",
    "# 함수가 True를 반환하면 \"YES!\"를 출력하고, 그렇지 않으면 \"NO!\"를 출력합니다.\n",
    "def myFunction():\n",
    "    return True\n",
    "\n",
    "if myFunction():\n",
    "    print(\"YES!\")\n",
    "else:\n",
    "    print(\"NO!\")"
   ]
  },
  {
   "cell_type": "code",
   "execution_count": 66,
   "id": "dc45d1b2",
   "metadata": {},
   "outputs": [
    {
     "name": "stdout",
     "output_type": "stream",
     "text": [
      "True\n",
      "False\n"
     ]
    }
   ],
   "source": [
    "# Python에는 isinstance() 함수와 같이 부울 값을 반환하는 많은 내장 함수가 있는데, 이 함수를 사용하면 객체가 특정 데이터 유형인지 확인할 수 있습니다.\n",
    "\n",
    "# 객체가 정수인지 아닌지 확인하세요.\n",
    "x = 200\n",
    "print(isinstance(x, int))\n",
    "print(isinstance(x, str))"
   ]
  },
  {
   "cell_type": "markdown",
   "id": "42b03884",
   "metadata": {},
   "source": [
    "* 파이썬 연산자\n",
    "  \n",
    "    - 연산자는 변수와 값에 대한 연산을 수행하는 데 사용됩니다.\n",
    "    - 아래 예에서 우리는 +연산자를 사용하여 두 값을 더합니다."
   ]
  },
  {
   "cell_type": "code",
   "execution_count": 67,
   "id": "c966bb33",
   "metadata": {},
   "outputs": [
    {
     "name": "stdout",
     "output_type": "stream",
     "text": [
      "15\n"
     ]
    }
   ],
   "source": [
    "print(10 + 5)"
   ]
  },
  {
   "cell_type": "markdown",
   "id": "2ee0316d",
   "metadata": {},
   "source": [
    "- Python은 연산자를 다음 그룹으로 나눕니다.\n",
    "   - 산술 연산자\n",
    "   - 할당 연산자\n",
    "   - 비교 연산자\n",
    "   - 논리 연산자\n",
    "   - 항등 연산자\n",
    "   - 멤버십 운영자\n",
    "   - 비트 연산자"
   ]
  },
  {
   "cell_type": "code",
   "execution_count": 70,
   "id": "94b23e53",
   "metadata": {},
   "outputs": [
    {
     "name": "stdout",
     "output_type": "stream",
     "text": [
      "8\n",
      "2\n",
      "15\n",
      "4.0\n",
      "1\n",
      "32\n",
      "7\n"
     ]
    }
   ],
   "source": [
    "# 산술 연산자\n",
    "# 산술 연산자는 숫자 값과 함께 사용되어 일반적인 수학 연산을 수행합니다.\n",
    "\n",
    "x = 5\n",
    "y = 3\n",
    "print(x + y)\n",
    "\n",
    "x = 5\n",
    "y = 3\n",
    "print(x - y)\n",
    "\n",
    "x = 5\n",
    "y = 3\n",
    "print(x * y)\n",
    "\n",
    "x = 12\n",
    "y = 3\n",
    "print(x / y)\n",
    "\n",
    "x = 5\n",
    "y = 2\n",
    "print(x % y)\n",
    "\n",
    "x = 2\n",
    "y = 5\n",
    "print(x ** y) # 2*2*2*2*2와 동일\n",
    "\n",
    "x = 15\n",
    "y = 2\n",
    "print(x // y) # floor 나누기 // 결과를 가장 가까운 정수로 반올림합니다."
   ]
  },
  {
   "cell_type": "code",
   "execution_count": null,
   "id": "2914f51d",
   "metadata": {},
   "outputs": [
    {
     "name": "stdout",
     "output_type": "stream",
     "text": [
      "5\n",
      "8\n",
      "2\n",
      "15\n",
      "1.6666666666666667\n",
      "2\n",
      "1\n",
      "125\n",
      "1\n",
      "7\n",
      "6\n",
      "0\n",
      "40\n",
      "3\n"
     ]
    }
   ],
   "source": [
    "# 할당 연산자\n",
    "# 할당 연산자는 변수에 값을 할당하는 데 사용됩니다.\n",
    "# 할당 연산자는 '변수에 값을 저장'하거나, \n",
    "# 기존 값에 연산을 적용한 뒤 그 결과를 다시 변수에 저장하는 역할을 합니다.\n",
    "# 예: x += 3  →  x = x + 3 과 동일한 의미\n",
    "\n",
    "# -------------------------------\n",
    "# 1. 기본 할당 (=)\n",
    "# -------------------------------\n",
    "x = 5               # x에 숫자 5를 저장 (기본적인 할당)\n",
    "print(x)            # 출력: 5\n",
    "\n",
    "# -------------------------------\n",
    "# 2. 덧셈 후 할당 (+=)\n",
    "# -------------------------------\n",
    "x = 5               # x를 다시 5로 초기화\n",
    "x += 3              # x = x + 3 → 5 + 3 = 8\n",
    "print(x)            # 출력: 8\n",
    "\n",
    "# -------------------------------\n",
    "# 3. 뺄셈 후 할당 (-=)\n",
    "# -------------------------------\n",
    "x = 5\n",
    "x -= 3              # x = x - 3 → 5 - 3 = 2\n",
    "print(x)            # 출력: 2\n",
    "\n",
    "# -------------------------------\n",
    "# 4. 곱셈 후 할당 (*=)\n",
    "# -------------------------------\n",
    "x = 5\n",
    "x *= 3              # x = x * 3 → 5 * 3 = 15\n",
    "print(x)            # 출력: 15\n",
    "\n",
    "# -------------------------------\n",
    "# 5. 나눗셈 후 할당 (/=)\n",
    "# -------------------------------\n",
    "x = 5\n",
    "x /= 3              # x = x / 3 → 5 ÷ 3 = 1.6666...\n",
    "# 주의: '/'는 항상 float(실수형) 결과를 반환합니다.\n",
    "print(x)            # 출력: 1.6666666666666667\n",
    "\n",
    "# -------------------------------\n",
    "# 6. 나머지 후 할당 (%=)\n",
    "# -------------------------------\n",
    "x = 5\n",
    "x %= 3              # x = x % 3 → 5를 3으로 나눈 나머지 = 2\n",
    "print(x)            # 출력: 2\n",
    "\n",
    "# -------------------------------\n",
    "# 7. 몫 후 할당 (//=)\n",
    "# -------------------------------\n",
    "x = 5\n",
    "x //= 3             # x = x // 3 → 5 ÷ 3의 몫 = 1\n",
    "# '//'는 정수 나눗셈 (소수점 버림)\n",
    "print(x)            # 출력: 1\n",
    "\n",
    "# -------------------------------\n",
    "# 8. 제곱 후 할당 (**=)\n",
    "# -------------------------------\n",
    "x = 5\n",
    "x **= 3             # x = x ** 3 → 5³ = 125\n",
    "# '**'는 제곱(거듭제곱) 연산자입니다.\n",
    "print(x)            # 출력: 125\n",
    "\n",
    "# -------------------------------\n",
    "# 9. 비트 AND 후 할당 (&=)\n",
    "# -------------------------------\n",
    "x = 5               # 5 = 0b0101 (2진수)\n",
    "x &= 3              # 3 = 0b0011\n",
    "# AND 연산: 0101 & 0011 → 0001 (십진수 1)\n",
    "print(x)            # 출력: 1\n",
    "\n",
    "# -------------------------------\n",
    "# 10. 비트 OR 후 할당 (|=)\n",
    "# -------------------------------\n",
    "x = 5               # 0b0101\n",
    "x |= 3              # 0b0011\n",
    "# OR 연산: 0101 | 0011 → 0111 (십진수 7)\n",
    "print(x)            # 출력: 7\n",
    "\n",
    "# -------------------------------\n",
    "# 11. 비트 XOR 후 할당 (^=)\n",
    "# -------------------------------\n",
    "x = 5               # 0b0101\n",
    "x ^= 3              # 0b0011\n",
    "# XOR 연산: 0101 ^ 0011 → 0110 (십진수 6)\n",
    "# XOR은 서로 다를 때만 1을 반환합니다.\n",
    "print(x)            # 출력: 6\n",
    "\n",
    "# -------------------------------\n",
    "# 12. 비트 오른쪽 시프트 후 할당 (>>=)\n",
    "# -------------------------------\n",
    "x = 5               # 0b0101\n",
    "x >>= 3             # 오른쪽으로 3비트 이동 → 0000 (십진수 0)\n",
    "# 오른쪽 시프트는 2의 n제곱으로 나누는 효과가 있습니다.\n",
    "# 즉, 5 >> 3 은 5 // 8 과 같습니다.\n",
    "print(x)            # 출력: 0\n",
    "\n",
    "# -------------------------------\n",
    "# 13. 비트 왼쪽 시프트 후 할당 (<<=)\n",
    "# -------------------------------\n",
    "x = 5               # 0b0101\n",
    "x <<= 3             # 왼쪽으로 3비트 이동 → 0101000 (십진수 40)\n",
    "# 왼쪽 시프트는 2의 n제곱을 곱하는 효과가 있습니다.\n",
    "# 즉, 5 << 3 은 5 * 8 과 같습니다.\n",
    "print(x)            # 출력: 40\n",
    "\n",
    "# -------------------------------\n",
    "# 14. 바다코끼리 연산자 (:=)\n",
    "# -------------------------------\n",
    "# 파이썬 3.8 이상에서 도입된 \"할당식\" 연산자입니다.\n",
    "# 표현식 내에서 변수를 동시에 '할당'하고 '사용'할 수 있습니다.\n",
    "# 예시: print(x := 3)는 x에 3을 저장하고, 동시에 3을 출력함.\n",
    "print(x := 3)       # 출력: 3\n",
    "# 위 코드는 내부적으로 아래와 동일:\n",
    "# x = 3\n",
    "# print(x)"
   ]
  },
  {
   "cell_type": "code",
   "execution_count": null,
   "id": "29e4c24d",
   "metadata": {},
   "outputs": [
    {
     "name": "stdout",
     "output_type": "stream",
     "text": [
      "False\n",
      "True\n",
      "True\n",
      "False\n",
      "True\n",
      "False\n"
     ]
    }
   ],
   "source": [
    "# 비교 연산자\n",
    "# 비교 연산자는 두 값을 비교하는 데 사용됩니다.\n",
    "\n",
    "x = 5\n",
    "y = 3\n",
    "print(x == y)\n",
    "\n",
    "x = 5\n",
    "y = 3\n",
    "print(x != y)\n",
    "\n",
    "x = 5\n",
    "y = 3\n",
    "print(x > y)\n",
    "\n",
    "x = 5\n",
    "y = 3\n",
    "print(x < y)\n",
    "\n",
    "x = 5\n",
    "y = 3\n",
    "print(x >= y)\n",
    "\n",
    "x = 5\n",
    "y = 3\n",
    "print(x <= y)"
   ]
  },
  {
   "cell_type": "code",
   "execution_count": 74,
   "id": "430b86df",
   "metadata": {},
   "outputs": [
    {
     "name": "stdout",
     "output_type": "stream",
     "text": [
      "True\n",
      "True\n",
      "False\n"
     ]
    }
   ],
   "source": [
    "# 논리 연산자\n",
    "# 논리 연산자는 조건문을 결합하는 데 사용됩니다.\n",
    "\n",
    "x = 5\n",
    "print(x > 3 and x < 10) # 5가 3보다 크고 5가 10보다 작으므로 True를 반환합니다.\n",
    "\n",
    "x = 5\n",
    "print(x > 3 or x < 4) # 조건 중 하나가 참이기 때문에 True를 반환합니다(5는 3보다 크지만 5는 4보다 작지 않습니다).\n",
    "\n",
    "x = 5\n",
    "print(not(x > 3 and x < 10)) # not은 결과를 반전하는 데 사용되므로 False를 반환합니다."
   ]
  },
  {
   "cell_type": "code",
   "execution_count": 75,
   "id": "231db30c",
   "metadata": {},
   "outputs": [
    {
     "name": "stdout",
     "output_type": "stream",
     "text": [
      "True\n",
      "False\n",
      "True\n",
      "False\n",
      "True\n",
      "False\n"
     ]
    }
   ],
   "source": [
    "# 항등 연산자\n",
    "# 항등 연산자는 객체가 같은지 여부가 아니라 실제로 동일한 객체이고 동일한 메모리 위치를 가지고 있는지 여부를 비교하는 데 사용됩니다.\n",
    "\n",
    "x = [\"apple\", \"banana\"]\n",
    "y = [\"apple\", \"banana\"]\n",
    "z = x\n",
    "print(x is z) # z와 x는 같은 객체이므로 True를 반환합니다.\n",
    "print(x is y) # x와 y는 같은 내용을 가지고 있더라도 같은 객체가 아니므로 False를 반환합니다.\n",
    "print(x == y) # \"is\"와 \"==\"의 차이점을 보여주기 위해: 이 비교는 x와 y가 같으므로 True를 반환합니다.\n",
    "\n",
    "x = [\"apple\", \"banana\"]\n",
    "y = [\"apple\", \"banana\"]\n",
    "z = x\n",
    "print(x is not z) # z와 x는 같은 객체이므로 False를 반환합니다.\n",
    "print(x is not y) # x와 y는 같은 내용을 가지고 있더라도 같은 객체가 아니므로 True를 반환합니다.\n",
    "print(x != y) # \"is not\"과 \"!=\"의 차이점을 보여주기 위해: 이 비교는 x와 y가 같으므로 False를 반환합니다."
   ]
  },
  {
   "cell_type": "code",
   "execution_count": 76,
   "id": "ecdacd64",
   "metadata": {},
   "outputs": [
    {
     "name": "stdout",
     "output_type": "stream",
     "text": [
      "True\n",
      "True\n"
     ]
    }
   ],
   "source": [
    "# 멤버십 연산자\n",
    "# 멤버십 연산자는 객체에 시퀀스가 ​​표현되는지 테스트하는 데 사용됩니다.\n",
    "\n",
    "x = [\"apple\", \"banana\"]\n",
    "print(\"banana\" in x) # \"banana\" 값을 갖는 시퀀스가 ​​목록에 있으므로 True를 반환합니다.\n",
    "\n",
    "x = [\"apple\", \"banana\"]\n",
    "print(\"pineapple\" not in x) # \"pineapple\" 값을 가진 시퀀스가 ​​리스트에 없으므로 True를 반환합니다."
   ]
  },
  {
   "cell_type": "code",
   "execution_count": 83,
   "id": "e4f2d7ec",
   "metadata": {},
   "outputs": [
    {
     "name": "stdout",
     "output_type": "stream",
     "text": [
      "2\n",
      "7\n",
      "5\n",
      "-4\n",
      "12\n",
      "2\n"
     ]
    },
    {
     "data": {
      "text/plain": [
       "'\\n>> 연산자는 각 비트를 지정된 횟수만큼 오른쪽으로 이동합니다. 왼쪽의 빈 공간은 0으로 채워집니다.\\n\\n각 비트를 오른쪽으로 두 번 이동하면 8은 2가 됩니다.\\n8 = 0000000000001000\\n다음이 됩니다.\\n2 = 0000000000000010\\n\\n10진수와 2진수 값:\\n0 = 0000000000000000\\n1 = 0000000000000001\\n2 = 00000000000000010\\n3 = 00000000000000011\\n4 = 00000000000000100\\n5 = 0000000000000101\\n6 = 0000000000000110\\n7 = 00000000000000111\\n8 = 0000000000001000\\n9 = 00000000000001001\\n10 = 0000000000001010\\n11 = 0000000000001011\\n12 = 0000000000001100\\n'"
      ]
     },
     "execution_count": 83,
     "metadata": {},
     "output_type": "execute_result"
    }
   ],
   "source": [
    "# 비트 연산자\n",
    "# 비트 연산자는 (이진) 숫자를 비교하는 데 사용됩니다.\n",
    "\n",
    "print(6 & 3)\n",
    "\"\"\"\n",
    "& 연산자는 각 비트를 비교하여 둘 다 1이면 1로 설정하고, 그렇지 않으면 0으로 설정합니다.\n",
    "\n",
    "6 = 0000000000000110\n",
    "3 = 0000000000000011\n",
    "--------------------\n",
    "2 = 0000000000000010\n",
    "====================\n",
    "\n",
    "10진수와 2진수 값:\n",
    "0 = 0000000000000000\n",
    "1 = 0000000000000001\n",
    "2 = 00000000000000010\n",
    "3 = 0000000000000011\n",
    "4 = 0000000000000100\n",
    "5 = 00000000000000101\n",
    "6 = 00000000000000110\n",
    "7 = 0000000000000111\n",
    "\"\"\"\n",
    "\n",
    "print(6 | 3)\n",
    "\"\"\"\n",
    "| 연산자는 각 비트를 비교하여 하나 또는 둘 다 1이면 1로 설정하고, 그렇지 않으면 0으로 설정합니다.\n",
    "\n",
    "6 = 0000000000000110\n",
    "3 = 0000000000000011\n",
    "--------------------\n",
    "7 = 0000000000000111\n",
    "====================\n",
    "\n",
    "10진수와 2진수 값:\n",
    "0 = 0000000000000000\n",
    "1 = 0000000000000001\n",
    "2 = 00000000000000010\n",
    "3 = 0000000000000011\n",
    "4 = 0000000000000100\n",
    "5 = 00000000000000101\n",
    "6 = 00000000000000110\n",
    "7 = 0000000000000111\n",
    "\"\"\"\n",
    "\n",
    "print(6 ^ 3)\n",
    "\"\"\"\n",
    "^ 연산자는 각 비트를 비교하여 하나만 1이면 1로 설정하고, 그렇지 않으면(둘 다 1이거나 둘 다 0이면) 0으로 설정합니다.\n",
    "\n",
    "6 = 0000000000000110\n",
    "3 = 0000000000000011\n",
    "--------------------\n",
    "5 = 0000000000000101\n",
    "=====================\n",
    "\n",
    "10진수와 2진수 값:\n",
    "0 = 0000000000000000\n",
    "1 = 0000000000000001\n",
    "2 = 00000000000000010\n",
    "3 = 0000000000000011\n",
    "4 = 0000000000000100\n",
    "5 = 00000000000000101\n",
    "6 = 0000000000000110\n",
    "7 = 0000000000000111\n",
    "\"\"\"\n",
    "\n",
    "print(~3)\n",
    "\"\"\"\n",
    "~ 연산자는 각 비트를 반전합니다(0은 1이 되고 1은 0이 됩니다).\n",
    "\n",
    "반전된 3은 -4가 됩니다.\n",
    "3 = 0000000000000011\n",
    "-4 = 11111111111111100\n",
    "\n",
    "10진수와 2진수 값:\n",
    "4 = 0000000000000100\n",
    "3 = 00000000000000011\n",
    "2 = 0000000000000010\n",
    "1 = 0000000000000001\n",
    "0 = 0000000000000000\n",
    "-1 = 111111111111111111\n",
    "-2 = 11111111111111110\n",
    "-3 = 11111111111111101\n",
    "-4 = 1111111111111100\n",
    "\"\"\"\n",
    "\n",
    "print(3 << 2)\n",
    "\"\"\"\n",
    "<< 연산자는 오른쪽에서 지정된 개수(이 경우 2)의 0을 삽입하고, 가장 왼쪽의 비트를 같은 개수만큼 제거합니다.\n",
    "\n",
    "왼쪽에서 00을 삽입하면:\n",
    "3 = 0000000000000011\n",
    "다음과 같이 됩니다.\n",
    "12 = 0000000000001100\n",
    "\n",
    "10진수와 2진수 값:\n",
    "0 = 0000000000000000\n",
    "1 = 0000000000000001\n",
    "2 = 00000000000000010\n",
    "3 = 0000000000000011\n",
    "4 = 00000000000000100\n",
    "5 = 0000000000000101\n",
    "6 = 0000000000000110\n",
    "7 = 00000000000000111\n",
    "8 = 0000000000001000\n",
    "9 = 00000000000001001\n",
    "10 = 0000000000001010\n",
    "11 = 0000000000001011\n",
    "12 = 0000000000001100\n",
    "\"\"\"\n",
    "\n",
    "print(8 >> 2)\n",
    "\"\"\"\n",
    ">> 연산자는 각 비트를 지정된 횟수만큼 오른쪽으로 이동합니다. 왼쪽의 빈 공간은 0으로 채워집니다.\n",
    "\n",
    "각 비트를 오른쪽으로 두 번 이동하면 8은 2가 됩니다.\n",
    "8 = 0000000000001000\n",
    "다음이 됩니다.\n",
    "2 = 0000000000000010\n",
    "\n",
    "10진수와 2진수 값:\n",
    "0 = 0000000000000000\n",
    "1 = 0000000000000001\n",
    "2 = 00000000000000010\n",
    "3 = 00000000000000011\n",
    "4 = 00000000000000100\n",
    "5 = 0000000000000101\n",
    "6 = 0000000000000110\n",
    "7 = 00000000000000111\n",
    "8 = 0000000000001000\n",
    "9 = 00000000000001001\n",
    "10 = 0000000000001010\n",
    "11 = 0000000000001011\n",
    "12 = 0000000000001100\n",
    "\"\"\""
   ]
  },
  {
   "cell_type": "markdown",
   "id": "844d8348",
   "metadata": {},
   "source": [
    "- 연산자 우선 순위\n",
    "- 연산자 우선순위는 연산이 수행되는 순서를 설명합니다.\n",
    "- https://www.w3schools.com/python/python_operators.asp"
   ]
  },
  {
   "cell_type": "code",
   "execution_count": null,
   "id": "85e48342",
   "metadata": {},
   "outputs": [
    {
     "name": "stdout",
     "output_type": "stream",
     "text": [
      "0\n"
     ]
    }
   ],
   "source": [
    "# 괄호는 가장 높은 우선순위를 가지므로 괄호 안의 표현식이 먼저 평가되어야 합니다.\n",
    "print((6 + 3) - (6 + 3))"
   ]
  },
  {
   "cell_type": "code",
   "execution_count": 85,
   "id": "70b9ad05",
   "metadata": {},
   "outputs": [
    {
     "name": "stdout",
     "output_type": "stream",
     "text": [
      "115\n"
     ]
    }
   ],
   "source": [
    "# 곱셈 *은 덧셈 +보다 우선순위가 높으므로 곱셈은 덧셈보다 먼저 평가됩니다.\n",
    "print(100 + 5 * 3)"
   ]
  },
  {
   "cell_type": "code",
   "execution_count": 86,
   "id": "32900f70",
   "metadata": {},
   "outputs": [
    {
     "name": "stdout",
     "output_type": "stream",
     "text": [
      "5\n"
     ]
    }
   ],
   "source": [
    "# 덧셈 +와 뺄셈 -는 동일한 우선순위를 가지므로 표현식을 왼쪽에서 오른쪽으로 평가합니다.\n",
    "print(5 + 4 - 7 + 3)"
   ]
  },
  {
   "cell_type": "markdown",
   "id": "d0ed9dd4",
   "metadata": {},
   "source": [
    "* Lists\n",
    "\n",
    "  - 리스트는 하나의 변수에 여러 항목을 저장하는 데 사용됩니다.\n",
    "  - 리스트는 파이썬에서 데이터 컬렉션을 저장하는 데 사용되는 4가지 내장 데이터 유형 중 하나이고, 나머지 3가지는 튜플 , 세트 , ​​딕셔너리 이며 , 각각 다른 특성과 사용법을 가지고 있습니다.\n",
    "  - 목록은 대괄호를 사용하여 생성됩니다."
   ]
  },
  {
   "cell_type": "code",
   "execution_count": 1,
   "id": "e9030d04",
   "metadata": {},
   "outputs": [
    {
     "name": "stdout",
     "output_type": "stream",
     "text": [
      "['apple', 'banana', 'cherry']\n"
     ]
    }
   ],
   "source": [
    "thislist = [\"apple\", \"banana\", \"cherry\"]\n",
    "print(thislist)"
   ]
  },
  {
   "cell_type": "markdown",
   "id": "8294332c",
   "metadata": {},
   "source": [
    "* List Items\n",
    "\n",
    "   - List Items 은 정렬이 가능하고 변경 가능하며 중복 값을 허용합니다.\n",
    "   - List Items 에는 인덱싱이 지정되어 있으며, 첫 번째 항목의 인덱스는 [0]이고, 두 번째 항목의 인덱스는 [1]입니다."
   ]
  },
  {
   "cell_type": "markdown",
   "id": "c5dd4b87",
   "metadata": {},
   "source": [
    "* Ordered\n",
    "\n",
    "  - list 가 정렬되어 있다는 것은 각 항목에 정해진 순서가 있으며, 그 순서는 변경되지 않는다는 것을 의미합니다.\n",
    "  - list 에 새 항목을 추가하면 새 항목은 목록 끝에 배치됩니다.\n",
    "  - 참고: 순서를 변경하는 목록 메서드도 있지만, 일반적으로 항목의 순서는 변경되지 않습니다."
   ]
  },
  {
   "cell_type": "markdown",
   "id": "096fb5f6",
   "metadata": {},
   "source": [
    "* Changeable\n",
    "  \n",
    "  - list 는 변경 가능합니다. 즉, 목록이 만들어진 후에 목록에 있는 항목을 변경, 추가, 제거할 수 있습니다."
   ]
  },
  {
   "cell_type": "markdown",
   "id": "1e270d06",
   "metadata": {},
   "source": [
    "* Allow Duplicates\n",
    "   \n",
    "   - list 는 인덱싱되므로 목록에는 동일한 값을 가진 항목이 있을 수 있습니다."
   ]
  },
  {
   "cell_type": "code",
   "execution_count": 2,
   "id": "8898d7a6",
   "metadata": {},
   "outputs": [
    {
     "name": "stdout",
     "output_type": "stream",
     "text": [
      "['apple', 'banana', 'cherry', 'apple', 'cherry']\n"
     ]
    }
   ],
   "source": [
    "thislist = [\"apple\", \"banana\", \"cherry\", \"apple\", \"cherry\"]\n",
    "print(thislist)"
   ]
  },
  {
   "cell_type": "markdown",
   "id": "bfa1b235",
   "metadata": {},
   "source": [
    "* List Length\n",
    "  \n",
    "   - list 에 항목이 몇 개 있는지 확인하려면 len() 함수를 사용하세요."
   ]
  },
  {
   "cell_type": "code",
   "execution_count": 3,
   "id": "534d214b",
   "metadata": {},
   "outputs": [
    {
     "name": "stdout",
     "output_type": "stream",
     "text": [
      "3\n"
     ]
    }
   ],
   "source": [
    "thislist = [\"apple\", \"banana\", \"cherry\"]\n",
    "print(len(thislist))"
   ]
  },
  {
   "cell_type": "markdown",
   "id": "92c56abc",
   "metadata": {},
   "source": [
    "* List Items - Data Types\n",
    "   \n",
    "   - List Items 은 모든 데이터 유형이 될 수 있습니다."
   ]
  },
  {
   "cell_type": "code",
   "execution_count": 4,
   "id": "b2eddb69",
   "metadata": {},
   "outputs": [],
   "source": [
    "list1 = [\"apple\", \"banana\", \"cherry\"]\n",
    "list2 = [1, 5, 7, 9, 3]\n",
    "list3 = [True, False, False]"
   ]
  },
  {
   "cell_type": "markdown",
   "id": "300fca26",
   "metadata": {},
   "source": [
    "* list 에는 다양한 데이터 유형이 포함될 수 있습니다."
   ]
  },
  {
   "cell_type": "code",
   "execution_count": 5,
   "id": "2c0220d9",
   "metadata": {},
   "outputs": [],
   "source": [
    "list1 = [\"abc\", 34, True, 40, \"male\"]"
   ]
  },
  {
   "cell_type": "markdown",
   "id": "80c69df6",
   "metadata": {},
   "source": [
    "* type()\n",
    "\n",
    "   - Python의 관점에서 볼 때, 리스트는 'list'라는 데이터 유형을 가진 객체로 정의됩니다."
   ]
  },
  {
   "cell_type": "code",
   "execution_count": 6,
   "id": "fa85925a",
   "metadata": {},
   "outputs": [
    {
     "name": "stdout",
     "output_type": "stream",
     "text": [
      "<class 'list'>\n"
     ]
    }
   ],
   "source": [
    "mylist = [\"apple\", \"banana\", \"cherry\"]\n",
    "print(type(mylist))"
   ]
  },
  {
   "cell_type": "markdown",
   "id": "3af1bdef",
   "metadata": {},
   "source": [
    "* The list() Constructor\n",
    "\n",
    "   - 새로운 목록을 생성할 때 list() 생성자를 사용하는 것도 가능합니다."
   ]
  },
  {
   "cell_type": "code",
   "execution_count": 8,
   "id": "fa00ceec",
   "metadata": {},
   "outputs": [
    {
     "name": "stdout",
     "output_type": "stream",
     "text": [
      "['apple', 'banana', 'cherry']\n"
     ]
    }
   ],
   "source": [
    "# list() 생성자를 사용하여 List 만들기\n",
    "thislist = list((\"apple\", \"banana\", \"cherry\")) # 이중 둥근 괄호에 주목하세요\n",
    "print(thislist)"
   ]
  },
  {
   "cell_type": "markdown",
   "id": "5fdd593c",
   "metadata": {},
   "source": [
    "* 파이썬 컬렉션(배열)\n",
    "   \n",
    "    - Python 프로그래밍 언어에는 4가지 컬렉션 데이터 유형이 있습니다.\n",
    "       - 목록은 정렬되고 변경 가능한 컬렉션입니다. 중복된 멤버를 허용합니다.\n",
    "       - 튜플은 순서가 있고 변경할 수 없는 컬렉션입니다. 중복된 멤버를 허용합니다.\n",
    "       - 집합은 순서가 없고, 변경 불가능하며, 인덱싱되지 않은 컬렉션입니다. 중복된 멤버가 없습니다.\n",
    "       - 사전은 정렬되고** 변경 가능한 컬렉션입니다. 중복된 멤버는 없습니다."
   ]
  },
  {
   "cell_type": "markdown",
   "id": "89a2a167",
   "metadata": {},
   "source": [
    "* Access List Items\n",
    "\n",
    "   - List Items 에는 인덱싱이 되어 있으며, 인덱스 번호를 참조하여 액세스할 수 있습니다.\n",
    "   - 참고: 첫 번째 항목의 인덱스는 0입니다."
   ]
  },
  {
   "cell_type": "code",
   "execution_count": 10,
   "id": "9d4ee14e",
   "metadata": {},
   "outputs": [
    {
     "name": "stdout",
     "output_type": "stream",
     "text": [
      "banana\n"
     ]
    }
   ],
   "source": [
    "# list 의 두 번째 항목을 인쇄합니다.\n",
    "thislist = [\"apple\", \"banana\", \"cherry\"]\n",
    "print(thislist[1])"
   ]
  },
  {
   "cell_type": "markdown",
   "id": "9633adf2",
   "metadata": {},
   "source": [
    "* 음수 인덱싱\n",
    "\n",
    "   - 음수 인덱싱은 끝에서 시작한다는 의미입니다.\n",
    "   - -1은 마지막 항목을 참조하고, -2는 두 번째로 마지막 항목을 참조합니다."
   ]
  },
  {
   "cell_type": "code",
   "execution_count": 13,
   "id": "7b69043b",
   "metadata": {},
   "outputs": [
    {
     "name": "stdout",
     "output_type": "stream",
     "text": [
      "cherry\n"
     ]
    }
   ],
   "source": [
    "# list 의 마지막 항목을 인쇄합니다.\n",
    "thislist = [\"apple\", \"banana\", \"cherry\"]\n",
    "print(thislist[-1])"
   ]
  },
  {
   "cell_type": "markdown",
   "id": "6aaafed2",
   "metadata": {},
   "source": [
    "* Range of Indexes\n",
    "\n",
    "   - 범위의 시작점과 끝점을 지정하여 인덱스 범위를 지정할 수 있습니다.\n",
    "   - 범위를 지정하면 지정된 항목이 포함된 새 목록이 반환됩니다.\n",
    "   - 참고: 검색은 인덱스 2(포함)에서 시작하여 인덱스 5(포함되지 않음)에서 끝납니다.\n",
    "   - 첫 번째 항목의 인덱스는 0이라는 것을 기억하세요.\n",
    "   - 시작 값을 생략하면 범위는 첫 번째 항목에서 시작됩니다.\n",
    "   - 끝값을 생략하면 범위가 목록의 끝까지 이어집니다."
   ]
  },
  {
   "cell_type": "code",
   "execution_count": 14,
   "id": "f2c80699",
   "metadata": {},
   "outputs": [
    {
     "name": "stdout",
     "output_type": "stream",
     "text": [
      "['cherry', 'orange', 'kiwi']\n"
     ]
    }
   ],
   "source": [
    "# 세 번째, 네 번째, 다섯 번째 항목을 반환합니다.\n",
    "thislist = [\"apple\", \"banana\", \"cherry\", \"orange\", \"kiwi\", \"melon\", \"mango\"]\n",
    "print(thislist[2:5])"
   ]
  },
  {
   "cell_type": "code",
   "execution_count": 18,
   "id": "b383edda",
   "metadata": {},
   "outputs": [
    {
     "name": "stdout",
     "output_type": "stream",
     "text": [
      "['apple', 'banana', 'cherry', 'orange']\n"
     ]
    }
   ],
   "source": [
    "# 처음부터 \"kiwi\" 전의 모든 항목을 반환합니다.\n",
    "thislist = [\"apple\", \"banana\", \"cherry\", \"orange\", \"kiwi\", \"melon\", \"mango\"]\n",
    "print(thislist[:4])"
   ]
  },
  {
   "cell_type": "code",
   "execution_count": 19,
   "id": "1b799a3d",
   "metadata": {},
   "outputs": [
    {
     "name": "stdout",
     "output_type": "stream",
     "text": [
      "['cherry', 'orange', 'kiwi', 'melon', 'mango']\n"
     ]
    }
   ],
   "source": [
    "# \"cherry\"부터 끝까지의 항목을 반환합니다.\n",
    "thislist = [\"apple\", \"banana\", \"cherry\", \"orange\", \"kiwi\", \"melon\", \"mango\"]\n",
    "print(thislist[2:])"
   ]
  },
  {
   "cell_type": "markdown",
   "id": "a08e2699",
   "metadata": {},
   "source": [
    "* Range of Negative Indexes\n",
    "  \n",
    "    - 목록의 끝에서 검색을 시작하려면 음수 인덱스를 지정하세요."
   ]
  },
  {
   "cell_type": "code",
   "execution_count": 21,
   "id": "38197b08",
   "metadata": {},
   "outputs": [
    {
     "name": "stdout",
     "output_type": "stream",
     "text": [
      "['orange', 'kiwi', 'melon']\n"
     ]
    }
   ],
   "source": [
    "# \"orange\"(-4)부터 \"mango\"(-1)까지의 항목을 반환합니다. 단, \"orange\"(-4)는 포함되지 않습니다.\n",
    "thislist = [\"apple\", \"banana\", \"cherry\", \"orange\", \"kiwi\", \"melon\", \"mango\"]\n",
    "print(thislist[-4:-1])"
   ]
  },
  {
   "cell_type": "markdown",
   "id": "e785abdf",
   "metadata": {},
   "source": [
    "* Check if Item Exists\n",
    "  \n",
    "    - 지정된 항목이 목록에 있는지 확인하려면 in 키워드를 사용합니다."
   ]
  },
  {
   "cell_type": "code",
   "execution_count": 22,
   "id": "d56b8725",
   "metadata": {},
   "outputs": [
    {
     "name": "stdout",
     "output_type": "stream",
     "text": [
      "Yes, 'apple' is in the fruits list\n"
     ]
    }
   ],
   "source": [
    "# 목록에 \"apple\"이 있는지 확인하세요.\n",
    "thislist = [\"apple\", \"banana\", \"cherry\"]\n",
    "if \"apple\" in thislist:\n",
    "    print(\"Yes, 'apple' is in the fruits list\")"
   ]
  },
  {
   "cell_type": "markdown",
   "id": "41c7475f",
   "metadata": {},
   "source": [
    "* Change Item Value\n",
    "\n",
    "   - 특정 항목의 값을 변경하려면 색인 번호를 참조하세요."
   ]
  },
  {
   "cell_type": "code",
   "execution_count": 23,
   "id": "118b1e11",
   "metadata": {},
   "outputs": [
    {
     "name": "stdout",
     "output_type": "stream",
     "text": [
      "['apple', 'blackcurrant', 'cherry']\n"
     ]
    }
   ],
   "source": [
    "# 두 번째 항목을 변경하세요.\n",
    "thislist = [\"apple\", \"banana\", \"cherry\"]\n",
    "thislist[1] = \"blackcurrant\"\n",
    "print(thislist)"
   ]
  },
  {
   "cell_type": "markdown",
   "id": "a084e0ac",
   "metadata": {},
   "source": [
    "* Change a Range of Item Values\n",
    "   \n",
    "    - 특정 범위 내 항목의 값을 변경하려면 새 값이 포함된 목록을 정의하고 새 값을 삽입할 인덱스 번호 범위를 참조하세요."
   ]
  },
  {
   "cell_type": "code",
   "execution_count": 25,
   "id": "daa3c751",
   "metadata": {},
   "outputs": [
    {
     "name": "stdout",
     "output_type": "stream",
     "text": [
      "['banana', 'cherry']\n",
      "['apple', 'blackcurrant', 'watermelon', 'orange', 'kiwi', 'mango']\n"
     ]
    }
   ],
   "source": [
    "# \"banana\"와 \"cherry\" 값을 \"blackcurrant\"와 \"watermelon\" 값으로 변경합니다.\n",
    "thislist = [\"apple\", \"banana\", \"cherry\", \"orange\", \"kiwi\", \"mango\"]\n",
    "print(thislist[1:3])\n",
    "thislist[1:3] = [\"blackcurrant\", \"watermelon\"]\n",
    "print(thislist)"
   ]
  },
  {
   "cell_type": "markdown",
   "id": "90ad370d",
   "metadata": {},
   "source": [
    "* 교체하는 항목보다 삽입하는 항목이 많은 경우 새 항목은 지정한 위치에 삽입되고 나머지 항목은 그에 따라 이동합니다.\n",
    "* 참고: 삽입된 항목의 수가 교체된 항목의 수와 일치하지 않으면 목록의 길이가 변경됩니다."
   ]
  },
  {
   "cell_type": "code",
   "execution_count": 27,
   "id": "df1176ca",
   "metadata": {},
   "outputs": [
    {
     "name": "stdout",
     "output_type": "stream",
     "text": [
      "['banana']\n",
      "['apple', 'blackcurrant', 'watermelon', 'cherry']\n"
     ]
    }
   ],
   "source": [
    "# 두 번째 값을 두 개의 새 값으로 바꿔서 변경합니다.\n",
    "thislist = [\"apple\", \"banana\", \"cherry\"]\n",
    "print(thislist[1:2])\n",
    "thislist[1:2] = [\"blackcurrant\", \"watermelon\"]\n",
    "print(thislist)"
   ]
  },
  {
   "cell_type": "code",
   "execution_count": 29,
   "id": "c97a18cf",
   "metadata": {},
   "outputs": [
    {
     "name": "stdout",
     "output_type": "stream",
     "text": [
      "['banana', 'cherry']\n",
      "['apple', 'watermelon']\n"
     ]
    }
   ],
   "source": [
    "# 두 번째와 세 번째 값을 하나의 값으로 바꿔서 변경합니다.\n",
    "thislist = [\"apple\", \"banana\", \"cherry\"]\n",
    "print(thislist[1:3])\n",
    "thislist[1:3] = [\"watermelon\"]\n",
    "print(thislist)"
   ]
  },
  {
   "cell_type": "markdown",
   "id": "c421fdd7",
   "metadata": {},
   "source": [
    "* Insert Items\n",
    "\n",
    "   - 기존 값을 바꾸지 않고 새 목록 항목을 삽입하려면 insert() 메서드를 사용할 수 있습니다.\n",
    "   - insert() 메서드는 지정된 인덱스에 항목을 삽입합니다."
   ]
  },
  {
   "cell_type": "code",
   "execution_count": 32,
   "id": "5cf3e2dd",
   "metadata": {},
   "outputs": [
    {
     "name": "stdout",
     "output_type": "stream",
     "text": [
      "['apple', 'banana', 'watermelon', 'cherry']\n"
     ]
    }
   ],
   "source": [
    "# 세 번째 항목에 \"수박\"을 삽입하세요.\n",
    "thislist = [\"apple\", \"banana\", \"cherry\"]\n",
    "thislist.insert(2, \"watermelon\")\n",
    "print(thislist)"
   ]
  },
  {
   "cell_type": "markdown",
   "id": "5c280ef5",
   "metadata": {},
   "source": [
    "* Add List Items\n",
    "  \n",
    "   - 목록의 끝에 항목을 추가하려면 append() 메서드를 사용합니다."
   ]
  },
  {
   "cell_type": "code",
   "execution_count": 36,
   "id": "d040ee32",
   "metadata": {},
   "outputs": [
    {
     "name": "stdout",
     "output_type": "stream",
     "text": [
      "['apple', 'banana', 'cherry', 'orange']\n"
     ]
    }
   ],
   "source": [
    "# append() 메서드를 사용하여 항목을 추가합니다.\n",
    "thislist = [\"apple\", \"banana\", \"cherry\"]\n",
    "thislist.append(\"orange\")\n",
    "print(thislist)"
   ]
  },
  {
   "cell_type": "markdown",
   "id": "881b43e5",
   "metadata": {},
   "source": [
    "* Insert Items\n",
    "  \n",
    "    - 지정된 인덱스에 목록 항목을 삽입하려면 insert() 메서드를 사용합니다.\n",
    "    - insert() 메서드는 지정된 인덱스에 항목을 삽입합니다."
   ]
  },
  {
   "cell_type": "code",
   "execution_count": 39,
   "id": "fc72764a",
   "metadata": {},
   "outputs": [
    {
     "name": "stdout",
     "output_type": "stream",
     "text": [
      "['apple', 'orange', 'banana', 'cherry']\n"
     ]
    }
   ],
   "source": [
    "# 두 번째 위치에 항목을 삽입합니다.\n",
    "thislist = [\"apple\", \"banana\", \"cherry\"]\n",
    "thislist.insert(1, \"orange\")\n",
    "print(thislist)"
   ]
  },
  {
   "cell_type": "markdown",
   "id": "ec5207c2",
   "metadata": {},
   "source": [
    "* Extend List\n",
    "\n",
    "   - 다른 목록의 요소를 현재 목록에 추가하려면 extend() 메서드를 사용합니다.\n",
    "   - 요소는 목록의 끝에 추가됩니다."
   ]
  },
  {
   "cell_type": "code",
   "execution_count": 40,
   "id": "c979ba2b",
   "metadata": {},
   "outputs": [
    {
     "name": "stdout",
     "output_type": "stream",
     "text": [
      "['apple', 'banana', 'cherry', 'mango', 'pineapple', 'papaya']\n"
     ]
    }
   ],
   "source": [
    "# thislist 에 tropical 요소를 추가합니다.\n",
    "thislist = [\"apple\", \"banana\", \"cherry\"]\n",
    "tropical = [\"mango\", \"pineapple\", \"papaya\"]\n",
    "thislist.extend(tropical)\n",
    "print(thislist)"
   ]
  },
  {
   "cell_type": "markdown",
   "id": "f4601178",
   "metadata": {},
   "source": [
    "* Add Any Iterable\n",
    "\n",
    "    - extend() 메서드는 목록을 추가할 필요가 없으며, 반복 가능한 객체(튜플, 세트, ​​사전 등)를 추가할 수 있습니다."
   ]
  },
  {
   "cell_type": "code",
   "execution_count": 41,
   "id": "771a32e5",
   "metadata": {},
   "outputs": [
    {
     "name": "stdout",
     "output_type": "stream",
     "text": [
      "['apple', 'banana', 'cherry', 'kiwi', 'orange']\n"
     ]
    }
   ],
   "source": [
    "thislist = [\"apple\", \"banana\", \"cherry\"]\n",
    "thistuple = (\"kiwi\", \"orange\")\n",
    "thislist.extend(thistuple)\n",
    "print(thislist)"
   ]
  },
  {
   "cell_type": "markdown",
   "id": "643bc2ad",
   "metadata": {},
   "source": [
    "* Remove List Items\n",
    "\n",
    "   - 지정된 항목 제거\n",
    "      - remove()메서드는 지정된 항목을 제거합니다."
   ]
  },
  {
   "cell_type": "code",
   "execution_count": 43,
   "id": "ab117e8c",
   "metadata": {},
   "outputs": [
    {
     "name": "stdout",
     "output_type": "stream",
     "text": [
      "['apple', 'cherry']\n"
     ]
    }
   ],
   "source": [
    "# \"바나나\"를 제거하세요.\n",
    "thislist = [\"apple\", \"banana\", \"cherry\"]\n",
    "thislist.remove(\"banana\")\n",
    "print(thislist)"
   ]
  },
  {
   "cell_type": "code",
   "execution_count": 44,
   "id": "3371a5ec",
   "metadata": {},
   "outputs": [
    {
     "name": "stdout",
     "output_type": "stream",
     "text": [
      "['apple', 'cherry', 'banana', 'kiwi']\n"
     ]
    }
   ],
   "source": [
    "# 첫번째 \"banana\"를 제거하세요.\n",
    "thislist = [\"apple\", \"banana\", \"cherry\", \"banana\", \"kiwi\"]\n",
    "thislist.remove(\"banana\")\n",
    "print(thislist)"
   ]
  },
  {
   "cell_type": "markdown",
   "id": "4b13ab3e",
   "metadata": {},
   "source": [
    "* 지정된 인덱스 제거\n",
    "   - pop()메서드는 지정된 인덱스를 제거합니다.\n",
    "   - 인덱스를 지정하지 않으면 pop()메서드는 마지막 항목을 제거합니다."
   ]
  },
  {
   "cell_type": "code",
   "execution_count": 45,
   "id": "6480479a",
   "metadata": {},
   "outputs": [
    {
     "name": "stdout",
     "output_type": "stream",
     "text": [
      "['apple', 'cherry']\n"
     ]
    }
   ],
   "source": [
    "# 두 번째 항목을 제거합니다.\n",
    "thislist = [\"apple\", \"banana\", \"cherry\"]\n",
    "thislist.pop(1)\n",
    "print(thislist)"
   ]
  },
  {
   "cell_type": "code",
   "execution_count": 46,
   "id": "20184ffd",
   "metadata": {},
   "outputs": [
    {
     "name": "stdout",
     "output_type": "stream",
     "text": [
      "['apple', 'banana']\n"
     ]
    }
   ],
   "source": [
    "# 마지막 항목을 제거합니다.\n",
    "thislist = [\"apple\", \"banana\", \"cherry\"]\n",
    "thislist.pop()\n",
    "print(thislist)"
   ]
  },
  {
   "cell_type": "markdown",
   "id": "30d1af05",
   "metadata": {},
   "source": [
    "* 키워드 del는 지정된 인덱스도 제거합니다."
   ]
  },
  {
   "cell_type": "code",
   "execution_count": 47,
   "id": "a4b5ae59",
   "metadata": {},
   "outputs": [
    {
     "name": "stdout",
     "output_type": "stream",
     "text": [
      "['banana', 'cherry']\n"
     ]
    }
   ],
   "source": [
    "# 첫 번째 항목을 제거합니다.\n",
    "thislist = [\"apple\", \"banana\", \"cherry\"]\n",
    "del thislist[0]\n",
    "print(thislist)"
   ]
  },
  {
   "cell_type": "markdown",
   "id": "d11c5386",
   "metadata": {},
   "source": [
    "* 키워드 del를 사용하면 목록을 완전히 삭제할 수도 있습니다."
   ]
  },
  {
   "cell_type": "code",
   "execution_count": 50,
   "id": "e9456bc1",
   "metadata": {},
   "outputs": [],
   "source": [
    "thislist = [\"apple\", \"banana\", \"cherry\"]\n",
    "del thislist"
   ]
  },
  {
   "cell_type": "markdown",
   "id": "a30a91f9",
   "metadata": {},
   "source": [
    "* Clear the List\n",
    "\n",
    "    - clear() 메서드는 list 를 비웁니다.\n",
    "    - list 는 여전히 ​​남아 있지만 내용이 없습니다."
   ]
  },
  {
   "cell_type": "code",
   "execution_count": 51,
   "id": "2a1d24e5",
   "metadata": {},
   "outputs": [
    {
     "name": "stdout",
     "output_type": "stream",
     "text": [
      "[]\n"
     ]
    }
   ],
   "source": [
    "thislist = [\"apple\", \"banana\", \"cherry\"]\n",
    "thislist.clear()\n",
    "print(thislist)"
   ]
  },
  {
   "cell_type": "markdown",
   "id": "bfcb16fc",
   "metadata": {},
   "source": [
    "* Loop Lists\n",
    "\n",
    "   - 목록을 반복합니다.\n",
    "   - for 루프를 사용하여 목록 항목을 반복할 수 있습니다."
   ]
  },
  {
   "cell_type": "code",
   "execution_count": 52,
   "id": "08c3f8c3",
   "metadata": {},
   "outputs": [
    {
     "name": "stdout",
     "output_type": "stream",
     "text": [
      "apple\n",
      "banana\n",
      "cherry\n"
     ]
    }
   ],
   "source": [
    "# 목록에 있는 모든 항목을 하나씩 인쇄합니다.\n",
    "thislist = [\"apple\", \"banana\", \"cherry\"]\n",
    "for x in thislist:\n",
    "    print(x)"
   ]
  },
  {
   "cell_type": "markdown",
   "id": "391cd664",
   "metadata": {},
   "source": [
    "* 인덱스 번호를 반복합니다.\n",
    "\n",
    "    - 인덱스 번호를 참조하여 목록 항목을 반복할 수도 있습니다.\n",
    "    - range() 및 len() 함수를 사용하여 적절한 반복 가능 항목을 만듭니다."
   ]
  },
  {
   "cell_type": "code",
   "execution_count": 54,
   "id": "4dfa54a0",
   "metadata": {},
   "outputs": [
    {
     "name": "stdout",
     "output_type": "stream",
     "text": [
      "apple\n",
      "banana\n",
      "cherry\n"
     ]
    }
   ],
   "source": [
    "# 모든 항목을 해당 색인 번호를 참조하여 인쇄하세요.\n",
    "thislist = [\"apple\", \"banana\", \"cherry\"]\n",
    "for i in range(len(thislist)):\n",
    "    print(thislist[i])"
   ]
  },
  {
   "cell_type": "markdown",
   "id": "8979ebf2",
   "metadata": {},
   "source": [
    "* While 루프 사용\n",
    "\n",
    "   - while 루프를 사용하여 목록 항목을 반복할 수 있습니다.\n",
    "   - len() 함수를 사용하여 목록의 길이를 확인한 다음, 0부터 시작하여 목록 항목의 인덱스를 참조하여 목록 항목을 반복합니다.\n",
    "   - 반복할 때마다 인덱스를 1씩 증가시키는 것을 잊지 마세요."
   ]
  },
  {
   "cell_type": "code",
   "execution_count": 55,
   "id": "06e09d46",
   "metadata": {},
   "outputs": [
    {
     "name": "stdout",
     "output_type": "stream",
     "text": [
      "apple\n",
      "banana\n",
      "cherry\n"
     ]
    }
   ],
   "source": [
    "# while 루프를 사용하여 모든 인덱스 번호를 살펴보며 모든 항목을 인쇄합니다.\n",
    "thislist = [\"apple\", \"banana\", \"cherry\"]\n",
    "i = 0\n",
    "while i < len(thislist):\n",
    "    print(thislist[i])\n",
    "    i = i + 1"
   ]
  },
  {
   "cell_type": "markdown",
   "id": "ac626abc",
   "metadata": {},
   "source": [
    "* 리스트 이해를 사용한 루핑\n",
    "\n",
    "    - 리스트 컴프리헨션은 리스트를 반복하기 위한 가장 짧은 구문을 제공합니다."
   ]
  },
  {
   "cell_type": "code",
   "execution_count": 58,
   "id": "1b5fa0e8",
   "metadata": {},
   "outputs": [
    {
     "name": "stdout",
     "output_type": "stream",
     "text": [
      "apple\n",
      "banana\n",
      "cherry\n"
     ]
    },
    {
     "data": {
      "text/plain": [
       "[None, None, None]"
      ]
     },
     "execution_count": 58,
     "metadata": {},
     "output_type": "execute_result"
    }
   ],
   "source": [
    "# 목록에 있는 모든 항목을 출력하는 간단한 for 루프\n",
    "thislist = [\"apple\", \"banana\", \"cherry\"]\n",
    "[print(x) for x in thislist]"
   ]
  },
  {
   "cell_type": "markdown",
   "id": "8728019b",
   "metadata": {},
   "source": [
    "* List Comprehension\n",
    "\n",
    "   - 리스트 내포는 기존 리스트의 값을 기반으로 새 리스트를 만들 때 더 짧은 구문을 제공합니다.\n",
    "   - 예:\n",
    "      - 과일 리스트를 기반으로 이름에 \"a\"가 포함된 과일만 포함하는 새 리스트를 만들려고 합니다.\n",
    "      - 리스트 내포가 없다면 조건문이 포함된 for 문을 작성해야 합니다."
   ]
  },
  {
   "cell_type": "code",
   "execution_count": 59,
   "id": "bdf517d8",
   "metadata": {},
   "outputs": [
    {
     "name": "stdout",
     "output_type": "stream",
     "text": [
      "['apple', 'banana', 'mango']\n"
     ]
    }
   ],
   "source": [
    "fruits = [\"apple\", \"banana\", \"cherry\", \"kiwi\", \"mango\"]\n",
    "newlist = []\n",
    "\n",
    "for x in fruits:\n",
    "    if \"a\" in x:\n",
    "        newlist.append(x)\n",
    "\n",
    "print(newlist)"
   ]
  },
  {
   "cell_type": "code",
   "execution_count": 62,
   "id": "b3589db1",
   "metadata": {},
   "outputs": [
    {
     "name": "stdout",
     "output_type": "stream",
     "text": [
      "['apple', 'banana', 'mango']\n"
     ]
    }
   ],
   "source": [
    "# 리스트 이해를 사용하면 단 한 줄의 코드로 이 모든 작업을 수행할 수 있습니다.\n",
    "fruits = [\"apple\", \"banana\", \"cherry\", \"kiwi\", \"mango\"]\n",
    "\n",
    "newlist = [x for x in fruits if \"a\" in x]\n",
    "\n",
    "print(newlist)"
   ]
  },
  {
   "cell_type": "markdown",
   "id": "5c754cb5",
   "metadata": {},
   "source": [
    "* The Syntax\n",
    "\n",
    "newlist = [expression for item in iterable if condition == True]\n",
    "\n",
    "- 반환 값은 새로운 목록이며, 기존 목록은 변경되지 않습니다.\n",
    "- 조건은 True로 평가되는 항목만 허용하는 필터와 같습니다."
   ]
  },
  {
   "cell_type": "code",
   "execution_count": 63,
   "id": "3a4d0daa",
   "metadata": {},
   "outputs": [],
   "source": [
    "# \"apple\"이 아닌 항목만 허용합니다.\n",
    "newlist = [x for x in fruits if x != \"apple\"]"
   ]
  },
  {
   "cell_type": "markdown",
   "id": "400077cf",
   "metadata": {},
   "source": [
    "* if x != \"apple\" 조건은 \"apple\"을 제외한 모든 요소에 대해 True를 반환하여 새 목록에 \"apple\"을 제외한 모든 과일이 포함되도록 합니다.\n",
    "* 조건은 선택 사항이므로 생략할 수 있습니다."
   ]
  },
  {
   "cell_type": "code",
   "execution_count": 64,
   "id": "fd00f7e5",
   "metadata": {},
   "outputs": [],
   "source": [
    "# if 문이 없는 경우\n",
    "newlist = [x for x in fruits]"
   ]
  },
  {
   "cell_type": "markdown",
   "id": "859e16ff",
   "metadata": {},
   "source": [
    "* Iterable\n",
    "\n",
    "   - 반복 가능한 객체는 리스트, 튜플, 세트 등 반복 가능한 객체가 될 수 있습니다."
   ]
  },
  {
   "cell_type": "code",
   "execution_count": 65,
   "id": "470915a4",
   "metadata": {},
   "outputs": [],
   "source": [
    "# range() 함수를 사용하면 반복 가능한 객체를 만들 수 있습니다.\n",
    "newlist = [x for x in range(10)]"
   ]
  },
  {
   "cell_type": "code",
   "execution_count": 66,
   "id": "85ac01c1",
   "metadata": {},
   "outputs": [],
   "source": [
    "# 5보다 작은 숫자만 허용\n",
    "newlist = [x for x in range(10) if x < 5]"
   ]
  },
  {
   "cell_type": "markdown",
   "id": "d77fc49d",
   "metadata": {},
   "source": [
    "* Expression\n",
    "\n",
    "   - 표현식은 반복의 현재 항목이지만, 새 목록의 목록 항목처럼 되기 전에 조작할 수 있는 결과이기도 합니다."
   ]
  },
  {
   "cell_type": "code",
   "execution_count": 68,
   "id": "9858840d",
   "metadata": {},
   "outputs": [],
   "source": [
    "# 새 목록의 값을 대문자로 설정합니다.\n",
    "newlist = [x.upper() for x in fruits]"
   ]
  },
  {
   "cell_type": "code",
   "execution_count": 69,
   "id": "63177d62",
   "metadata": {},
   "outputs": [],
   "source": [
    "# 새 목록의 모든 값을 'hello'로 설정합니다.\n",
    "newlist = ['hello' for x in fruits]"
   ]
  },
  {
   "cell_type": "markdown",
   "id": "53fc351c",
   "metadata": {},
   "source": [
    "* 표현식은 필터처럼 조건을 포함할 수 없지만, 결과를 조작하는 방법으로 사용할 수 있습니다."
   ]
  },
  {
   "cell_type": "code",
   "execution_count": 70,
   "id": "eaf4e9f9",
   "metadata": {},
   "outputs": [],
   "source": [
    "# \"banana\" 대신 \"orange\"를 반환합니다.\n",
    "newlist = [x if x != \"banana\" else \"orange\" for x in fruits]"
   ]
  },
  {
   "cell_type": "markdown",
   "id": "5b86fdfe",
   "metadata": {},
   "source": [
    "* Sort Lists\n",
    "\n",
    "   - 목록을 영숫자순으로 정렬\n",
    "      - 목록 객체에는 기본적으로 목록을 영숫자순(오름차순)으로 정렬하는 sort() 메서드가 있습니다."
   ]
  },
  {
   "cell_type": "code",
   "execution_count": 71,
   "id": "f6e185a1",
   "metadata": {},
   "outputs": [
    {
     "name": "stdout",
     "output_type": "stream",
     "text": [
      "['orange', 'mango', 'kiwi', 'pineapple', 'banana']\n",
      "['banana', 'kiwi', 'mango', 'orange', 'pineapple']\n"
     ]
    }
   ],
   "source": [
    "# 목록을 알파벳순으로 정렬하기\n",
    "thislist = [\"orange\", \"mango\", \"kiwi\", \"pineapple\", \"banana\"]\n",
    "print(thislist)\n",
    "thislist.sort()\n",
    "print(thislist)"
   ]
  },
  {
   "cell_type": "code",
   "execution_count": 72,
   "id": "0a84e28f",
   "metadata": {},
   "outputs": [
    {
     "name": "stdout",
     "output_type": "stream",
     "text": [
      "[100, 50, 65, 82, 23]\n",
      "[23, 50, 65, 82, 100]\n"
     ]
    }
   ],
   "source": [
    "# 목록을 숫자순으로 정렬하세요.\n",
    "thislist = [100, 50, 65, 82, 23]\n",
    "print(thislist)\n",
    "thislist.sort()\n",
    "print(thislist)"
   ]
  },
  {
   "cell_type": "markdown",
   "id": "ea31b463",
   "metadata": {},
   "source": [
    "* 내림차순 정렬\n",
    "\n",
    "    - 내림차순으로 정렬하려면 키워드 인수 reverse = True를 사용합니다."
   ]
  },
  {
   "cell_type": "code",
   "execution_count": 73,
   "id": "b9fda6de",
   "metadata": {},
   "outputs": [
    {
     "name": "stdout",
     "output_type": "stream",
     "text": [
      "['orange', 'mango', 'kiwi', 'pineapple', 'banana']\n",
      "['pineapple', 'orange', 'mango', 'kiwi', 'banana']\n"
     ]
    }
   ],
   "source": [
    "# 목록을 내림차순으로 정렬\n",
    "thislist = [\"orange\", \"mango\", \"kiwi\", \"pineapple\", \"banana\"]\n",
    "print(thislist)\n",
    "thislist.sort(reverse = True)\n",
    "print(thislist)"
   ]
  },
  {
   "cell_type": "code",
   "execution_count": 74,
   "id": "b033953a",
   "metadata": {},
   "outputs": [
    {
     "name": "stdout",
     "output_type": "stream",
     "text": [
      "[100, 50, 65, 82, 23]\n",
      "[100, 82, 65, 50, 23]\n"
     ]
    }
   ],
   "source": [
    "thislist = [100, 50, 65, 82, 23]\n",
    "print(thislist)\n",
    "thislist.sort(reverse = True)\n",
    "print(thislist)"
   ]
  },
  {
   "cell_type": "markdown",
   "id": "336e15e7",
   "metadata": {},
   "source": [
    "* 정렬 기능 사용자 정의\n",
    "\n",
    "    - 키워드 인수 key = function을 사용하여 함수를 사용자 지정할 수도 있습니다.\n",
    "    - 함수는 목록을 정렬하는 데 사용할 숫자(가장 작은 숫자부터)를 반환합니다."
   ]
  },
  {
   "cell_type": "code",
   "execution_count": 76,
   "id": "08ce9b61",
   "metadata": {},
   "outputs": [
    {
     "name": "stdout",
     "output_type": "stream",
     "text": [
      "[50, 65, 23, 82, 100]\n"
     ]
    }
   ],
   "source": [
    "# 숫자가 50에 얼마나 가까운지에 따라 목록을 정렬하세요.\n",
    "def myfunc(n):\n",
    "    return abs(n - 50) # abs() 는 주어진 숫자의 절대값을 반환하는 내장 함수\n",
    "\n",
    "thislist = [100, 50, 65, 82, 23]\n",
    "thislist.sort(key = myfunc)\n",
    "print(thislist)"
   ]
  },
  {
   "cell_type": "markdown",
   "id": "bceccd39",
   "metadata": {},
   "source": [
    "* Case Insensitive Sort\n",
    "\n",
    "   - 기본적으로 sort() 메서드는 대소문자를 구분하므로 모든 대문자가 소문자보다 먼저 정렬됩니다."
   ]
  },
  {
   "cell_type": "code",
   "execution_count": 77,
   "id": "d0590b2a",
   "metadata": {},
   "outputs": [
    {
     "name": "stdout",
     "output_type": "stream",
     "text": [
      "['banana', 'Orange', 'Kiwi', 'cherry']\n",
      "['Kiwi', 'Orange', 'banana', 'cherry']\n"
     ]
    }
   ],
   "source": [
    "# 대소문자 구분 정렬은 예상치 못한 결과를 초래할 수 있습니다.\n",
    "thislist = [\"banana\", \"Orange\", \"Kiwi\", \"cherry\"]\n",
    "print(thislist)\n",
    "thislist.sort()\n",
    "print(thislist)"
   ]
  },
  {
   "cell_type": "markdown",
   "id": "c70525a3",
   "metadata": {},
   "source": [
    "* 다행히 목록을 정렬할 때 내장 함수를 키 함수로 사용할 수 있습니다.\n",
    "* 대소문자를 구분하지 않는 정렬 함수가 필요하다면 str.lower를 키 함수로 사용하세요."
   ]
  },
  {
   "cell_type": "code",
   "execution_count": 78,
   "id": "8b78045c",
   "metadata": {},
   "outputs": [
    {
     "name": "stdout",
     "output_type": "stream",
     "text": [
      "['banana', 'cherry', 'Kiwi', 'Orange']\n"
     ]
    }
   ],
   "source": [
    "# 대소문자를 구분하지 않는 목록 정렬을 수행해 보세요.\n",
    "thislist = [\"banana\", \"Orange\", \"Kiwi\", \"cherry\"]\n",
    "thislist.sort(key = str.lower)\n",
    "print(thislist)"
   ]
  },
  {
   "cell_type": "markdown",
   "id": "c418de5f",
   "metadata": {},
   "source": [
    "* 역순\n",
    "\n",
    "    - 알파벳 순서에 관계없이 목록의 순서를 반대로 바꾸고 싶다면 어떻게 해야 할까요?\n",
    "    - reverse() 메서드는 요소의 현재 정렬 순서를 반대로 바꿉니다."
   ]
  },
  {
   "cell_type": "code",
   "execution_count": 79,
   "id": "ceac8f01",
   "metadata": {},
   "outputs": [
    {
     "name": "stdout",
     "output_type": "stream",
     "text": [
      "['cherry', 'Kiwi', 'Orange', 'banana']\n"
     ]
    }
   ],
   "source": [
    "# 목록 항목의 순서를 반대로 바꿉니다.\n",
    "thislist = [\"banana\", \"Orange\", \"Kiwi\", \"cherry\"]\n",
    "thislist.reverse()\n",
    "print(thislist)"
   ]
  },
  {
   "cell_type": "code",
   "execution_count": 83,
   "id": "e9da91f0",
   "metadata": {},
   "outputs": [
    {
     "name": "stdout",
     "output_type": "stream",
     "text": [
      "['Orange', 'Kiwi', 'cherry', 'banana']\n"
     ]
    }
   ],
   "source": [
    "# 정렬을 이용해서 뒤집는 방식\n",
    "thislist = [\"banana\", \"Orange\", \"Kiwi\", \"cherry\"]\n",
    "thislist.sort(key = str.lower, reverse = True)\n",
    "print(thislist)"
   ]
  },
  {
   "cell_type": "markdown",
   "id": "882a4b48",
   "metadata": {},
   "source": [
    "* Copy a List\n",
    "\n",
    "   - \"list2 = list1\"이라고 입력하는 것만으로는 목록을 복사할 수 없습니다. list2는 list1에 대한 참조일 뿐이며, list1에서 변경한 내용은 자동으로 list2에도 적용됩니다.\n",
    "   - copy() 메서드를 사용하세요.\n",
    "   - List의 내장 메서드인 copy()를 사용하여 목록을 복사할 수 있습니다."
   ]
  },
  {
   "cell_type": "code",
   "execution_count": 84,
   "id": "e9ba58b0",
   "metadata": {},
   "outputs": [
    {
     "name": "stdout",
     "output_type": "stream",
     "text": [
      "['apple', 'banana', 'cherry']\n"
     ]
    }
   ],
   "source": [
    "# copy() 메서드를 사용하여 목록의 복사본을 만드세요.\n",
    "thislist = [\"apple\", \"banana\", \"cherry\"]\n",
    "mylist = thislist.copy()\n",
    "print(mylist)"
   ]
  },
  {
   "cell_type": "markdown",
   "id": "0f592c9a",
   "metadata": {},
   "source": [
    "* list() 메서드 사용\n",
    "* 복사본을 만드는 또 다른 방법은 내장 메서드 list()를 사용하는 것입니다."
   ]
  },
  {
   "cell_type": "code",
   "execution_count": 85,
   "id": "eab7170f",
   "metadata": {},
   "outputs": [
    {
     "name": "stdout",
     "output_type": "stream",
     "text": [
      "['apple', 'banana', 'cherry']\n"
     ]
    }
   ],
   "source": [
    "# list() 메서드를 사용하여 목록의 사본을 만듭니다.\n",
    "thislist = [\"apple\", \"banana\", \"cherry\"]\n",
    "mylist = list(thislist)\n",
    "print(mylist)"
   ]
  },
  {
   "cell_type": "markdown",
   "id": "48553295",
   "metadata": {},
   "source": [
    "* 슬라이스 연산자 사용\n",
    "* : (슬라이스) 연산자를 사용하여 목록의 복사본을 만들 수도 있습니다."
   ]
  },
  {
   "cell_type": "code",
   "execution_count": 86,
   "id": "991c3a43",
   "metadata": {},
   "outputs": [
    {
     "name": "stdout",
     "output_type": "stream",
     "text": [
      "['apple', 'banana', 'cherry']\n"
     ]
    }
   ],
   "source": [
    "# : 연산자를 사용하여 목록의 복사본을 만듭니다.\n",
    "thislist = [\"apple\", \"banana\", \"cherry\"]\n",
    "mylist = thislist[:]\n",
    "print(mylist)"
   ]
  },
  {
   "cell_type": "markdown",
   "id": "97bdb6c5",
   "metadata": {},
   "source": [
    "* Join Lists\n",
    "\n",
    "   - 두 목록 결합\n",
    "      - Python에서는 두 개 이상의 목록을 결합하거나 연결하는 여러 가지 방법이 있습니다.\n",
    "      - 가장 쉬운 방법 중 하나는 + 연산자를 사용하는 것입니다."
   ]
  },
  {
   "cell_type": "code",
   "execution_count": 87,
   "id": "6ee2240b",
   "metadata": {},
   "outputs": [
    {
     "name": "stdout",
     "output_type": "stream",
     "text": [
      "['a', 'b', 'c', 1, 2, 3]\n"
     ]
    }
   ],
   "source": [
    "list1 = [\"a\", \"b\", \"c\"]\n",
    "list2 = [1, 2, 3]\n",
    "\n",
    "list3 = list1 + list2\n",
    "print(list3)"
   ]
  },
  {
   "cell_type": "markdown",
   "id": "2d8b1e79",
   "metadata": {},
   "source": [
    "* 두 개의 목록을 결합하는 또 다른 방법은 list2의 모든 항목을 하나씩 list1에 추가하는 것입니다."
   ]
  },
  {
   "cell_type": "code",
   "execution_count": 88,
   "id": "87db6ccb",
   "metadata": {},
   "outputs": [
    {
     "name": "stdout",
     "output_type": "stream",
     "text": [
      "['a', 'b', 'c', 1, 2, 3]\n"
     ]
    }
   ],
   "source": [
    "list1 = [\"a\", \"b\" , \"c\"]\n",
    "list2 = [1, 2, 3]\n",
    "\n",
    "for x in list2:\n",
    "    list1.append(x)\n",
    "\n",
    "print(list1)"
   ]
  },
  {
   "cell_type": "markdown",
   "id": "6debf32e",
   "metadata": {},
   "source": [
    "* 또는 extend() 메서드를 사용할 수 있습니다. 이 메서드의 목적은 한 목록의 요소를 다른 목록에 추가하는 것입니다."
   ]
  },
  {
   "cell_type": "code",
   "execution_count": 89,
   "id": "52f4f246",
   "metadata": {},
   "outputs": [
    {
     "name": "stdout",
     "output_type": "stream",
     "text": [
      "['a', 'b', 'c', 1, 2, 3]\n"
     ]
    }
   ],
   "source": [
    "# extend() 메서드를 사용하여 list1의 끝에 list2를 추가합니다.\n",
    "list1 = [\"a\", \"b\" , \"c\"]\n",
    "list2 = [1, 2, 3]\n",
    "\n",
    "list1.extend(list2)\n",
    "print(list1)"
   ]
  },
  {
   "cell_type": "markdown",
   "id": "61f7acc9",
   "metadata": {},
   "source": [
    "* List Methods\n",
    "   - https://www.w3schools.com/python/python_lists_methods.asp"
   ]
  }
 ],
 "metadata": {
  "kernelspec": {
   "display_name": "Python 3",
   "language": "python",
   "name": "python3"
  },
  "language_info": {
   "codemirror_mode": {
    "name": "ipython",
    "version": 3
   },
   "file_extension": ".py",
   "mimetype": "text/x-python",
   "name": "python",
   "nbconvert_exporter": "python",
   "pygments_lexer": "ipython3",
   "version": "3.13.2"
  }
 },
 "nbformat": 4,
 "nbformat_minor": 5
}
