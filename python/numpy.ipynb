{
 "cells": [
  {
   "cell_type": "markdown",
   "id": "d42ae3c8",
   "metadata": {},
   "source": [
    "### NumPy\n",
    "\n",
    "  - NumPy\n",
    "    - NumPy는 Python 라이브러리입니다.\n",
    "    - NumPy는 배열을 다루는 데 사용됩니다.\n",
    "    - NumPy는 \"수치형 파이썬\"의 약자입니다."
   ]
  },
  {
   "cell_type": "code",
   "execution_count": 1,
   "id": "b691dc95",
   "metadata": {},
   "outputs": [
    {
     "name": "stdout",
     "output_type": "stream",
     "text": [
      "[1 2 3 4 5]\n",
      "<class 'numpy.ndarray'>\n"
     ]
    }
   ],
   "source": [
    "# NumPy 배열을 만듭니다.\n",
    "import numpy as np\n",
    "\n",
    "arr = np.array([1, 2, 3, 4, 5])\n",
    "\n",
    "print(arr)\n",
    "\n",
    "print(type(arr))"
   ]
  },
  {
   "cell_type": "markdown",
   "id": "87058e09",
   "metadata": {},
   "source": [
    "- NumPy란 무엇인가요?\n",
    "  - NumPy는 배열 작업에 사용되는 Python 라이브러리입니다.\n",
    "  - 선형 대수, 푸리에 변환, 행렬의 영역에서 작업하는 함수도 제공합니다.\n",
    "  - NumPy는 2005년 Travis Oliphant에 의해 개발되었습니다. 오픈 소스 프로젝트이며 무료로 사용할 수 있습니다.\n",
    "  - NumPy는 Numerical Python의 약자입니다.\n",
    "\n",
    "- NumPy를 사용해야 하는 이유\n",
    "  - Python에는 배열의 역할을 하는 리스트가 있지만, 처리 속도가 느립니다.\n",
    "  - NumPy는 기존 Python 리스트보다 최대 50배 빠른 배열 객체를 제공하는 것을 목표로 합니다.\n",
    "  - NumPy의 배열 객체는 ndarray이며, ndarray 작업을 매우 쉽게 해주는 다양한 지원 함수를 제공합니다.\n",
    "  - 배열은 속도와 리소스가 매우 중요한 데이터 과학에서 매우 자주 사용됩니다.\n",
    "  \n",
    "- 데이터 과학: 데이터를 저장하고, 사용하고, 분석하여 정보를 도출하는 방법을 연구하는 컴퓨터 과학의 한 분야입니다.\n",
    "  \n",
    "- NumPy가 리스트보다 빠른 이유는 무엇일까요?\n",
    "  - NumPy 배열은 리스트와 달리 메모리의 한 연속된 위치에 저장되므로 프로세스가 매우 효율적으로 접근하고 조작할 수 있습니다.\n",
    "  - 이러한 동작을 컴퓨터 과학에서는 참조 지역성이라고 합니다.\n",
    "  - 이것이 NumPy가 리스트보다 빠른 주된 이유입니다. 또한 최신 CPU 아키텍처에서 작동하도록 최적화되어 있습니다.\n",
    "\n",
    "- NumPy는 어떤 언어로 작성되었나요?\n",
    "  - NumPy는 Python 라이브러리이며 일부는 Python으로 작성되었지만, 빠른 계산이 필요한 대부분의 부분은 C 또는 C++로 작성되었습니다.\n",
    "\n",
    "- NumPy 코드베이스는 어디에 있나요?\n",
    "  - NumPy 소스 코드는 이 github 저장소(https://github.com/numpy/numpy)에 있습니다.\n",
    "\n",
    "- github: 여러 사람이 동일한 코드베이스에서 작업할 수 있도록 합니다."
   ]
  },
  {
   "cell_type": "markdown",
   "id": "cca6fa89",
   "metadata": {},
   "source": [
    "- NumPy 설치\n",
    "  - Python과 PIP가 시스템에 이미 설치되어 있다면 NumPy 설치는 매우 쉽습니다.\n",
    "  - 다음 명령어를 사용하여 설치하세요.\n",
    "    ```bash\n",
    "    pip install numpy\n",
    "    ```\n",
    "  - 이 명령이 실패하면 Anaconda, Spyder 등 NumPy가 이미 설치된 Python 배포판을 사용하세요.\n",
    "  \n",
    "- NumPy 가져오기\n",
    "  - NumPy가 설치되면 import 키워드를 추가하여 애플리케이션에 가져오세요.\n",
    "    ```python\n",
    "    import numpy\n",
    "    ```\n",
    "  - 이제 NumPy를 가져와서 사용할 준비가 되었습니다."
   ]
  },
  {
   "cell_type": "code",
   "execution_count": 2,
   "id": "c586eb38",
   "metadata": {},
   "outputs": [
    {
     "name": "stdout",
     "output_type": "stream",
     "text": [
      "[1 2 3 4 5]\n"
     ]
    }
   ],
   "source": [
    "import numpy\n",
    "\n",
    "arr = numpy.array([1, 2, 3, 4, 5])\n",
    "\n",
    "print(arr)"
   ]
  },
  {
   "cell_type": "markdown",
   "id": "bc4f7835",
   "metadata": {},
   "source": [
    "- NumPy를 np로 가져오기\n",
    "  - NumPy는 일반적으로 np 별칭으로 가져옵니다.\n",
    "  - 별칭: Python에서 별칭은 동일한 것을 지칭하는 다른 이름입니다.\n",
    "  - 가져올 때 as 키워드를 사용하여 별칭을 만듭니다.\n",
    "    ```python\n",
    "    import numpy as np\n",
    "    ```\n",
    "  - 이제 NumPy 패키지는 numpy 대신 np라고 불릴 수 있습니다."
   ]
  },
  {
   "cell_type": "code",
   "execution_count": 3,
   "id": "5cfbfdc2",
   "metadata": {},
   "outputs": [
    {
     "name": "stdout",
     "output_type": "stream",
     "text": [
      "[1 2 3 4 5]\n"
     ]
    }
   ],
   "source": [
    "import numpy as np\n",
    "\n",
    "arr = np.array([1, 2, 3, 4, 5])\n",
    "\n",
    "print(arr)"
   ]
  },
  {
   "cell_type": "markdown",
   "id": "ed30001d",
   "metadata": {},
   "source": [
    "- NumPy 버전 확인\n",
    "  - 버전 문자열은 `__version__` 속성에 저장됩니다."
   ]
  },
  {
   "cell_type": "code",
   "execution_count": 4,
   "id": "6c60ee15",
   "metadata": {},
   "outputs": [
    {
     "name": "stdout",
     "output_type": "stream",
     "text": [
      "2.3.1\n"
     ]
    }
   ],
   "source": [
    "import numpy as np\n",
    "\n",
    "print(np.__version__)"
   ]
  },
  {
   "cell_type": "markdown",
   "id": "6ef0edbf",
   "metadata": {},
   "source": [
    "- NumPy ndarray 객체 만들기\n",
    "  - NumPy는 배열을 다루는 데 사용됩니다. NumPy의 배열 객체는 ndarray입니다.\n",
    "  - array() 함수를 사용하여 NumPy ndarray 객체를 만들 수 있습니다."
   ]
  },
  {
   "cell_type": "code",
   "execution_count": 6,
   "id": "dc7aa394",
   "metadata": {},
   "outputs": [
    {
     "name": "stdout",
     "output_type": "stream",
     "text": [
      "[1 2 3 4 5]\n",
      "<class 'numpy.ndarray'>\n"
     ]
    }
   ],
   "source": [
    "import numpy as np\n",
    "\n",
    "arr = np.array([1, 2, 3, 4, 5])\n",
    "\n",
    "print(arr)\n",
    "\n",
    "print(type(arr))\n",
    "\n",
    "# type(): 이 Python 내장 함수는 전달된 객체의 타입을 알려줍니다. 위 코드에서처럼 arr이 numpy.ndarray 타입임을 보여줍니다."
   ]
  },
  {
   "cell_type": "markdown",
   "id": "3a638f5c",
   "metadata": {},
   "source": [
    "- ndarray를 생성하려면 리스트, 튜플 또는 배열과 유사한 객체를 array() 메서드에 전달하면 됩니다. 그러면 ndarray로 변환됩니다."
   ]
  },
  {
   "cell_type": "code",
   "execution_count": 7,
   "id": "0a944054",
   "metadata": {},
   "outputs": [
    {
     "name": "stdout",
     "output_type": "stream",
     "text": [
      "[1 2 3 4 5]\n"
     ]
    }
   ],
   "source": [
    "# 튜플을 사용하여 NumPy 배열을 만듭니다.\n",
    "import numpy as np\n",
    "\n",
    "arr = np.array([1, 2, 3, 4, 5])\n",
    "\n",
    "print(arr)"
   ]
  },
  {
   "cell_type": "markdown",
   "id": "203d2802",
   "metadata": {},
   "source": [
    "- 배열의 차원\n",
    "  - 배열의 차원은 배열 깊이의 한 단계입니다(중첩 배열).\n",
    "  - 중첩 배열: 배열을 요소로 갖는 배열입니다."
   ]
  },
  {
   "cell_type": "markdown",
   "id": "2a8d9cca",
   "metadata": {},
   "source": [
    "- 0차원 배열\n",
    "  - 0차원 배열 또는 스칼라는 배열의 요소입니다. 배열의 각 값은 0차원 배열입니다."
   ]
  },
  {
   "cell_type": "code",
   "execution_count": 8,
   "id": "7422c30f",
   "metadata": {},
   "outputs": [
    {
     "name": "stdout",
     "output_type": "stream",
     "text": [
      "42\n"
     ]
    }
   ],
   "source": [
    "# 값이 42인 0차원 배열을 만듭니다.\n",
    "import numpy as np\n",
    "\n",
    "arr = np.array(42)\n",
    "\n",
    "print(arr)"
   ]
  },
  {
   "cell_type": "markdown",
   "id": "69ef02d0",
   "metadata": {},
   "source": [
    "- 1차원 배열\n",
    "  - 0차원 배열을 요소로 갖는 배열을 1차원 배열 또는 1차원 배열이라고 합니다.\n",
    "  - 이는 가장 일반적이고 기본적인 배열입니다."
   ]
  },
  {
   "cell_type": "code",
   "execution_count": 9,
   "id": "8c57dd52",
   "metadata": {},
   "outputs": [
    {
     "name": "stdout",
     "output_type": "stream",
     "text": [
      "[1 2 3 4 5]\n"
     ]
    }
   ],
   "source": [
    "# 1,2,3,4,5 값을 포함하는 1차원 배열을 만듭니다.\n",
    "import numpy as np\n",
    "\n",
    "arr = np.array([1, 2, 3, 4, 5])\n",
    "\n",
    "print(arr)"
   ]
  },
  {
   "cell_type": "markdown",
   "id": "ee0ce57d",
   "metadata": {},
   "source": [
    "- 2차원 배열\n",
    "  - 1차원 배열을 요소로 갖는 배열을 2차원 배열이라고 합니다.\n",
    "  - 2차원 배열은 종종 행렬이나 2차 텐서를 표현하는 데 사용됩니다.\n",
    "  - NumPy에는 numpy.mat라는 행렬 연산 전용 하위 모듈이 있습니다."
   ]
  },
  {
   "cell_type": "code",
   "execution_count": 11,
   "id": "67cee028",
   "metadata": {},
   "outputs": [
    {
     "name": "stdout",
     "output_type": "stream",
     "text": [
      "[[1 2 3]\n",
      " [4 5 6]]\n"
     ]
    }
   ],
   "source": [
    "# 1,2,3과 4,5,6 값을 갖는 두 개의 배열을 포함하는 2차원 배열을 만듭니다.\n",
    "import numpy as np\n",
    "\n",
    "arr = np.array([[1, 2, 3], [4, 5, 6]])\n",
    "\n",
    "print(arr)"
   ]
  },
  {
   "cell_type": "markdown",
   "id": "e7d4769f",
   "metadata": {},
   "source": [
    "- 3차원 배열\n",
    "  - 2차원 배열(행렬)을 요소로 갖는 배열을 3차원 배열이라고 합니다.\n",
    "  - 3차원 배열은 종종 3차 텐서를 표현하는 데 사용됩니다."
   ]
  },
  {
   "cell_type": "code",
   "execution_count": 13,
   "id": "8ed87ed6",
   "metadata": {},
   "outputs": [
    {
     "name": "stdout",
     "output_type": "stream",
     "text": [
      "[[[1 2 3]\n",
      "  [4 5 6]]\n",
      "\n",
      " [[1 2 3]\n",
      "  [4 5 6]]]\n"
     ]
    }
   ],
   "source": [
    "# 두 개의 2차원 배열을 사용하여 3차원 배열을 생성하고, 두 배열 모두 1, 2, 3과 4, 5, 6의 값을 갖는 두 개의 배열을 포함합니다.\n",
    "import numpy as np\n",
    "\n",
    "arr = np.array([[[1, 2, 3], [4, 5, 6]], [[1, 2, 3], [4, 5, 6]]])\n",
    "\n",
    "print(arr)"
   ]
  },
  {
   "cell_type": "markdown",
   "id": "211671ea",
   "metadata": {},
   "source": [
    "- 차원 수 확인?\n",
    "  - NumPy 배열은 배열의 차원 수를 나타내는 정수를 반환하는 ndim 속성을 제공합니다."
   ]
  },
  {
   "cell_type": "code",
   "execution_count": 14,
   "id": "d9798948",
   "metadata": {},
   "outputs": [
    {
     "name": "stdout",
     "output_type": "stream",
     "text": [
      "0\n",
      "1\n",
      "2\n",
      "3\n"
     ]
    }
   ],
   "source": [
    "# 배열의 차원 수를 확인하세요.\n",
    "import numpy as np\n",
    "\n",
    "a = np.array(42)\n",
    "b = np.array([1, 2, 3, 4, 5])\n",
    "c = np.array([[1, 2, 3], [4, 5, 6]])\n",
    "d = np.array([[[1, 2, 3], [4, 5, 6]], [[1, 2, 3], [4, 5, 6]]])\n",
    "\n",
    "print(a.ndim)\n",
    "print(b.ndim)\n",
    "print(c.ndim)\n",
    "print(d.ndim)"
   ]
  },
  {
   "cell_type": "markdown",
   "id": "1416f2c1",
   "metadata": {},
   "source": [
    "- 고차원 배열\n",
    "  - 배열은 여러 차원을 가질 수 있습니다.\n",
    "  - 배열을 생성할 때 ndmin 인수를 사용하여 차원 수를 정의할 수 있습니다."
   ]
  },
  {
   "cell_type": "code",
   "execution_count": null,
   "id": "2091073d",
   "metadata": {},
   "outputs": [
    {
     "name": "stdout",
     "output_type": "stream",
     "text": [
      "[[[[[1 2 3 4]]]]]\n",
      "number of dimensions : 5\n"
     ]
    }
   ],
   "source": [
    "# 5차원 배열을 생성하고 차원이 5개인지 확인하세요.\n",
    "import numpy as np\n",
    "\n",
    "# 이 배열에서 가장 안쪽 차원(5번째 차원)에는 4개의 요소가 있고, \n",
    "# 4번째 차원에는 벡터인 요소가 1개 있고, \n",
    "# 3번째 차원에는 벡터가 있는 행렬인 요소가 1개 있고, \n",
    "# 2번째 차원에는 3차원 배열인 요소가 1개 있고, \n",
    "# 1번째 차원에는 4차원 배열인 요소가 1개 있습니다.\n",
    "arr = np.array([1, 2, 3, 4], ndmin=5)\n",
    "\n",
    "print(arr)\n",
    "print('number of dimensions :', arr.ndim)"
   ]
  },
  {
   "cell_type": "markdown",
   "id": "e2088acf",
   "metadata": {},
   "source": [
    "- 배열 인덱싱\n",
    "  - 배열 요소 접근\n",
    "    - 배열 인덱싱은 배열 요소에 접근하는 것과 같습니다.\n",
    "    - 배열 요소에 접근하려면 해당 인덱스 번호를 참조해야 합니다.\n",
    "    - NumPy 배열의 인덱스는 0부터 시작합니다. 즉, 첫 번째 요소의 인덱스는 0이고, 두 번째 요소의 인덱스는 1입니다."
   ]
  },
  {
   "cell_type": "code",
   "execution_count": 16,
   "id": "ba26117b",
   "metadata": {},
   "outputs": [
    {
     "name": "stdout",
     "output_type": "stream",
     "text": [
      "1\n"
     ]
    }
   ],
   "source": [
    "# 다음 배열에서 첫 번째 요소를 가져옵니다.\n",
    "import numpy as np\n",
    "\n",
    "arr = np.array([1, 2, 3, 4, 5])\n",
    "\n",
    "print(arr[0])"
   ]
  },
  {
   "cell_type": "code",
   "execution_count": 17,
   "id": "80624054",
   "metadata": {},
   "outputs": [
    {
     "name": "stdout",
     "output_type": "stream",
     "text": [
      "2\n"
     ]
    }
   ],
   "source": [
    "# 다음 배열에서 두 번째 요소를 가져옵니다.\n",
    "import numpy as np\n",
    "\n",
    "arr = np.array([1, 2, 3, 4, 5])\n",
    "\n",
    "print(arr[1])"
   ]
  },
  {
   "cell_type": "code",
   "execution_count": 20,
   "id": "9e84de67",
   "metadata": {},
   "outputs": [
    {
     "name": "stdout",
     "output_type": "stream",
     "text": [
      "7\n"
     ]
    }
   ],
   "source": [
    "# 다음 배열에서 세 번째와 네 번째 요소를 가져와 추가합니다.\n",
    "import numpy as np\n",
    "\n",
    "arr = np.array([1, 2, 3, 4])\n",
    "\n",
    "print(arr[2] + arr[3])"
   ]
  },
  {
   "cell_type": "markdown",
   "id": "539a02be",
   "metadata": {},
   "source": [
    "- 2차원 배열 접근\n",
    "  - 2차원 배열의 요소에 접근하려면 차원과 인덱스를 나타내는 쉼표로 구분된 정수를 사용할 수 있습니다.\n",
    "  - 2차원 배열은 행과 열로 구성된 표와 같습니다. 차원은 행을 나타내고 인덱스는 열을 나타냅니다."
   ]
  },
  {
   "cell_type": "code",
   "execution_count": null,
   "id": "cb632be0",
   "metadata": {},
   "outputs": [
    {
     "name": "stdout",
     "output_type": "stream",
     "text": [
      "2nd element on 1st row:  2\n"
     ]
    }
   ],
   "source": [
    "# 첫 번째 행, 두 번째 열의 요소에 접근합니다.\n",
    "import numpy as np\n",
    "\n",
    "arr = np.array([[1, 2, 3, 4, 5], [6, 7, 8, 9, 10]])\n",
    "\n",
    "print('2nd element on 1st row: ', arr[0, 1])"
   ]
  },
  {
   "cell_type": "code",
   "execution_count": null,
   "id": "bc32edcf",
   "metadata": {},
   "outputs": [
    {
     "name": "stdout",
     "output_type": "stream",
     "text": [
      "5th element on 2nd row:  10\n"
     ]
    }
   ],
   "source": [
    "# 2번째 행, 5번째 열의 요소에 접근합니다.\n",
    "import numpy as np\n",
    "\n",
    "arr = np.array([[1, 2, 3, 4, 5], [6, 7, 8, 9, 10]])\n",
    "\n",
    "print('5th element on 2nd row: ', arr[1, 4])"
   ]
  },
  {
   "cell_type": "markdown",
   "id": "631f73ef",
   "metadata": {},
   "source": [
    "- 3차원 배열 접근\n",
    "  - 3차원 배열의 요소에 접근하려면 요소의 차원과 인덱스를 나타내는 쉼표로 구분된 정수를 사용할 수 있습니다."
   ]
  },
  {
   "cell_type": "code",
   "execution_count": 23,
   "id": "0e46be91",
   "metadata": {},
   "outputs": [
    {
     "name": "stdout",
     "output_type": "stream",
     "text": [
      "6\n"
     ]
    }
   ],
   "source": [
    "# 첫 번째 배열의 두 번째 배열의 세 번째 요소에 접근합니다.\n",
    "import numpy as np\n",
    "\n",
    "arr = np.array([[[1, 2, 3], [4, 5, 6]], [[7, 8, 9], [10, 11, 12]]])\n",
    "\n",
    "print(arr[0, 1, 2])"
   ]
  },
  {
   "cell_type": "markdown",
   "id": "ab1880e2",
   "metadata": {},
   "source": [
    "- 위 예제 설명\n",
    "\n",
    "  - arr[0, 1, 2]는 값 6을 출력합니다.\n",
    "   ```txt\n",
    "        이유는 다음과 같습니다.\n",
    "        첫 번째 숫자는 두 개의 배열을 포함하는 첫 번째 차원을 나타냅니다.\n",
    "        [[1, 2, 3], [4, 5, 6]]\n",
    "        그리고:\n",
    "        [[7, 8, 9], [10, 11, 12]]\n",
    "        0을 선택했으므로 첫 번째 배열은 다음과 같습니다.\n",
    "        [[1, 2, 3], [4, 5, 6]]\n",
    "\n",
    "        두 번째 숫자는 두 번째 차원을 나타내며, 두 번째 배열도 다음과 같습니다.\n",
    "        [1, 2, 3]\n",
    "        그리고:\n",
    "        [4, 5, 6]\n",
    "        1을 선택했으므로 두 번째 배열은 다음과 같습니다.\n",
    "        [4, 5, 6]\n",
    "\n",
    "        세 번째 숫자는 세 개의 값을 포함하는 세 번째 차원을 나타냅니다.\n",
    "        4\n",
    "        5\n",
    "        6\n",
    "\n",
    "        2를 선택했으므로 세 번째 값은 다음과 같습니다.\n",
    "        6\n",
    "    ```"
   ]
  },
  {
   "cell_type": "markdown",
   "id": "33d9f94d",
   "metadata": {},
   "source": [
    "- 음수 인덱싱\n",
    "  - 음수 인덱싱을 사용하여 배열의 끝에서 접근합니다."
   ]
  },
  {
   "cell_type": "code",
   "execution_count": 25,
   "id": "6362c8e5",
   "metadata": {},
   "outputs": [
    {
     "name": "stdout",
     "output_type": "stream",
     "text": [
      "Last element from 2nd dim:  10\n"
     ]
    }
   ],
   "source": [
    "# 두 번째 차원의 마지막 요소를 출력합니다.\n",
    "import numpy as np\n",
    "\n",
    "arr = np.array([[1, 2, 3, 4, 5], [6, 7, 8, 9, 10]])\n",
    "\n",
    "print('Last element from 2nd dim: ', arr[1, -1])"
   ]
  },
  {
   "cell_type": "markdown",
   "id": "e3c9534c",
   "metadata": {},
   "source": [
    "- 배열 슬라이싱\n",
    "  - 파이썬에서 슬라이싱은 주어진 인덱스에서 다른 인덱스로 요소를 가져오는 것을 의미합니다.\n",
    "  - [start:end]와 같이 index 대신 slice를 전달합니다.\n",
    "  - [start:end:step]과 같이 step을 정의할 수도 있습니다.\n",
    "  - start를 전달하지 않으면 0으로 간주됩니다.\n",
    "  - end를 전달하지 않으면 해당 차원의 배열 길이로 간주됩니다.\n",
    "  - step을 전달하지 않으면 1로 간주됩니다.\n",
    "  - 참고: 결과에 시작 인덱스는 포함되지만, 끝 인덱스는 제외됩니다."
   ]
  },
  {
   "cell_type": "code",
   "execution_count": 27,
   "id": "ade19c1d",
   "metadata": {},
   "outputs": [
    {
     "name": "stdout",
     "output_type": "stream",
     "text": [
      "[2 3 4 5]\n"
     ]
    }
   ],
   "source": [
    "# 다음 배열에서 인덱스 1부터 인덱스 5까지 요소를 슬라이싱합니다.\n",
    "import numpy as np\n",
    "\n",
    "arr = np.array([1, 2, 3, 4, 5, 6, 7])\n",
    "\n",
    "print(arr[1:5]) # 결과에 시작 인덱스는 포함되지만, 끝 인덱스는 제외됩니다."
   ]
  },
  {
   "cell_type": "code",
   "execution_count": 28,
   "id": "cceef14a",
   "metadata": {},
   "outputs": [
    {
     "name": "stdout",
     "output_type": "stream",
     "text": [
      "[5 6 7]\n"
     ]
    }
   ],
   "source": [
    "# 배열의 인덱스 4부터 끝까지 요소를 슬라이스합니다.\n",
    "import numpy as np\n",
    "\n",
    "arr = np.array([1, 2, 3, 4, 5, 6, 7])\n",
    "\n",
    "print(arr[4:])"
   ]
  },
  {
   "cell_type": "code",
   "execution_count": 29,
   "id": "de84ace9",
   "metadata": {},
   "outputs": [
    {
     "name": "stdout",
     "output_type": "stream",
     "text": [
      "[1 2 3 4]\n"
     ]
    }
   ],
   "source": [
    "# 시작부터 인덱스 4까지 요소를 슬라이스합니다(포함되지 않음)\n",
    "import numpy as np\n",
    "\n",
    "arr = np.array([1, 2, 3, 4, 5, 6, 7])\n",
    "\n",
    "print(arr[:4])"
   ]
  },
  {
   "cell_type": "markdown",
   "id": "a98023e7",
   "metadata": {},
   "source": [
    "- 음수 슬라이싱\n",
    "  - 끝에서부터 인덱스를 참조하려면 빼기 연산자를 사용합니다."
   ]
  },
  {
   "cell_type": "code",
   "execution_count": 30,
   "id": "a980630f",
   "metadata": {},
   "outputs": [
    {
     "name": "stdout",
     "output_type": "stream",
     "text": [
      "[5 6]\n"
     ]
    }
   ],
   "source": [
    "# 끝에서 3번째 인덱스부터 끝에서 1번째 인덱스까지 슬라이스합니다.\n",
    "import numpy as np\n",
    "\n",
    "arr = np.array([1, 2, 3, 4, 5, 6, 7])\n",
    "\n",
    "print(arr[-3:-1])"
   ]
  },
  {
   "cell_type": "markdown",
   "id": "9c56866f",
   "metadata": {},
   "source": [
    "- STEP\n",
    "  - 단계 값을 사용하여 슬라이싱 단계를 결정합니다."
   ]
  },
  {
   "cell_type": "code",
   "execution_count": 31,
   "id": "3473f7d6",
   "metadata": {},
   "outputs": [
    {
     "name": "stdout",
     "output_type": "stream",
     "text": [
      "[2 4]\n"
     ]
    }
   ],
   "source": [
    "# 인덱스 1부터 인덱스 5까지 모든 다른 요소를 반환합니다.\n",
    "import numpy as np\n",
    "\n",
    "arr = np.array([1, 2, 3, 4, 5, 6, 7])\n",
    "\n",
    "print(arr[1:5:2])"
   ]
  },
  {
   "cell_type": "code",
   "execution_count": 32,
   "id": "ce81a865",
   "metadata": {},
   "outputs": [
    {
     "name": "stdout",
     "output_type": "stream",
     "text": [
      "[1 3 5 7]\n"
     ]
    }
   ],
   "source": [
    "# 전체 배열에서 다른 모든 요소를 ​​반환합니다.\n",
    "import numpy as np\n",
    "\n",
    "arr = np.array([1, 2, 3, 4, 5, 6, 7])\n",
    "\n",
    "print(arr[::2])"
   ]
  },
  {
   "cell_type": "markdown",
   "id": "6b5a44e4",
   "metadata": {},
   "source": [
    "- 2차원 배열 슬라이싱"
   ]
  },
  {
   "cell_type": "code",
   "execution_count": null,
   "id": "c0223c63",
   "metadata": {},
   "outputs": [
    {
     "name": "stdout",
     "output_type": "stream",
     "text": [
      "[7 8 9]\n"
     ]
    }
   ],
   "source": [
    "# 두 번째 요소에서 인덱스 1부터 인덱스 4까지의 요소를 슬라이스합니다(포함되지 않음):\n",
    "import numpy as np\n",
    "\n",
    "arr = np.array([[1, 2, 3, 4, 5], [6, 7, 8, 9, 10]])\n",
    "\n",
    "print(arr[1, 1:4]) # 참고: 두 번째 요소의 인덱스는 1입니다."
   ]
  },
  {
   "cell_type": "code",
   "execution_count": null,
   "id": "8050d0f2",
   "metadata": {},
   "outputs": [
    {
     "name": "stdout",
     "output_type": "stream",
     "text": [
      "[3 8]\n"
     ]
    }
   ],
   "source": [
    "# 두 요소 모두에서 인덱스 2를 반환합니다.\n",
    "import numpy as np\n",
    "\n",
    "arr = np.array([[1, 2, 3, 4, 5], [6, 7, 8, 9, 10]])\n",
    "\n",
    "# 0:2 (행 선택)\n",
    "# 슬라이싱(slicing)으로 0번째 행부터 2번째 행 \"전\"까지 선택\n",
    "# → 즉, 0행과 1행 (두 행 모두 선택)\n",
    "print(arr[0:2, 2])"
   ]
  },
  {
   "cell_type": "code",
   "execution_count": 35,
   "id": "80291280",
   "metadata": {},
   "outputs": [
    {
     "name": "stdout",
     "output_type": "stream",
     "text": [
      "[[2 3 4]\n",
      " [7 8 9]]\n"
     ]
    }
   ],
   "source": [
    "# 두 요소 모두에서 인덱스 1부터 인덱스 4까지(포함되지 않음) 슬라이스하면 2차원 배열이 반환됩니다.\n",
    "import numpy as np\n",
    "\n",
    "arr = np.array([[1, 2, 3, 4, 5], [6, 7, 8, 9, 10]])\n",
    "\n",
    "print(arr[0:2, 1:4])"
   ]
  }
 ],
 "metadata": {
  "kernelspec": {
   "display_name": "Python 3",
   "language": "python",
   "name": "python3"
  },
  "language_info": {
   "codemirror_mode": {
    "name": "ipython",
    "version": 3
   },
   "file_extension": ".py",
   "mimetype": "text/x-python",
   "name": "python",
   "nbconvert_exporter": "python",
   "pygments_lexer": "ipython3",
   "version": "3.13.2"
  }
 },
 "nbformat": 4,
 "nbformat_minor": 5
}
